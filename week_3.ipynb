{
 "cells": [
  {
   "cell_type": "markdown",
   "metadata": {},
   "source": [
    "**Week 3: Steepest Descent Minimization**\n",
    "\n",
    "Jannek Schaffert, Frédéric Sonak\n",
    "\n",
    "Background\n",
    "Minimization methods are used to find minima in the free energy landscape of a simulated system (i.e., metastable states). These minima are important either for assessing the free energy landscape itself or for providing a good starting point for molecular dynamics (MD) simulations.\n",
    "\n",
    "The Steepest Descent minimization method, named for its approach of moving directly along the gradient of the system’s potential energy, is one of the most widely used techniques due to its computational simplicity and robustness. By following the gradient at each step, Steepest Descent consistently progresses toward a minimum energy state, making it a useful, reliable, and straightforward minimization method. It’s often used as an initial pass in systems with high starting energy.\n",
    "\n",
    "However, Steepest Descent has notable limitations. Its strict adherence to moving perpendicularly to contour lines results in a “rectangular” or step-like path across the hyperpotential surface, which can lead to slow convergence, particularly in regions with shallow slopes. Another key drawback is that it only locates the closest local minimum, rather than the global minimum. Depending on the starting structure, the method may converge to a metastable state rather than the most stable configuration. For more efficient and thorough minimization, other algorithms may be employed.\n",
    "\n",
    "In this exercise, a Steepest Descent algorithm was implemented and subsequently used to run a molecular dynamics simulation. Comparing the performance of the system pre- and post-Steepest Descent minimization in the molecular dynamics simulation allows for a better understanding of the function and relevance of a simple Steepest Descent algorithm.\n",
    "\n",
    "**Task I - Implementation**\n",
    "Building on the foundation of last week’s exercises, a Steepest Descent method for position optimization was implemented. In short, this was carried out as follows:\n",
    "\n",
    "Starting with randomly placed particles, the full system potential energy was calculated. Then, the force vector for each particle was determined. Within a loop, each particle was moved by a set distance along the direction of the force, and the new full system potential energy was recalculated. Comparing the two energies allowed us to decide whether to repeat the steps above or recalculate a new direction of force and continue along the new steepest descent direction. The algorithm stops when the newly calculated energy is greater than or equal to the previous energy. To avoid simulation breakdown, a threshold for the minimum change in energy was defined.\n",
    "\n",
    "All code is provided in easy-to-use functions that can be called for Task II."
   ]
  },
  {
   "cell_type": "markdown",
   "metadata": {},
   "source": [
    "Importing all external libraries used in this code"
   ]
  },
  {
   "cell_type": "code",
   "metadata": {
    "collapsed": true,
    "ExecuteTime": {
     "end_time": "2024-11-07T22:28:36.866662Z",
     "start_time": "2024-11-07T22:28:36.571485Z"
    }
   },
   "source": [
    "import matplotlib.pyplot as plt\n",
    "from matplotlib import animation, rc\n",
    "from IPython.display import HTML\n",
    "\n",
    "import copy\n",
    "import numpy as np\n",
    "import scipy as scy"
   ],
   "outputs": [],
   "execution_count": 1
  },
  {
   "metadata": {},
   "cell_type": "markdown",
   "source": [
    "The below code is sorted into three distinctive classes for clarity and easy adaption/ implementation of future plans.\n",
    "\n",
    "The first class, the class \"Box\", holds all the functions correlated to creating the box , adding the particles, handling their interactions. Most functions were transferred from previous excercise. A new steepest descent function is implemented as well as small helper functions to calculate forces and distance in matrix form. The steepest descent function was implemented according to the description ath the top."
   ]
  },
  {
   "cell_type": "code",
   "metadata": {
    "collapsed": true,
    "ExecuteTime": {
     "end_time": "2024-11-07T22:28:36.894371Z",
     "start_time": "2024-11-07T22:28:36.873483Z"
    }
   },
   "source": [
    "\n",
    "class Box():\n",
    "    \"\"\"Box-class: defining a rectangular box-shape, in which Particles can roam. One corner is always (0,0)\\n\n",
    "    box         : 2-dimensional array of the two lengths of the x- and y-axis, corresponding to the boundaries of the box.\\n\n",
    "    particles   : a list of all particles in the box\\n\n",
    "    n_particles : the number of particles inside of the box\n",
    "    \"\"\"\n",
    "    def __init__(self, box_size, n_Particles:int):\n",
    "        \"\"\"Initializing the Box-class\\n\n",
    "        box_size    : a 2-dimensional array of the two lengths of the x- and y-axis, corresponding to the boundaries of the box.\\n\n",
    "        n_Particles : an integer of the number of Particles in the box. Needed to initialize all arrays correctly\n",
    "        \"\"\"\n",
    "        # constants\n",
    "        self.c_6    = 6.2647225e3   # g/mol  *  nm**8/ns**2\n",
    "        self.c_12   = 9.847044      # g/mol  *  nm**14/ns**2\n",
    "\n",
    "        self.box_size       = box_size\n",
    "        # Particles statistics are no longer stored in a separate class but in arrays, which allows for easier calculations\n",
    "        self.particles_pos  = np.zeros((n_Particles,2))\n",
    "        self.particles_vel  = np.zeros((n_Particles,2))\n",
    "        self.particles_acc  = np.zeros((n_Particles,2))\n",
    "\n",
    "        self.particles_r    = np.zeros(n_Particles)\n",
    "        self.particles_m    = np.zeros(n_Particles)\n",
    "        # We use distance matrices for true distances (distances_mat) in x and y coords, \n",
    "        # distances with ghost particles for cross boundary calculations (distance_ghost) in x and y coords\n",
    "        # and the norm of the ghost_distances as a single float\n",
    "        self.distance_mat   = np.zeros((n_Particles,n_Particles,2))\n",
    "        self.distance_ghost = np.zeros((n_Particles,n_Particles,2))\n",
    "        self.distance_abs   = np.zeros((n_Particles,n_Particles))\n",
    "        # A vectorial force matrix to store the forces between each pair of particles in both directions\n",
    "        self.force_mat      = np.zeros((n_Particles,n_Particles,2))\n",
    "        # Storing the energy types currently in the system\n",
    "        self.potEnergy_mat  = np.zeros((n_Particles,n_Particles,2))\n",
    "        self.kinEnergy_mat  = np.zeros((n_Particles,n_Particles))\n",
    "\n",
    "        self.n_particles = n_Particles\n",
    "\n",
    "\n",
    "    def __repr__(self):\n",
    "        \"\"\"printing for debugging\"\"\"\n",
    "        return str(\"This is a box of size %0.2f by %0.2f\" % (self.box_size[0],self.box_size[1]) + \", with %0.2f\" % (self.n_particles) + \" particles\")\n",
    "\n",
    "    def random_positions(self, axis, n_particles = 0) -> None:\n",
    "        \"\"\"return random positions for a number of particles (only one axis)\\n\n",
    "        axis        : either 0 or 1.     0 = x-axis, 1 = y-axis\\n\n",
    "        n_particles : the number of particles for which positions should be given; default self.n_particles\\n\n",
    "        returns     : array of random positions\n",
    "        \"\"\"\n",
    "        if n_particles == 0:\n",
    "            n_particles = self.n_particles\n",
    "        rnd = np.random.rand(n_particles)*(self.box_size[axis]-0.5)\n",
    "        return rnd\n",
    "\n",
    "    def fill_particles(self, radius, mass, vel, angle = [], x = [], y = [], align = 'random', grid = np.zeros(2)) -> None:\n",
    "        \"\"\"fills the particles-array with particles\\n\n",
    "        radius      : The radius of particles; either as array of length n for individual radii or int/float for a general radius\\n\n",
    "        vel         : The absolute velocity; either as array of length n for individual velocities or int/float for a uniform initial velocity\\n\n",
    "        angle       : The initial angles of the particles as array of length n for individual angles; default is uniformly distributed\\n\n",
    "        x,y         : initial positions as array of length n; default random positions 0.5 away from border; Only used when align = 'defined'\\n\n",
    "        align       : Type of Particle placement: random = random positions; grid = grid-like arrangement(needs corresponding grid argument); defined = as given by x,y input\\n\n",
    "        grid        : 2x2 array that defines how many Particles should be in the grid on the x- and y- axis. Take care of correct number of particles!\n",
    "        \"\"\"\n",
    "        # filling radius and mass, if given as a number for all particles\n",
    "        if type(radius) == int or type(radius) == float:\n",
    "            self.particles_r = np.ones(self.n_particles)*radius\n",
    "        else:\n",
    "            self.particles_r = radius\n",
    "        if type(mass) == int or type(mass) == float:\n",
    "            self.particles_m = np.ones(self.n_particles)*mass\n",
    "        else:\n",
    "            self.particles_m = mass\n",
    "\n",
    "        # randomize the angles if not given\n",
    "        if len(angle) == 0:\n",
    "            angle = np.random.uniform(0,2 * np.pi, self.n_particles)\n",
    "        # fill velocities if given as a number for all particles\n",
    "        if type(vel) == int or type(vel) == float:\n",
    "            vel = np.ones(self.n_particles)*vel\n",
    "        # calculate the coressponding velocities\n",
    "        self.particles_vel[:,0] = np.sin(angle) * vel\n",
    "        self.particles_vel[:,1] = np.cos(angle) * vel\n",
    "\n",
    "        # check which particle arrangement should be choosen\n",
    "        if align == 'random':\n",
    "            self.particles_pos[:,0] = self.random_positions(0,self.n_particles)\n",
    "            self.particles_pos[:,1] = self.random_positions(1,self.n_particles)\n",
    "\n",
    "        elif align == 'grid':\n",
    "            if np.prod(grid) == self.n_particles:\n",
    "                # This monster is mainly the meshgrid of coordinates, adjusted to be the correct shape.\n",
    "                # Additionally the entire grid is moved by 0.1 in x and y direction to avoid Particles directly on the edge\n",
    "                # It is not an error, even if vsCode thinks so\n",
    "                self.particles_pos[:,] = np.column_stack(np.array(np.meshgrid(np.linspace(0,self.box_size[0],num=grid[0],endpoint=False),\n",
    "                                                                              np.linspace(0,self.box_size[1],num=grid[1],endpoint=False),\n",
    "                                                                              indexing='ij')).reshape(2,self.n_particles)) + 0.1\n",
    "            else:\n",
    "                print('ERROR: Grid size does not match number of particles!')\n",
    "            # self.forces = np.ones((self.n_particles, self.n_particles, 2))-1\n",
    "        elif align == 'defined':\n",
    "            self.particles_pos[:,0] = x\n",
    "            self.particles_pos[:,1] = y\n",
    "    \n",
    "    def move(self, dt = 1., vel = []) -> None:\n",
    "        \"\"\"moving the particle in the direction, where the velocity-vector points.\\n\n",
    "        dt  : the time-step moving forward; default = 1\\n\n",
    "        vel : a velocity vector for moving in that direction during a time-step of one; default = self.vel\n",
    "        \"\"\"\n",
    "        if len(vel) == 0:\n",
    "            vel = self.particles_vel\n",
    "        self.particles_pos += vel*dt\n",
    "    \n",
    "    def wrap_around(self) -> None:\n",
    "        \"\"\"For continuous borders, i.e. a particle that exits to the right is entering from the left and vice versa\\n\n",
    "        particles   : Particles, which should be wrapped; default self.particles\\n\n",
    "        returns     : array of particles with new positions\n",
    "        \"\"\"\n",
    "        self.particles_pos = self.particles_pos % self.box_size\n",
    "\n",
    "    def reflect(self) -> None:\n",
    "        \"\"\"Reflecting particles on the edges of the box, if the hull is touching\\n\n",
    "        \"\"\"\n",
    "        self.particles_vel[np.where(self.particles_pos+self.particles_r > self.box_size)] *= -1\n",
    "        self.particles_vel[np.where(self.particles_pos-self.particles_r < 0)] *= -1\n",
    "\n",
    "\n",
    "    def update_pos(self, dt) -> None:\n",
    "        \"\"\"Updates the position according to the velocity-verlet algorithm\\n\n",
    "        dt  : The time step used\n",
    "        \"\"\"\n",
    "        self.particles_pos = self.particles_pos + self.particles_vel*dt + 1/2*(self.particles_acc*dt**2)\n",
    "        # always wrap around...\n",
    "        self.wrap_around()\n",
    "    \n",
    "    def update_vel_acc(self, dt) -> None:\n",
    "        \"\"\"Updates the velocities according to the velocity-verlet algorithm. Therefore the updated accelerations are needed.\\n\n",
    "        dt  : The time step used\n",
    "        \"\"\"\n",
    "        new_acc = self.calculate_acc()\n",
    "        self.particles_vel = self.particles_vel + 0.5*(self.particles_acc + new_acc)*dt\n",
    "        self.particles_acc = new_acc\n",
    "\n",
    "    def calculate_acc(self):\n",
    "        \"\"\"Updates the accelerations according to the velocity-verlet algorithm\\n\n",
    "        \"\"\"\n",
    "        return np.sum(self.force_mat,axis=0)/self.particles_m[:,np.newaxis]\n",
    "    \n",
    "\n",
    "    def update_step(self, dt) -> None:\n",
    "        \"\"\"The heart of the velocity-verlet algoritm.\\n\n",
    "        dt  : The time step used\n",
    "        \"\"\"\n",
    "        self.update_pos(dt)\n",
    "        # Before calculating the new velocities/accelerations, the forces must be calculated, for which we need the distance_matrix\n",
    "        self.calculate_distance_matrix()\n",
    "        self.calculate_force_matrix()\n",
    "        self.update_vel_acc(dt)\n",
    "\n",
    "\n",
    "    def calculate_distance_matrix(self) -> None:\n",
    "        \"\"\"Calculates a matrix, containing x and y distances of all particles to all other particles in both directions.\\n\n",
    "        It is by nature not symmetric, but rather the upper triangle is negated and flipped\"\"\"\n",
    "        self.distance_mat = self.particles_pos[np.newaxis, :, :] - self.particles_pos[:, np.newaxis, :] # shape: (n,n,2)\n",
    "\n",
    "        # the ghost matrix is calculated to account for interactions that go over the boundary of the box.\n",
    "        # This is adjusted, if the x or y distances is greater than half the box size, which makes the distance across boundaries shorter\n",
    "        self.distance_ghost = np.where(self.distance_mat[:, :] > (0.5 * self.box_size), self.distance_mat[:, :] - self.box_size, self.distance_mat[:, :]) # shape: (n,n,2)\n",
    "        self.distance_ghost = np.where(self.distance_ghost[:, :] < -(0.5 * self.box_size), self.distance_ghost[:, :] + self.box_size, self.distance_ghost[:, :]) # shape: (n,n,2)\n",
    "        # The norm is calculated as well as the absolute distance between each Particle pair. Symmetric by nature\n",
    "        self.distance_abs = np.linalg.norm(self.distance_ghost, axis = 2) # shape: (n,n)\n",
    "    \n",
    "    def calculate_force_matrix(self) -> None:\n",
    "        \"\"\"Calculate the forces acting from each Particle onto each particle as a directional vector stored in a matrix\"\"\"\n",
    "        distance_abs_newaxis = self.distance_abs[:, :, np.newaxis] # shape: (n,n,1); used for better matrix multiplication with numpy\n",
    "        self.force_mat = np.where(distance_abs_newaxis != 0, (12*self.c_12/distance_abs_newaxis**14-6*self.c_6/distance_abs_newaxis**8)*self.distance_ghost, 0)\n",
    "\n",
    "    def calculate_potEnergy_matrix(self) -> None:\n",
    "        self.potEnergy_mat = np.where(self.distance_abs != 0, (self.c_12/(self.distance_abs**12)-self.c_6/(self.distance_abs**6)), 0)\n",
    "\n",
    "    def calculate_kinEnergy_matrix(self) -> None:\n",
    "        self.kinEnergy_mat = 0.5 * self.particles_m * np.square(np.linalg.norm(self.particles_vel, axis=1)) #could be optimized maybe? square of squareroot of squares\n",
    "\n",
    "\n",
    "    def steepest_descent(self, distance = 0.05, counter = 30, verbose = False):\n",
    "        pot_energies = []\n",
    "        self.calculate_distance_matrix()\n",
    "        self.calculate_force_matrix()\n",
    "        self.calculate_potEnergy_matrix()\n",
    "        pot_energies.append(self.potEnergy_mat)\n",
    "        pot_energy_old = np.sum(self.potEnergy_mat)/2\n",
    "        \n",
    "        i = 0\n",
    "        \n",
    "        while i < counter:\n",
    "            move_direction = np.sum(self.force_mat,axis=0)\n",
    "            if verbose:\n",
    "                print(move_direction)\n",
    "\n",
    "            move_direction = np.divide(move_direction,np.linalg.norm(move_direction))\n",
    "            pathway = True\n",
    "\n",
    "            while pathway:\n",
    "                self.move(dt=distance, vel=move_direction)\n",
    "                self.calculate_distance_matrix()\n",
    "                self.calculate_potEnergy_matrix()\n",
    "\n",
    "                pot_energy_new_mat = self.potEnergy_mat\n",
    "                pot_energy_new = np.sum(pot_energy_new_mat)/2\n",
    "                if verbose:\n",
    "                    print(i,pot_energy_new)\n",
    "                if pot_energy_new < np.sum(pot_energies[-1])/2:\n",
    "                    pot_energies.append(pot_energy_new_mat)\n",
    "                else:\n",
    "                    self.move(dt=-distance, vel=move_direction)\n",
    "                    # pot_energies.append(pot_energy_new)\n",
    "                    self.calculate_distance_matrix()\n",
    "                    self.calculate_force_matrix()\n",
    "                    i += 1\n",
    "                    pathway = False\n",
    "            \n",
    "            if np.abs(pot_energy_new - np.sum(pot_energies[-1])/2) < 0.001 or pot_energy_new == pot_energy_old:\n",
    "                print('Ending steepest descent; reached local minimum')\n",
    "                i = counter + 1\n",
    "            else:\n",
    "                pot_energy_old = pot_energy_new\n",
    "            if verbose:\n",
    "                print(counter,pot_energies[-1])\n",
    "        return pot_energies\n",
    "\n",
    "    "
   ],
   "outputs": [],
   "execution_count": 2
  },
  {
   "metadata": {},
   "cell_type": "markdown",
   "source": "The second class, the simulation class, houses all functions associated with running the simulation."
  },
  {
   "cell_type": "code",
   "metadata": {
    "ExecuteTime": {
     "end_time": "2024-11-07T22:28:37.107667Z",
     "start_time": "2024-11-07T22:28:37.100667Z"
    }
   },
   "source": [
    "class Simulation:\n",
    "    \"\"\"Simulation class for everything related to simulating the particles in a box\\n\n",
    "    box         : The box object which should be simulated\n",
    "    steps       : The number of integration steps to perform\n",
    "    dt          : The length of one time step\n",
    "    data_traj   : The trajectories of all particles\n",
    "    \"\"\"\n",
    "    def __init__(self, box:Box, steps, dt) -> None:\n",
    "        \"\"\"Initializing the Simulation\\n\n",
    "    box         : The box object which should be simulated\n",
    "    steps       : The number of integration steps to perform\n",
    "    dt          : The length of one time step\n",
    "    \"\"\"\n",
    "        self.box:Box = box\n",
    "        self.steps = steps\n",
    "        self.dt = dt\n",
    "        self.set_traj()\n",
    "\n",
    "    def set_traj(self) -> None:\n",
    "        \"\"\"Initialize the trajectory-saving\"\"\"\n",
    "        self.data_traj  = np.zeros((self.box.n_particles, 3, 2, self.steps+1))\n",
    "        self.pot_energy = np.zeros((self.box.n_particles, self.box.n_particles, self.steps+1))\n",
    "        self.kin_energy = np.zeros((self.box.n_particles, self.steps+1))\n",
    "\n",
    "    def run(self, force_type = 'lennard-jones') -> None:\n",
    "        self.set_traj()\n",
    "        if force_type == 'lennard-jones':\n",
    "            self.data_traj[:,0,:,0], self.data_traj[:,1,:,0], self.data_traj[:,2,:,0] = self.box.particles_pos, self.box.particles_vel, self.box.particles_acc\n",
    "            self.box.calculate_distance_matrix()\n",
    "            self.box.calculate_potEnergy_matrix()\n",
    "            self.box.calculate_kinEnergy_matrix()\n",
    "            self.pot_energy[:,:,0] = self.box.potEnergy_mat\n",
    "            self.kin_energy[:,0] = self.box.kinEnergy_mat\n",
    "\n",
    "            for i in range(self.steps):\n",
    "                self.box.update_step(self.dt)\n",
    "                self.data_traj[:,0,:,i+1], self.data_traj[:,1,:,i+1], self.data_traj[:,2,:,i+1] = self.box.particles_pos, self.box.particles_vel, self.box.particles_acc\n",
    "                self.box.calculate_potEnergy_matrix()\n",
    "                self.box.calculate_kinEnergy_matrix()\n",
    "                self.pot_energy[:,:,i+1] = self.box.potEnergy_mat\n",
    "                self.kin_energy[:,i+1] = self.box.kinEnergy_mat\n",
    "\n",
    "\n",
    "\n"
   ],
   "outputs": [],
   "execution_count": 3
  },
  {
   "metadata": {},
   "cell_type": "markdown",
   "source": "And finally in a third class, the analysis class all functions regarding the analysis were brought together. This includes visualisation tools."
  },
  {
   "cell_type": "code",
   "metadata": {
    "ExecuteTime": {
     "end_time": "2024-11-07T22:28:37.132540Z",
     "start_time": "2024-11-07T22:28:37.114822Z"
    }
   },
   "source": [
    "class Analysis():\n",
    "    def __init__(self, sim:Simulation) -> None:\n",
    "        self.sim = sim\n",
    "\n",
    "    def show_traj(self):\n",
    "        \"\"\"Shows a 2D-plot of all trajectories\"\"\"\n",
    "        for data_traj_j in self.sim.data_traj:\n",
    "            plt.plot(data_traj_j[0][0],data_traj_j[0][1],'-')\n",
    "        plt.xlabel('position x')\n",
    "        plt.ylabel('position y')\n",
    "\n",
    "        plt.grid()\n",
    "        plt.show()\n",
    "    def setup(self):\n",
    "        \"\"\"setup the animation\"\"\"\n",
    "        self.fig, self.ax = plt.subplots()\n",
    "\n",
    "        self.ax.set_xlim((0, self.sim.box.box_size[0]))\n",
    "        self.ax.set_ylim((0, self.sim.box.box_size[1]))\n",
    "\n",
    "        plt.xlabel('position x')\n",
    "        plt.ylabel('position y')\n",
    "\n",
    "        # make the points in the plot the correct size according to the radius of the particles\n",
    "        # use ax.transData.transform to convert radius size from particle to markerSize from pyplot\n",
    "        desired_size_in_data_units = self.sim.box.particles_r[0]/6\n",
    "        data_to_points = self.ax.transData.transform((desired_size_in_data_units, 0)) - self.ax.transData.transform((0, 0))\n",
    "        marker_size_in_points = data_to_points[0]\n",
    "\n",
    "\n",
    "        self.dot, = self.ax.plot([], [], 'bo', ms=marker_size_in_points)\n",
    "    def init_vid(self):\n",
    "        \"\"\"initialize the video\"\"\"\n",
    "        self.dot.set_data([], [])\n",
    "        return (self.dot,)\n",
    "    # animation function. This is called sequentially\n",
    "    def animate(self,i):\n",
    "        \"\"\"animate the video\"\"\"\n",
    "        x = self.sim.data_traj[:,0,0,i]\n",
    "        y = self.sim.data_traj[:,0,1,i]\n",
    "        self.dot.set_data(x, y)\n",
    "        return (self.dot,)\n",
    "    def animation(self, save_pls = False):\n",
    "        \"\"\"create and save a video of the simulation\"\"\"\n",
    "        self.setup()\n",
    "        anim = animation.FuncAnimation(self.fig, self.animate, init_func=self.init_vid, frames=self.sim.steps, interval=2, blit=True)\n",
    "        HTML(anim.to_html5_video())\n",
    "\n",
    "        # uncomment if video should not be saved\n",
    "        if save_pls:\n",
    "            anim.save('animation.mp4', fps=30)\n",
    "    \n",
    "    def histogram_vel_axis(self, axis):\n",
    "        \"\"\"histogram of the x velocity\"\"\"\n",
    "        a = []\n",
    "        for i in range(self.sim.steps):\n",
    "            for j in range(self.sim.box.n_particles):\n",
    "                a.append((self.sim.data_traj)[j, 1, axis, i])\n",
    "            \n",
    "        plt.hist(a,bins=50)\n",
    "        plt.xlabel('velocity x')\n",
    "        plt.ylabel('occupancy')\n",
    "        plt.show()\n",
    "\n",
    "    def histogram_pos_axis(self, axis):\n",
    "        list_for_histogramm = []\n",
    "        for i in range(self.sim.steps):\n",
    "            for j in range(self.sim.box.n_particles):\n",
    "                list_for_histogramm.append((self.sim.data_traj)[j, 0, axis, i])\n",
    "\n",
    "        plt.hist(list_for_histogramm,range=(0,self.sim.box.box_size[axis]),bins=10)\n",
    "        plt.xlabel('position x')\n",
    "        plt.ylabel('occupancy')\n",
    "        plt.show()\n",
    "\n",
    "    def histogram_pos_2d(self):\n",
    "        \"\"\"2d plot of the position distribution\"\"\"\n",
    "        a = []\n",
    "        for i in range(self.sim.steps):\n",
    "            for j in range(self.sim.box.n_particles):\n",
    "                a.append((self.sim.data_traj)[j, 0, 0, i])\n",
    "        b = []\n",
    "        for i in range(self.sim.steps):\n",
    "            for j in range(self.sim.box.n_particles):\n",
    "                b.append((self.sim.data_traj)[j, 0, 1, i])\n",
    "            \n",
    "\n",
    "        plt.hist2d(a, b, range=[[0,self.sim.box.box_size[0]],[0,self.sim.box.box_size[1]]], bins=10)\n",
    "        plt.xlabel('position x')\n",
    "        plt.ylabel('position y')\n",
    "        plt.colorbar().set_label('occupancy')\n",
    "        plt.show()\n",
    "\n",
    "    def histogram_vel_abs(self):\n",
    "        #0 = 0\n",
    "        all_velocities = np.array([])\n",
    "        for i in range(self.sim.steps):\n",
    "            for j in range(self.sim.box.n_particles):\n",
    "                velocity = np.sqrt((self.sim.data_traj[j, 1, 0, i])**2 + (self.sim.data_traj[j, 1, 1, i])**2) \n",
    "                all_velocities = np.append(all_velocities,velocity)\n",
    "\n",
    "        plt.hist(all_velocities,bins=100)\n",
    "        plt.xlabel('velocity |v|')\n",
    "        plt.ylabel('occupancy')\n",
    "        plt.show()\n",
    "\n",
    "    def histogram_vel_last2first(self, percent, axis = 0):\n",
    "        # comparison of different iteration parts\n",
    "\n",
    "        # first 10%\n",
    "        a = []\n",
    "        for i in range(int(percent * self.sim.steps)):\n",
    "            for j in range(self.sim.box.n_particles):\n",
    "                a.append(self.sim.data_traj[j, 1, axis, i])\n",
    "\n",
    "        # last 10%\n",
    "        b = []\n",
    "        for i in range(int((1-percent) * self.sim.steps),self.sim.steps):            \n",
    "            for j in range(self.sim.box.n_particles):\n",
    "                b.append(self.sim.data_traj[j, 1, axis, i])\n",
    "\n",
    "        plt.hist(a,bins=10, label = 'first 10% iterations')\n",
    "        plt.hist(b,bins=10, label = 'last 10% iterations', alpha=0.5)\n",
    "        plt.xlabel('velocity x')\n",
    "        plt.ylabel('occupancy')\n",
    "        plt.legend()\n",
    "        plt.show()\n",
    "\n",
    "    def plot_energies(self, kin = True, pot = True, com = True):\n",
    "        fig, ax = plt.subplots(figsize=(16, 9))\n",
    "\n",
    "        if pot:\n",
    "            ax.plot(np.linspace(0,self.sim.steps,self.sim.steps+1),np.sum(np.sum(self.sim.pot_energy,axis=0),axis=0)/2,label='pot')\n",
    "        if kin:\n",
    "            ax.plot(np.linspace(0,self.sim.steps,self.sim.steps+1),np.sum(self.sim.kin_energy,axis=0),label='kin')\n",
    "        if com:\n",
    "            ax.plot(np.linspace(0,self.sim.steps,self.sim.steps+1),np.sum(self.sim.kin_energy,axis=0)+np.sum(np.sum(self.sim.pot_energy,axis=0),axis=0)/2,label='com')\n",
    "\n",
    "        ax.set_xlabel('time [s]')\n",
    "        ax.set_ylabel('energy [g/mol m/s]')\n",
    "\n",
    "        plt.legend()\n"
   ],
   "outputs": [],
   "execution_count": 4
  },
  {
   "metadata": {},
   "cell_type": "markdown",
   "source": [
    "**Task II - Running the simulation** \n",
    "\n",
    "For the simulation a box with the dimensions 5 x 5 nm and periodic boundary conditions was created. 50 Particles, each with a mass of 18 g/mol were created and placed randomly. As with a previous excercise the interaction was modeled as a Lennard-Jones potential with the corresponding constants. A velocity with magnitude 150 nm/ns and a random direction distribution was initially placed on each particle. The simulation was run for 20000 steps with a time step of $\\Delta t$ = 2 fs. For each step the kinetic and potential energy was calculated."
   ]
  },
  {
   "cell_type": "code",
   "metadata": {
    "ExecuteTime": {
     "end_time": "2024-11-07T22:28:38.904744Z",
     "start_time": "2024-11-07T22:28:37.139145Z"
    }
   },
   "source": [
    "grid=np.array([7,7])\n",
    "box = Box(np.array([5,5]),int(np.prod(grid)))\n",
    "\n",
    "\n",
    "angles = [np.pi/4,-np.pi/4]\n",
    "x = [2.75,3.25]\n",
    "y = [1.5,1.5]\n",
    "\n",
    "\n",
    "#box.fill_particles(0.5,18,150)\n",
    "#box.fill_particles(0.5,18,150,angles,x,y,align='defined')\n",
    "box.fill_particles(0.5,18,150,align='grid',grid=grid)\n",
    "\n",
    "energies = box.steepest_descent(distance = 0.001, counter = 100)"
   ],
   "outputs": [
    {
     "name": "stderr",
     "output_type": "stream",
     "text": [
      "<ipython-input-2-5d58740ecaa1>:174: RuntimeWarning: divide by zero encountered in true_divide\n",
      "  self.force_mat = np.where(distance_abs_newaxis != 0, (12*self.c_12/distance_abs_newaxis**14-6*self.c_6/distance_abs_newaxis**8)*self.distance_ghost, 0)\n",
      "<ipython-input-2-5d58740ecaa1>:174: RuntimeWarning: invalid value encountered in subtract\n",
      "  self.force_mat = np.where(distance_abs_newaxis != 0, (12*self.c_12/distance_abs_newaxis**14-6*self.c_6/distance_abs_newaxis**8)*self.distance_ghost, 0)\n",
      "<ipython-input-2-5d58740ecaa1>:177: RuntimeWarning: divide by zero encountered in true_divide\n",
      "  self.potEnergy_mat = np.where(self.distance_abs != 0, (self.c_12/(self.distance_abs**12)-self.c_6/(self.distance_abs**6)), 0)\n",
      "<ipython-input-2-5d58740ecaa1>:177: RuntimeWarning: invalid value encountered in subtract\n",
      "  self.potEnergy_mat = np.where(self.distance_abs != 0, (self.c_12/(self.distance_abs**12)-self.c_6/(self.distance_abs**6)), 0)\n"
     ]
    }
   ],
   "execution_count": 5
  },
  {
   "metadata": {},
   "cell_type": "markdown",
   "source": ""
  },
  {
   "cell_type": "code",
   "metadata": {
    "collapsed": true,
    "ExecuteTime": {
     "end_time": "2024-11-07T22:30:08.876831Z",
     "start_time": "2024-11-07T22:30:08.709609Z"
    }
   },
   "source": [
    "plt.plot(np.sum(np.sum(energies, axis = 1), axis = 1)/2)\n",
    "plt.xlabel('steps')\n",
    "plt.ylabel('energy')\n"
   ],
   "outputs": [
    {
     "data": {
      "text/plain": [
       "Text(0, 0.5, 'energy')"
      ]
     },
     "execution_count": 9,
     "metadata": {},
     "output_type": "execute_result"
    },
    {
     "data": {
      "text/plain": [
       "<Figure size 432x288 with 1 Axes>"
      ],
      "image/png": "[encoded data removed]"
     },
     "metadata": {
      "needs_background": "light"
     },
     "output_type": "display_data"
    }
   ],
   "execution_count": 9
  },
  {
   "cell_type": "code",
   "metadata": {
    "ExecuteTime": {
     "end_time": "2024-11-07T22:30:21.486216Z",
     "start_time": "2024-11-07T22:30:21.164711Z"
    }
   },
   "source": [
    "for i in range(box.n_particles):\n",
    "    plt.scatter(box.particles_pos[i][0],box.particles_pos[i][1])"
   ],
   "outputs": [
    {
     "data": {
      "text/plain": [
       "<Figure size 432x288 with 1 Axes>"
      ],
      "image/png": "[encoded data removed]"
     },
     "metadata": {
      "needs_background": "light"
     },
     "output_type": "display_data"
    }
   ],
   "execution_count": 10
  },
  {
   "metadata": {
    "ExecuteTime": {
     "end_time": "2024-11-07T22:30:35.653094Z",
     "start_time": "2024-11-07T22:30:35.605123Z"
    }
   },
   "cell_type": "code",
   "source": "sim = Simulation(box,20000,2e-6)",
   "outputs": [],
   "execution_count": 11
  },
  {
   "metadata": {
    "ExecuteTime": {
     "end_time": "2024-11-07T22:30:46.506270Z",
     "start_time": "2024-11-07T22:30:46.169867Z"
    }
   },
   "cell_type": "code",
   "source": [
    "for i in range(sim.box.n_particles):\n",
    "    plt.scatter(sim.box.particles_pos[i,0],sim.box.particles_pos[i,1])"
   ],
   "outputs": [
    {
     "data": {
      "text/plain": [
       "<Figure size 432x288 with 1 Axes>"
      ],
      "image/png": "[encoded data removed]"
     },
     "metadata": {
      "needs_background": "light"
     },
     "output_type": "display_data"
    }
   ],
   "execution_count": 12
  },
  {
   "metadata": {
    "ExecuteTime": {
     "end_time": "2024-11-07T22:31:12.593557Z",
     "start_time": "2024-11-07T22:31:02.059571Z"
    }
   },
   "cell_type": "code",
   "source": "sim.run()\n",
   "outputs": [
    {
     "name": "stderr",
     "output_type": "stream",
     "text": [
      "<ipython-input-2-5d58740ecaa1>:177: RuntimeWarning: divide by zero encountered in true_divide\n",
      "  self.potEnergy_mat = np.where(self.distance_abs != 0, (self.c_12/(self.distance_abs**12)-self.c_6/(self.distance_abs**6)), 0)\n",
      "<ipython-input-2-5d58740ecaa1>:177: RuntimeWarning: invalid value encountered in subtract\n",
      "  self.potEnergy_mat = np.where(self.distance_abs != 0, (self.c_12/(self.distance_abs**12)-self.c_6/(self.distance_abs**6)), 0)\n",
      "<ipython-input-2-5d58740ecaa1>:174: RuntimeWarning: divide by zero encountered in true_divide\n",
      "  self.force_mat = np.where(distance_abs_newaxis != 0, (12*self.c_12/distance_abs_newaxis**14-6*self.c_6/distance_abs_newaxis**8)*self.distance_ghost, 0)\n",
      "<ipython-input-2-5d58740ecaa1>:174: RuntimeWarning: invalid value encountered in subtract\n",
      "  self.force_mat = np.where(distance_abs_newaxis != 0, (12*self.c_12/distance_abs_newaxis**14-6*self.c_6/distance_abs_newaxis**8)*self.distance_ghost, 0)\n"
     ]
    }
   ],
   "execution_count": 13
  },
  {
   "metadata": {
    "jupyter": {
     "is_executing": true
    },
    "ExecuteTime": {
     "start_time": "2024-11-07T22:31:56.190179Z"
    }
   },
   "cell_type": "code",
   "source": [
    "anal = Analysis(sim)\n",
    "\n",
    "anal.plot_energies(kin = True, pot = True, com = True)\n",
    "\n",
    "anal.animation(True)\n"
   ],
   "outputs": [],
   "execution_count": null
  },
  {
   "metadata": {},
   "cell_type": "code",
   "outputs": [],
   "execution_count": null,
   "source": [
    "fig, ax = plt.subplots(figsize=(16, 9))\n",
    "for i in range(anal.sim.box.n_particles):\n",
    "    ax.plot(np.sum(anal.sim.pot_energy,axis=0)[i])"
   ]
  },
  {
   "metadata": {},
   "cell_type": "code",
   "outputs": [],
   "execution_count": null,
   "source": [
    "fig, ax = plt.subplots(figsize=(16, 9))\n",
    "for i in range(anal.sim.box.n_particles):\n",
    "    ax.plot(anal.sim.kin_energy[i])"
   ]
  },
  {
   "metadata": {},
   "cell_type": "code",
   "outputs": [],
   "execution_count": null,
   "source": [
    "plt.scatter(box.particles_pos[:,0],box.particles_pos[:,1])\n",
    "for i in range(box.n_particles):\n",
    "    plt.arrow(box.particles_pos[i+1,0],box.particles_pos[i,1],forces_summed[i,0]/2e6,forces_summed[i,1]/2e6)\n",
    "    #plt.arrow(box.particles_pos[i,0],box.particles_pos[i,1],box.particles_vel[i,0]/150,box.particles_vel[i,1]/150)\n",
    "box.move(dt = 2e-3)\n",
    "box.wrap_around()\n",
    "plt.scatter(box.particles_pos[:,0],box.particles_pos[:,1])\n",
    "'''for i in range(box.n_particles):\n",
    "    plt.arrow(box.particles_pos[i,0],box.particles_pos[i,1],forces_summed[i,0]/2e6,forces_summed[i,1]/2e6)'''"
   ]
  },
  {
   "metadata": {},
   "cell_type": "code",
   "outputs": [],
   "execution_count": null,
   "source": ""
  },
  {
   "metadata": {},
   "cell_type": "code",
   "outputs": [],
   "execution_count": null,
   "source": ""
  },
  {
   "metadata": {},
   "cell_type": "markdown",
   "source": [
    "**Task III: MD simulation after minimization**\n",
    "\n",
    "Following the above simulation the start positions and velocities from above were reloaded. Now a steepest descent minisation of the system was performed. Subsequently the MD simulation was run again. "
   ]
  },
  {
   "cell_type": "code",
   "metadata": {
    "ExecuteTime": {
     "end_time": "2024-11-07T22:28:38.993912Z",
     "start_time": "2024-11-07T22:05:30.761276Z"
    }
   },
   "source": "",
   "outputs": [
    {
     "name": "stdout",
     "output_type": "stream",
     "text": [
      "Ending steepest descent; reached local minimum\n"
     ]
    }
   ],
   "execution_count": 26
  },
  {
   "cell_type": "code",
   "metadata": {
    "ExecuteTime": {
     "end_time": "2024-11-07T22:28:38.994109Z",
     "start_time": "2024-11-07T22:06:42.750883Z"
    }
   },
   "source": "",
   "outputs": [
    {
     "data": {
      "text/plain": [
       "[<matplotlib.lines.Line2D at 0x7f9529972670>]"
      ]
     },
     "execution_count": 27,
     "metadata": {},
     "output_type": "execute_result"
    },
    {
     "data": {
      "text/plain": [
       "<Figure size 432x288 with 1 Axes>"
      ],
      "image/png": "[encoded data removed]"
     },
     "metadata": {
      "needs_background": "light"
     },
     "output_type": "display_data"
    }
   ],
   "execution_count": 27
  },
  {
   "cell_type": "code",
   "metadata": {
    "ExecuteTime": {
     "end_time": "2024-11-07T22:28:38.994303Z",
     "start_time": "2024-11-07T19:32:07.513665Z"
    }
   },
   "source": "",
   "outputs": [
    {
     "data": {
      "text/plain": [
       "<Figure size 432x288 with 1 Axes>"
      ],
      "image/png": "[encoded data removed]"
     },
     "metadata": {
      "needs_background": "light"
     },
     "output_type": "display_data"
    }
   ],
   "execution_count": 16
  },
  {
   "cell_type": "code",
   "metadata": {
    "ExecuteTime": {
     "end_time": "2024-11-07T22:28:38.994363Z",
     "start_time": "2024-11-07T19:32:08.670750Z"
    }
   },
   "source": "",
   "outputs": [
    {
     "data": {
      "text/plain": [
       "<Figure size 432x288 with 1 Axes>"
      ],
      "image/png": "[encoded data removed]"
     },
     "metadata": {
      "needs_background": "light"
     },
     "output_type": "display_data"
    }
   ],
   "execution_count": 17
  },
  {
   "cell_type": "code",
   "metadata": {
    "ExecuteTime": {
     "end_time": "2024-11-07T22:28:38.994463Z",
     "start_time": "2024-11-07T19:32:16.952687Z"
    }
   },
   "source": "",
   "outputs": [],
   "execution_count": 18
  },
  {
   "cell_type": "code",
   "metadata": {
    "ExecuteTime": {
     "end_time": "2024-11-07T22:28:38.994516Z",
     "start_time": "2024-11-07T19:35:54.826975Z"
    }
   },
   "source": "",
   "outputs": [
    {
     "data": {
      "text/plain": [
       "<Figure size 432x288 with 1 Axes>"
      ],
      "image/png": "[encoded data removed]"
     },
     "metadata": {
      "needs_background": "light"
     },
     "output_type": "display_data"
    }
   ],
   "execution_count": 22
  }
 ],
 "metadata": {
  "kernelspec": {
   "display_name": ".venv",
   "language": "python",
   "name": "python3"
  },
  "language_info": {
   "codemirror_mode": {
    "name": "ipython",
    "version": 3
   },
   "file_extension": ".py",
   "mimetype": "text/x-python",
   "name": "python",
   "nbconvert_exporter": "python",
   "pygments_lexer": "ipython3",
   "version": "3.12.7"
  }
 },
 "nbformat": 4,
 "nbformat_minor": 2
}
