{
 "cells": [
  {
   "cell_type": "markdown",
   "metadata": {},
   "source": [
    "**Week 3: Steepest descent minimization**\n",
    "\n",
    "Jannek Schaffert, Frédéric Sonak\n",
    "\n",
    "Background:\n",
    "\n",
    "Minimization methods are used to find minima in the free energy\n",
    "landscape of a simulated system, i.e., metastable states, either for assessing the free\n",
    "energy landscape itself, or to provide a good starting point for MD simulations. \n",
    "\n",
    "The Steepest Descent minimization method, named for its approach of moving directly along the gradient of the system’s potential energy, is one of the most widely used techniques due to its computational simplicity and robustness. By following the gradient at each step, Steepest Descent makes consistent progress toward a minimum energy state. This makes it useful in cases where a reliable and straightforward minimization method is needed, especially as a first pass in systems with high initial energy.\n",
    "\n",
    "However, Steepest Descent has notable limitations. Its strict adherence to moving perpendicular to contour lines results in a “rectangular” or step-like path across the hyperpotential surface, which often leads to slow convergence, particularly in regions with shallow slopes. Another key drawback is that it can only locate the closest local minimum, rather than the global minimum. This means that, depending on the starting structure, the method might converge to a metastable state rather than the most stable configuration. For more efficient and thorough minimization, other algorithms may be employed.\n",
    "\n",
    "**Task I - Implementation**\n",
    "\n",
    "\n",
    "Building on the foundation of last week’s sheet, a steepest descent method for position optimisation was implemented. In short this was implemented as follows:\n",
    " \n",
    "Starting with randomly placed particles the full system potential energy was  calculated. Subsequently the force vector for wach particle was calculated.\n",
    "\n",
    "All the code will be provided in easy to use functions that will be called for Task II.\n",
    "\n",
    "\n",
    "This markdown was created with the assistance of ChatGPT, focusing on grammar, spelling, and readability."
   ]
  },
  {
   "cell_type": "markdown",
   "metadata": {},
   "source": [
    "Importing all external libraries used in this code"
   ]
  },
  {
   "cell_type": "code",
   "metadata": {
    "collapsed": true,
    "ExecuteTime": {
     "end_time": "2024-11-07T19:27:59.062929Z",
     "start_time": "2024-11-07T19:27:59.059214Z"
    }
   },
   "source": [
    "import matplotlib.pyplot as plt\n",
    "from matplotlib import animation, rc\n",
    "from IPython.display import HTML\n",
    "\n",
    "# from numba import njit\n",
    "\n",
    "\n",
    "import copy\n",
    "import numpy as np\n",
    "# import scipy as scy\n"
   ],
   "outputs": [],
   "execution_count": 2
  },
  {
   "cell_type": "markdown",
   "metadata": {},
   "source": [
    "Creating a particle class:"
   ]
  },
  {
   "cell_type": "code",
   "metadata": {
    "collapsed": true,
    "ExecuteTime": {
     "end_time": "2024-11-07T19:28:01.875802Z",
     "start_time": "2024-11-07T19:28:01.870153Z"
    }
   },
   "source": [
    "class Particle:\n",
    "    \"\"\" A round particle with a defined position and velocity\\n\n",
    "    r   : the radius of the particle\\n\n",
    "    pos : the 2-dimensional position of the particle\\n\n",
    "    vel : the x- and y-component of the particle velocity\n",
    "    \"\"\"\n",
    "    def __init__(self, r, m, x, y, vx, vy):\n",
    "        \"\"\"Initializing the Particle class.\\n\n",
    "        r       : radius of the particle\\n\n",
    "        x, y    : x and y positions. Don't need to be inside of a box-class\\n\n",
    "        vx, vy  : velocities in x- and y-direction\n",
    "        \"\"\"\n",
    "        self.m = m\n",
    "        self.r = r\n",
    "        self.pos = np.array([x,y],dtype=float)\n",
    "        self.vel = np.array([vx,vy],dtype=float)\n",
    "        self.acc = np.zeros(2,dtype=float)\n",
    "        \n",
    "    def __repr__(self):\n",
    "        \"\"\"printing for debugging\"\"\"\n",
    "        return str(\"This is a particle at %0.2f, %0.2f with v=%0.2f,%0.2f\" % (self.pos[0],self.pos[1],self.vel[0],self.vel[1]))\n",
    "    \n",
    "    def move(self, dt = 1., vel = []):\n",
    "        \"\"\"moving the particle in the direction, where the velocity-vector points.\\n\n",
    "        dt  : the time-step moving forward; default = 1\\n\n",
    "        vel : a velocity vector for moving in that direction during a time-step of one; default = self.vel\n",
    "        \"\"\"\n",
    "        if len(vel) == 0:\n",
    "            vel = self.vel\n",
    "        self.pos += vel*dt\n",
    "\n",
    "    def calculate_distance(self, particle_1):\n",
    "        \"\"\"Calculate the distance to another particle.\\n\n",
    "        particle_1  : The other particle\n",
    "        \"\"\"\n",
    "        return np.sqrt(np.abs(self.pos[0]-particle_1.pos[0])**2+np.abs(self.pos[1]-particle_1.pos[1])**2)\n",
    "\n"
   ],
   "outputs": [],
   "execution_count": 3
  },
  {
   "cell_type": "code",
   "metadata": {
    "ExecuteTime": {
     "end_time": "2024-11-07T19:28:08.189497Z",
     "start_time": "2024-11-07T19:28:08.160588Z"
    }
   },
   "source": [
    "\n",
    "class Box:\n",
    "    \"\"\"Box-class: defining a rectangular box-shape, in which Particles can roam. One corner is always (0,0)\\n\n",
    "    box         : 2-dimensional array of the two lengths of the x- and y-axis, corresponding to the boundaries of the box.\\n\n",
    "    particles   : a list of all particles in the box\\n\n",
    "    n_particles : the number of particles inside of the box\n",
    "    \"\"\"\n",
    "    def __init__(self,box_size):\n",
    "        \"\"\"Initializing the Box-class\\n\n",
    "        box_size    : a 2-dimensional array of the two lengths of the x- and y-axis, corresponding to the boundaries of the box.\n",
    "        \"\"\"\n",
    "        self.box = box_size\n",
    "        self.particles: list[Particle] = []\n",
    "        self.n_particles = 0\n",
    "        self.forces = np.array([])\n",
    "        \n",
    "        \n",
    "    def __repr__(self):\n",
    "        \"\"\"printing for debugging\"\"\"\n",
    "        return str(\"This is a box of size %0.2f\" % (self.box) + \", with %0.2f\" % (self.n_particles) + \" particles\")\n",
    "\n",
    "    def random_positions(self, axis, n_particles = 0):\n",
    "        \"\"\"return random positions for a number of particles (only one axis)\\n\n",
    "        axis        : either 0 or 1.     0 = x-axis, 1 = y-axis\\n\n",
    "        n_particles : the number of particles for which positions should be given; default self.n_particles\\n\n",
    "        returns     : array of random positions\n",
    "        \"\"\"\n",
    "        if n_particles == 0:\n",
    "            n_particles = self.n_particles\n",
    "        rnd = np.random.rand(n_particles)*(self.box[axis]-0.5)\n",
    "        return rnd\n",
    "\n",
    "    def fill_particles(self, n_particles, radius, mass, vel, angle = [], x = [], y = []):\n",
    "        \"\"\"fills the particles-array with particles\\n\n",
    "        n_particles : The amount of particles that should be inserted\\n\n",
    "        radius      : The radius of particles; either as array of length n for individual radii or int/float for a general radius\n",
    "        vel         : The absolute velocity; either as array of length n for individual velocities or int/float for a uniform initial velocity\n",
    "        angle       : The initial angles of the particles as array of length n for individual angles; default is uniformly distributed\n",
    "        x,y         : initial positions as array of length n; default random positions 0.5 away from border\n",
    "        \"\"\"\n",
    "        self.n_particles = n_particles\n",
    "        if type(radius) == int or type(radius) == float:\n",
    "            radius = np.ones(n_particles)*radius\n",
    "        if type(mass) == int or type(mass) == float:\n",
    "            mass = np.ones(n_particles)*mass\n",
    "        if type(vel) == int or type(vel) == float:\n",
    "            vel = np.ones(n_particles)*vel\n",
    "        if len(angle) == 0:\n",
    "            angle = np.random.uniform(0,2 * np.pi, n_particles)\n",
    "        \n",
    "        \n",
    "        if len(x) == 0:\n",
    "            x = self.random_positions(0,n_particles)\n",
    "        if len(y) == 0:\n",
    "            y = self.random_positions(1,n_particles)\n",
    "        for i in range(n_particles):\n",
    "            self.particles.append(Particle(radius[i],mass[i],x[i],y[i],np.sin(angle[i]) * vel[i],np.cos(angle[i]) * vel[i]))\n",
    "            #print(self.particles[i])\n",
    "        self.forces = np.ones((self.n_particles, self.n_particles, 2))-1\n",
    "    \n",
    "    def fill_grid(self, n_particles:tuple, radius, mass, vel, angle = []):\n",
    "        \"\"\"fills the particles-array with particles\\n\n",
    "        n_particles : The amount of particles that should be inserted\\n\n",
    "        radius      : The radius of particles; either as array of length n for individual radii or int/float for a general radius\n",
    "        vel         : The absolute velocity; either as array of length n for individual velocities or int/float for a uniform initial velocity\n",
    "        angle       : The initial angles of the particles as array of length n for individual angles; default is uniformly distributed\n",
    "        x,y         : initial positions as array of length n; default random positions 0.5 away from border\n",
    "        \"\"\"\n",
    "        self.n_particles = n_particles[0]*n_particles[1]\n",
    "        if type(radius) == int or type(radius) == float:\n",
    "            radius = np.ones(self.n_particles)*radius\n",
    "        if type(mass) == int or type(mass) == float:\n",
    "            mass = np.ones(self.n_particles)*mass\n",
    "        if type(vel) == int or type(vel) == float:\n",
    "            vel = np.ones(self.n_particles)*vel\n",
    "        if len(angle) == 0:\n",
    "            angle = np.random.uniform(0,2 * np.pi, self.n_particles)\n",
    "        \n",
    "\n",
    "        x = []\n",
    "        y = []\n",
    "        for i in range(n_particles[0]):\n",
    "            for j in range(n_particles[1]):\n",
    "                x.append(self.box[0]/n_particles[0]*i+0.5)\n",
    "                y.append(self.box[1]/n_particles[1]*j+0.5)\n",
    "\n",
    "        for i in range(self.n_particles):\n",
    "            self.particles.append(Particle(radius[i],mass[i],x[i],y[i],np.sin(angle[i]) * vel[i],np.cos(angle[i]) * vel[i]))\n",
    "            \n",
    "    \n",
    "\n",
    "        self.forces = np.ones((self.n_particles, self.n_particles, 2))-1\n",
    "\n",
    "    def wrap_around(self, particles = []):\n",
    "        \"\"\"For continuous borders, i.e. a particle that exits to the right is entering from the left and vice versa\\n\n",
    "        particles   : Particles, which should be wrapped; default self.particles\\n\n",
    "        returns     : array of particles with new positions\n",
    "        \"\"\"\n",
    "        if len(particles) == 0:\n",
    "            particles = self.particles\n",
    "        for i in range(len(particles)):\n",
    "            particles[i].pos = particles[i].pos % self.box\n",
    "        return particles\n",
    "\n",
    "    def reflect(self, particles = []):\n",
    "        \"\"\"Reflecting particles on the edges of the box.\\n\n",
    "        particles   : Particles, which should be reflected; default self.particles\\n\n",
    "        returns     : array of particles with new positions\n",
    "        \"\"\"\n",
    "        if len(particles) == 0:\n",
    "            particles = self.particles\n",
    "        \n",
    "        for i in range(len(particles)):\n",
    "            if (particles[i].pos[0] + particles[i].r) >= self.box[0] or (particles[i].pos[0]) <= particles[i].r:\n",
    "                particles[i].vel[0] *= (-1)\n",
    "            if (particles[i].pos[1] + particles[i].r) >= self.box[1] or (particles[i].pos[1]) <= particles[i].r:\n",
    "                particles[i].vel[1] *= (-1)\n",
    "\n",
    "        return particles\n",
    "    \n",
    "    \n",
    "    \n",
    "    def update_forces(self):\n",
    "        # constants\n",
    "        c_6 = 6.2647225e3 # g/mol  *  nm**8/ns**2\n",
    "        c_12 = 9.847044 # g/mol  *  nm**14/ns**2\n",
    "        \n",
    "\n",
    "        #iterate through each pairwise interaction\n",
    "        for i in range(self.forces.shape[0]):\n",
    "            for j in range(i+1,self.forces.shape[1]):\n",
    "                #check if particles are closer when wrapped around\n",
    "                x_equal = False\n",
    "                y_equal = False\n",
    "                distance_vector = self.particles[j].pos - self.particles[i].pos\n",
    "                particle_2 = copy.deepcopy(self.particles[j])\n",
    "                # if the x or y coordinate is further apart than half the boxwidth, the interaction happens with the ghostparticle in the adjoining compartment\n",
    "                if distance_vector[0] > self.box[0]/2:\n",
    "                    particle_2.pos[0] -= self.box[0]\n",
    "                elif distance_vector[0] < -self.box[0]/2:\n",
    "                    particle_2.pos[0] += self.box[0]\n",
    "                elif distance_vector[0] == self.box[0]/2:\n",
    "                    x_equal = True\n",
    "\n",
    "\n",
    "                if distance_vector[1] > self.box[1]/2:\n",
    "                    particle_2.pos[1] -= self.box[1]\n",
    "                elif distance_vector[1] < -self.box[1]/2:\n",
    "                    particle_2.pos[1] += self.box[1]\n",
    "                elif distance_vector[1] == -self.box[1]/2:\n",
    "                    y_equal = True\n",
    "\n",
    "                # actually update the forces. Forces are the same between two particles, only the direction changes\n",
    "                distance_vector = particle_2.pos - self.particles[i].pos\n",
    "                distance = self.particles[i].calculate_distance(particle_2)\n",
    "                if x_equal:\n",
    "                    self.forces[i][j][0] = 0\n",
    "                    self.forces[j][i][0] = 0\n",
    "                else:\n",
    "                    self.forces[i][j][0] = -(12*c_12/distance**14-6*c_6/distance**8)*distance_vector[0]\n",
    "                    self.forces[j][i][0] = (12*c_12/distance**14-6*c_6/distance**8)*distance_vector[0]\n",
    "                if y_equal:\n",
    "                    self.forces[i][j][1] = 0\n",
    "                    self.forces[j][i][1] = 0\n",
    "                else:\n",
    "                    self.forces[i][j][1] = -(12*c_12/distance**14-6*c_6/distance**8)*distance_vector[1]\n",
    "                    self.forces[j][i][1] = (12*c_12/distance**14-6*c_6/distance**8)*distance_vector[1]\n",
    "                #save the potential energy as well\n",
    "        \n",
    "    def calculate_potential(self):\n",
    "        # constants\n",
    "        c_6 = 6.2647225e3 # g/mol  *  nm**8/ns**2\n",
    "        c_12 = 9.847044 # g/mol  *  nm**14/ns**2\n",
    "        potential_energy = np.zeros((self.forces.shape[0], self.forces.shape[1]))\n",
    "\n",
    "        for i in range(self.forces.shape[0]):\n",
    "            for j in range(i+1,self.forces.shape[1]):\n",
    "                #check if particles are closer when wrapped around\n",
    "                x_equal = False\n",
    "                y_equal = False\n",
    "                distance_vector = self.particles[j].pos - self.particles[i].pos\n",
    "                particle_2 = copy.deepcopy(self.particles[j])\n",
    "                # if the x or y coordinate is further apart than half the boxwidth, the interaction happens with the ghostparticle in the adjoining compartment\n",
    "                if distance_vector[0] > self.box[0]/2:\n",
    "                    particle_2.pos[0] -= self.box[0]\n",
    "                elif distance_vector[0] < -self.box[0]/2:\n",
    "                    particle_2.pos[0] += self.box[0]\n",
    "                # cutting the equidistance out, effect is < 10e-12\n",
    "                '''elif distance_vector[0] == self.box[0]/2:\n",
    "                    x_equal = True'''\n",
    "\n",
    "\n",
    "                if distance_vector[1] > self.box[1]/2:\n",
    "                    particle_2.pos[1] -= self.box[1]\n",
    "                elif distance_vector[1] < -self.box[1]/2:\n",
    "                    particle_2.pos[1] += self.box[1]\n",
    "                '''elif distance_vector[1] == -self.box[1]/2:\n",
    "                    y_equal = True'''\n",
    "\n",
    "                # actually update the forces. Forces are the same between two particles, only the direction changes\n",
    "                distance = self.particles[i].calculate_distance(particle_2)\n",
    "                potential_energy[i][j] = -(-c_12/distance**12+c_6/distance**6)\n",
    "                potential_energy[j][i] = -(-c_12/distance**12+c_6/distance**6)\n",
    "        return potential_energy\n",
    "        \n",
    "    \n",
    "\n"
   ],
   "outputs": [],
   "execution_count": 4
  },
  {
   "metadata": {},
   "cell_type": "markdown",
   "source": "In the next code snipped definitions from the previous excercise were included. In addition an implementation of the steepest descent algorythm was implemented. "
  },
  {
   "cell_type": "code",
   "metadata": {
    "ExecuteTime": {
     "end_time": "2024-11-07T19:35:40.883819Z",
     "start_time": "2024-11-07T19:35:40.828022Z"
    }
   },
   "source": [
    "from math import nan\n",
    "\n",
    "\n",
    "class Simulation:\n",
    "    \"\"\"Simulation class for everything related to simulating the particles in a box\\n\n",
    "    box         : The box object which should be simulated\n",
    "    steps       : The number of integration steps to perform\n",
    "    dt          : The length of one time step\n",
    "    data_traj   : The trajectories of all particles\n",
    "    \"\"\"\n",
    "    def __init__(self, box:Box, steps, dt):\n",
    "        \"\"\"Initializing the Simulation\\n\n",
    "    box         : The box object which should be simulated\n",
    "    steps       : The number of integration steps to perform\n",
    "    dt          : The length of one time step\n",
    "    \"\"\"\n",
    "        self.box:Box = box\n",
    "        self.steps = steps\n",
    "        self.dt = dt\n",
    "        self.pot_energy = np.array([])\n",
    "        self.kin_energy = np.array([])\n",
    "        self.data_traj  = np.array([])\n",
    "        self.set_traj()\n",
    "\n",
    "    def set_traj(self):\n",
    "        \"\"\"Initialize the trajectory-saving\"\"\"\n",
    "        self.data_traj  = np.zeros((self.box.n_particles, 6, self.steps+1))\n",
    "        self.pot_energy = np.zeros((self.steps+1, self.box.n_particles, self.box.n_particles))\n",
    "        self.kin_energy = np.zeros((self.steps+1, self.box.n_particles))\n",
    "\n",
    "    def collision(self, particle_1, particle_2):\n",
    "        \"\"\"Collide two particles without considering wether overlap exists.\\n\n",
    "        particles   : two particles that collide.\n",
    "        \"\"\"\n",
    "        # calculate angle between x-axis and line between particles\n",
    "        phi = np.arctan((particle_2.pos[1] - particle_1.pos[1])/(particle_2.pos[0] - particle_1.pos[0]))\n",
    "        # change the velocities\n",
    "        sin_phi = np.sin(phi)\n",
    "        cos_phi = np.cos(phi)\n",
    "        # Get the velocities of particles i and j as variables\n",
    "        v1x, v1y = particle_1.vel[0], particle_1.vel[1]\n",
    "        v2x, v2y = particle_2.vel[0], particle_2.vel[1]\n",
    "\n",
    "        # Calculate the updated velocities using the provided formulas: https://hermann-baum.de/elastischer_stoss/\n",
    "        # the tangental part stays the same, the normal part changes. This is done in transformed coordinates and then transformed directly back\n",
    "        new_v1x = ( v1x * sin_phi - v1y * cos_phi) * sin_phi + (v2x * cos_phi + v2y * sin_phi) * cos_phi\n",
    "        new_v1y = (-v1x * sin_phi + v1y * cos_phi) * cos_phi + (v2x * cos_phi + v2y * sin_phi) * sin_phi\n",
    "        new_v2x = ( v2x * sin_phi - v2y * cos_phi) * sin_phi + (v1x * cos_phi + v1y * sin_phi) * cos_phi\n",
    "        new_v2y = (-v2x * sin_phi + v2y * cos_phi) * cos_phi + (v1x * cos_phi + v1y * sin_phi) * sin_phi\n",
    "\n",
    "        # Update the particles' velocities\n",
    "        particle_1.vel[0], particle_1.vel[1] = new_v1x, new_v1y\n",
    "        particle_2.vel[0], particle_2.vel[1] = new_v2x, new_v2y\n",
    "        return particle_1, particle_2\n",
    "\n",
    "    def collide_simple(self, particles):\n",
    "        \"\"\"Initial idea on how collision works.\\n\n",
    "        particles   : All particles for which the collision should happen\n",
    "        \"\"\"\n",
    "        for i in range(len(particles)): # looping through all particles\n",
    "            for j in range(i,len(particles)):\n",
    "                if particles[i].calculate_distance(particles[j])<(particles[i].r+particles[j].r):\n",
    "                    particles[i], particles[j] = self.collision(particles[i], particles[j])\n",
    "\n",
    "    def check_overlap(self, particle_1, particle_2):\n",
    "        \"\"\"Check if two particles overlap\\n\n",
    "        particles   : two particles to check wether they overlap\n",
    "        \"\"\"\n",
    "        # how far apart the particles should be on impact\n",
    "        R = particle_1.r+particle_2.r\n",
    "        if particle_1.calculate_distance(particle_2)<R:\n",
    "            return True\n",
    "        else:\n",
    "            return False\n",
    "\n",
    "    def collision_complex(self, particle_1, particle_2):\n",
    "        \"\"\"The more complex version of collisions. This includes time-warping two colliding particles backwards, so that they don't overlap. After the collision, time is warped forward again.\\n\n",
    "        particles   : two particles that get checked if they should collide\n",
    "        \"\"\"\n",
    "        if self.check_overlap(particle_1,particle_2):\n",
    "            #print(step)\n",
    "            #print(particle_1, particle_2,'collided with a distance of ', particle_1.calculate_distance(particle_2))\n",
    "            \n",
    "            # in time\n",
    "            # defining re-used variables\n",
    "            velocity_vector = particle_1.vel-particle_2.vel     # von j nach i\n",
    "            distance_vector = particle_2.pos-particle_1.pos     # von i nach j\n",
    "            R = particle_1.r+particle_2.r\n",
    "\n",
    "            #calculating the time needed to travel back in two steps:\n",
    "            \n",
    "            sqrt = 2*np.sqrt((distance_vector[0]*velocity_vector[0]+distance_vector[1]*velocity_vector[1])**2-\n",
    "                             (velocity_vector[0]**2+velocity_vector[1]**2)*(distance_vector[0]**2+distance_vector[1]**2-R**2))\n",
    "            \n",
    "\n",
    "            delta_t = -1*(-2*(distance_vector[0]*velocity_vector[0]+distance_vector[1]*velocity_vector[1]) + sqrt)/(2*(velocity_vector[0]**2+velocity_vector[1]**2))\n",
    "\n",
    "            #solving the quadratic equation results in two solutions (one positive and one negative), we want the negative solution, for backwards time-travel\n",
    "            if delta_t > 0:\n",
    "                delta_t = -1*(-2*(distance_vector[0]*velocity_vector[0]+distance_vector[1]*velocity_vector[1]) - sqrt)/(2*(velocity_vector[0]**2+velocity_vector[1]**2))\n",
    "            \n",
    "            # rewind time to just outside of the collision\n",
    "            particle_1.move(delta_t)\n",
    "            particle_2.move(delta_t)\n",
    "\n",
    "            # change the velocities\n",
    "            particle_1, particle_2 = self.collision(particle_1, particle_2)\n",
    "            \n",
    "            # finish this time_step, that was rewound previously and open the boundaries again with np.mod\n",
    "            particle_1.move(-delta_t)\n",
    "            particle_2.move(-delta_t)\n",
    "\n",
    "    def collide_border_check(self,i):\n",
    "        \"\"\"Check if there are particles that might collide with particles on the opposite side of the box\"\"\"\n",
    "        #run through all pairwise possible interactions and check collisions\n",
    "            # account for edge cases\n",
    "        moved = False\n",
    "        if self.box.particles[i].pos[0] < self.box.particles[i].r:\n",
    "            self.box.particles[i].pos[0] += self.box.box[0]\n",
    "            moved = True\n",
    "        elif self.box.particles[i].pos[0] > self.box.box[0]-self.box.particles[i].r:\n",
    "            self.box.particles[i].pos[0] -= self.box.box[0]\n",
    "            moved = True\n",
    "\n",
    "        if self.box.particles[i].pos[1] < self.box.particles[i].r:\n",
    "            self.box.particles[i].pos[1] += self.box.box[1]\n",
    "            moved = True\n",
    "        elif self.box.particles[i].pos[1] > self.box.box[1]-self.box.particles[i].r:\n",
    "            self.box.particles[i].pos[1] -= self.box.box[1]\n",
    "            moved = True\n",
    "        if moved:\n",
    "            for j in range(i+1,len(self.box.particles)):\n",
    "                self.collision_complex(self.box.particles[i],self.box.particles[j])\n",
    "                self.box.particles = self.box.wrap_around()\n",
    "\n",
    "    def check_collisions(self):\n",
    "        \"\"\"check for collisions between all particles\"\"\"\n",
    "        for i in range(self.box.n_particles):\n",
    "            for j in range(i+1,self.box.n_particles):\n",
    "                self.collision_complex(self.box.particles[i], self.box.particles[j])\n",
    "                self.box.particles = self.box.wrap_around()\n",
    "            self.collide_border_check(i)\n",
    "            self.box.particles = self.box.wrap_around()\n",
    "\n",
    "    def run(self, force_type = 'billiard'):\n",
    "        \"\"\"runs the simulation with the given parameters of the simulation\"\"\"\n",
    "        self.set_traj()\n",
    "        if force_type == 'billiard':\n",
    "            for j in range(self.box.n_particles):\n",
    "                self.data_traj[j,:,0] = [self.box.particles[j].pos[0], self.box.particles[j].pos[1], self.box.particles[j].vel[0], self.box.particles[j].vel[1], self.box.particles[j].acc[0], self.box.particles[j].acc[1]]\n",
    "            for i in range(self.steps):\n",
    "                for j in range(self.box.n_particles):\n",
    "                    self.box.particles[j].move(self.dt)\n",
    "                self.box.particles = self.box.wrap_around()\n",
    "                self.check_collisions()\n",
    "                for j in range(self.box.n_particles):\n",
    "                    self.data_traj[j,:,i+1] = [self.box.particles[j].pos[0], self.box.particles[j].pos[1], self.box.particles[j].vel[0], self.box.particles[j].vel[1], self.box.particles[j].acc[0], self.box.particles[j].acc[1]]\n",
    "        elif force_type == 'lennard-jones':\n",
    "            # initialize the forces/acceleration for initial time step\n",
    "            self.box.update_forces()\n",
    "            self.pot_energy[0] = self.box.calculate_potential()\n",
    "            for j in range(self.box.n_particles):\n",
    "                self.box.particles[j].acc = np.sum(self.box.forces[j],axis=0)/self.box.particles[j].m\n",
    "                self.data_traj[j,:,0] = [self.box.particles[j].pos[0], self.box.particles[j].pos[1], self.box.particles[j].vel[0], self.box.particles[j].vel[1], self.box.particles[j].acc[0], self.box.particles[j].acc[1]]\n",
    "                self.kin_energy[0][j] = 1/2*self.box.particles[j].m*(np.linalg.norm(self.box.particles[j].vel))**2\n",
    "            # loop through all time steps\n",
    "            for i in range(self.steps):\n",
    "                # update positions\n",
    "                self.update_positions()\n",
    "                # update forces, acceleration and velocities. Save the current potential energy between each particle pair\n",
    "                self.update_velocities()\n",
    "                self.pot_energy[i+1] = self.box.calculate_potential()\n",
    "                # save the trajectories and calculate the kinetic energy\n",
    "                for j in range(self.box.n_particles):\n",
    "                    #print(j,self.box.particles[j].pos,self.box.particles[j].vel,self.box.particles[j].acc)\n",
    "                    self.data_traj[j,:,i+1] = [self.box.particles[j].pos[0], self.box.particles[j].pos[1], self.box.particles[j].vel[0], self.box.particles[j].vel[1], self.box.particles[j].acc[0], self.box.particles[j].acc[1]]\n",
    "                    self.kin_energy[i+1][j] = 1/2*self.box.particles[j].m*(np.linalg.norm(self.box.particles[j].vel))**2\n",
    "\n",
    "    def update_positions(self):\n",
    "        \"\"\"Updates the position of the particles\"\"\"\n",
    "        for j in range(self.box.n_particles):\n",
    "            self.box.particles[j].pos = self.box.particles[j].pos + self.box.particles[j].vel*self.dt + 1/2*(self.box.particles[j].acc*self.dt**2)\n",
    "        self.box.wrap_around()\n",
    "\n",
    "    def update_velocities(self):\n",
    "        \"\"\"Changes the forces, acceleration and velocities. \\n\n",
    "        returns the potential energy of all particles with all particles as a nxn matrix\"\"\"\n",
    "        self.box.update_forces()\n",
    "        for j in range(self.box.forces.shape[1]):\n",
    "            new_acc = np.sum(self.box.forces[j],axis=0)/self.box.particles[j].m\n",
    "            self.box.particles[j].vel = self.box.particles[j].vel + 1/2*(self.box.particles[j].acc + new_acc)*self.dt\n",
    "            self.box.particles[j].acc = new_acc\n",
    "    \n",
    "    \n",
    "    \n",
    "    \n",
    "    def steepest_descent(self, distance = 0.05, counter = 30, verbose = False):\n",
    "        pot_energies = []\n",
    "        self.box.update_forces()\n",
    "        pot_energies.append(np.sum(self.box.calculate_potential())/2)\n",
    "        pot_energy_old = 0\n",
    "        self.set_traj()\n",
    "        '''for j in range(self.box.n_particles):\n",
    "            self.data_traj[j,:,0] = [self.box.particles[j].pos[0], self.box.particles[j].pos[1], self.box.particles[j].vel[0], self.box.particles[j].vel[1], self.box.particles[j].acc[0], self.box.particles[j].acc[1]]'''\n",
    "        while counter > 0:\n",
    "            move_direction = np.sum(self.box.forces,axis=1)\n",
    "            if verbose:\n",
    "                print(move_direction)\n",
    "            for i in range(len(move_direction)):\n",
    "                move_direction[i] = move_direction[i] / np.linalg.norm(move_direction[i])\n",
    "            pathway = True\n",
    "            \n",
    "            while pathway:\n",
    "                for j in range(self.box.n_particles):\n",
    "                    self.box.particles[j].move(dt=distance, vel=move_direction[j])\n",
    "                pot_energy_new = np.sum(self.box.calculate_potential())/2\n",
    "                if verbose:\n",
    "                    print(counter,pot_energy_new)\n",
    "                if pot_energy_new < pot_energies[-1]:\n",
    "                    pot_energies.append(pot_energy_new)\n",
    "                    '''for j in range(self.box.n_particles):\n",
    "                        #print(j,self.box.particles[j].pos,self.box.particles[j].vel,self.box.particles[j].acc)\n",
    "                        self.data_traj[j,:,i+1] = [self.box.particles[j].pos[0], self.box.particles[j].pos[1], self.box.particles[j].vel[0], self.box.particles[j].vel[1], self.box.particles[j].acc[0], self.box.particles[j].acc[1]]\n",
    "                    '''    \n",
    "                else:\n",
    "                    pathway = False\n",
    "                    counter -= 1\n",
    "                    for j in range(self.box.n_particles):\n",
    "                        self.box.particles[j].move(dt=-distance, vel=move_direction[j])\n",
    "                    # pot_energies.append(pot_energy_new)\n",
    "                    self.box.update_forces()\n",
    "            if np.abs(pot_energy_new - pot_energies[-1]) < 0.001 or pot_energy_new==pot_energy_old:\n",
    "                print('Ending steepest descent; reached local minimum')\n",
    "                counter = -1\n",
    "            else:\n",
    "                pot_energy_old = pot_energy_new\n",
    "                if verbose:\n",
    "                    print(counter,pot_energies[-1])\n",
    "        return pot_energies\n",
    "\n",
    "\n",
    "    def show_traj(self):\n",
    "        \"\"\"Shows a 2D-plot of all trajectories\"\"\"\n",
    "        for data_traj_j in self.data_traj:\n",
    "            plt.plot(data_traj_j[0],data_traj_j[1],'-')\n",
    "        plt.xlabel('position x')\n",
    "        plt.ylabel('position y')\n",
    "\n",
    "        plt.grid()\n",
    "        plt.show()\n",
    "        \n",
    "    def setup(self):\n",
    "        \"\"\"setup the animation\"\"\"\n",
    "        self.fig, self.ax = plt.subplots()\n",
    "\n",
    "        self.ax.set_xlim((0, self.box.box[0]))\n",
    "        self.ax.set_ylim((0, self.box.box[1]))\n",
    "\n",
    "        plt.xlabel('position x')\n",
    "        plt.ylabel('position y')\n",
    "\n",
    "        # make the points in the plot the correct size according to the radius of the particles\n",
    "        # use ax.transData.transform to convert radius size from particle to markerSize from pyplot\n",
    "        desired_size_in_data_units = self.box.particles[0].r/6\n",
    "        data_to_points = self.ax.transData.transform((desired_size_in_data_units, 0)) - self.ax.transData.transform((0, 0))\n",
    "        marker_size_in_points = data_to_points[0]\n",
    "        \n",
    "        self.dot, = self.ax.plot([], [], 'bo', ms=marker_size_in_points)\n",
    "        \n",
    "    def init_vid(self):\n",
    "        \"\"\"initialize the video\"\"\"\n",
    "        self.dot.set_data([], [])\n",
    "        return (self.dot,)\n",
    "    # animation function. This is called sequentially\n",
    "    def animate(self,i):\n",
    "        \"\"\"animate the video\"\"\"\n",
    "        x = self.data_traj[:,0,i]\n",
    "        y = self.data_traj[:,1,i]\n",
    "        self.dot.set_data(x, y)\n",
    "        return (self.dot,)\n",
    "    def animation(self, save_pls = False):\n",
    "        \"\"\"create and save a video of the simulation\"\"\"\n",
    "        self.setup()\n",
    "        anim = animation.FuncAnimation(self.fig, self.animate, init_func=self.init_vid, frames=self.steps, interval=60, blit=True)\n",
    "        HTML(anim.to_html5_video())\n",
    "\n",
    "        # uncomment if video should not be saved\n",
    "        if save_pls:\n",
    "            anim.save('animation.mp4', fps=30)\n",
    "    \n",
    "\n",
    "\n",
    "    def plot_energies(self):\n",
    "        fig, ax = plt.subplots(figsize=(16, 9))\n",
    "\n",
    "        ax.plot(np.linspace(0,self.steps,self.steps+1),np.sum(np.sum(self.pot_energy,axis=1),axis=1)/2,label='pot')\n",
    "        ax.plot(np.linspace(0,self.steps,self.steps+1),np.sum(self.kin_energy,axis=1),label='kin')\n",
    "        ax.plot(np.linspace(0,self.steps,self.steps+1),np.sum(self.kin_energy,axis=1)+np.sum(np.sum(self.pot_energy,axis=1),axis=1)/2,label='com')\n",
    "\n",
    "        ax.set_xlabel('time [s]')\n",
    "        ax.set_ylabel('energy [g/mol m/s]')\n",
    "\n",
    "        plt.legend()\n",
    "\n",
    "\n"
   ],
   "outputs": [],
   "execution_count": 19
  },
  {
   "metadata": {},
   "cell_type": "markdown",
   "source": [
    "**Task II - Running the simulation** \n",
    "\n",
    "For the simulation a box with the dimensions 5 x 5 nm and periodic boundary conditions was created. 50 Particles, each with a mass of 18 g/mol were created and placed randomly. As with a previous excercise the interaction was modeled as a Lennard-Jones potential with the corresponding constants. A velocity with magnitude 150 nm/ns and a random direction distribution was initially placed on each particle. The simulation was run for 20000 steps with a time step of $\\Delta t$ = 2 fs. For each step the kinetic and potential energy was calculated."
   ]
  },
  {
   "cell_type": "code",
   "metadata": {
    "ExecuteTime": {
     "end_time": "2024-11-07T19:35:42.478932Z",
     "start_time": "2024-11-07T19:35:42.470210Z"
    }
   },
   "source": [
    "# defining the box\n",
    "box_size = [5,5]#nm\n",
    "\n",
    "box = Box(box_size)\n",
    "\n",
    "\n",
    "number_of_particles = 50\n",
    "grid_particles = (7,7)\n",
    "\n",
    "radius = 0.5\n",
    "mass = 18 #g/mol\n",
    "vel = np.ones(number_of_particles)*150 # nm/ns\n",
    "angles = np.random.uniform(0,2*np.pi,number_of_particles)\n",
    "\n",
    "angles = [np.pi/4,-np.pi/4]\n",
    "x = [2.75,3.25]\n",
    "y = [1.5,1.5]\n",
    "\n",
    "#box.fill_grid(grid_particles,radius,mass,vel)#,angles,x,y)\n",
    "\n",
    "box.fill_particles(number_of_particles,radius,mass,vel)#,angles,x,y)\n",
    "\n"
   ],
   "outputs": [],
   "execution_count": 20
  },
  {
   "metadata": {},
   "cell_type": "markdown",
   "source": ""
  },
  {
   "cell_type": "code",
   "metadata": {
    "collapsed": true,
    "ExecuteTime": {
     "end_time": "2024-11-07T19:35:44.889214Z",
     "start_time": "2024-11-07T19:35:44.880851Z"
    }
   },
   "source": [
    "# Defining number of simulation steps\n",
    "steps = 2000\n",
    "dt = 2e-6 #ns\n",
    "sim = Simulation(box, steps, dt) "
   ],
   "outputs": [],
   "execution_count": 21
  },
  {
   "cell_type": "code",
   "metadata": {
    "ExecuteTime": {
     "end_time": "2024-11-07T19:30:55.228838Z",
     "start_time": "2024-11-07T19:30:54.909784Z"
    }
   },
   "source": [
    "print(np.sum(sim.box.calculate_potential())/2)\n",
    "for i in range(len(sim.box.particles)):\n",
    "    plt.scatter(sim.box.particles[i].pos[0],sim.box.particles[i].pos[1])"
   ],
   "outputs": [
    {
     "name": "stdout",
     "output_type": "stream",
     "text": [
      "2834431119482300.0\n"
     ]
    },
    {
     "data": {
      "text/plain": [
       "<Figure size 432x288 with 1 Axes>"
      ],
      "image/png": "[encoded data removed]"
     },
     "metadata": {
      "needs_background": "light"
     },
     "output_type": "display_data"
    }
   ],
   "execution_count": 13
  },
  {
   "cell_type": "code",
   "metadata": {
    "ExecuteTime": {
     "end_time": "2024-11-07T19:31:33.422746Z",
     "start_time": "2024-11-07T19:30:56.107711Z"
    }
   },
   "source": [
    "energies = sim.steepest_descent(0.001, 1000)\n",
    "#energies"
   ],
   "outputs": [
    {
     "name": "stdout",
     "output_type": "stream",
     "text": [
      "Ending steepest descent; reached local minimum\n"
     ]
    }
   ],
   "execution_count": 14
  },
  {
   "cell_type": "code",
   "metadata": {
    "ExecuteTime": {
     "end_time": "2024-11-07T19:32:03.432213Z",
     "start_time": "2024-11-07T19:32:03.342195Z"
    }
   },
   "source": [
    "plt.plot(energies)"
   ],
   "outputs": [
    {
     "data": {
      "text/plain": [
       "[<matplotlib.lines.Line2D at 0x7f94f8f24fd0>]"
      ]
     },
     "execution_count": 15,
     "metadata": {},
     "output_type": "execute_result"
    },
    {
     "data": {
      "text/plain": [
       "<Figure size 432x288 with 1 Axes>"
      ],
      "image/png": "[encoded data removed]"
     },
     "metadata": {
      "needs_background": "light"
     },
     "output_type": "display_data"
    }
   ],
   "execution_count": 15
  },
  {
   "cell_type": "code",
   "metadata": {
    "ExecuteTime": {
     "end_time": "2024-11-07T19:32:07.813643Z",
     "start_time": "2024-11-07T19:32:07.513665Z"
    }
   },
   "source": [
    "for i in range(len(sim.box.particles)):\n",
    "    plt.scatter(sim.box.particles[i].pos[0],sim.box.particles[i].pos[1])"
   ],
   "outputs": [
    {
     "data": {
      "text/plain": [
       "<Figure size 432x288 with 1 Axes>"
      ],
      "image/png": "[encoded data removed]"
     },
     "metadata": {
      "needs_background": "light"
     },
     "output_type": "display_data"
    }
   ],
   "execution_count": 16
  },
  {
   "cell_type": "code",
   "metadata": {
    "ExecuteTime": {
     "end_time": "2024-11-07T19:32:08.973443Z",
     "start_time": "2024-11-07T19:32:08.670750Z"
    }
   },
   "source": [
    "for i in range(len(sim.box.particles)):\n",
    "    plt.scatter(sim.box.particles[i].pos[0],sim.box.particles[i].pos[1])"
   ],
   "outputs": [
    {
     "data": {
      "text/plain": [
       "<Figure size 432x288 with 1 Axes>"
      ],
      "image/png": "[encoded data removed]"
     },
     "metadata": {
      "needs_background": "light"
     },
     "output_type": "display_data"
    }
   ],
   "execution_count": 17
  },
  {
   "cell_type": "code",
   "metadata": {
    "ExecuteTime": {
     "end_time": "2024-11-07T19:34:09.803394Z",
     "start_time": "2024-11-07T19:32:16.952687Z"
    }
   },
   "source": [
    "sim.run('lennard-jones')\n",
    "#sim.run()"
   ],
   "outputs": [],
   "execution_count": 18
  },
  {
   "cell_type": "code",
   "metadata": {
    "ExecuteTime": {
     "end_time": "2024-11-07T19:35:54.964901Z",
     "start_time": "2024-11-07T19:35:54.826975Z"
    }
   },
   "source": "sim.show_traj()",
   "outputs": [
    {
     "data": {
      "text/plain": [
       "<Figure size 432x288 with 1 Axes>"
      ],
      "image/png": "[encoded data removed]"
     },
     "metadata": {
      "needs_background": "light"
     },
     "output_type": "display_data"
    }
   ],
   "execution_count": 22
  },
  {
   "cell_type": "code",
   "execution_count": 40,
   "metadata": {},
   "outputs": [],
   "source": [
    "#sim.animation(True)"
   ]
  },
  {
   "cell_type": "code",
   "metadata": {
    "ExecuteTime": {
     "end_time": "2024-11-07T19:36:00.100710Z",
     "start_time": "2024-11-07T19:35:59.924576Z"
    }
   },
   "source": [
    "sim.plot_energies()"
   ],
   "outputs": [
    {
     "data": {
      "text/plain": [
       "<Figure size 1152x648 with 1 Axes>"
      ],
      "image/png": "[encoded data removed]"
     },
     "metadata": {
      "needs_background": "light"
     },
     "output_type": "display_data"
    }
   ],
   "execution_count": 23
  },
  {
   "metadata": {},
   "cell_type": "code",
   "outputs": [],
   "execution_count": null,
   "source": ""
  }
 ],
 "metadata": {
  "kernelspec": {
   "display_name": ".venv",
   "language": "python",
   "name": "python3"
  },
  "language_info": {
   "codemirror_mode": {
    "name": "ipython",
    "version": 3
   },
   "file_extension": ".py",
   "mimetype": "text/x-python",
   "name": "python",
   "nbconvert_exporter": "python",
   "pygments_lexer": "ipython3",
   "version": "3.12.7"
  }
 },
 "nbformat": 4,
 "nbformat_minor": 2
}
