{
 "cells": [
  {
   "cell_type": "markdown",
   "metadata": {},
   "source": [
    "**Week 8: Monte Carlo on 2D Ising model phase transition**\n",
    "\n",
    "Jannek Schaffert, Frédéric Sonak\n",
    "\n",
    "This markdown was created with the assistance of ChatGPT, focusing on grammar, spelling, and readability.\n",
    "\n",
    "**Background**\n",
    "\n",
    "In this exercise, we implement a Monte Carlo (MC) simulation using the Metropolis algorithm to model a phase transition of the 2D Ising Model. The aforementioned model utilised the Hamiltonian\n",
    "\n",
    "$\n",
    "H = -\\frac{1}{2} J \\sum_{i<j}\\ S_i\\  S_j\n",
    "$\n",
    "with the Spins $S \\pm 1$ and the coupling strength J\n"
   ]
  },
  {
   "cell_type": "code",
   "metadata": {
    "ExecuteTime": {
     "end_time": "2024-12-11T23:32:58.770749Z",
     "start_time": "2024-12-11T23:32:58.744586Z"
    }
   },
   "source": [
    "# Importing all utilised libraries\n",
    "\n",
    "import matplotlib.pyplot as plt\n",
    "from matplotlib import animation, rc\n",
    "from IPython.display import HTML\n",
    "from tqdm import tqdm  # Import tqdm for progress visualisation\n",
    "import time\n",
    "\n",
    "from numba import njit\n",
    "\n",
    "import copy\n",
    "import numpy as np\n",
    "import scipy as scy"
   ],
   "outputs": [],
   "execution_count": 15
  },
  {
   "metadata": {
    "ExecuteTime": {
     "end_time": "2024-12-11T23:52:44.962786Z",
     "start_time": "2024-12-11T23:52:44.954922Z"
    }
   },
   "cell_type": "code",
   "source": [
    "\n",
    "# \"fancy\" visualisation of the spins as arrows\n",
    "\n",
    "\n",
    "def plot_spin_configuration_with_arrows(grid):\n",
    "    \"\"\"\n",
    "    Plots a 2D array of spins as small vector arrows pointing up (blue) or down (red).\n",
    "    \"\"\"\n",
    "    N = grid.shape[0]  # Grid size\n",
    "\n",
    "    # Create a grid of coordinates for plotting\n",
    "    x, y = np.meshgrid(np.arange(N), np.arange(N))\n",
    "\n",
    "    # Define arrow properties\n",
    "    u = np.zeros_like(grid)  # No horizontal component\n",
    "    v = grid  # Vertical component represents the spin direction (+1 or -1)\n",
    "\n",
    "    # Split into spins pointing up and down\n",
    "    up_mask = grid > 0\n",
    "    down_mask = grid < 0\n",
    "\n",
    "    # Plot arrows\n",
    "    plt.figure(figsize=(8, 8))\n",
    "    plt.quiver(x[up_mask], y[up_mask], u[up_mask], v[up_mask],\n",
    "               angles='xy', scale_units='xy', scale=1.5, color='blue', pivot='middle', label='Spin Up')\n",
    "    plt.quiver(x[down_mask], y[down_mask], u[down_mask], v[down_mask],\n",
    "               angles='xy', scale_units='xy', scale=1.5, color='red', pivot='middle', label='Spin Down')\n",
    "\n",
    "    plt.xlim(-0.5, N - 0.5)\n",
    "    plt.ylim(-0.5, N - 0.5)\n",
    "    plt.gca().set_aspect('equal')\n",
    "    plt.title(\"Spin Configuration\")\n",
    "    plt.xlabel(\"x\")\n",
    "    plt.ylabel(\"y\")\n",
    "    plt.grid(False)\n",
    "    plt.xticks(range(N))\n",
    "    plt.yticks(range(N))\n",
    "    plt.legend(loc=\"upper right\")\n",
    "    plt.show()\n",
    "\n",
    "# Example grid for demonstration\n",
    "# example_grid = np.random.choice([-1, 1], size=(8, 8))\n",
    "# plot_spin_configuration_with_arrows(example_grid)"
   ],
   "outputs": [],
   "execution_count": 4
  },
  {
   "metadata": {},
   "cell_type": "markdown",
   "source": [
    "**Task I: Implementation and simulation**\n",
    "\n",
    "First an energy calculation based on the Ising hamiltonian from above with periodic boundary conditions is implemented. J is set to 1J/mo and N to 16. Temperature Range with 50 Points between 0.18K and 0.4 K is used."
   ]
  },
  {
   "metadata": {
    "ExecuteTime": {
     "end_time": "2024-12-11T23:52:47.967884Z",
     "start_time": "2024-12-11T23:52:47.960684Z"
    }
   },
   "cell_type": "code",
   "source": [
    "# initialise 2D grid of spins only\n",
    "\n",
    "number_of_particles = 16\n",
    "\n",
    "particles = np.random.choice([-1,1], size=(number_of_particles//2,number_of_particles//2))\n",
    "\n",
    "def calculate_ising_energy(grid, J):\n",
    "    energy = 0\n",
    "    for i in range(number_of_particles):\n",
    "        for j in range(number_of_particles):\n",
    "            # Interaction with right and bottom neighbors (periodic boundary conditions)\n",
    "            energy -= J * grid[i, j] * (grid[i, (j+1) % number_of_particles] + grid[(i+1) % number_of_particles, j])\n",
    "    return energy\n",
    "\n"
   ],
   "outputs": [],
   "execution_count": 5
  },
  {
   "metadata": {
    "ExecuteTime": {
     "end_time": "2024-12-12T00:09:41.364998Z",
     "start_time": "2024-12-12T00:09:32.000274Z"
    }
   },
   "cell_type": "code",
   "source": [
    "import numpy as np\n",
    "import matplotlib.pyplot as plt\n",
    "from tqdm import tqdm\n",
    "\n",
    "def monte_carlo_ising(N, steps, temperature, J, record_interval,plot_spins_as_arrows = False, return_everything = False, verbose=True):\n",
    "    \"\"\"\n",
    "    Monte Carlo Simulation for the 2D Ising model using the Metropolis algorithm.\n",
    "    \"\"\"\n",
    "    # Initialize grid of spins (-1 or +1)\n",
    "    grid = np.random.choice([-1, 1], size=(N, N))\n",
    "\n",
    "    if verbose:\n",
    "        # Visualization of the initial spin configuration\n",
    "        if plot_spins_as_arrows == True:\n",
    "            plot_spin_configuration_with_arrows(grid)\n",
    "        else:\n",
    "            plt.imshow(grid, cmap='coolwarm', interpolation='none')\n",
    "        plt.colorbar(label='Spin')\n",
    "        plt.title('Initial Spin Configuration')\n",
    "        plt.show()\n",
    "\n",
    "    # Initialize arrays for recording trajectory and observables\n",
    "    traj = np.zeros((steps // record_interval, N, N))\n",
    "    energies = np.zeros(steps)\n",
    "    magnetisations = np.zeros(steps)\n",
    "\n",
    "    # Boltzmann constant\n",
    "    #TODO: add correct value\n",
    "    k_B = 1.0\n",
    "\n",
    "    def calculate_ising_energy(grid):\n",
    "        \"\"\"\n",
    "        Calculate the total energy of the system using the Ising Hamiltonian.\n",
    "        \"\"\"\n",
    "        energy = 0\n",
    "        for i in range(N):\n",
    "            for j in range(N):\n",
    "                # Add interaction with right and bottom neighbors (periodic boundary conditions)\n",
    "                energy -= J * grid[i, j] * (grid[i, (j+1) % N] + grid[(i+1) % N, j])\n",
    "        return energy\n",
    "\n",
    "    # Initialize energy and magnetisation\n",
    "    E = calculate_ising_energy(grid)\n",
    "    M = np.sum(grid)\n",
    "\n",
    "    for step in tqdm(range(steps), desc=\"Monte Carlo Progress\"):\n",
    "        # Pick a random spin\n",
    "        i, j = np.random.randint(0, N, size=2)\n",
    "\n",
    "        # Calculate ΔH for flipping spin at (i, j)\n",
    "        delta_H = 2 * J * grid[i, j] * (\n",
    "            grid[i, (j+1) % N] + grid[i, (j-1) % N] +\n",
    "            grid[(i+1) % N, j] + grid[(i-1) % N, j]\n",
    "        )\n",
    "\n",
    "        # Metropolis acceptance criterion\n",
    "        if delta_H <= 0 or np.random.rand() < np.exp(-delta_H / (k_B * temperature)):\n",
    "            grid[i, j] *= -1  # Flip the spin\n",
    "            E += delta_H\n",
    "            M += 2 * grid[i, j]  # Update magnetisation\n",
    "\n",
    "        # Record observables\n",
    "        energies[step] = E\n",
    "        magnetisations[step] = abs(M) / (N * N)\n",
    "\n",
    "        # Save spin configuration periodically\n",
    "        if step % record_interval == 0:\n",
    "            traj[step // record_interval] = grid.copy()\n",
    "\n",
    "    average_energy = np.average(energies)\n",
    "    average_magnetisation = np.sqrt((np.average(magnetisations)**2))\n",
    "\n",
    "    if verbose:\n",
    "\n",
    "        print(f'Average Energy = {average_energy:.2f}')\n",
    "        print(f'Average Magnetisation = {average_magnetisation:.2f}')\n",
    "        # Visualization of the final spin configuration\n",
    "        if plot_spins_as_arrows == True:\n",
    "            plot_spin_configuration_with_arrows(grid)\n",
    "        else:\n",
    "\n",
    "            plt.imshow(grid, cmap='coolwarm', interpolation='none')\n",
    "        plt.colorbar(label='Spin')\n",
    "        plt.title('Final Spin Configuration')\n",
    "        plt.show()\n",
    "\n",
    "    if return_everything:\n",
    "        return traj, energies, magnetisations, average_energy, average_magnetisation\n",
    "    else:\n",
    "        return average_energy, average_magnetisation\n",
    "\n",
    "# Parameters\n",
    "N = 16  # Grid size\n",
    "steps = 10000  # Number of Monte Carlo steps\n",
    "temperature = 2.5  # Temperature (in k_B units)\n",
    "J = 1.0  # Coupling strength\n",
    "record_interval = 100  # Interval for recording trajectory\n",
    "\n",
    "\n",
    "\n",
    "# Run the simulation for one tmeperature\n",
    "# traj, energies, magnetisations, average_energy, average_magnetisation = monte_carlo_ising(N, steps, temperature, J, record_interval)\n",
    "\n",
    "\n",
    "# Run simulation for different temperatures\n",
    "\n",
    "# initialise energies and magnetisations array\n",
    "_list_of_average_energies = np.zeros(50)\n",
    "list_of_average_magnetisations = np.zeros(50)\n",
    "\n",
    "temperature_range = np.linspace(0.18, 4.0, 50)\n",
    "\n",
    "for temperature in temperature_range:\n",
    "    counter = 0\n",
    "    print(f'calculating MC for temperature = {temperature:.2f}')\n",
    "    list_of_average_magnetisations[counter], list_of_average_magnetisations[counter] = monte_carlo_ising(N, steps, temperature, J, record_interval, False, False, False)\n",
    "    counter += 1\n"
   ],
   "outputs": [
    {
     "name": "stderr",
     "output_type": "stream",
     "text": [
      "Monte Carlo Progress: 100%|██████████| 10000/10000 [00:00<00:00, 50634.20it/s]"
     ]
    },
    {
     "name": "stdout",
     "output_type": "stream",
     "text": [
      "calculating MC for temperature = 0.18\n",
      "calculating MC for temperature = 0.26\n"
     ]
    },
    {
     "name": "stderr",
     "output_type": "stream",
     "text": [
      "\n",
      "Monte Carlo Progress: 100%|██████████| 10000/10000 [00:00<00:00, 52543.87it/s]\n",
      "Monte Carlo Progress: 100%|██████████| 10000/10000 [00:00<00:00, 53805.69it/s]\n",
      "Monte Carlo Progress:   0%|          | 0/10000 [00:00<?, ?it/s]"
     ]
    },
    {
     "name": "stdout",
     "output_type": "stream",
     "text": [
      "calculating MC for temperature = 0.34\n",
      "calculating MC for temperature = 0.41\n"
     ]
    },
    {
     "name": "stderr",
     "output_type": "stream",
     "text": [
      "Monte Carlo Progress: 100%|██████████| 10000/10000 [00:00<00:00, 58615.28it/s]\n",
      "Monte Carlo Progress: 100%|██████████| 10000/10000 [00:00<00:00, 54220.45it/s]\n",
      "Monte Carlo Progress:   0%|          | 0/10000 [00:00<?, ?it/s]"
     ]
    },
    {
     "name": "stdout",
     "output_type": "stream",
     "text": [
      "calculating MC for temperature = 0.49\n",
      "calculating MC for temperature = 0.57\n"
     ]
    },
    {
     "name": "stderr",
     "output_type": "stream",
     "text": [
      "Monte Carlo Progress: 100%|██████████| 10000/10000 [00:00<00:00, 54098.48it/s]\n",
      "Monte Carlo Progress: 100%|██████████| 10000/10000 [00:00<00:00, 54751.64it/s]\n",
      "Monte Carlo Progress:   0%|          | 0/10000 [00:00<?, ?it/s]"
     ]
    },
    {
     "name": "stdout",
     "output_type": "stream",
     "text": [
      "calculating MC for temperature = 0.65\n",
      "calculating MC for temperature = 0.73\n"
     ]
    },
    {
     "name": "stderr",
     "output_type": "stream",
     "text": [
      "Monte Carlo Progress: 100%|██████████| 10000/10000 [00:00<00:00, 56401.59it/s]\n",
      "Monte Carlo Progress: 100%|██████████| 10000/10000 [00:00<00:00, 56045.93it/s]\n",
      "Monte Carlo Progress:   0%|          | 0/10000 [00:00<?, ?it/s]"
     ]
    },
    {
     "name": "stdout",
     "output_type": "stream",
     "text": [
      "calculating MC for temperature = 0.80\n",
      "calculating MC for temperature = 0.88\n"
     ]
    },
    {
     "name": "stderr",
     "output_type": "stream",
     "text": [
      "Monte Carlo Progress: 100%|██████████| 10000/10000 [00:00<00:00, 54263.80it/s]\n",
      "Monte Carlo Progress: 100%|██████████| 10000/10000 [00:00<00:00, 55146.27it/s]\n",
      "Monte Carlo Progress:   0%|          | 0/10000 [00:00<?, ?it/s]"
     ]
    },
    {
     "name": "stdout",
     "output_type": "stream",
     "text": [
      "calculating MC for temperature = 0.96\n",
      "calculating MC for temperature = 1.04\n"
     ]
    },
    {
     "name": "stderr",
     "output_type": "stream",
     "text": [
      "Monte Carlo Progress: 100%|██████████| 10000/10000 [00:00<00:00, 55214.80it/s]\n",
      "Monte Carlo Progress: 100%|██████████| 10000/10000 [00:00<00:00, 56072.08it/s]\n",
      "Monte Carlo Progress:   0%|          | 0/10000 [00:00<?, ?it/s]"
     ]
    },
    {
     "name": "stdout",
     "output_type": "stream",
     "text": [
      "calculating MC for temperature = 1.12\n",
      "calculating MC for temperature = 1.19\n"
     ]
    },
    {
     "name": "stderr",
     "output_type": "stream",
     "text": [
      "Monte Carlo Progress: 100%|██████████| 10000/10000 [00:00<00:00, 53350.16it/s]\n",
      "Monte Carlo Progress: 100%|██████████| 10000/10000 [00:00<00:00, 51823.63it/s]\n",
      "Monte Carlo Progress:   0%|          | 0/10000 [00:00<?, ?it/s]"
     ]
    },
    {
     "name": "stdout",
     "output_type": "stream",
     "text": [
      "calculating MC for temperature = 1.27\n",
      "calculating MC for temperature = 1.35\n"
     ]
    },
    {
     "name": "stderr",
     "output_type": "stream",
     "text": [
      "Monte Carlo Progress: 100%|██████████| 10000/10000 [00:00<00:00, 50936.74it/s]\n",
      "Monte Carlo Progress: 100%|██████████| 10000/10000 [00:00<00:00, 52370.80it/s]\n",
      "Monte Carlo Progress:   0%|          | 0/10000 [00:00<?, ?it/s]"
     ]
    },
    {
     "name": "stdout",
     "output_type": "stream",
     "text": [
      "calculating MC for temperature = 1.43\n",
      "calculating MC for temperature = 1.51\n"
     ]
    },
    {
     "name": "stderr",
     "output_type": "stream",
     "text": [
      "Monte Carlo Progress: 100%|██████████| 10000/10000 [00:00<00:00, 50918.00it/s]\n",
      "Monte Carlo Progress: 100%|██████████| 10000/10000 [00:00<00:00, 53411.98it/s]\n",
      "Monte Carlo Progress:   0%|          | 0/10000 [00:00<?, ?it/s]"
     ]
    },
    {
     "name": "stdout",
     "output_type": "stream",
     "text": [
      "calculating MC for temperature = 1.58\n",
      "calculating MC for temperature = 1.66\n"
     ]
    },
    {
     "name": "stderr",
     "output_type": "stream",
     "text": [
      "Monte Carlo Progress: 100%|██████████| 10000/10000 [00:00<00:00, 52998.13it/s]\n",
      "Monte Carlo Progress: 100%|██████████| 10000/10000 [00:00<00:00, 54167.09it/s]\n",
      "Monte Carlo Progress:   0%|          | 0/10000 [00:00<?, ?it/s]"
     ]
    },
    {
     "name": "stdout",
     "output_type": "stream",
     "text": [
      "calculating MC for temperature = 1.74\n",
      "calculating MC for temperature = 1.82\n"
     ]
    },
    {
     "name": "stderr",
     "output_type": "stream",
     "text": [
      "Monte Carlo Progress: 100%|██████████| 10000/10000 [00:00<00:00, 50760.06it/s]\n",
      "Monte Carlo Progress: 100%|██████████| 10000/10000 [00:00<00:00, 57100.71it/s]\n",
      "Monte Carlo Progress:   0%|          | 0/10000 [00:00<?, ?it/s]"
     ]
    },
    {
     "name": "stdout",
     "output_type": "stream",
     "text": [
      "calculating MC for temperature = 1.90\n",
      "calculating MC for temperature = 1.97\n"
     ]
    },
    {
     "name": "stderr",
     "output_type": "stream",
     "text": [
      "Monte Carlo Progress: 100%|██████████| 10000/10000 [00:00<00:00, 53004.90it/s]\n",
      "Monte Carlo Progress: 100%|██████████| 10000/10000 [00:00<00:00, 55204.99it/s]\n",
      "Monte Carlo Progress:   0%|          | 0/10000 [00:00<?, ?it/s]"
     ]
    },
    {
     "name": "stdout",
     "output_type": "stream",
     "text": [
      "calculating MC for temperature = 2.05\n",
      "calculating MC for temperature = 2.13\n"
     ]
    },
    {
     "name": "stderr",
     "output_type": "stream",
     "text": [
      "Monte Carlo Progress: 100%|██████████| 10000/10000 [00:00<00:00, 53612.70it/s]\n",
      "Monte Carlo Progress: 100%|██████████| 10000/10000 [00:00<00:00, 52851.95it/s]\n",
      "Monte Carlo Progress:   0%|          | 0/10000 [00:00<?, ?it/s]"
     ]
    },
    {
     "name": "stdout",
     "output_type": "stream",
     "text": [
      "calculating MC for temperature = 2.21\n",
      "calculating MC for temperature = 2.28\n"
     ]
    },
    {
     "name": "stderr",
     "output_type": "stream",
     "text": [
      "Monte Carlo Progress: 100%|██████████| 10000/10000 [00:00<00:00, 52723.46it/s]\n",
      "Monte Carlo Progress: 100%|██████████| 10000/10000 [00:00<00:00, 52444.47it/s]\n",
      "Monte Carlo Progress:   0%|          | 0/10000 [00:00<?, ?it/s]"
     ]
    },
    {
     "name": "stdout",
     "output_type": "stream",
     "text": [
      "calculating MC for temperature = 2.36\n",
      "calculating MC for temperature = 2.44\n"
     ]
    },
    {
     "name": "stderr",
     "output_type": "stream",
     "text": [
      "Monte Carlo Progress: 100%|██████████| 10000/10000 [00:00<00:00, 53304.87it/s]\n",
      "Monte Carlo Progress: 100%|██████████| 10000/10000 [00:00<00:00, 57316.77it/s]\n",
      "Monte Carlo Progress:   0%|          | 0/10000 [00:00<?, ?it/s]"
     ]
    },
    {
     "name": "stdout",
     "output_type": "stream",
     "text": [
      "calculating MC for temperature = 2.52\n",
      "calculating MC for temperature = 2.60\n"
     ]
    },
    {
     "name": "stderr",
     "output_type": "stream",
     "text": [
      "Monte Carlo Progress: 100%|██████████| 10000/10000 [00:00<00:00, 56499.44it/s]\n",
      "Monte Carlo Progress: 100%|██████████| 10000/10000 [00:00<00:00, 59271.13it/s]\n",
      "Monte Carlo Progress:   0%|          | 0/10000 [00:00<?, ?it/s]"
     ]
    },
    {
     "name": "stdout",
     "output_type": "stream",
     "text": [
      "calculating MC for temperature = 2.67\n",
      "calculating MC for temperature = 2.75\n"
     ]
    },
    {
     "name": "stderr",
     "output_type": "stream",
     "text": [
      "Monte Carlo Progress: 100%|██████████| 10000/10000 [00:00<00:00, 52100.44it/s]\n",
      "Monte Carlo Progress: 100%|██████████| 10000/10000 [00:00<00:00, 51901.93it/s]\n",
      "Monte Carlo Progress:   0%|          | 0/10000 [00:00<?, ?it/s]"
     ]
    },
    {
     "name": "stdout",
     "output_type": "stream",
     "text": [
      "calculating MC for temperature = 2.83\n",
      "calculating MC for temperature = 2.91\n"
     ]
    },
    {
     "name": "stderr",
     "output_type": "stream",
     "text": [
      "Monte Carlo Progress: 100%|██████████| 10000/10000 [00:00<00:00, 53108.99it/s]\n",
      "Monte Carlo Progress: 100%|██████████| 10000/10000 [00:00<00:00, 55929.94it/s]\n",
      "Monte Carlo Progress:   0%|          | 0/10000 [00:00<?, ?it/s]"
     ]
    },
    {
     "name": "stdout",
     "output_type": "stream",
     "text": [
      "calculating MC for temperature = 2.99\n",
      "calculating MC for temperature = 3.06\n"
     ]
    },
    {
     "name": "stderr",
     "output_type": "stream",
     "text": [
      "Monte Carlo Progress: 100%|██████████| 10000/10000 [00:00<00:00, 53026.21it/s]\n",
      "Monte Carlo Progress: 100%|██████████| 10000/10000 [00:00<00:00, 54372.06it/s]\n",
      "Monte Carlo Progress:   0%|          | 0/10000 [00:00<?, ?it/s]"
     ]
    },
    {
     "name": "stdout",
     "output_type": "stream",
     "text": [
      "calculating MC for temperature = 3.14\n",
      "calculating MC for temperature = 3.22\n"
     ]
    },
    {
     "name": "stderr",
     "output_type": "stream",
     "text": [
      "Monte Carlo Progress: 100%|██████████| 10000/10000 [00:00<00:00, 51854.25it/s]\n",
      "Monte Carlo Progress: 100%|██████████| 10000/10000 [00:00<00:00, 52824.46it/s]\n",
      "Monte Carlo Progress:   0%|          | 0/10000 [00:00<?, ?it/s]"
     ]
    },
    {
     "name": "stdout",
     "output_type": "stream",
     "text": [
      "calculating MC for temperature = 3.30\n",
      "calculating MC for temperature = 3.38\n"
     ]
    },
    {
     "name": "stderr",
     "output_type": "stream",
     "text": [
      "Monte Carlo Progress: 100%|██████████| 10000/10000 [00:00<00:00, 55522.88it/s]\n",
      "Monte Carlo Progress: 100%|██████████| 10000/10000 [00:00<00:00, 57312.55it/s]\n",
      "Monte Carlo Progress:   0%|          | 0/10000 [00:00<?, ?it/s]"
     ]
    },
    {
     "name": "stdout",
     "output_type": "stream",
     "text": [
      "calculating MC for temperature = 3.45\n",
      "calculating MC for temperature = 3.53\n"
     ]
    },
    {
     "name": "stderr",
     "output_type": "stream",
     "text": [
      "Monte Carlo Progress: 100%|██████████| 10000/10000 [00:00<00:00, 55000.34it/s]\n",
      "Monte Carlo Progress: 100%|██████████| 10000/10000 [00:00<00:00, 57384.84it/s]\n",
      "Monte Carlo Progress:   0%|          | 0/10000 [00:00<?, ?it/s]"
     ]
    },
    {
     "name": "stdout",
     "output_type": "stream",
     "text": [
      "calculating MC for temperature = 3.61\n",
      "calculating MC for temperature = 3.69\n"
     ]
    },
    {
     "name": "stderr",
     "output_type": "stream",
     "text": [
      "Monte Carlo Progress: 100%|██████████| 10000/10000 [00:00<00:00, 51420.45it/s]\n",
      "Monte Carlo Progress: 100%|██████████| 10000/10000 [00:00<00:00, 51972.10it/s]\n",
      "Monte Carlo Progress:   0%|          | 0/10000 [00:00<?, ?it/s]"
     ]
    },
    {
     "name": "stdout",
     "output_type": "stream",
     "text": [
      "calculating MC for temperature = 3.77\n",
      "calculating MC for temperature = 3.84\n"
     ]
    },
    {
     "name": "stderr",
     "output_type": "stream",
     "text": [
      "Monte Carlo Progress: 100%|██████████| 10000/10000 [00:00<00:00, 53471.43it/s]\n",
      "Monte Carlo Progress: 100%|██████████| 10000/10000 [00:00<00:00, 52874.00it/s]\n",
      "Monte Carlo Progress:   0%|          | 0/10000 [00:00<?, ?it/s]"
     ]
    },
    {
     "name": "stdout",
     "output_type": "stream",
     "text": [
      "calculating MC for temperature = 3.92\n",
      "calculating MC for temperature = 4.00\n"
     ]
    },
    {
     "name": "stderr",
     "output_type": "stream",
     "text": [
      "Monte Carlo Progress: 100%|██████████| 10000/10000 [00:00<00:00, 54749.78it/s]\n"
     ]
    }
   ],
   "execution_count": 21
  },
  {
   "metadata": {
    "ExecuteTime": {
     "end_time": "2024-12-12T00:10:12.202062Z",
     "start_time": "2024-12-12T00:10:12.101734Z"
    }
   },
   "cell_type": "code",
   "source": "plt.plot(temperature_range, list_of_average_magnetisations)",
   "outputs": [
    {
     "data": {
      "text/plain": [
       "[<matplotlib.lines.Line2D at 0x7fab48a07160>]"
      ]
     },
     "execution_count": 23,
     "metadata": {},
     "output_type": "execute_result"
    },
    {
     "data": {
      "text/plain": [
       "<Figure size 432x288 with 1 Axes>"
      ],
      "image/png": "[encoded data removed]"
     },
     "metadata": {
      "needs_background": "light"
     },
     "output_type": "display_data"
    }
   ],
   "execution_count": 23
  },
  {
   "metadata": {
    "ExecuteTime": {
     "end_time": "2024-12-11T23:50:03.945673Z",
     "start_time": "2024-12-11T23:50:03.707932Z"
    }
   },
   "cell_type": "code",
   "outputs": [
    {
     "data": {
      "text/plain": [
       "<Figure size 432x288 with 1 Axes>"
      ],
      "image/png": "[encoded data removed]"
     },
     "metadata": {
      "needs_background": "light"
     },
     "output_type": "display_data"
    },
    {
     "data": {
      "text/plain": [
       "<Figure size 432x288 with 1 Axes>"
      ],
      "image/png": "[encoded data removed]"
     },
     "metadata": {
      "needs_background": "light"
     },
     "output_type": "display_data"
    }
   ],
   "execution_count": 2,
   "source": [
    "# Plot energy and magnetisation over time\n",
    "plt.figure()\n",
    "plt.plot(energies, label='Energy per Spin')\n",
    "plt.xlabel('Step')\n",
    "plt.ylabel('Energy')\n",
    "plt.title('Energy per Step')\n",
    "plt.legend()\n",
    "plt.show()\n",
    "\n",
    "plt.figure()\n",
    "plt.plot(magnetisations, label='magnetisation')\n",
    "plt.xlabel('Step')\n",
    "plt.ylabel('magnetisation')\n",
    "plt.title('magnetisation per Step')\n",
    "plt.legend()\n",
    "plt.show()"
   ]
  },
  {
   "metadata": {
    "ExecuteTime": {
     "end_time": "2024-12-09T23:31:11.649014Z",
     "start_time": "2024-12-09T23:31:11.646264Z"
    }
   },
   "cell_type": "code",
   "source": "",
   "outputs": [],
   "execution_count": null
  },
  {
   "metadata": {},
   "cell_type": "code",
   "outputs": [],
   "execution_count": null,
   "source": ""
  },
  {
   "cell_type": "code",
   "metadata": {
    "ExecuteTime": {
     "end_time": "2024-12-09T23:30:04.855806Z",
     "start_time": "2024-12-09T22:23:49.815965Z"
    }
   },
   "source": [
    "\n",
    "# Monte Carlo Simulation from last sheet\n",
    "def monte_carlo_simulation(particles, steps, step_shift, temperature, C12, C6, box_size, record_interval):\n",
    "    '''Monte-Carlo Simulation using Metropolis Algorithm with a Lennard-Jones Potential.'''\n",
    "\n",
    "\n",
    "# Helper function to calculate the potential energy\n",
    "    def calculate_potential_energy(particles, C12, C6, iu, box_size):\n",
    "\n",
    "        #first calculate distances\n",
    "        # Calculate distances in x-direction\n",
    "\n",
    "        # first calculate matrix upper triangle distances\n",
    "        d_raw = (particles[1, :, np.newaxis] - particles[np.newaxis, 1])[iu]\n",
    "\n",
    "        # take into account periodic boundaries\n",
    "        dx = np.where(np.abs(d_raw) > box_size * 0.5, d_raw - box_size * np.sign(d_raw), d_raw)\n",
    "\n",
    "\n",
    "        # Calculate distances in y-direction\n",
    "        d_raw = (particles[2, :, np.newaxis] - particles[np.newaxis, 2])[iu]\n",
    "        dy = np.where(np.abs(d_raw) > box_size * 0.5, d_raw - box_size * np.sign(d_raw), d_raw)\n",
    "\n",
    "        # Total distances\n",
    "        # r = np.sqrt(dx**2 + dy**2)\n",
    "        # r6 = r**6\n",
    "        # for faster calculation don't calculate the square root but use r squared\n",
    "\n",
    "        r = dx**2 + dy**2\n",
    "        r6 = r**3\n",
    "\n",
    "        # Return potential energy\n",
    "        return np.sum(C12 / r6**2 - C6 / r6)\n",
    "\n",
    "\n",
    "    start_time = time.time()  # Start timing the simulation\n",
    "\n",
    "    N = particles.shape[1]\n",
    "    R = 8.314462  # Gas constant\n",
    "    c = 1 / (R * temperature)\n",
    "\n",
    "    # initialise Arrays for storing trajectory and energy\n",
    "\n",
    "    # Trajectory storage at defined intervals\n",
    "    traj = np.ones((steps // record_interval, 2, N))\n",
    "    # Potential energy storage\n",
    "    energ_pot = np.ones(steps)\n",
    "\n",
    "    # to access the upper triangle of the matrix\n",
    "    # 1 excludes diagonal elements\n",
    "    iu = np.triu_indices(N, 1)\n",
    "\n",
    "    E_old = calculate_potential_energy(particles, C12, C6, iu, box_size)\n",
    "    energ_pot[0] = E_old\n",
    "    traj[0] = particles[[1, 2]]\n",
    "\n",
    "    for step in tqdm(range(1, steps), desc=\"Monte Carlo Progress\"):\n",
    "        for i in range(N):\n",
    "            # Save old positions\n",
    "            pos_old = particles[1:3, i].copy()\n",
    "\n",
    "            # Apply random displacement\n",
    "            angles = np.random.uniform(0, 2 * np.pi)\n",
    "            displacement = np.array([np.cos(angles), np.sin(angles)]) * step_shift\n",
    "            particles[1:3, i] = (particles[1:3, i] + displacement) % box_size\n",
    "\n",
    "            # Calculate new energy\n",
    "            E_new = calculate_potential_energy(particles, C12, C6, iu, box_size)\n",
    "\n",
    "            # Metropolis acceptance\n",
    "            if (E_new < E_old) or (np.random.rand() < np.exp((E_old - E_new) * c)):\n",
    "                E_old = E_new  # Accept move\n",
    "            else:\n",
    "                particles[1:3, i] = pos_old  # Revert move\n",
    "\n",
    "        if step % record_interval == 0:\n",
    "            traj[step // record_interval] = particles[[1, 2]]\n",
    "        energ_pot[step] = E_old\n",
    "\n",
    "    end_time = time.time()  # End timing the simulation\n",
    "    runtime = end_time - start_time  # Calculate runtime\n",
    "    print(f\"MC Simulation completed in {runtime:.2f} seconds.\")\n",
    "\n",
    "    return energ_pot / N, traj\n",
    "\n"
   ],
   "outputs": [],
   "execution_count": 3
  },
  {
   "cell_type": "markdown",
   "metadata": {},
   "source": [
    "**Task 2: Simulation**\n",
    "\n",
    "In this task, a 2D simulation box of size  $5 \\, \\text{nm} \\times 5 \\, \\text{nm}$  is created with periodic boundary conditions (PBC). The simulation models $49$ particles interacting via the Lennard-Jones potential, with the following parameters:\n",
    "\t•\t $C_{12} = 9.847044 \\times 10^{-6} \\, \\text{kJ/mol} \\, \\text{nm}^{12}$\n",
    "\t•\t $C_{6} = 6.2647225 \\times 10^{-3} \\, \\text{kJ/mol} \\, \\text{nm}^6$\n",
    "\n",
    "The system is initialized at $293.15 K$, and $100,000$ single-particle moves are performed following the Monte Carlo (MC) algorithm. During the simulation, the potential energy of the system is calculated and used to evaluate the acceptance of particle moves.\n",
    "\n",
    "Warning: MC simulations can be computationally intensive, especially with a large number of steps. If the simulation takes too long, reduce the number of steps (e.g., 2,000 steps) to test the setup before running the full simulation.\n",
    "\n"
   ]
  },
  {
   "metadata": {
    "ExecuteTime": {
     "end_time": "2024-12-09T23:31:51.352055Z",
     "start_time": "2024-12-09T23:31:51.341707Z"
    }
   },
   "cell_type": "code",
   "source": [
    "# Parameters for the simulation\n",
    "box_size = 5.0  # Box size in nm\n",
    "N_particles = 16  # Number of particles\n",
    "\n",
    "temperature_range = np.linspace(0.18, 0.4, 50)\n"
   ],
   "outputs": [],
   "execution_count": 7
  },
  {
   "metadata": {},
   "cell_type": "code",
   "outputs": [],
   "execution_count": null,
   "source": ""
  },
  {
   "metadata": {},
   "cell_type": "code",
   "outputs": [],
   "execution_count": null,
   "source": ""
  },
  {
   "metadata": {},
   "cell_type": "code",
   "outputs": [],
   "execution_count": null,
   "source": ""
  },
  {
   "metadata": {
    "ExecuteTime": {
     "end_time": "2024-12-09T23:30:04.863024Z",
     "start_time": "2024-12-06T08:42:30.605256Z"
    }
   },
   "cell_type": "code",
   "outputs": [],
   "execution_count": 3,
   "source": [
    "# Parameters for the simulation\n",
    "box_size = 5.0  # Box size in nm\n",
    "N_particles = 16  # Number of particles\n",
    "\n",
    "temperature_range = np.linspace(0.18, 0.4, 50)\n",
    "\n",
    "C12 = 9.847044e-3  # Lennard-Jones constant for repulsion kg, nm, ns\n",
    "C6 = 6.2647225  # Lennard-Jones constant for attraction kg, nm, ns\n",
    "temperature = 293.15  # Temperature in K\n",
    "step_shift = 0.01  # Random displacement step size in nm\n",
    "steps = 100000  # Total Monte Carlo steps\n",
    "record_interval = 20  # Save trajectory every 20 steps\n",
    "\n",
    "# manually placing particles on a evenly spaced grid\n",
    "# Initialize particle positions (regular grid)\n",
    "particles = np.zeros((5, N_particles))  # Mass, x, y, vx, vy\n",
    "particles_with_spin = np.zeros((6, N_particles))  # Mass, x, y, vx, vy, spin\n",
    "\n",
    "# Create a regular grid within the box\n",
    "grid_size = int(np.sqrt(N_particles))  # Number of particles per row/column\n",
    "spacing = box_size / grid_size  # Spacing between particles\n",
    "\n",
    "# Assign positions\n",
    "x_coords = np.linspace(spacing / 2, box_size - spacing / 2, grid_size)\n",
    "y_coords = np.linspace(spacing / 2, box_size - spacing / 2, grid_size)\n",
    "x, y = np.meshgrid(x_coords, y_coords)\n",
    "\n",
    "# create a 1D array\n",
    "particles[1] = x.flatten()[:N_particles]  # x-coordinates\n",
    "particles[2] = y.flatten()[:N_particles]  # y-coordinates\n",
    "\n",
    "\n"
   ]
  },
  {
   "cell_type": "code",
   "execution_count": 4,
   "metadata": {
    "ExecuteTime": {
     "end_time": "2024-12-09T23:30:04.863185Z",
     "start_time": "2024-12-06T08:42:30.621935Z"
    }
   },
   "outputs": [
    {
     "name": "stderr",
     "output_type": "stream",
     "text": [
      "Monte Carlo Progress: 100%|██████████| 99999/99999 [07:20<00:00, 226.92it/s]"
     ]
    },
    {
     "name": "stdout",
     "output_type": "stream",
     "text": [
      "MC Simulation completed in 440.70 seconds.\n"
     ]
    },
    {
     "name": "stderr",
     "output_type": "stream",
     "text": [
      "\n"
     ]
    }
   ],
   "source": [
    "# Run the Monte Carlo simulation with the above parameters\n",
    "energ_pot_mc, traj_mc = monte_carlo_simulation(particles, steps, step_shift, temperature, C12, C6, box_size, record_interval)"
   ]
  },
  {
   "cell_type": "markdown",
   "metadata": {},
   "source": [
    "**Task 3: Potential energy analysis**\n",
    "\n",
    "We analysed the system’s potential energy during the Monte Carlo simulation:\n",
    "\n",
    "1. Potential Energy Over Steps:\n",
    "\n",
    "The potential energy of the system was plotted as a function of simulation steps. This allowed us to observe how the energy evolves and whether the system approaches equilibrium.\n",
    "\n",
    "2. Histogram of Equilibrated Potential Energies:\n",
    "\n",
    "We assumed that the system reaches equilibrium during the second half of the simulation, where fluctuations in potential energy become stable. Using this data, a histogram of potential energies was calculated to visualize the distribution of energies in the equilibrated state."
   ]
  },
  {
   "cell_type": "code",
   "execution_count": 5,
   "metadata": {
    "ExecuteTime": {
     "end_time": "2024-12-09T23:30:04.863919Z",
     "start_time": "2024-12-06T08:49:51.381474Z"
    }
   },
   "outputs": [
    {
     "data": {
      "image/png": "[encoded data removed]",
      "text/plain": [
       "<Figure size 576x360 with 1 Axes>"
      ]
     },
     "metadata": {
      "needs_background": "light"
     },
     "output_type": "display_data"
    }
   ],
   "source": [
    "# Plot the system’s potential energy over the number of steps\n",
    "plt.figure(figsize=(8, 5))\n",
    "plt.plot(range(steps), energ_pot_mc, label=\"Potential Energy MC\")\n",
    "plt.xlabel(\"Step\")\n",
    "plt.ylabel(\"Potential Energy (J/mol)\")\n",
    "plt.title(\"Potential Energy Over Time MC\")\n",
    "plt.legend()\n",
    "plt.show()\n"
   ]
  },
  {
   "cell_type": "markdown",
   "metadata": {},
   "source": [
    "The equilibrated part of the simulation is identified as the phase where the fluctuations in potential energy become \"stable\" (i.e. a converging constant mean), resulting in an almost horizontal trend in the potential energy plot. We assume that equilibrium is reached in the second half of the simulation. Therefore, the histogram of potential energies is calculated using data from the second half of the simulation steps."
   ]
  },
  {
   "cell_type": "code",
   "execution_count": 6,
   "metadata": {
    "ExecuteTime": {
     "end_time": "2024-12-09T23:30:04.864563Z",
     "start_time": "2024-12-06T08:49:51.634085Z"
    }
   },
   "outputs": [
    {
     "data": {
      "image/png": "[encoded data removed]",
      "text/plain": [
       "<Figure size 576x360 with 1 Axes>"
      ]
     },
     "metadata": {
      "needs_background": "light"
     },
     "output_type": "display_data"
    }
   ],
   "source": [
    "\n",
    "# Select the last 50% of the steps\n",
    "last_half_start_mc = len(energ_pot_mc) // 2\n",
    "last_half_energies_mc = energ_pot_mc[last_half_start_mc:]\n",
    "\n",
    "# Normalize potential energy per particle for the last half\n",
    "last_half_energies_per_particle_mc = last_half_energies_mc / particles.shape[1]\n",
    "# Divide by number of particles\n",
    "\n",
    "# Plot histogram\n",
    "plt.figure(figsize=(8, 5))\n",
    "plt.title(\"MC: Potential Energies MC (Last 50% of Steps)\")\n",
    "plt.hist(last_half_energies_per_particle_mc, bins=50, edgecolor='k', alpha=0.7, label=\"Histogram\")\n",
    "plt.xlabel(\"$E_{pot}$ per particle (J/mol)\")\n",
    "plt.ylabel(\"Number of occurrences\")\n",
    "plt.show()\n"
   ]
  },
  {
   "cell_type": "markdown",
   "metadata": {},
   "source": [
    "Does it look like a Boltzmann distribution? I would say yes :-)\n"
   ]
  },
  {
   "cell_type": "markdown",
   "metadata": {},
   "source": [
    "**Task IV: RDF and free energy comparison with MD**\n",
    "\n",
    "To compare the MC simulation with the MD simulation the MD simulation has to be rerun from previous excercises.\n",
    "\n"
   ]
  },
  {
   "cell_type": "code",
   "execution_count": null,
   "metadata": {
    "ExecuteTime": {
     "end_time": "2024-12-09T23:30:04.865129Z",
     "start_time": "2024-12-06T08:49:52.014043Z"
    }
   },
   "outputs": [],
   "source": []
  },
  {
   "cell_type": "code",
   "execution_count": 16,
   "metadata": {
    "ExecuteTime": {
     "end_time": "2024-12-09T23:30:04.865275Z",
     "start_time": "2024-12-06T09:00:57.093830Z"
    }
   },
   "outputs": [],
   "source": [
    "\n",
    "# Function to calculate forces and potential energy\n",
    "def calculate_forces(particles, box_size, c12, c6):\n",
    "    \"\"\"\n",
    "    Vectorized calculation of Lennard-Jones forces and potential energy.\n",
    "    Parameters:\n",
    "        particles: Array with particle positions (shape: (2, N)).\n",
    "        box_size: Size of the simulation box (scalar).\n",
    "        c12, c6: Lennard-Jones constants.\n",
    "    Returns:\n",
    "        forces: Array of forces acting on particles (shape: (2, N)).\n",
    "        potential_energy: Total potential energy of the system.\n",
    "    \"\"\"\n",
    "    # Compute pairwise distances with periodic boundary conditions\n",
    "    delta = particles[:, np.newaxis, :] - particles[:, :, np.newaxis]  # Shape: (2, N, N)\n",
    "    delta -= box_size * np.round(delta / box_size)  # Apply periodic boundary conditions\n",
    "    # Squared distances (don't use sqrt for compuational reasons) (N, N)\n",
    "    r2 = np.sum(delta**2, axis=0)\n",
    "\n",
    "    # Mask out self-interaction\n",
    "    np.fill_diagonal(r2, np.inf)\n",
    "\n",
    "    # Lennard-Jones potential\n",
    "    r6 = r2**3\n",
    "    r12 = r6**2\n",
    "    potential_energy_matrix = c12 / r12 - c6 / r6\n",
    "\n",
    "    # Total potential energy\n",
    "    potential_energy = np.sum(potential_energy_matrix) * 0.5\n",
    "\n",
    "    # Lennard-Jones force magnitudes (gradient of potential)\n",
    "    force_magnitude = (12 * c12 / r12 - 6 * c6 / r6) / r2\n",
    "\n",
    "    # Calculate forces\n",
    "    forces = np.sum(force_magnitude * delta, axis=1)  # Shape: (2, N)\n",
    "\n",
    "    return forces, potential_energy\n",
    "\n",
    "# MD Simulation Function (Velocity-Verlet Algorithm)\n",
    "def run_md_simulation(particles, box_size, c12, c6, time_step, n_steps, mass):\n",
    "    \"\"\"\n",
    "    Perform a Molecular Dynamics simulation using the Velocity-Verlet algorithm.\n",
    "\n",
    "    \"\"\"\n",
    "\n",
    "    start_time = time.time()\n",
    "\n",
    "    N = particles.shape[1]  # Number of particles\n",
    "    positions = particles[1:3]  # x, y positions\n",
    "    velocities = particles[3:5]  # x, y velocities\n",
    "    accelerations = np.zeros_like(positions)  # Initialize accelerations\n",
    "\n",
    "    # Initialize arrays to store simulation results\n",
    "    trajectories = np.zeros((n_steps, 2, N))  # Store particle positions over time\n",
    "    energies = np.zeros((n_steps, 2))  # Store kinetic and potential energies over time\n",
    "\n",
    "    # Initial force and potential energy calculation\n",
    "    forces, potential_energy = calculate_forces(positions, box_size, c12, c6)\n",
    "    accelerations = forces / mass  # a = F / m\n",
    "\n",
    "\n",
    "    for step in tqdm(range(n_steps), desc=\"MD Simulation Progress\"):\n",
    "        # Velocity-Verlet Integration\n",
    "        # 1. Update positions\n",
    "        positions += velocities * time_step + 0.5 * accelerations * time_step**2\n",
    "        positions %= box_size  # Apply periodic boundary conditions\n",
    "\n",
    "        # 2. Calculate new forces\n",
    "        forces, potential_energy = calculate_forces(positions, box_size, c12, c6)\n",
    "\n",
    "        # 3. Update velocities\n",
    "        new_accelerations = forces / mass\n",
    "        velocities += 0.5 * (accelerations + new_accelerations) * time_step\n",
    "        accelerations = new_accelerations\n",
    "\n",
    "        # Store results\n",
    "        trajectories[step] = positions\n",
    "        kinetic_energy = 0.5 * mass * np.sum(velocities**2)\n",
    "        energies[step] = [kinetic_energy, potential_energy]\n",
    "\n",
    "    end_time = time.time()  # End timing the simulation\n",
    "    runtime = end_time - start_time  # Calculate runtime\n",
    "    print(f\"MD Simulation completed in {runtime:.2f} seconds.\")\n",
    "\n",
    "    return trajectories, energies\n",
    "\n",
    "\n"
   ]
  },
  {
   "cell_type": "code",
   "execution_count": 20,
   "metadata": {
    "ExecuteTime": {
     "end_time": "2024-12-09T23:30:04.865927Z",
     "start_time": "2024-12-06T09:05:27.201584Z"
    }
   },
   "outputs": [
    {
     "name": "stderr",
     "output_type": "stream",
     "text": [
      "MD Simulation Progress: 100%|██████████| 100000/100000 [00:13<00:00, 7230.14it/s]\n"
     ]
    },
    {
     "name": "stdout",
     "output_type": "stream",
     "text": [
      "MD Simulation completed in 13.88 seconds.\n"
     ]
    },
    {
     "data": {
      "image/png": "[encoded data removed]",
      "text/plain": [
       "<Figure size 576x360 with 1 Axes>"
      ]
     },
     "metadata": {
      "needs_background": "light"
     },
     "output_type": "display_data"
    }
   ],
   "source": [
    "# Run the MD simulation, for clarity parameters from the MC simulation is just copied down here\n",
    "\n",
    "# Parameters for the simulation\n",
    "box_size = 5.0  # Box size in nm\n",
    "N_particles = 49  # Number of particles\n",
    "\n",
    "C12 = 9.847044e-3  # Lennard-Jones constant for repulsion kg, nm, ns\n",
    "C6 = 6.2647225  # Lennard-Jones constant for attraction kg, nm, ns\n",
    "temperature = 293.15  # Temperature in K\n",
    "step_shift = 0.01  # Random displacement step size in nm\n",
    "steps = 100000  # Total Monte Carlo steps\n",
    "record_interval = 20  # Save trajectory every 20 steps\n",
    "mass = 1.0\n",
    "time_step = 0.001\n",
    "\n",
    "# Test parameters\n",
    "box_size = 5.0  # Box size in nm\n",
    "N_particles = 49  # Number of particles\n",
    "c12 = 9.847044e-6  # Lennard-Jones constant (repulsion)\n",
    "c6 = 6.2647225e-3  # Lennard-Jones constant (attraction)\n",
    "time_step = 0.001  # Time step in ns\n",
    "n_steps = 100000  # Number of simulation steps\n",
    "mass = 1.0  # Mass of particles\n",
    "temperature = 293.15  # Temperature in K\n",
    "\n",
    "\n",
    "# Initialize particle positions and velocities\n",
    "particles = np.zeros((5, N_particles))  # Mass, x, y, vx, vy\n",
    "grid_size = int(np.sqrt(N_particles))  # Number of particles per row/column\n",
    "spacing = box_size / grid_size  # Spacing between particles\n",
    "x_coords = np.linspace(spacing / 2, box_size - spacing / 2, grid_size)\n",
    "y_coords = np.linspace(spacing / 2, box_size - spacing / 2, grid_size)\n",
    "x, y = np.meshgrid(x_coords, y_coords)\n",
    "particles[1] = x.flatten()[:N_particles]  # x-coordinates\n",
    "particles[2] = y.flatten()[:N_particles]  # y-coordinates\n",
    "particles[3:5] = np.random.randn(2, N_particles)  # Random initial velocities\n",
    "\n",
    "# Run the MD simulation\n",
    "trajectories_md, energies_md = run_md_simulation(particles, box_size, c12, c6, time_step, n_steps, mass)\n",
    "\n",
    "# Verify results\n",
    "# Plot total energy over time\n",
    "plt.figure(figsize=(8, 5))\n",
    "total_energy = energies_md[:, 0] + energies_md[:, 1]\n",
    "plt.plot(range(n_steps), total_energy, label=\"Total Energy\")\n",
    "plt.plot(range(n_steps), energies_md[:, 0], label=\"Kinetic Energy\")\n",
    "plt.plot(range(n_steps), energies_md[:, 1], label=\"Potential Energy\")\n",
    "plt.xlabel(\"Simulation Steps\")\n",
    "plt.ylabel(\"Energy (arbitrary units)\")\n",
    "plt.title(\"Energy Conservation in MD Simulation\")\n",
    "plt.legend()\n",
    "plt.show()\n",
    "\n"
   ]
  },
  {
   "cell_type": "markdown",
   "metadata": {},
   "source": [
    "Comparing Potential energy distributions: MC vs MD"
   ]
  },
  {
   "cell_type": "code",
   "execution_count": 10,
   "metadata": {
    "ExecuteTime": {
     "end_time": "2024-12-09T23:30:04.866570Z",
     "start_time": "2024-12-06T08:50:00.866811Z"
    }
   },
   "outputs": [
    {
     "data": {
      "image/png": "[encoded data removed]",
      "text/plain": [
       "<Figure size 864x720 with 2 Axes>"
      ]
     },
     "metadata": {
      "needs_background": "light"
     },
     "output_type": "display_data"
    }
   ],
   "source": [
    "# Extract the last 50% of the steps for potential energy\n",
    "last_half_start_md = len(energies_md) // 2\n",
    "last_half_potentials_md = energies_md[last_half_start_md:, 1]  # Extract potential energy\n",
    "\n",
    "# Normalize potential energy per particle for the last half\n",
    "last_half_potentials_per_particle_md = last_half_potentials_md / particles.shape[1]  # Divide by number of particles\n",
    "\n",
    "# Plot histogram of potential energy per particle\n",
    "\n",
    "plt.figure(figsize=(12, 10))\n",
    "plt.subplot(2,2,1)\n",
    "plt.title(\"MD: Potential Energies (Last 50% of Steps)\")\n",
    "plt.hist(last_half_potentials_per_particle_md, bins=50, edgecolor='k', alpha=0.7, label=\"Histogram\")\n",
    "plt.xlabel(\"$E_{pot}$ per particle \")\n",
    "plt.ylabel(\"Number of occurrences\")\n",
    "plt.legend()\n",
    "\n",
    "\n",
    "plt.subplot(2,2,2)\n",
    "plt.title(\"MC: Potential Energies (Last 50% of Steps)\")\n",
    "plt.hist(last_half_energies_per_particle_mc, bins=50, edgecolor='k', alpha=0.7, label=\"Histogram\")\n",
    "plt.xlabel(\"$E_{pot}$ per particle J/mol\")\n",
    "plt.ylabel(\"Number of occurrences\")\n",
    "plt.legend()\n",
    "\n",
    "\n",
    "plt.tight_layout()\n",
    "plt.show()"
   ]
  },
  {
   "cell_type": "markdown",
   "metadata": {},
   "source": [
    "Both distributions look kind of like a Boltzmann distribution. The maximum of the MD simulation is shifted to the right."
   ]
  },
  {
   "cell_type": "markdown",
   "metadata": {},
   "source": [
    "Which method is faster?\n",
    "\n",
    "Having measured the times for the simulations we can clearly state that the MD simulation is significantly faster than the MC simulation."
   ]
  },
  {
   "cell_type": "markdown",
   "metadata": {},
   "source": [
    "Look at the trajectory / the position histogram: which method gives a better\n",
    "sampling of the coordinate space?"
   ]
  },
  {
   "cell_type": "code",
   "execution_count": 11,
   "metadata": {
    "ExecuteTime": {
     "end_time": "2024-12-09T23:30:04.867120Z",
     "start_time": "2024-12-06T08:50:01.203616Z"
    }
   },
   "outputs": [
    {
     "data": {
      "text/plain": [
       "Text(0, 0.5, 'Number of occurrences')"
      ]
     },
     "execution_count": 11,
     "metadata": {},
     "output_type": "execute_result"
    },
    {
     "data": {
      "image/png": "[encoded data removed]",
      "text/plain": [
       "<Figure size 864x720 with 4 Axes>"
      ]
     },
     "metadata": {
      "needs_background": "light"
     },
     "output_type": "display_data"
    }
   ],
   "source": [
    "plt.figure(figsize=(12, 10))\n",
    "\n",
    "# MC: x positions\n",
    "plt.subplot(2, 2, 1)\n",
    "plt.title(\"MC: x-Positions\")\n",
    "plt.hist(traj_mc[:, 0].flatten(), bins=80, edgecolor='k')\n",
    "plt.xlabel(\"x (nm)\")\n",
    "plt.ylabel(\"Number of occurrences\")\n",
    "\n",
    "# MC: x positions\n",
    "plt.subplot(2, 2, 2)\n",
    "plt.title(\"MC: y-Positions\")\n",
    "plt.hist(traj_mc[:, 1].flatten(), bins=80, edgecolor='k')\n",
    "plt.xlabel(\"x (nm)\")\n",
    "plt.ylabel(\"Number of occurrences\")\n",
    "\n",
    "# MD: x positions\n",
    "plt.subplot(2, 2, 3)\n",
    "plt.title(\"MD: x-Positions\")\n",
    "plt.hist(trajectories_md[:, 0].flatten(), bins=80, edgecolor='k')\n",
    "plt.xlabel(\"x (nm)\")\n",
    "plt.ylabel(\"Number of occurrences\")\n",
    "\n",
    "# MD: y positions\n",
    "plt.subplot(2, 2, 4)\n",
    "plt.title(\"MD: y-Positions\")\n",
    "plt.hist(trajectories_md[:, 1].flatten(), bins=80, edgecolor='k')\n",
    "plt.xlabel(\"x (nm)\")\n",
    "plt.ylabel(\"Number of occurrences\")\n",
    "\n"
   ]
  },
  {
   "cell_type": "markdown",
   "metadata": {},
   "source": [
    "The sampling appears quite similar between both methods, the MD might be slightly better."
   ]
  },
  {
   "cell_type": "markdown",
   "metadata": {},
   "source": [
    "Since our calculation of the RDF from last week turned out to be incorrect and we haven’t yet found a proper solution, we decided not to include this part in the analysis for now. Hopefully, we’ll see a working version during the tutorial on Friday, and we can consider implementing it into this task afterward. 😊"
   ]
  },
  {
   "cell_type": "code",
   "execution_count": null,
   "metadata": {
    "ExecuteTime": {
     "end_time": "2024-12-09T23:30:04.868688Z",
     "start_time": "2024-12-06T08:50:01.959824Z"
    }
   },
   "outputs": [],
   "source": []
  }
 ],
 "metadata": {
  "kernelspec": {
   "display_name": "Python 3",
   "language": "python",
   "name": "python3"
  },
  "language_info": {
   "codemirror_mode": {
    "name": "ipython",
    "version": 3
   },
   "file_extension": ".py",
   "mimetype": "text/x-python",
   "name": "python",
   "nbconvert_exporter": "python",
   "pygments_lexer": "ipython3",
   "version": "3.8.5"
  }
 },
 "nbformat": 4,
 "nbformat_minor": 2
}
