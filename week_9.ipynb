{
 "cells": [
  {
   "metadata": {},
   "cell_type": "markdown",
   "source": [
    "**Week 9: Dimensionality Reduction via Principal Component Analysis**\n",
    "\n",
    "Jannek Schaffert, Frédéric Sonak\n",
    "\n",
    "This markdown was created with the assistance of ChatGPT, focusing on grammar, spelling, and readability.\n",
    "\n",
    "**Background**\n",
    "\n",
    "Principal Component Analysis (PCA) is a widely used technique for simplifying complex systems with many interrelated variables. It reduces the dimensionality of the data by focusing on the most significant components. This is achieved by analyzing the system’s correlation matrix, which captures the relationships between variables, derived from the system’s trajectory.\n",
    "\n",
    "The matrix is decomposed into eigenvectors and eigenvalues, which are ranked in descending order of importance based on the magnitude of the eigenvalues. The first eigenvector accounts for the largest portion of the system’s variance, the second for a smaller portion, and so forth.\n",
    "\n",
    "Typically, a few of the leading eigenvectors encapsulate the majority of the system’s variance, allowing for a more concise representation. This not only reduces computational complexity but also provides an effective way to retain the most meaningful features of the system while discarding redundant information.\n"
   ]
  },
  {
   "metadata": {},
   "cell_type": "markdown",
   "source": [
    "**Task 1: Implementation**\n",
    "\n",
    "In the first task a Monte Carlo method with Metropolis algorythm sampling a 2D energy surface was implemented. The energy surface is defined as:\n",
    "\n",
    "$$\n",
    "U(x, y) = k_B T \\left( 0.28 \\cdot 0.25 (a \\cdot x + b \\cdot y)^4 + 0.1 (a \\cdot x + b \\cdot y)^3 - 3.24 (a \\cdot x + b \\cdot y)^2 + 6.856 (a \\cdot y - b \\cdot x)^2 + 3.5 \\right)\n",
    "$$\n",
    "\n",
    "with the constants set to\n",
    "$$\n",
    "a = 0.809 \\text{ and } b = 0.588\n",
    "$$\n",
    "\n"
   ]
  },
  {
   "metadata": {},
   "cell_type": "markdown",
   "source": "Importing all libraries used in this code."
  },
  {
   "cell_type": "code",
   "metadata": {
    "ExecuteTime": {
     "end_time": "2024-12-19T13:19:55.020358Z",
     "start_time": "2024-12-19T13:19:46.162461Z"
    }
   },
   "source": [
    "import matplotlib.pyplot as plt\n",
    "from matplotlib import animation, rc\n",
    "from IPython.display import HTML\n",
    "\n",
    "from numba import njit\n",
    "\n",
    "import copy\n",
    "import numpy as np\n",
    "import scipy as scy"
   ],
   "outputs": [],
   "execution_count": 1
  },
  {
   "cell_type": "code",
   "metadata": {
    "ExecuteTime": {
     "end_time": "2024-12-19T13:19:55.047666Z",
     "start_time": "2024-12-19T13:19:55.040514Z"
    }
   },
   "source": [
    "# Def the energy landscape function as given on the exercise sheet.\n",
    "def energy_landscape(pos) -> float:\n",
    "    return kb*T*(0.28*(0.25*(a*pos[0]+b*pos[1])**4\n",
    "                       + 0.1*(a*pos[0]+b*pos[1])**3\n",
    "                       - 3.24*(a*pos[0]+b*pos[1])**2\n",
    "                       + 6.856*(a*pos[0]-b*pos[1])**2)+3.5)\n"
   ],
   "outputs": [],
   "execution_count": 2
  },
  {
   "cell_type": "code",
   "metadata": {
    "ExecuteTime": {
     "end_time": "2024-12-19T13:19:55.066460Z",
     "start_time": "2024-12-19T13:19:55.058018Z"
    }
   },
   "source": [
    "#Def metropolis sampling function.\n",
    "\n",
    "def metropolis(starting_position, samples, distance = 0.01):\n",
    "    particle_pos = np.zeros((2,samples+1))\n",
    "    particle_pos[:,0] = starting_position\n",
    "    e1 = energy_landscape(starting_position)\n",
    "\n",
    "    direction = np.zeros(2)\n",
    "    for i in range(samples):\n",
    "        angle = (np.random.rand() * 2 * np.pi)\n",
    "        #print(angle)\n",
    "\n",
    "        # calculate the coressponding velocities\n",
    "        direction[0] = np.sin(angle) * distance\n",
    "        direction[1] = np.cos(angle) * distance\n",
    "        particle_pos[:,i+1] = particle_pos[:,i] + direction\n",
    "\n",
    "        e2 = energy_landscape(particle_pos[:,i+1])\n",
    "        if e2 > e1:\n",
    "            logrando = np.log(np.random.rand())\n",
    "            logp = -(e2-e1)/(kb*T)\n",
    "            if logrando >= logp:\n",
    "                particle_pos[:,i+1] -= direction\n",
    "            else:\n",
    "                e1 = e2\n",
    "        else:\n",
    "            e1 = e2\n",
    "    return particle_pos\n"
   ],
   "outputs": [],
   "execution_count": 3
  },
  {
   "metadata": {},
   "cell_type": "markdown",
   "source": [
    "**Task 2: Simulation**\n",
    "\n",
    "A simulation was conducted at a temperature of  T = 500 \\, \\text{K}  to investigate the given potential energy landscape. The simulation began at the initial coordinates  (x, y) = (2, 2) , and due to the properties of the energy landscape, the values of  x  and  y  naturally remained within the range of [-4, 4] throughout the process. The Monte Carlo (MC) step size was set to 0.01 to ensure precise sampling, and the simulation was carried out with 10,000,000 MC steps, including both accepted and rejected moves."
   ]
  },
  {
   "metadata": {
    "ExecuteTime": {
     "end_time": "2024-12-19T13:19:55.076657Z",
     "start_time": "2024-12-19T13:19:55.073883Z"
    }
   },
   "cell_type": "code",
   "source": [
    "# Def constants\n",
    "\n",
    "kb = 1.380e-23 # J/K\n",
    "T = 500 #K\n",
    "\n",
    "a = 0.809\n",
    "b = 0.588"
   ],
   "outputs": [],
   "execution_count": 4
  },
  {
   "cell_type": "code",
   "metadata": {
    "ExecuteTime": {
     "end_time": "2024-12-19T13:20:08.920341Z",
     "start_time": "2024-12-19T13:19:55.087300Z"
    }
   },
   "source": [
    "positions = metropolis(np.array([2,2]),10000000)"
   ],
   "outputs": [
    {
     "ename": "KeyboardInterrupt",
     "evalue": "",
     "output_type": "error",
     "traceback": [
      "\u001B[0;31m---------------------------------------------------------------------------\u001B[0m",
      "\u001B[0;31mKeyboardInterrupt\u001B[0m                         Traceback (most recent call last)",
      "\u001B[0;32m<ipython-input-5-9467e809bddf>\u001B[0m in \u001B[0;36m<module>\u001B[0;34m\u001B[0m\n\u001B[0;32m----> 1\u001B[0;31m \u001B[0mpositions\u001B[0m \u001B[0;34m=\u001B[0m \u001B[0mmetropolis\u001B[0m\u001B[0;34m(\u001B[0m\u001B[0mnp\u001B[0m\u001B[0;34m.\u001B[0m\u001B[0marray\u001B[0m\u001B[0;34m(\u001B[0m\u001B[0;34m[\u001B[0m\u001B[0;36m2\u001B[0m\u001B[0;34m,\u001B[0m\u001B[0;36m2\u001B[0m\u001B[0;34m]\u001B[0m\u001B[0;34m)\u001B[0m\u001B[0;34m,\u001B[0m\u001B[0;36m10000000\u001B[0m\u001B[0;34m)\u001B[0m\u001B[0;34m\u001B[0m\u001B[0;34m\u001B[0m\u001B[0m\n\u001B[0m",
      "\u001B[0;32m<ipython-input-3-b5ee7103232a>\u001B[0m in \u001B[0;36mmetropolis\u001B[0;34m(starting_position, samples, distance)\u001B[0m\n\u001B[1;32m     12\u001B[0m \u001B[0;34m\u001B[0m\u001B[0m\n\u001B[1;32m     13\u001B[0m         \u001B[0;31m# calculate the coressponding velocities\u001B[0m\u001B[0;34m\u001B[0m\u001B[0;34m\u001B[0m\u001B[0;34m\u001B[0m\u001B[0m\n\u001B[0;32m---> 14\u001B[0;31m         \u001B[0mdirection\u001B[0m\u001B[0;34m[\u001B[0m\u001B[0;36m0\u001B[0m\u001B[0;34m]\u001B[0m \u001B[0;34m=\u001B[0m \u001B[0mnp\u001B[0m\u001B[0;34m.\u001B[0m\u001B[0msin\u001B[0m\u001B[0;34m(\u001B[0m\u001B[0mangle\u001B[0m\u001B[0;34m)\u001B[0m \u001B[0;34m*\u001B[0m \u001B[0mdistance\u001B[0m\u001B[0;34m\u001B[0m\u001B[0;34m\u001B[0m\u001B[0m\n\u001B[0m\u001B[1;32m     15\u001B[0m         \u001B[0mdirection\u001B[0m\u001B[0;34m[\u001B[0m\u001B[0;36m1\u001B[0m\u001B[0;34m]\u001B[0m \u001B[0;34m=\u001B[0m \u001B[0mnp\u001B[0m\u001B[0;34m.\u001B[0m\u001B[0mcos\u001B[0m\u001B[0;34m(\u001B[0m\u001B[0mangle\u001B[0m\u001B[0;34m)\u001B[0m \u001B[0;34m*\u001B[0m \u001B[0mdistance\u001B[0m\u001B[0;34m\u001B[0m\u001B[0;34m\u001B[0m\u001B[0m\n\u001B[1;32m     16\u001B[0m         \u001B[0mparticle_pos\u001B[0m\u001B[0;34m[\u001B[0m\u001B[0;34m:\u001B[0m\u001B[0;34m,\u001B[0m\u001B[0mi\u001B[0m\u001B[0;34m+\u001B[0m\u001B[0;36m1\u001B[0m\u001B[0;34m]\u001B[0m \u001B[0;34m=\u001B[0m \u001B[0mparticle_pos\u001B[0m\u001B[0;34m[\u001B[0m\u001B[0;34m:\u001B[0m\u001B[0;34m,\u001B[0m\u001B[0mi\u001B[0m\u001B[0;34m]\u001B[0m \u001B[0;34m+\u001B[0m \u001B[0mdirection\u001B[0m\u001B[0;34m\u001B[0m\u001B[0;34m\u001B[0m\u001B[0m\n",
      "\u001B[0;31mKeyboardInterrupt\u001B[0m: "
     ]
    }
   ],
   "execution_count": 5
  },
  {
   "cell_type": "code",
   "execution_count": 24,
   "metadata": {},
   "outputs": [
    {
     "data": {
      "text/plain": [
       "array([[2.        , 1.99035859, 1.99953182, ..., 0.60886288, 0.60368365,\n",
       "        0.61292019],\n",
       "       [2.        , 2.00265391, 1.99867247, ..., 0.96090034, 0.96945461,\n",
       "        0.96562236]])"
      ]
     },
     "execution_count": 24,
     "metadata": {},
     "output_type": "execute_result"
    }
   ],
   "source": [
    "positions"
   ]
  },
  {
   "cell_type": "code",
   "execution_count": 25,
   "metadata": {},
   "outputs": [
    {
     "data": {
      "text/plain": [
       "(array([[0., 0., 0., ..., 0., 0., 0.],\n",
       "        [0., 0., 0., ..., 0., 0., 0.],\n",
       "        [0., 0., 0., ..., 0., 0., 0.],\n",
       "        ...,\n",
       "        [0., 0., 0., ..., 0., 0., 0.],\n",
       "        [0., 0., 0., ..., 0., 0., 0.],\n",
       "        [0., 0., 0., ..., 0., 0., 0.]]),\n",
       " array([-3.29292439, -3.22999437, -3.16706436, -3.10413435, -3.04120434,\n",
       "        -2.97827432, -2.91534431, -2.8524143 , -2.78948429, -2.72655427,\n",
       "        -2.66362426, -2.60069425, -2.53776423, -2.47483422, -2.41190421,\n",
       "        -2.3489742 , -2.28604418, -2.22311417, -2.16018416, -2.09725415,\n",
       "        -2.03432413, -1.97139412, -1.90846411, -1.8455341 , -1.78260408,\n",
       "        -1.71967407, -1.65674406, -1.59381404, -1.53088403, -1.46795402,\n",
       "        -1.40502401, -1.34209399, -1.27916398, -1.21623397, -1.15330396,\n",
       "        -1.09037394, -1.02744393, -0.96451392, -0.90158391, -0.83865389,\n",
       "        -0.77572388, -0.71279387, -0.64986386, -0.58693384, -0.52400383,\n",
       "        -0.46107382, -0.3981438 , -0.33521379, -0.27228378, -0.20935377,\n",
       "        -0.14642375, -0.08349374, -0.02056373,  0.04236628,  0.1052963 ,\n",
       "         0.16822631,  0.23115632,  0.29408633,  0.35701635,  0.41994636,\n",
       "         0.48287637,  0.54580639,  0.6087364 ,  0.67166641,  0.73459642,\n",
       "         0.79752644,  0.86045645,  0.92338646,  0.98631647,  1.04924649,\n",
       "         1.1121765 ,  1.17510651,  1.23803652,  1.30096654,  1.36389655,\n",
       "         1.42682656,  1.48975657,  1.55268659,  1.6156166 ,  1.67854661,\n",
       "         1.74147663,  1.80440664,  1.86733665,  1.93026666,  1.99319668,\n",
       "         2.05612669,  2.1190567 ,  2.18198671,  2.24491673,  2.30784674,\n",
       "         2.37077675,  2.43370676,  2.49663678,  2.55956679,  2.6224968 ,\n",
       "         2.68542682,  2.74835683,  2.81128684,  2.87421685,  2.93714687,\n",
       "         3.00007688]),\n",
       " array([-4.28333348, -4.19996842, -4.11660335, -4.03323829, -3.94987322,\n",
       "        -3.86650816, -3.78314309, -3.69977803, -3.61641297, -3.5330479 ,\n",
       "        -3.44968284, -3.36631777, -3.28295271, -3.19958764, -3.11622258,\n",
       "        -3.03285751, -2.94949245, -2.86612738, -2.78276232, -2.69939726,\n",
       "        -2.61603219, -2.53266713, -2.44930206, -2.365937  , -2.28257193,\n",
       "        -2.19920687, -2.1158418 , -2.03247674, -1.94911167, -1.86574661,\n",
       "        -1.78238154, -1.69901648, -1.61565142, -1.53228635, -1.44892129,\n",
       "        -1.36555622, -1.28219116, -1.19882609, -1.11546103, -1.03209596,\n",
       "        -0.9487309 , -0.86536583, -0.78200077, -0.69863571, -0.61527064,\n",
       "        -0.53190558, -0.44854051, -0.36517545, -0.28181038, -0.19844532,\n",
       "        -0.11508025, -0.03171519,  0.05164988,  0.13501494,  0.21838   ,\n",
       "         0.30174507,  0.38511013,  0.4684752 ,  0.55184026,  0.63520533,\n",
       "         0.71857039,  0.80193546,  0.88530052,  0.96866559,  1.05203065,\n",
       "         1.13539572,  1.21876078,  1.30212584,  1.38549091,  1.46885597,\n",
       "         1.55222104,  1.6355861 ,  1.71895117,  1.80231623,  1.8856813 ,\n",
       "         1.96904636,  2.05241143,  2.13577649,  2.21914155,  2.30250662,\n",
       "         2.38587168,  2.46923675,  2.55260181,  2.63596688,  2.71933194,\n",
       "         2.80269701,  2.88606207,  2.96942714,  3.0527922 ,  3.13615727,\n",
       "         3.21952233,  3.30288739,  3.38625246,  3.46961752,  3.55298259,\n",
       "         3.63634765,  3.71971272,  3.80307778,  3.88644285,  3.96980791,\n",
       "         4.05317298]),\n",
       " <matplotlib.collections.QuadMesh at 0x7e995038df10>)"
      ]
     },
     "execution_count": 25,
     "metadata": {},
     "output_type": "execute_result"
    },
    {
     "data": {
      "image/png": "[encoded data removed]",
      "text/plain": [
       "<Figure size 640x480 with 1 Axes>"
      ]
     },
     "metadata": {},
     "output_type": "display_data"
    }
   ],
   "source": [
    "data, bins = np.histogram2d(positions[0],positions[1], bins=100)"
   ]
  },
  {
   "metadata": {},
   "cell_type": "markdown",
   "source": [
    "As the hint on the sheet suggested we did clearly find two energy minima at approximately (2,1.5) and (-2,-1.5). Thus, the simulation does not need to be rerun with a larger step number.\n",
    "\n",
    "To generate a dataset with sufficiently decorrelated data, every 100th data point from the MC trajectory was selected. This filtering process ensured that the resulting dataset contained independent points, eliminating dependence on previous data points."
   ]
  },
  {
   "cell_type": "code",
   "execution_count": 27,
   "metadata": {},
   "outputs": [
    {
     "data": {
      "text/plain": [
       "(2, 100001)"
      ]
     },
     "execution_count": 27,
     "metadata": {},
     "output_type": "execute_result"
    }
   ],
   "source": [
    "undersampled = positions[:,::100]\n",
    "undersampled.shape # print out the shape to verify its a set of 100,000 x,y points"
   ]
  },
  {
   "cell_type": "code",
   "execution_count": 35,
   "metadata": {},
   "outputs": [],
   "source": [
    "p_x, x_edges, y_edges = np.histogram2d(undersampled[0],undersampled[1], bins = 100)"
   ]
  },
  {
   "cell_type": "code",
   "execution_count": 36,
   "metadata": {},
   "outputs": [],
   "source": [
    "p_x = p_x/undersampled.shape[1]"
   ]
  },
  {
   "metadata": {},
   "cell_type": "markdown",
   "source": [
    "**Task 3: Sampling**\n",
    "\n",
    "A 2D histogram of the Data as well as the free Energy of the resulting sampling is plotted.\n",
    "\n",
    "The free ernergy $\\Delta G(x,y)$ is calculated via $\\Delta G(x,y) = - k_BT\\ln{(P(x,y))}$."
   ]
  },
  {
   "metadata": {},
   "cell_type": "markdown",
   "source": ""
  },
  {
   "cell_type": "code",
   "execution_count": 45,
   "metadata": {},
   "outputs": [
    {
     "name": "stderr",
     "output_type": "stream",
     "text": [
      "/tmp/ipykernel_1122/2957043948.py:1: RuntimeWarning: divide by zero encountered in log\n",
      "  free_energy = np.where(p_x == 0, 0, -kb*T*np.log(p_x))\n",
      "/tmp/ipykernel_1122/2957043948.py:2: RuntimeWarning: divide by zero encountered in log\n",
      "  free_energy = -kb*T*np.log(p_x)\n"
     ]
    }
   ],
   "source": [
    "free_energy = np.where(p_x == 0, 0, -kb*T*np.log(p_x))\n",
    "free_energy = -kb*T*np.log(p_x)"
   ]
  },
  {
   "cell_type": "code",
   "execution_count": 47,
   "metadata": {},
   "outputs": [
    {
     "data": {
      "text/plain": [
       "<matplotlib.colorbar.Colorbar at 0x7e992d0c2ae0>"
      ]
     },
     "execution_count": 47,
     "metadata": {},
     "output_type": "execute_result"
    },
    {
     "data": {
      "image/png": "[encoded data removed]",
      "text/plain": [
       "<Figure size 640x480 with 2 Axes>"
      ]
     },
     "metadata": {},
     "output_type": "display_data"
    }
   ],
   "source": [
    "plt.imshow(free_energy, origin='lower')\n",
    "plt.colorbar()"
   ]
  },
  {
   "metadata": {},
   "cell_type": "markdown",
   "source": [
    "**Task 4: PCA**\n",
    "\n",
    "From the simulated data, we calculated the means  $\\langle x \\rangle$, $\\langle y \\rangle$ as well as the variances  $\\text{var}(x) = \\langle (x - {\\langle x \\rangle})^2 \\rangle$ and  $\\text{var}(y) = \\langle (y - \\langle y \\rangle)^2 \\rangle$ .\n",
    "\n",
    "Additionally, the covariances  $\\text{cov}(x, y) = \\text{cov}(y, x) = \\langle (x - {\\langle x \\rangle})(y - {\\langle y \\rangle}) \\rangle$ were computed from the dataset. Using these values, we constructed the covariance matrix  \\sigma_{i,j} , which represents the relationships between  x  and  y .\n",
    "\n",
    "Next, we diagonalized the covariance matrix  \\sigma_{i,j}  to determine its eigenvectors  e_{\\lambda,k}  and eigenvalues  \\lambda_k , which describe the principal axes and magnitudes of variance in the data. For this step, built-in functions from NumPy were utilized to ensure efficiency and precision. These eigenvectors and eigenvalues provide a detailed understanding of the system’s behavior and are essential for further analysis."
   ]
  },
  {
   "cell_type": "code",
   "execution_count": 87,
   "metadata": {},
   "outputs": [],
   "source": [
    "# reshape to work with np.cov\n",
    "undersampled = undersampled.reshape(100001,2)\n",
    "# centering the data around the mean\n",
    "meaned_data = np.mean(undersampled,axis=0)\n",
    "centered_data = undersampled - meaned_data\n",
    "\n",
    "covariance_matrix = np.cov(centered_data, rowvar=False)"
   ]
  },
  {
   "cell_type": "code",
   "execution_count": 80,
   "metadata": {},
   "outputs": [],
   "source": [
    "eigenvalues, eigenvector = np.linalg.eig(covariance_matrix)"
   ]
  },
  {
   "cell_type": "code",
   "execution_count": 92,
   "metadata": {},
   "outputs": [
    {
     "data": {
      "text/plain": [
       "array([1, 0])"
      ]
     },
     "execution_count": 92,
     "metadata": {},
     "output_type": "execute_result"
    }
   ],
   "source": [
    "# sorts from smallest to biggest\n",
    "indices = np.argsort(eigenvalues)"
   ]
  },
  {
   "cell_type": "code",
   "execution_count": null,
   "metadata": {},
   "outputs": [],
   "source": []
  }
 ],
 "metadata": {
  "kernelspec": {
   "display_name": ".venv",
   "language": "python",
   "name": "python3"
  },
  "language_info": {
   "codemirror_mode": {
    "name": "ipython",
    "version": 3
   },
   "file_extension": ".py",
   "mimetype": "text/x-python",
   "name": "python",
   "nbconvert_exporter": "python",
   "pygments_lexer": "ipython3",
   "version": "3.12.7"
  }
 },
 "nbformat": 4,
 "nbformat_minor": 2
}
