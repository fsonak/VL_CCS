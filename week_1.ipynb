{
 "cells": [
  {
   "cell_type": "markdown",
   "metadata": {},
   "source": [
    "**Molecular Dynamics simulation routine:**"
   ]
  },
  {
   "cell_type": "markdown",
   "metadata": {},
   "source": [
    "this is some text that explains stuff you do."
   ]
  },
  {
   "cell_type": "markdown",
   "metadata": {},
   "source": [
    "* Import external libraries:"
   ]
  },
  {
   "cell_type": "code",
   "metadata": {
    "collapsed": true,
    "ExecuteTime": {
     "end_time": "2024-10-23T08:00:36.529126Z",
     "start_time": "2024-10-23T08:00:35.875643Z"
    }
   },
   "source": [
    "import matplotlib.pyplot as plt\n",
    "from matplotlib import animation, rc\n",
    "from IPython.display import HTML\n",
    "\n",
    "import copy\n",
    "import numpy as np\n",
    "import scipy as scy"
   ],
   "outputs": [],
   "execution_count": 1
  },
  {
   "cell_type": "markdown",
   "metadata": {},
   "source": [
    "* Creating a particle class:"
   ]
  },
  {
   "cell_type": "code",
   "metadata": {
    "collapsed": true,
    "ExecuteTime": {
     "end_time": "2024-10-23T08:00:36.536807Z",
     "start_time": "2024-10-23T08:00:36.534236Z"
    }
   },
   "source": [
    "class Particle:\n",
    "    def __init__(self, r, x, y, vx, vy):\n",
    "        self.r = r\n",
    "        self.x = x\n",
    "        self.y = y\n",
    "        self.vx = vx\n",
    "        self.vy = vy\n",
    "        \n",
    "    def __repr__(self):\n",
    "        return str(\"This is a particle at %0.2f, %0.2f with v=%0.2f,%0.2f\" % (self.x,self.y,self.vx,self.vy))"
   ],
   "outputs": [],
   "execution_count": 2
  },
  {
   "cell_type": "markdown",
   "metadata": {},
   "source": [
    "* Defining the box:"
   ]
  },
  {
   "cell_type": "code",
   "metadata": {
    "collapsed": true,
    "ExecuteTime": {
     "end_time": "2024-10-23T08:00:36.715695Z",
     "start_time": "2024-10-23T08:00:36.713833Z"
    }
   },
   "source": [
    "box_size_x = 20\n",
    "box_size_y = 20\n",
    "\n",
    "box = [box_size_x,box_size_y]"
   ],
   "outputs": [],
   "execution_count": 3
  },
  {
   "cell_type": "code",
   "metadata": {
    "ExecuteTime": {
     "end_time": "2024-10-23T08:00:36.727143Z",
     "start_time": "2024-10-23T08:00:36.724627Z"
    }
   },
   "source": "number_of_particles = 2",
   "outputs": [],
   "execution_count": 4
  },
  {
   "cell_type": "markdown",
   "metadata": {},
   "source": [
    "* Initialize velocities:"
   ]
  },
  {
   "cell_type": "code",
   "metadata": {
    "collapsed": false,
    "ExecuteTime": {
     "end_time": "2024-10-23T08:14:40.685603Z",
     "start_time": "2024-10-23T08:14:40.652013Z"
    }
   },
   "source": [
    "baseline_velocity = 0.5\n",
    "\n",
    "vel = np.ones(number_of_particles) * baseline_velocity\n",
    "angles = np.random.uniform(0,2 * np.pi, number_of_particles)\n"
   ],
   "outputs": [],
   "execution_count": 29
  },
  {
   "metadata": {},
   "cell_type": "code",
   "outputs": [],
   "execution_count": null,
   "source": "baseline_velocity"
  },
  {
   "cell_type": "markdown",
   "metadata": {},
   "source": [
    "* Initialize position:"
   ]
  },
  {
   "cell_type": "code",
   "metadata": {
    "collapsed": false,
    "ExecuteTime": {
     "end_time": "2024-10-23T08:00:36.744235Z",
     "start_time": "2024-10-23T08:00:36.741668Z"
    }
   },
   "source": [
    "# random positions\n",
    "\n",
    "x_rand = np.random.randint(1,box[0]-1,number_of_particles)\n",
    "y_rand = np.random.randint(1,box[1]-1,number_of_particles)\n"
   ],
   "outputs": [],
   "execution_count": 6
  },
  {
   "cell_type": "markdown",
   "metadata": {
    "collapsed": true
   },
   "source": [
    "* Setting up the particle:"
   ]
  },
  {
   "cell_type": "code",
   "metadata": {
    "ExecuteTime": {
     "end_time": "2024-10-23T08:00:36.752320Z",
     "start_time": "2024-10-23T08:00:36.750101Z"
    }
   },
   "source": [
    "particles = []\n",
    "for i in range(number_of_particles):\n",
    "    particles.append(Particle(0.5,x_rand[i],y_rand[i],np.sin(angles[i]) * vel[i],np.cos(angles[i]) * vel[i]))\n"
   ],
   "outputs": [],
   "execution_count": 7
  },
  {
   "cell_type": "markdown",
   "metadata": {},
   "source": [
    "* Defining simulation step numbers"
   ]
  },
  {
   "cell_type": "code",
   "metadata": {
    "collapsed": true,
    "ExecuteTime": {
     "end_time": "2024-10-23T08:00:36.759988Z",
     "start_time": "2024-10-23T08:00:36.758130Z"
    }
   },
   "source": [
    "steps = 50"
   ],
   "outputs": [],
   "execution_count": 8
  },
  {
   "cell_type": "markdown",
   "metadata": {},
   "source": [
    "* initialize trajectory:"
   ]
  },
  {
   "cell_type": "code",
   "metadata": {
    "collapsed": false,
    "scrolled": true,
    "ExecuteTime": {
     "end_time": "2024-10-23T08:00:36.773823Z",
     "start_time": "2024-10-23T08:00:36.770230Z"
    }
   },
   "source": [
    "data_traj = np.zeros((number_of_particles,4,steps))\n",
    "data_traj.shape"
   ],
   "outputs": [
    {
     "data": {
      "text/plain": [
       "(3, 4, 50)"
      ]
     },
     "execution_count": 9,
     "metadata": {},
     "output_type": "execute_result"
    }
   ],
   "execution_count": 9
  },
  {
   "cell_type": "markdown",
   "metadata": {},
   "source": [
    "* define time integrator for numerical, stepwise solution of equation of motion with a discrete time step $dt$:"
   ]
  },
  {
   "cell_type": "code",
   "metadata": {
    "collapsed": false,
    "ExecuteTime": {
     "end_time": "2024-10-23T08:00:36.792553Z",
     "start_time": "2024-10-23T08:00:36.790574Z"
    }
   },
   "source": [
    "def move(p,dt):\n",
    "    p.x = p.x + p.vx * dt\n",
    "    p.y = p.y + p.vy * dt\n",
    "    return p"
   ],
   "outputs": [],
   "execution_count": 10
  },
  {
   "cell_type": "code",
   "metadata": {
    "ExecuteTime": {
     "end_time": "2024-10-23T08:00:36.816775Z",
     "start_time": "2024-10-23T08:00:36.814480Z"
    }
   },
   "source": [
    "def move_unbound(p,dt):\n",
    "    p.x = np.mod(p.x + p.vx * dt, box_size_x)\n",
    "    p.y = np.mod(p.y + p.vy * dt, box_size_y)\n",
    "    return p"
   ],
   "outputs": [],
   "execution_count": 11
  },
  {
   "cell_type": "markdown",
   "metadata": {},
   "source": [
    "* define box reflection:"
   ]
  },
  {
   "cell_type": "code",
   "metadata": {
    "collapsed": true,
    "ExecuteTime": {
     "end_time": "2024-10-23T08:00:36.828976Z",
     "start_time": "2024-10-23T08:00:36.826191Z"
    }
   },
   "source": [
    "def reflect(p):\n",
    "    if (p.x + p.r) >= box[0]:\n",
    "        p.vx = p.vx * (-1)\n",
    "    if (p.x) <= p.r:\n",
    "        p.vx = p.vx * (-1)\n",
    "    if (p.y + p.r) >= box[1]:\n",
    "        p.vy = p.vy * (-1)\n",
    "    if (p.y) <= p.r:\n",
    "        p.vy = p.vy * (-1)\n",
    "    return p"
   ],
   "outputs": [],
   "execution_count": 12
  },
  {
   "cell_type": "code",
   "metadata": {
    "ExecuteTime": {
     "end_time": "2024-10-23T08:00:36.843366Z",
     "start_time": "2024-10-23T08:00:36.837817Z"
    }
   },
   "source": [
    "# https://hermann-baum.de/elastischer_stoss/\n",
    "def collide_simple(particles):\n",
    "    for i in range(len(particles)):\n",
    "        for j in range(len(particles)):\n",
    "            if i < j:\n",
    "                distance = np.sqrt(np.abs(particles[i].x-particles[j].x)**2+np.abs(particles[i].y-particles[j].y)**2)\n",
    "                if distance<(particles[i].r+particles[j].r):\n",
    "                    # angle between x-axis and line between particles\n",
    "                    phi = np.arctan((particles[j].y - particles[i].y)/(particles[j].x - particles[i].x))\n",
    "                    # change the velocities\n",
    "                    particles[i].vx = ( particles[i].vx*np.sin(phi)-particles[i].vy*np.cos(phi))*np.sin(phi)+(particles[j].vx*np.cos(phi)+particles[j].vy*np.sin(phi))*np.cos(phi)\n",
    "                    particles[i].vy = (-particles[i].vx*np.sin(phi)+particles[i].vy*np.cos(phi))*np.cos(phi)+(particles[j].vx*np.cos(phi)+particles[j].vy*np.sin(phi))*np.sin(phi)\n",
    "                    particles[j].vx = ( particles[j].vx*np.sin(phi)-particles[j].vy*np.cos(phi))*np.sin(phi)+(particles[i].vx*np.cos(phi)+particles[i].vy*np.sin(phi))*np.cos(phi)\n",
    "                    particles[j].vy = (-particles[j].vx*np.sin(phi)+particles[j].vy*np.cos(phi))*np.cos(phi)+(particles[i].vx*np.cos(phi)+particles[i].vy*np.sin(phi))*np.sin(phi)\n",
    "                    #print(particles[i],particles[j],'collided with a distance of ', distance)\n"
   ],
   "outputs": [],
   "execution_count": 13
  },
  {
   "metadata": {
    "ExecuteTime": {
     "end_time": "2024-10-23T08:25:58.220779Z",
     "start_time": "2024-10-23T08:25:58.214340Z"
    }
   },
   "cell_type": "code",
   "source": [
    "# check if particles are in boarder area\n",
    "\n",
    "def boarder_control(particles, radius, box):\n",
    "    for i in range(len(particles)):\n",
    "        for j in range(len(particles)):\n",
    "            if i.x < radius or i.x > (box - radius):\n",
    "                i.x = np.mod(i.x, box - radius)\n",
    "\n"
   ],
   "outputs": [],
   "execution_count": 35
  },
  {
   "cell_type": "code",
   "metadata": {
    "ExecuteTime": {
     "end_time": "2024-10-23T08:00:36.861393Z",
     "start_time": "2024-10-23T08:00:36.852328Z"
    }
   },
   "source": [
    "# https://hermann-baum.de/elastischer_stoss/\n",
    "def calculate_distance(particle_1, particle_2):\n",
    "    distance = np.sqrt(np.abs(particle_1.x - particle_2.x)**2+np.abs(particle_1.y - particle_2.y)**2)\n",
    "    return distance\n",
    "\n",
    "\n",
    "def collide_boundary(particles,step):\n",
    "    for i in range(len(particles)):\n",
    "        for j in range(len(particles)):\n",
    "            if i < j:\n",
    "                distance = calculate_distance(particles[i],particles[j])\n",
    "                #print(i,j)\n",
    "                \n",
    "                #distance = np.sqrt(np.abs(particles[i].x-particles[j].x)**2+np.abs(particles[i].y-particles[j].y)**2)\n",
    "                \n",
    "                if distance < (particles[i].r + particles[j].r):\n",
    "                    print(step)\n",
    "                    print(particles[i],particles[j],'collided with a distance of ', distance)\n",
    "                    # angle between x-axis and line between particles\n",
    "                    phi = np.arctan((particles[j].y - particles[i].y)/(particles[j].x - particles[i].x))\n",
    "\n",
    "                    # move the particles out\n",
    "                    distance_x = np.sign(particles[j].x-particles[i].x) * ((particles[i].r+particles[j].r)-distance) * np.cos(phi)\n",
    "                    distance_y = np.sign(particles[j].y-particles[i].y) * ((particles[i].r+particles[j].r)-distance) * np.sin(phi)\n",
    "                    print((particles[i].r+particles[j].r)-distance,phi,np.cos(phi),np.sin(phi))\n",
    "                    print(distance_x,distance_y)\n",
    "                    particles[i].x  = particles[i].x - (distance_x/2)\n",
    "                    particles[i].y  = particles[i].y - (distance_y/2)\n",
    "                    particles[j].x  = particles[j].x + (distance_x/2)\n",
    "                    particles[j].y  = particles[j].y + (distance_y/2)\n",
    "\n",
    "                    # change the velocities\n",
    "                    particles[i].vx = ( particles[i].vx*np.sin(phi)-particles[i].vy*np.cos(phi))*np.sin(phi) + (particles[j].vx*np.cos(phi)+particles[j].vy*np.sin(phi))*np.cos(phi)\n",
    "                    particles[i].vy = (-particles[i].vx*np.sin(phi)+particles[i].vy*np.cos(phi))*np.cos(phi) + (particles[j].vx*np.cos(phi)+particles[j].vy*np.sin(phi))*np.sin(phi)\n",
    "                    particles[j].vx = ( particles[j].vx*np.sin(phi)-particles[j].vy*np.cos(phi))*np.sin(phi) + (particles[i].vx*np.cos(phi)+particles[i].vy*np.sin(phi))*np.cos(phi)\n",
    "                    particles[j].vy = (-particles[j].vx*np.sin(phi)+particles[j].vy*np.cos(phi))*np.cos(phi) + (particles[i].vx*np.cos(phi)+particles[i].vy*np.sin(phi))*np.sin(phi)\n",
    "                    distance = np.sqrt(np.abs(particles[i].x-particles[j].x)**2+np.abs(particles[i].y-particles[j].y)**2)\n",
    "                    print(particles[i],particles[j],'collided with a distance of ', distance)\n",
    "                    "
   ],
   "outputs": [],
   "execution_count": 14
  },
  {
   "cell_type": "code",
   "metadata": {
    "ExecuteTime": {
     "end_time": "2024-10-23T08:00:36.873769Z",
     "start_time": "2024-10-23T08:00:36.870768Z"
    }
   },
   "source": [
    "particles[0].x = 5\n",
    "particles[0].y = 10\n",
    "particles[0].vx = 0.4\n",
    "particles[0].vy = 0\n",
    "\n",
    "particles[1].x = 15\n",
    "particles[1].y = 10\n",
    "particles[1].vx = -0.4\n",
    "particles[1].vy = 0\n",
    "\n",
    "# particles[2].x = 10\n",
    "# particles[2].y = 14.5\n",
    "# particles[2].vx = 0\n",
    "# particles[2].vy = -0.4"
   ],
   "outputs": [],
   "execution_count": 15
  },
  {
   "cell_type": "markdown",
   "metadata": {},
   "source": [
    "* carry out simulation:"
   ]
  },
  {
   "cell_type": "code",
   "metadata": {
    "collapsed": false,
    "ExecuteTime": {
     "end_time": "2024-10-23T08:00:36.889219Z",
     "start_time": "2024-10-23T08:00:36.883146Z"
    }
   },
   "source": [
    "for i in range(steps):\n",
    "    for j in range(number_of_particles):\n",
    "        #move(p1,1)\n",
    "        #reflect(p1)\n",
    "        move_unbound(particles[j],1)\n",
    "    collide_boundary(particles,i)\n",
    "    for j in range(number_of_particles):\n",
    "        data_traj[j,:,i] = [particles[j].x, particles[j].y, particles[j].vx, particles[j].vy]\n",
    "        "
   ],
   "outputs": [
    {
     "name": "stdout",
     "output_type": "stream",
     "text": [
      "10\n",
      "This is a particle at 9.40, 10.00 with v=0.40,0.00 This is a particle at 10.00, 10.10 with v=0.00,-0.40 collided with a distance of  0.6082762530298175\n",
      "0.39172374697018253 0.16514867741462155 0.9863939238321446 0.16439898730535207\n",
      "0.38639392383214854 0.06439898730535598\n",
      "This is a particle at 9.21, 9.97 with v=-0.05,-0.00 This is a particle at 10.19, 10.13 with v=0.01,-0.40 collided with a distance of  1.0\n",
      "10\n",
      "This is a particle at 10.60, 10.00 with v=-0.40,0.00 This is a particle at 10.19, 10.13 with v=0.01,-0.40 collided with a distance of  0.42774457087885076\n",
      "0.5722554291211492 -0.3142063442920232 0.9510419670507981 -0.30906176875852587\n",
      "-0.5442389289668763 -0.17686227510585162\n",
      "This is a particle at 10.87, 10.09 with v=0.09,-0.02 This is a particle at 9.92, 10.04 with v=-0.03,-0.40 collided with a distance of  0.9520901150306028\n",
      "11\n",
      "This is a particle at 9.15, 9.97 with v=-0.05,-0.00 This is a particle at 9.89, 9.65 with v=-0.03,-0.40 collided with a distance of  0.8045652742557112\n",
      "0.19543472574428877 -0.4098798965344106 0.9171686905635356 -0.39849917572056487\n",
      "0.17924661150153304 0.07788057711627373\n",
      "This is a particle at 9.06, 9.93 with v=0.11,-0.01 This is a particle at 9.98, 9.68 with v=-0.05,-0.40 collided with a distance of  0.9487466226690595\n",
      "12\n",
      "This is a particle at 9.17, 9.91 with v=0.11,-0.01 This is a particle at 9.93, 9.29 with v=-0.05,-0.40 collided with a distance of  0.9802371101989831\n",
      "0.019762889801016925 -0.6932771139518665 0.7691558724648584 -0.6390612207393142\n",
      "0.015200742747328026 0.012629696481574417\n",
      "This is a particle at 9.17, 9.91 with v=0.20,-0.04 This is a particle at 9.94, 9.29 with v=-0.07,-0.39 collided with a distance of  0.9840495109132157\n",
      "21\n",
      "This is a particle at 10.99, 9.51 with v=0.20,-0.04 This is a particle at 11.86, 9.92 with v=0.09,-0.02 collided with a distance of  0.9660566712761354\n",
      "0.03394332872386463 0.4450009086924228 0.9026102742419453 0.4304587004962035\n",
      "0.03063759724813195 0.014611201172990225\n",
      "This is a particle at 10.98, 9.50 with v=0.12,-0.05 This is a particle at 11.88, 9.93 with v=0.10,-0.01 collided with a distance of  0.9999999999999986\n",
      "22\n",
      "This is a particle at 11.10, 9.45 with v=0.12,-0.05 This is a particle at 11.98, 9.91 with v=0.10,-0.01 collided with a distance of  0.9988812854045552\n",
      "0.0011187145954447697 0.48769741678218065 0.8834141739099111 0.4685929975309804\n",
      "0.0009882883301758016 0.0005242218256611227\n",
      "This is a particle at 11.10, 9.45 with v=0.12,-0.05 This is a particle at 11.98, 9.91 with v=0.10,-0.01 collided with a distance of  1.0000000000000009\n"
     ]
    }
   ],
   "execution_count": 16
  },
  {
   "cell_type": "code",
   "metadata": {
    "ExecuteTime": {
     "end_time": "2024-10-23T08:00:36.916349Z",
     "start_time": "2024-10-23T08:00:36.914507Z"
    }
   },
   "source": [
    "#data_traj"
   ],
   "outputs": [],
   "execution_count": 17
  },
  {
   "cell_type": "markdown",
   "metadata": {},
   "source": [
    "* Plotting trajectory with Matplotlib:"
   ]
  },
  {
   "cell_type": "code",
   "metadata": {
    "collapsed": false,
    "scrolled": true,
    "ExecuteTime": {
     "end_time": "2024-10-23T08:00:37.009404Z",
     "start_time": "2024-10-23T08:00:36.928154Z"
    }
   },
   "source": [
    "for data_traj_j in data_traj:\n",
    "    plt.plot(data_traj_j[0],data_traj_j[1],'-')\n",
    "plt.xlabel('position x')\n",
    "plt.ylabel('position y')\n",
    "\n",
    "plt.grid()\n",
    "plt.show()"
   ],
   "outputs": [
    {
     "data": {
      "text/plain": [
       "<Figure size 432x288 with 1 Axes>"
      ],
      "image/png": "[encoded data removed]"
     },
     "metadata": {
      "needs_background": "light"
     },
     "output_type": "display_data"
    }
   ],
   "execution_count": 18
  },
  {
   "cell_type": "markdown",
   "metadata": {},
   "source": [
    "**Animate trajectory:**"
   ]
  },
  {
   "cell_type": "markdown",
   "metadata": {},
   "source": [
    "* Set up the figure, the axis, and the plot element we want to animate"
   ]
  },
  {
   "cell_type": "code",
   "metadata": {
    "collapsed": false,
    "ExecuteTime": {
     "end_time": "2024-10-23T08:02:57.825062Z",
     "start_time": "2024-10-23T08:02:57.777369Z"
    }
   },
   "source": [
    "fig, ax = plt.subplots()\n",
    "\n",
    "ax.set_xlim((0, box[0]))\n",
    "ax.set_ylim((0, box[1]))\n",
    "\n",
    "plt.xlabel('position x')\n",
    "plt.ylabel('position y')\n",
    "\n",
    "dot, = ax.plot([], [], 'bo', ms=5.0)\n",
    "\n",
    "# dont show the plot \n",
    "plt.close()"
   ],
   "outputs": [],
   "execution_count": 28
  },
  {
   "cell_type": "markdown",
   "metadata": {},
   "source": [
    "* initialization function: plot the background of each frame"
   ]
  },
  {
   "cell_type": "code",
   "metadata": {
    "collapsed": true,
    "ExecuteTime": {
     "end_time": "2024-10-23T08:00:37.117279Z",
     "start_time": "2024-10-23T08:00:37.114991Z"
    }
   },
   "source": [
    "def init():\n",
    "    dot.set_data([], [])\n",
    "    return (dot,)"
   ],
   "outputs": [],
   "execution_count": 20
  },
  {
   "cell_type": "code",
   "metadata": {
    "ExecuteTime": {
     "end_time": "2024-10-23T08:00:37.132528Z",
     "start_time": "2024-10-23T08:00:37.129457Z"
    }
   },
   "source": [
    "data_traj[:,0,1]"
   ],
   "outputs": [
    {
     "data": {
      "text/plain": [
       "array([ 5.8, 14.2, 10. ])"
      ]
     },
     "execution_count": 21,
     "metadata": {},
     "output_type": "execute_result"
    }
   ],
   "execution_count": 21
  },
  {
   "cell_type": "markdown",
   "metadata": {},
   "source": [
    "* animation function. This is called sequentially"
   ]
  },
  {
   "cell_type": "code",
   "metadata": {
    "collapsed": true,
    "ExecuteTime": {
     "end_time": "2024-10-23T08:00:37.149026Z",
     "start_time": "2024-10-23T08:00:37.146672Z"
    }
   },
   "source": [
    "def animate(i):\n",
    "    x = data_traj[:,0,i]\n",
    "    y = data_traj[:,1,i]\n",
    "    dot.set_data(x, y)\n",
    "    return (dot,)"
   ],
   "outputs": [],
   "execution_count": 22
  },
  {
   "cell_type": "markdown",
   "metadata": {},
   "source": [
    "* call the animator. blit=True means only re-draw the parts that have changed."
   ]
  },
  {
   "cell_type": "code",
   "metadata": {
    "collapsed": false,
    "ExecuteTime": {
     "end_time": "2024-10-23T08:00:37.185185Z",
     "start_time": "2024-10-23T08:00:37.168213Z"
    }
   },
   "source": [
    "anim = animation.FuncAnimation(fig, animate, init_func=init,\n",
    "                               frames=steps, interval=60, blit=True)"
   ],
   "outputs": [],
   "execution_count": 23
  },
  {
   "cell_type": "code",
   "metadata": {
    "collapsed": false,
    "ExecuteTime": {
     "end_time": "2024-10-23T08:00:39.484375Z",
     "start_time": "2024-10-23T08:00:37.195893Z"
    }
   },
   "source": [
    "HTML(anim.to_html5_video())\n",
    "anim.save('animation.mp4', writer='ffmpeg', fps=30)\n"
   ],
   "outputs": [],
   "execution_count": 24
  },
  {
   "cell_type": "markdown",
   "metadata": {
    "collapsed": true
   },
   "source": [
    "**Histogramming:**"
   ]
  },
  {
   "cell_type": "code",
   "metadata": {
    "collapsed": false,
    "ExecuteTime": {
     "end_time": "2024-10-23T08:00:40.007034Z",
     "start_time": "2024-10-23T08:00:39.496874Z"
    }
   },
   "source": [
    "plt.hist(data_traj[0],range=(0,box[0]),bins=10)\n",
    "plt.xlabel('position x')\n",
    "plt.ylabel('occupancy')\n",
    "plt.show()"
   ],
   "outputs": [
    {
     "data": {
      "text/plain": [
       "<Figure size 432x288 with 1 Axes>"
      ],
      "image/png": "[encoded data removed]"
     },
     "metadata": {
      "needs_background": "light"
     },
     "output_type": "display_data"
    }
   ],
   "execution_count": 25
  },
  {
   "cell_type": "code",
   "metadata": {
    "collapsed": false,
    "ExecuteTime": {
     "end_time": "2024-10-23T08:00:40.491863Z",
     "start_time": "2024-10-23T08:00:40.028406Z"
    }
   },
   "source": [
    "plt.hist(data_traj[1],range=(0,box[1]),bins=10)\n",
    "plt.xlabel('position y')\n",
    "plt.ylabel('occupancy')\n",
    "plt.show()"
   ],
   "outputs": [
    {
     "data": {
      "text/plain": [
       "<Figure size 432x288 with 1 Axes>"
      ],
      "image/png": "[encoded data removed]"
     },
     "metadata": {
      "needs_background": "light"
     },
     "output_type": "display_data"
    }
   ],
   "execution_count": 26
  },
  {
   "cell_type": "code",
   "metadata": {
    "collapsed": false,
    "scrolled": true,
    "ExecuteTime": {
     "end_time": "2024-10-23T08:00:40.617256Z",
     "start_time": "2024-10-23T08:00:40.499549Z"
    }
   },
   "source": [
    "plt.hist2d(data_traj[0], data_traj[1], range=[[0,box[0]],[0,box[1]]], bins=10)\n",
    "plt.xlabel('position x')\n",
    "plt.ylabel('position y')\n",
    "plt.colorbar().set_label('occupancy')\n",
    "plt.show()"
   ],
   "outputs": [
    {
     "ename": "ValueError",
     "evalue": "too many values to unpack (expected 2)",
     "output_type": "error",
     "traceback": [
      "\u001B[0;31m---------------------------------------------------------------------------\u001B[0m",
      "\u001B[0;31mAttributeError\u001B[0m                            Traceback (most recent call last)",
      "\u001B[0;32m~/opt/anaconda3/lib/python3.8/site-packages/numpy/lib/histograms.py\u001B[0m in \u001B[0;36mhistogramdd\u001B[0;34m(sample, bins, range, normed, weights, density)\u001B[0m\n\u001B[1;32m   1015\u001B[0m         \u001B[0;31m# Sample is an ND-array.\u001B[0m\u001B[0;34m\u001B[0m\u001B[0;34m\u001B[0m\u001B[0;34m\u001B[0m\u001B[0m\n\u001B[0;32m-> 1016\u001B[0;31m         \u001B[0mN\u001B[0m\u001B[0;34m,\u001B[0m \u001B[0mD\u001B[0m \u001B[0;34m=\u001B[0m \u001B[0msample\u001B[0m\u001B[0;34m.\u001B[0m\u001B[0mshape\u001B[0m\u001B[0;34m\u001B[0m\u001B[0;34m\u001B[0m\u001B[0m\n\u001B[0m\u001B[1;32m   1017\u001B[0m     \u001B[0;32mexcept\u001B[0m \u001B[0;34m(\u001B[0m\u001B[0mAttributeError\u001B[0m\u001B[0;34m,\u001B[0m \u001B[0mValueError\u001B[0m\u001B[0;34m)\u001B[0m\u001B[0;34m:\u001B[0m\u001B[0;34m\u001B[0m\u001B[0;34m\u001B[0m\u001B[0m\n",
      "\u001B[0;31mAttributeError\u001B[0m: 'list' object has no attribute 'shape'",
      "\nDuring handling of the above exception, another exception occurred:\n",
      "\u001B[0;31mValueError\u001B[0m                                Traceback (most recent call last)",
      "\u001B[0;32m<ipython-input-27-e907161d4a6e>\u001B[0m in \u001B[0;36m<module>\u001B[0;34m\u001B[0m\n\u001B[0;32m----> 1\u001B[0;31m \u001B[0mplt\u001B[0m\u001B[0;34m.\u001B[0m\u001B[0mhist2d\u001B[0m\u001B[0;34m(\u001B[0m\u001B[0mdata_traj\u001B[0m\u001B[0;34m[\u001B[0m\u001B[0;36m0\u001B[0m\u001B[0;34m]\u001B[0m\u001B[0;34m,\u001B[0m \u001B[0mdata_traj\u001B[0m\u001B[0;34m[\u001B[0m\u001B[0;36m1\u001B[0m\u001B[0;34m]\u001B[0m\u001B[0;34m,\u001B[0m \u001B[0mrange\u001B[0m\u001B[0;34m=\u001B[0m\u001B[0;34m[\u001B[0m\u001B[0;34m[\u001B[0m\u001B[0;36m0\u001B[0m\u001B[0;34m,\u001B[0m\u001B[0mbox\u001B[0m\u001B[0;34m[\u001B[0m\u001B[0;36m0\u001B[0m\u001B[0;34m]\u001B[0m\u001B[0;34m]\u001B[0m\u001B[0;34m,\u001B[0m\u001B[0;34m[\u001B[0m\u001B[0;36m0\u001B[0m\u001B[0;34m,\u001B[0m\u001B[0mbox\u001B[0m\u001B[0;34m[\u001B[0m\u001B[0;36m1\u001B[0m\u001B[0;34m]\u001B[0m\u001B[0;34m]\u001B[0m\u001B[0;34m]\u001B[0m\u001B[0;34m,\u001B[0m \u001B[0mbins\u001B[0m\u001B[0;34m=\u001B[0m\u001B[0;36m10\u001B[0m\u001B[0;34m)\u001B[0m\u001B[0;34m\u001B[0m\u001B[0;34m\u001B[0m\u001B[0m\n\u001B[0m\u001B[1;32m      2\u001B[0m \u001B[0mplt\u001B[0m\u001B[0;34m.\u001B[0m\u001B[0mxlabel\u001B[0m\u001B[0;34m(\u001B[0m\u001B[0;34m'position x'\u001B[0m\u001B[0;34m)\u001B[0m\u001B[0;34m\u001B[0m\u001B[0;34m\u001B[0m\u001B[0m\n\u001B[1;32m      3\u001B[0m \u001B[0mplt\u001B[0m\u001B[0;34m.\u001B[0m\u001B[0mylabel\u001B[0m\u001B[0;34m(\u001B[0m\u001B[0;34m'position y'\u001B[0m\u001B[0;34m)\u001B[0m\u001B[0;34m\u001B[0m\u001B[0;34m\u001B[0m\u001B[0m\n\u001B[1;32m      4\u001B[0m \u001B[0mplt\u001B[0m\u001B[0;34m.\u001B[0m\u001B[0mcolorbar\u001B[0m\u001B[0;34m(\u001B[0m\u001B[0;34m)\u001B[0m\u001B[0;34m.\u001B[0m\u001B[0mset_label\u001B[0m\u001B[0;34m(\u001B[0m\u001B[0;34m'occupancy'\u001B[0m\u001B[0;34m)\u001B[0m\u001B[0;34m\u001B[0m\u001B[0;34m\u001B[0m\u001B[0m\n\u001B[1;32m      5\u001B[0m \u001B[0mplt\u001B[0m\u001B[0;34m.\u001B[0m\u001B[0mshow\u001B[0m\u001B[0;34m(\u001B[0m\u001B[0;34m)\u001B[0m\u001B[0;34m\u001B[0m\u001B[0;34m\u001B[0m\u001B[0m\n",
      "\u001B[0;32m~/opt/anaconda3/lib/python3.8/site-packages/matplotlib/pyplot.py\u001B[0m in \u001B[0;36mhist2d\u001B[0;34m(x, y, bins, range, density, weights, cmin, cmax, data, **kwargs)\u001B[0m\n\u001B[1;32m   2612\u001B[0m         \u001B[0mx\u001B[0m\u001B[0;34m,\u001B[0m \u001B[0my\u001B[0m\u001B[0;34m,\u001B[0m \u001B[0mbins\u001B[0m\u001B[0;34m=\u001B[0m\u001B[0;36m10\u001B[0m\u001B[0;34m,\u001B[0m \u001B[0mrange\u001B[0m\u001B[0;34m=\u001B[0m\u001B[0;32mNone\u001B[0m\u001B[0;34m,\u001B[0m \u001B[0mdensity\u001B[0m\u001B[0;34m=\u001B[0m\u001B[0;32mFalse\u001B[0m\u001B[0;34m,\u001B[0m \u001B[0mweights\u001B[0m\u001B[0;34m=\u001B[0m\u001B[0;32mNone\u001B[0m\u001B[0;34m,\u001B[0m\u001B[0;34m\u001B[0m\u001B[0;34m\u001B[0m\u001B[0m\n\u001B[1;32m   2613\u001B[0m         cmin=None, cmax=None, *, data=None, **kwargs):\n\u001B[0;32m-> 2614\u001B[0;31m     __ret = gca().hist2d(\n\u001B[0m\u001B[1;32m   2615\u001B[0m         \u001B[0mx\u001B[0m\u001B[0;34m,\u001B[0m \u001B[0my\u001B[0m\u001B[0;34m,\u001B[0m \u001B[0mbins\u001B[0m\u001B[0;34m=\u001B[0m\u001B[0mbins\u001B[0m\u001B[0;34m,\u001B[0m \u001B[0mrange\u001B[0m\u001B[0;34m=\u001B[0m\u001B[0mrange\u001B[0m\u001B[0;34m,\u001B[0m \u001B[0mdensity\u001B[0m\u001B[0;34m=\u001B[0m\u001B[0mdensity\u001B[0m\u001B[0;34m,\u001B[0m\u001B[0;34m\u001B[0m\u001B[0;34m\u001B[0m\u001B[0m\n\u001B[1;32m   2616\u001B[0m         \u001B[0mweights\u001B[0m\u001B[0;34m=\u001B[0m\u001B[0mweights\u001B[0m\u001B[0;34m,\u001B[0m \u001B[0mcmin\u001B[0m\u001B[0;34m=\u001B[0m\u001B[0mcmin\u001B[0m\u001B[0;34m,\u001B[0m \u001B[0mcmax\u001B[0m\u001B[0;34m=\u001B[0m\u001B[0mcmax\u001B[0m\u001B[0;34m,\u001B[0m\u001B[0;34m\u001B[0m\u001B[0;34m\u001B[0m\u001B[0m\n",
      "\u001B[0;32m~/opt/anaconda3/lib/python3.8/site-packages/matplotlib/__init__.py\u001B[0m in \u001B[0;36minner\u001B[0;34m(ax, data, *args, **kwargs)\u001B[0m\n\u001B[1;32m   1410\u001B[0m     \u001B[0;32mdef\u001B[0m \u001B[0minner\u001B[0m\u001B[0;34m(\u001B[0m\u001B[0max\u001B[0m\u001B[0;34m,\u001B[0m \u001B[0;34m*\u001B[0m\u001B[0margs\u001B[0m\u001B[0;34m,\u001B[0m \u001B[0mdata\u001B[0m\u001B[0;34m=\u001B[0m\u001B[0;32mNone\u001B[0m\u001B[0;34m,\u001B[0m \u001B[0;34m**\u001B[0m\u001B[0mkwargs\u001B[0m\u001B[0;34m)\u001B[0m\u001B[0;34m:\u001B[0m\u001B[0;34m\u001B[0m\u001B[0;34m\u001B[0m\u001B[0m\n\u001B[1;32m   1411\u001B[0m         \u001B[0;32mif\u001B[0m \u001B[0mdata\u001B[0m \u001B[0;32mis\u001B[0m \u001B[0;32mNone\u001B[0m\u001B[0;34m:\u001B[0m\u001B[0;34m\u001B[0m\u001B[0;34m\u001B[0m\u001B[0m\n\u001B[0;32m-> 1412\u001B[0;31m             \u001B[0;32mreturn\u001B[0m \u001B[0mfunc\u001B[0m\u001B[0;34m(\u001B[0m\u001B[0max\u001B[0m\u001B[0;34m,\u001B[0m \u001B[0;34m*\u001B[0m\u001B[0mmap\u001B[0m\u001B[0;34m(\u001B[0m\u001B[0msanitize_sequence\u001B[0m\u001B[0;34m,\u001B[0m \u001B[0margs\u001B[0m\u001B[0;34m)\u001B[0m\u001B[0;34m,\u001B[0m \u001B[0;34m**\u001B[0m\u001B[0mkwargs\u001B[0m\u001B[0;34m)\u001B[0m\u001B[0;34m\u001B[0m\u001B[0;34m\u001B[0m\u001B[0m\n\u001B[0m\u001B[1;32m   1413\u001B[0m \u001B[0;34m\u001B[0m\u001B[0m\n\u001B[1;32m   1414\u001B[0m         \u001B[0mbound\u001B[0m \u001B[0;34m=\u001B[0m \u001B[0mnew_sig\u001B[0m\u001B[0;34m.\u001B[0m\u001B[0mbind\u001B[0m\u001B[0;34m(\u001B[0m\u001B[0max\u001B[0m\u001B[0;34m,\u001B[0m \u001B[0;34m*\u001B[0m\u001B[0margs\u001B[0m\u001B[0;34m,\u001B[0m \u001B[0;34m**\u001B[0m\u001B[0mkwargs\u001B[0m\u001B[0;34m)\u001B[0m\u001B[0;34m\u001B[0m\u001B[0;34m\u001B[0m\u001B[0m\n",
      "\u001B[0;32m~/opt/anaconda3/lib/python3.8/site-packages/matplotlib/axes/_axes.py\u001B[0m in \u001B[0;36mhist2d\u001B[0;34m(self, x, y, bins, range, density, weights, cmin, cmax, **kwargs)\u001B[0m\n\u001B[1;32m   6978\u001B[0m         \"\"\"\n\u001B[1;32m   6979\u001B[0m \u001B[0;34m\u001B[0m\u001B[0m\n\u001B[0;32m-> 6980\u001B[0;31m         h, xedges, yedges = np.histogram2d(x, y, bins=bins, range=range,\n\u001B[0m\u001B[1;32m   6981\u001B[0m                                            density=density, weights=weights)\n\u001B[1;32m   6982\u001B[0m \u001B[0;34m\u001B[0m\u001B[0m\n",
      "\u001B[0;32m~/opt/anaconda3/lib/python3.8/site-packages/numpy/core/overrides.py\u001B[0m in \u001B[0;36mhistogram2d\u001B[0;34m(*args, **kwargs)\u001B[0m\n",
      "\u001B[0;32m~/opt/anaconda3/lib/python3.8/site-packages/numpy/lib/twodim_base.py\u001B[0m in \u001B[0;36mhistogram2d\u001B[0;34m(x, y, bins, range, normed, weights, density)\u001B[0m\n\u001B[1;32m    817\u001B[0m         \u001B[0mxedges\u001B[0m \u001B[0;34m=\u001B[0m \u001B[0myedges\u001B[0m \u001B[0;34m=\u001B[0m \u001B[0masarray\u001B[0m\u001B[0;34m(\u001B[0m\u001B[0mbins\u001B[0m\u001B[0;34m)\u001B[0m\u001B[0;34m\u001B[0m\u001B[0;34m\u001B[0m\u001B[0m\n\u001B[1;32m    818\u001B[0m         \u001B[0mbins\u001B[0m \u001B[0;34m=\u001B[0m \u001B[0;34m[\u001B[0m\u001B[0mxedges\u001B[0m\u001B[0;34m,\u001B[0m \u001B[0myedges\u001B[0m\u001B[0;34m]\u001B[0m\u001B[0;34m\u001B[0m\u001B[0;34m\u001B[0m\u001B[0m\n\u001B[0;32m--> 819\u001B[0;31m     \u001B[0mhist\u001B[0m\u001B[0;34m,\u001B[0m \u001B[0medges\u001B[0m \u001B[0;34m=\u001B[0m \u001B[0mhistogramdd\u001B[0m\u001B[0;34m(\u001B[0m\u001B[0;34m[\u001B[0m\u001B[0mx\u001B[0m\u001B[0;34m,\u001B[0m \u001B[0my\u001B[0m\u001B[0;34m]\u001B[0m\u001B[0;34m,\u001B[0m \u001B[0mbins\u001B[0m\u001B[0;34m,\u001B[0m \u001B[0mrange\u001B[0m\u001B[0;34m,\u001B[0m \u001B[0mnormed\u001B[0m\u001B[0;34m,\u001B[0m \u001B[0mweights\u001B[0m\u001B[0;34m,\u001B[0m \u001B[0mdensity\u001B[0m\u001B[0;34m)\u001B[0m\u001B[0;34m\u001B[0m\u001B[0;34m\u001B[0m\u001B[0m\n\u001B[0m\u001B[1;32m    820\u001B[0m     \u001B[0;32mreturn\u001B[0m \u001B[0mhist\u001B[0m\u001B[0;34m,\u001B[0m \u001B[0medges\u001B[0m\u001B[0;34m[\u001B[0m\u001B[0;36m0\u001B[0m\u001B[0;34m]\u001B[0m\u001B[0;34m,\u001B[0m \u001B[0medges\u001B[0m\u001B[0;34m[\u001B[0m\u001B[0;36m1\u001B[0m\u001B[0;34m]\u001B[0m\u001B[0;34m\u001B[0m\u001B[0;34m\u001B[0m\u001B[0m\n\u001B[1;32m    821\u001B[0m \u001B[0;34m\u001B[0m\u001B[0m\n",
      "\u001B[0;32m~/opt/anaconda3/lib/python3.8/site-packages/numpy/core/overrides.py\u001B[0m in \u001B[0;36mhistogramdd\u001B[0;34m(*args, **kwargs)\u001B[0m\n",
      "\u001B[0;32m~/opt/anaconda3/lib/python3.8/site-packages/numpy/lib/histograms.py\u001B[0m in \u001B[0;36mhistogramdd\u001B[0;34m(sample, bins, range, normed, weights, density)\u001B[0m\n\u001B[1;32m   1018\u001B[0m         \u001B[0;31m# Sample is a sequence of 1D arrays.\u001B[0m\u001B[0;34m\u001B[0m\u001B[0;34m\u001B[0m\u001B[0;34m\u001B[0m\u001B[0m\n\u001B[1;32m   1019\u001B[0m         \u001B[0msample\u001B[0m \u001B[0;34m=\u001B[0m \u001B[0mnp\u001B[0m\u001B[0;34m.\u001B[0m\u001B[0matleast_2d\u001B[0m\u001B[0;34m(\u001B[0m\u001B[0msample\u001B[0m\u001B[0;34m)\u001B[0m\u001B[0;34m.\u001B[0m\u001B[0mT\u001B[0m\u001B[0;34m\u001B[0m\u001B[0;34m\u001B[0m\u001B[0m\n\u001B[0;32m-> 1020\u001B[0;31m         \u001B[0mN\u001B[0m\u001B[0;34m,\u001B[0m \u001B[0mD\u001B[0m \u001B[0;34m=\u001B[0m \u001B[0msample\u001B[0m\u001B[0;34m.\u001B[0m\u001B[0mshape\u001B[0m\u001B[0;34m\u001B[0m\u001B[0;34m\u001B[0m\u001B[0m\n\u001B[0m\u001B[1;32m   1021\u001B[0m \u001B[0;34m\u001B[0m\u001B[0m\n\u001B[1;32m   1022\u001B[0m     \u001B[0mnbin\u001B[0m \u001B[0;34m=\u001B[0m \u001B[0mnp\u001B[0m\u001B[0;34m.\u001B[0m\u001B[0mempty\u001B[0m\u001B[0;34m(\u001B[0m\u001B[0mD\u001B[0m\u001B[0;34m,\u001B[0m \u001B[0mint\u001B[0m\u001B[0;34m)\u001B[0m\u001B[0;34m\u001B[0m\u001B[0;34m\u001B[0m\u001B[0m\n",
      "\u001B[0;31mValueError\u001B[0m: too many values to unpack (expected 2)"
     ]
    },
    {
     "data": {
      "text/plain": [
       "<Figure size 432x288 with 1 Axes>"
      ],
      "image/png": "[encoded data removed]"
     },
     "metadata": {
      "needs_background": "light"
     },
     "output_type": "display_data"
    }
   ],
   "execution_count": 27
  },
  {
   "cell_type": "markdown",
   "metadata": {},
   "source": [
    "**Interpretation:**\n",
    "* in the reduced data projection, the occupancy of each bin seems even and well-distributed\n",
    "* in the full dimensional projection, it can be seen easily that the box is **not** fully sampled, large undersampled patches present\n",
    "* *data dimensionality reduction always brings the danger of wrong projection!*"
   ]
  },
  {
   "cell_type": "markdown",
   "metadata": {},
   "source": [
    "**Solution for improvements:**\n",
    "* enhance sampling by\n",
    "    * prolong the simulation\n",
    "    * increase the time step\n",
    "* *Caveat: all solutions come with problems like increased computational cost or sampling errors!*"
   ]
  },
  {
   "cell_type": "code",
   "execution_count": null,
   "metadata": {
    "collapsed": true
   },
   "outputs": [],
   "source": []
  }
 ],
 "metadata": {
  "kernelspec": {
   "display_name": "Python 3",
   "language": "python",
   "name": "python3"
  },
  "language_info": {
   "codemirror_mode": {
    "name": "ipython",
    "version": 3
   },
   "file_extension": ".py",
   "mimetype": "text/x-python",
   "name": "python",
   "nbconvert_exporter": "python",
   "pygments_lexer": "ipython3",
   "version": "3.11.9"
  }
 },
 "nbformat": 4,
 "nbformat_minor": 2
}
