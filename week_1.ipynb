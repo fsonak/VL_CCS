{
 "cells": [
  {
   "cell_type": "markdown",
   "metadata": {},
   "source": "**Week 1 Velocity distributions:**"
  },
  {
   "cell_type": "markdown",
   "metadata": {},
   "source": "Importing all external libraries used in this code"
  },
  {
   "cell_type": "code",
   "metadata": {
    "collapsed": true,
    "ExecuteTime": {
     "end_time": "2024-10-23T12:58:37.341386Z",
     "start_time": "2024-10-23T12:58:35.910406Z"
    }
   },
   "source": [
    "import matplotlib.pyplot as plt\n",
    "from matplotlib import animation, rc\n",
    "from IPython.display import HTML\n",
    "\n",
    "import copy\n",
    "import numpy as np\n",
    "import scipy as scy"
   ],
   "outputs": [],
   "execution_count": 1
  },
  {
   "cell_type": "markdown",
   "metadata": {},
   "source": "Creating a particle class:"
  },
  {
   "cell_type": "code",
   "metadata": {
    "collapsed": true,
    "ExecuteTime": {
     "end_time": "2024-10-23T12:58:37.347625Z",
     "start_time": "2024-10-23T12:58:37.345061Z"
    }
   },
   "source": [
    "class Particle:\n",
    "    def __init__(self, r, x, y, vx, vy):\n",
    "        self.r = r\n",
    "        self.x = x\n",
    "        self.y = y\n",
    "        self.vx = vx\n",
    "        self.vy = vy\n",
    "        \n",
    "    def __repr__(self):\n",
    "        return str(\"This is a particle at %0.2f, %0.2f with v=%0.2f,%0.2f\" % (self.x,self.y,self.vx,self.vy))"
   ],
   "outputs": [],
   "execution_count": 2
  },
  {
   "cell_type": "markdown",
   "metadata": {},
   "source": [
    "* Defining the box:"
   ]
  },
  {
   "cell_type": "code",
   "metadata": {
    "collapsed": true,
    "ExecuteTime": {
     "end_time": "2024-10-23T12:58:37.530997Z",
     "start_time": "2024-10-23T12:58:37.529151Z"
    }
   },
   "source": [
    "box_size_x = 20\n",
    "box_size_y = 20\n",
    "\n",
    "box = [box_size_x,box_size_y]"
   ],
   "outputs": [],
   "execution_count": 3
  },
  {
   "cell_type": "code",
   "metadata": {
    "ExecuteTime": {
     "end_time": "2024-10-23T12:58:37.541180Z",
     "start_time": "2024-10-23T12:58:37.539609Z"
    }
   },
   "source": [
    "number_of_particles = 10\n",
    "radius = 0.5"
   ],
   "outputs": [],
   "execution_count": 4
  },
  {
   "cell_type": "markdown",
   "metadata": {},
   "source": [
    "* Initialize velocities:"
   ]
  },
  {
   "cell_type": "code",
   "metadata": {
    "collapsed": false,
    "ExecuteTime": {
     "end_time": "2024-10-23T12:58:37.548653Z",
     "start_time": "2024-10-23T12:58:37.546036Z"
    }
   },
   "source": [
    "baseline_velocity = 0.5\n",
    "\n",
    "vel = np.ones(number_of_particles) * baseline_velocity\n",
    "angles = np.random.uniform(0,2 * np.pi, number_of_particles)\n"
   ],
   "outputs": [],
   "execution_count": 5
  },
  {
   "cell_type": "markdown",
   "metadata": {},
   "source": [
    "* Initialize position:"
   ]
  },
  {
   "cell_type": "code",
   "metadata": {
    "collapsed": false,
    "ExecuteTime": {
     "end_time": "2024-10-23T12:58:37.558706Z",
     "start_time": "2024-10-23T12:58:37.555915Z"
    }
   },
   "source": [
    "# random positions for particles\n",
    "\n",
    "x_rand = np.random.randint(1,box[0]-1,number_of_particles)\n",
    "y_rand = np.random.randint(1,box[1]-1,number_of_particles)\n"
   ],
   "outputs": [],
   "execution_count": 6
  },
  {
   "cell_type": "markdown",
   "metadata": {
    "collapsed": true
   },
   "source": [
    "* Setting up the particle:"
   ]
  },
  {
   "cell_type": "code",
   "metadata": {
    "ExecuteTime": {
     "end_time": "2024-10-23T12:58:37.567597Z",
     "start_time": "2024-10-23T12:58:37.565257Z"
    }
   },
   "source": [
    "particles = []\n",
    "for i in range(number_of_particles):\n",
    "    particles.append(Particle(radius,x_rand[i],y_rand[i],np.sin(angles[i]) * vel[i],np.cos(angles[i]) * vel[i]))"
   ],
   "outputs": [],
   "execution_count": 7
  },
  {
   "cell_type": "markdown",
   "metadata": {},
   "source": [
    "* Defining simulation step numbers"
   ]
  },
  {
   "cell_type": "code",
   "metadata": {
    "collapsed": true,
    "ExecuteTime": {
     "end_time": "2024-10-23T12:58:37.575321Z",
     "start_time": "2024-10-23T12:58:37.573725Z"
    }
   },
   "source": "steps = 50",
   "outputs": [],
   "execution_count": 8
  },
  {
   "cell_type": "markdown",
   "metadata": {},
   "source": [
    "* initialize trajectory:"
   ]
  },
  {
   "cell_type": "code",
   "metadata": {
    "collapsed": false,
    "scrolled": true,
    "ExecuteTime": {
     "end_time": "2024-10-23T12:58:37.591770Z",
     "start_time": "2024-10-23T12:58:37.588233Z"
    }
   },
   "source": [
    "data_traj = np.zeros((number_of_particles,4,steps))\n",
    "data_traj.shape"
   ],
   "outputs": [
    {
     "data": {
      "text/plain": [
       "(10, 4, 50)"
      ]
     },
     "execution_count": 9,
     "metadata": {},
     "output_type": "execute_result"
    }
   ],
   "execution_count": 9
  },
  {
   "cell_type": "markdown",
   "metadata": {},
   "source": [
    "* define time integrator for numerical, stepwise solution of equation of motion with a discrete time step $dt$:"
   ]
  },
  {
   "cell_type": "code",
   "metadata": {
    "collapsed": false,
    "ExecuteTime": {
     "end_time": "2024-10-23T12:58:37.610944Z",
     "start_time": "2024-10-23T12:58:37.609029Z"
    }
   },
   "source": [
    "def move(p,dt):\n",
    "    p.x = p.x + p.vx * dt\n",
    "    p.y = p.y + p.vy * dt\n",
    "    return p"
   ],
   "outputs": [],
   "execution_count": 10
  },
  {
   "cell_type": "code",
   "metadata": {
    "ExecuteTime": {
     "end_time": "2024-10-23T12:58:37.623008Z",
     "start_time": "2024-10-23T12:58:37.620869Z"
    }
   },
   "source": [
    "def move_unbound(p,dt):\n",
    "    p.x = np.mod(p.x + p.vx * dt, box_size_x)\n",
    "    p.y = np.mod(p.y + p.vy * dt, box_size_y)\n",
    "    return p"
   ],
   "outputs": [],
   "execution_count": 11
  },
  {
   "cell_type": "markdown",
   "metadata": {},
   "source": [
    "* define box reflection:"
   ]
  },
  {
   "cell_type": "code",
   "metadata": {
    "collapsed": true,
    "ExecuteTime": {
     "end_time": "2024-10-23T12:58:37.633482Z",
     "start_time": "2024-10-23T12:58:37.630388Z"
    }
   },
   "source": [
    "def reflect(p):\n",
    "    if (p.x + p.r) >= box[0]:\n",
    "        p.vx = p.vx * (-1)\n",
    "    if (p.x) <= p.r:\n",
    "        p.vx = p.vx * (-1)\n",
    "    if (p.y + p.r) >= box[1]:\n",
    "        p.vy = p.vy * (-1)\n",
    "    if (p.y) <= p.r:\n",
    "        p.vy = p.vy * (-1)\n",
    "    return p"
   ],
   "outputs": [],
   "execution_count": 12
  },
  {
   "cell_type": "code",
   "metadata": {
    "ExecuteTime": {
     "end_time": "2024-10-23T12:58:37.645786Z",
     "start_time": "2024-10-23T12:58:37.640194Z"
    }
   },
   "source": [
    "# https://hermann-baum.de/elastischer_stoss/\n",
    "def collide_simple(particles):\n",
    "    for i in range(len(particles)):\n",
    "        for j in range(len(particles)):\n",
    "            if i < j:\n",
    "                distance = np.sqrt(np.abs(particles[i].x-particles[j].x)**2+np.abs(particles[i].y-particles[j].y)**2)\n",
    "                if distance<(particles[i].r+particles[j].r):\n",
    "                    # angle between x-axis and line between particles\n",
    "                    phi = np.arctan((particles[j].y - particles[i].y)/(particles[j].x - particles[i].x))\n",
    "                    # change the velocities\n",
    "                    particles[i].vx = ( particles[i].vx*np.sin(phi)-particles[i].vy*np.cos(phi))*np.sin(phi)+(particles[j].vx*np.cos(phi)+particles[j].vy*np.sin(phi))*np.cos(phi)\n",
    "                    particles[i].vy = (-particles[i].vx*np.sin(phi)+particles[i].vy*np.cos(phi))*np.cos(phi)+(particles[j].vx*np.cos(phi)+particles[j].vy*np.sin(phi))*np.sin(phi)\n",
    "                    particles[j].vx = ( particles[j].vx*np.sin(phi)-particles[j].vy*np.cos(phi))*np.sin(phi)+(particles[i].vx*np.cos(phi)+particles[i].vy*np.sin(phi))*np.cos(phi)\n",
    "                    particles[j].vy = (-particles[j].vx*np.sin(phi)+particles[j].vy*np.cos(phi))*np.cos(phi)+(particles[i].vx*np.cos(phi)+particles[i].vy*np.sin(phi))*np.sin(phi)\n",
    "                    #print(particles[i],particles[j],'collided with a distance of ', distance)\n"
   ],
   "outputs": [],
   "execution_count": 13
  },
  {
   "metadata": {
    "ExecuteTime": {
     "end_time": "2024-10-23T12:58:37.658611Z",
     "start_time": "2024-10-23T12:58:37.655179Z"
    }
   },
   "cell_type": "code",
   "source": [
    "# check if particles are in border area\n",
    "\n",
    "def border_control(particles, radius, box_size_x, box_size_y):\n",
    "    # for i in range(len(particles)):\n",
    "    #     for j in range(len(particles)):\n",
    "            if particles.x < radius or particles.x > (box_size_x - radius):\n",
    "                particles.x = np.mod(particles.x, box_size_x - radius)\n",
    "            if particles.y < radius or particles.y > (box_size_y - radius):\n",
    "                particles.y = np.mod(particles.y, box_size_y - radius)\n",
    "  \n",
    "particles[0].x = 9.6\n",
    "particles[0].y = 5\n",
    "particles[0].vx = 0.4\n",
    "particles[0].vy = 0  \n",
    "                \n",
    "b = border_control(particles[0], 0.5, 10, 10)            \n",
    "\n",
    "print(particles[0])"
   ],
   "outputs": [
    {
     "name": "stdout",
     "output_type": "stream",
     "text": [
      "This is a particle at 0.10, 5.00 with v=0.40,0.00\n"
     ]
    }
   ],
   "execution_count": 14
  },
  {
   "cell_type": "code",
   "metadata": {
    "ExecuteTime": {
     "end_time": "2024-10-23T12:58:37.682677Z",
     "start_time": "2024-10-23T12:58:37.673632Z"
    }
   },
   "source": [
    "# https://hermann-baum.de/elastischer_stoss/\n",
    "def calculate_distance(particle_1, particle_2):\n",
    "    distance = np.sqrt(np.abs(particle_1.x - particle_2.x)**2+np.abs(particle_1.y - particle_2.y)**2)\n",
    "    return distance\n",
    "\n",
    "\n",
    "def collide_boundary(particles,step):\n",
    "    for i in range(len(particles)):\n",
    "        for j in range(len(particles)):\n",
    "            if i < j:\n",
    "                distance = calculate_distance(particles[i],particles[j])\n",
    "                #print(i,j)\n",
    "                \n",
    "                #distance = np.sqrt(np.abs(particles[i].x-particles[j].x)**2+np.abs(particles[i].y-particles[j].y)**2)\n",
    "                \n",
    "                if distance < (particles[i].r + particles[j].r):\n",
    "                    print(step)\n",
    "                    print(particles[i],particles[j],'collided with a distance of ', distance)\n",
    "                    # angle between x-axis and line between particles\n",
    "                    phi = np.arctan((particles[j].y - particles[i].y)/(particles[j].x - particles[i].x))\n",
    "\n",
    "                    # move the particles out\n",
    "                    distance_x = np.sign(particles[j].x-particles[i].x) * ((particles[i].r+particles[j].r)-distance) * np.cos(phi)\n",
    "                    distance_y = np.sign(particles[j].y-particles[i].y) * ((particles[i].r+particles[j].r)-distance) * np.sin(phi)\n",
    "                    print((particles[i].r+particles[j].r)-distance,phi,np.cos(phi),np.sin(phi))\n",
    "                    print(distance_x,distance_y)\n",
    "                    particles[i].x  = particles[i].x - (distance_x/2)\n",
    "                    particles[i].y  = particles[i].y - (distance_y/2)\n",
    "                    particles[j].x  = particles[j].x + (distance_x/2)\n",
    "                    particles[j].y  = particles[j].y + (distance_y/2)\n",
    "\n",
    "                    # change the velocities\n",
    "                    particles[i].vx = ( particles[i].vx*np.sin(phi)-particles[i].vy*np.cos(phi))*np.sin(phi) + (particles[j].vx*np.cos(phi)+particles[j].vy*np.sin(phi))*np.cos(phi)\n",
    "                    particles[i].vy = (-particles[i].vx*np.sin(phi)+particles[i].vy*np.cos(phi))*np.cos(phi) + (particles[j].vx*np.cos(phi)+particles[j].vy*np.sin(phi))*np.sin(phi)\n",
    "                    particles[j].vx = ( particles[j].vx*np.sin(phi)-particles[j].vy*np.cos(phi))*np.sin(phi) + (particles[i].vx*np.cos(phi)+particles[i].vy*np.sin(phi))*np.cos(phi)\n",
    "                    particles[j].vy = (-particles[j].vx*np.sin(phi)+particles[j].vy*np.cos(phi))*np.cos(phi) + (particles[i].vx*np.cos(phi)+particles[i].vy*np.sin(phi))*np.sin(phi)\n",
    "                    distance = np.sqrt(np.abs(particles[i].x-particles[j].x)**2+np.abs(particles[i].y-particles[j].y)**2)\n",
    "                    print(particles[i],particles[j],'collided with a distance of ', distance)\n",
    "                    "
   ],
   "outputs": [],
   "execution_count": 15
  },
  {
   "cell_type": "code",
   "metadata": {
    "ExecuteTime": {
     "end_time": "2024-10-23T12:58:37.691851Z",
     "start_time": "2024-10-23T12:58:37.690128Z"
    }
   },
   "source": [
    "# particles[0].x = 5\n",
    "# particles[0].y = 10\n",
    "# particles[0].vx = 0.4\n",
    "# particles[0].vy = 0\n",
    "# \n",
    "# particles[1].x = 15\n",
    "# particles[1].y = 10\n",
    "# particles[1].vx = -0.4\n",
    "# particles[1].vy = 0\n",
    "# \n",
    "# particles[2].x = 10\n",
    "# particles[2].y = 14.5\n",
    "# particles[2].vx = 0\n",
    "# particles[2].vy = -0.4\n",
    "# \n",
    "# print(particles)"
   ],
   "outputs": [],
   "execution_count": 16
  },
  {
   "cell_type": "markdown",
   "metadata": {},
   "source": [
    "* carry out simulation:"
   ]
  },
  {
   "cell_type": "code",
   "metadata": {
    "collapsed": false,
    "ExecuteTime": {
     "end_time": "2024-10-23T12:58:37.723028Z",
     "start_time": "2024-10-23T12:58:37.702128Z"
    }
   },
   "source": [
    "\n",
    "for i in range(steps):\n",
    "    for j in range(number_of_particles):\n",
    "        #move(p1,1)\n",
    "        #reflect(p1)\n",
    "        move_unbound(particles[j],1)\n",
    "    collide_boundary(particles,i)\n",
    "    for j in range(number_of_particles):\n",
    "        data_traj[j,:,i] = [particles[j].x, particles[j].y, particles[j].vx, particles[j].vy]\n",
    "        "
   ],
   "outputs": [
    {
     "name": "stdout",
     "output_type": "stream",
     "text": [
      "5\n",
      "This is a particle at 3.92, 8.69 with v=0.49,0.11 This is a particle at 4.19, 8.06 with v=-0.47,0.18 collided with a distance of  0.6845254086676611\n",
      "0.3154745913323389 -1.159480539604315 0.3998157184117938 -0.9165955440164769\n",
      "0.12613170037420615 0.2891626046656409\n",
      "This is a particle at 3.86, 8.54 with v=0.31,0.45 This is a particle at 4.26, 8.21 with v=-0.44,0.13 collided with a distance of  0.5237169350108627\n",
      "6\n",
      "This is a particle at 4.17, 9.00 with v=0.31,0.45 This is a particle at 3.81, 8.34 with v=-0.44,0.13 collided with a distance of  0.7490470735128543\n",
      "0.25095292648714573 1.0759671767579517 0.474881301717099 0.8800498561328634\n",
      "-0.11917285239993122 -0.22085108685113364\n",
      "This is a particle at 4.23, 9.11 with v=0.01,0.02 This is a particle at 3.75, 8.23 with v=-0.39,0.21 collided with a distance of  1.0000000000000002\n",
      "7\n",
      "This is a particle at 14.99, 8.80 with v=0.50,-0.03 This is a particle at 14.48, 8.11 with v=-0.31,0.39 collided with a distance of  0.8586919780422925\n",
      "0.14130802195770753 0.9334374737554363 0.5950749081381773 0.8036702394044088\n",
      "-0.08408885818567036 -0.11356505183651427\n",
      "This is a particle at 15.04, 8.86 with v=0.41,-0.10 This is a particle at 14.44, 8.05 with v=-0.29,0.41 collided with a distance of  0.9999999999999987\n",
      "12\n",
      "This is a particle at 13.56, 10.25 with v=-0.34,-0.37 This is a particle at 12.97, 10.09 with v=-0.29,0.41 collided with a distance of  0.6092247350067066\n",
      "0.3907752649932934 0.2789564755154174 0.9613432988767446 0.27535261339740014\n",
      "-0.3756691823680867 -0.1076009904669649\n",
      "This is a particle at 13.75, 10.31 with v=-0.09,-0.36 This is a particle at 12.78, 10.03 with v=-0.31,0.41 collided with a distance of  0.9999999999999981\n",
      "21\n",
      "This is a particle at 12.56, 12.28 with v=-0.11,-0.49 This is a particle at 13.20, 12.99 with v=-0.45,-0.23 collided with a distance of  0.969047671189399\n",
      "0.03095232881060095 0.8366875050946957 0.6699257859661292 0.7424280714639393\n",
      "0.020735763205923904 0.02297987778617219\n",
      "This is a particle at 12.55, 12.26 with v=-0.13,-0.50 This is a particle at 13.22, 13.01 with v=-0.44,-0.22 collided with a distance of  1.0000000000000009\n",
      "28\n",
      "This is a particle at 11.70, 5.00 with v=0.40,0.00 This is a particle at 12.26, 4.55 with v=-0.09,-0.36 collided with a distance of  0.7128528527320496\n",
      "0.28714714726795043 -0.6770682040371382 0.7794128671766896 -0.6265106403561014\n",
      "0.22380618135372038 0.17990074311127138\n",
      "This is a particle at 11.59, 4.91 with v=0.28,0.04 This is a particle at 12.37, 4.64 with v=-0.06,-0.37 collided with a distance of  0.8237828539240327\n",
      "29\n",
      "This is a particle at 11.86, 4.95 with v=0.28,0.04 This is a particle at 12.30, 4.27 with v=-0.06,-0.37 collided with a distance of  0.8054604831464187\n",
      "0.19453951685358128 -0.9932334356006572 0.5459837608269722 -0.8377957584717385\n",
      "0.10621541704118045 0.16298438207507168\n",
      "This is a particle at 11.81, 4.87 with v=0.36,-0.05 This is a particle at 12.36, 4.36 with v=-0.08,-0.35 collided with a distance of  0.7483749990499702\n",
      "30\n",
      "This is a particle at 12.17, 4.81 with v=0.36,-0.05 This is a particle at 12.28, 4.01 with v=-0.08,-0.35 collided with a distance of  0.8152054675076188\n",
      "0.1847945324923812 -1.4440636564064444 0.12639369689666527 -0.9919801577576005\n",
      "0.02335686412800299 0.18331250949453434\n",
      "This is a particle at 12.16, 4.72 with v=0.39,-0.29 This is a particle at 12.29, 4.10 with v=-0.08,-0.35 collided with a distance of  0.6380003261750076\n",
      "30\n",
      "This is a particle at 12.16, 4.72 with v=0.39,-0.29 This is a particle at 13.06, 4.53 with v=-0.42,0.28 collided with a distance of  0.9160321495898052\n",
      "0.08396785041019483 -0.2174451153920213 0.9764518151770296 -0.21573560818159787\n",
      "0.08199055994954804 0.018114855275944815\n",
      "This is a particle at 12.12, 4.71 with v=-0.50,-0.28 This is a particle at 13.10, 4.53 with v=-0.38,0.27 collided with a distance of  0.9928144411955164\n",
      "30\n",
      "This is a particle at 12.29, 4.10 with v=-0.08,-0.35 This is a particle at 13.10, 4.53 with v=-0.38,0.27 collided with a distance of  0.9194399190096428\n",
      "0.08056008099035716 0.4950355352540442 0.8799518289102087 0.4750629208826751\n",
      "0.07088899060461933 0.038271107381823946\n",
      "This is a particle at 12.25, 4.08 with v=-0.05,-0.34 This is a particle at 13.13, 4.55 with v=-0.38,0.27 collided with a distance of  0.9999999999999997\n",
      "31\n",
      "This is a particle at 11.62, 4.44 with v=-0.50,-0.28 This is a particle at 12.20, 3.74 with v=-0.05,-0.34 collided with a distance of  0.9089100441226462\n",
      "0.0910899558773538 -0.881334673003993 0.6361218926340371 -0.7715885805995905\n",
      "0.057944315132653225 0.07028396976228674\n",
      "This is a particle at 11.59, 4.40 with v=-0.29,-0.43 This is a particle at 12.23, 3.77 with v=-0.10,-0.31 collided with a distance of  0.8960123390618195\n",
      "32\n",
      "This is a particle at 11.31, 3.97 with v=-0.29,-0.43 This is a particle at 12.13, 3.47 with v=-0.10,-0.31 collided with a distance of  0.9620522306950614\n",
      "0.037947769304938594 -0.5539793532599523 0.8504378204589909 -0.5260755777765788\n",
      "0.032272218218972575 0.019963394662427893\n",
      "This is a particle at 11.29, 3.96 with v=-0.21,-0.44 This is a particle at 12.14, 3.48 with v=-0.12,-0.30 collided with a distance of  0.9795841622750543\n",
      "34\n",
      "This is a particle at 10.83, 5.76 with v=-0.13,-0.50 This is a particle at 11.60, 5.65 with v=-0.38,0.27 collided with a distance of  0.7740133506037982\n",
      "0.22598664939620183 -0.14582726514762212 0.9893860337419503 -0.14531096392348458\n",
      "0.22358803472474084 0.032838337857600645\n",
      "This is a particle at 10.72, 5.75 with v=-0.49,-0.50 This is a particle at 11.71, 5.67 with v=-0.38,0.27 collided with a distance of  0.9925856857833831\n",
      "40\n",
      "This is a particle at 4.85, 8.74 with v=-0.44,-0.22 This is a particle at 4.46, 9.63 with v=0.01,0.02 collided with a distance of  0.9669465021908181\n",
      "0.033053497809181875 -1.1534951295935225 0.4052947240952858 -0.9141860787720004\n",
      "-0.0133964082749565 -0.030217047551874886\n",
      "This is a particle at 4.86, 8.76 with v=-0.46,-0.20 This is a particle at 4.45, 9.61 with v=0.01,0.01 collided with a distance of  0.9450694487692141\n",
      "47\n",
      "This is a particle at 8.15, 17.31 with v=-0.21,-0.44 This is a particle at 7.72, 16.74 with v=-0.39,0.21 collided with a distance of  0.7129419091443353\n",
      "0.2870580908556647 0.925693462936751 0.6012806338183349 0.7990379211245369\n",
      "-0.17260247081237523 -0.22937030015928875\n",
      "This is a particle at 8.24, 17.43 with v=0.04,-0.23 This is a particle at 7.64, 16.63 with v=-0.45,0.16 collided with a distance of  0.9999999999999999\n"
     ]
    }
   ],
   "execution_count": 17
  },
  {
   "cell_type": "code",
   "metadata": {
    "ExecuteTime": {
     "end_time": "2024-10-23T12:58:37.738799Z",
     "start_time": "2024-10-23T12:58:37.736600Z"
    }
   },
   "source": [
    "#data_traj"
   ],
   "outputs": [],
   "execution_count": 18
  },
  {
   "cell_type": "markdown",
   "metadata": {},
   "source": [
    "* Plotting trajectory with Matplotlib:"
   ]
  },
  {
   "cell_type": "code",
   "metadata": {
    "collapsed": false,
    "scrolled": true,
    "ExecuteTime": {
     "end_time": "2024-10-23T12:58:37.873901Z",
     "start_time": "2024-10-23T12:58:37.758041Z"
    }
   },
   "source": [
    "for data_traj_j in data_traj:\n",
    "    plt.plot(data_traj_j[0],data_traj_j[1],'-')\n",
    "plt.xlabel('position x')\n",
    "plt.ylabel('position y')\n",
    "\n",
    "plt.grid()\n",
    "plt.show()"
   ],
   "outputs": [
    {
     "data": {
      "text/plain": [
       "<Figure size 432x288 with 1 Axes>"
      ],
      "image/png": "[encoded data removed]"
     },
     "metadata": {
      "needs_background": "light"
     },
     "output_type": "display_data"
    }
   ],
   "execution_count": 19
  },
  {
   "cell_type": "markdown",
   "metadata": {},
   "source": [
    "**Animate trajectory:**"
   ]
  },
  {
   "cell_type": "markdown",
   "metadata": {},
   "source": [
    "* Set up the figure, the axis, and the plot element we want to animate"
   ]
  },
  {
   "cell_type": "code",
   "metadata": {
    "collapsed": false,
    "ExecuteTime": {
     "end_time": "2024-10-23T12:58:37.963427Z",
     "start_time": "2024-10-23T12:58:37.884530Z"
    }
   },
   "source": [
    "fig, ax = plt.subplots()\n",
    "\n",
    "ax.set_xlim((0, box[0]))\n",
    "ax.set_ylim((0, box[1]))\n",
    "\n",
    "plt.xlabel('position x')\n",
    "plt.ylabel('position y')\n",
    "\n",
    "# make the points in the plot the correct size according to the radius of the particles\n",
    "# use ax.transData.transform to convert radius size from particle to markerSize from pyplot\n",
    "desired_size_in_data_units = radius\n",
    "data_to_points = ax.transData.transform((desired_size_in_data_units, 0)) - ax.transData.transform((0, 0))\n",
    "marker_size_in_points = data_to_points[0]\n",
    "\n",
    "\n",
    "dot, = ax.plot([], [], 'bo', ms=marker_size_in_points)\n",
    "\n",
    "\n",
    "#ax.plot(5,5, 'bo', ms=marker_size_in_points)\n",
    "# dont show the plot \n",
    "#plt.close()"
   ],
   "outputs": [
    {
     "data": {
      "text/plain": [
       "<Figure size 432x288 with 1 Axes>"
      ],
      "image/png": "[encoded data removed]"
     },
     "metadata": {
      "needs_background": "light"
     },
     "output_type": "display_data"
    }
   ],
   "execution_count": 20
  },
  {
   "cell_type": "markdown",
   "metadata": {},
   "source": [
    "* initialization function: plot the background of each frame"
   ]
  },
  {
   "cell_type": "code",
   "metadata": {
    "collapsed": true,
    "ExecuteTime": {
     "end_time": "2024-10-23T12:58:37.978312Z",
     "start_time": "2024-10-23T12:58:37.976448Z"
    }
   },
   "source": [
    "def init():\n",
    "    dot.set_data([], [])\n",
    "    return (dot,)"
   ],
   "outputs": [],
   "execution_count": 21
  },
  {
   "cell_type": "code",
   "metadata": {
    "ExecuteTime": {
     "end_time": "2024-10-23T12:58:37.990303Z",
     "start_time": "2024-10-23T12:58:37.987769Z"
    }
   },
   "source": "data_traj[:,0,1]",
   "outputs": [
    {
     "data": {
      "text/plain": [
       "array([ 0.9       , 14.77778892,  2.10953347, 17.31668197,  2.0016619 ,\n",
       "       11.99874576, 16.37099925,  1.97334717,  6.06457517,  5.16485636])"
      ]
     },
     "execution_count": 22,
     "metadata": {},
     "output_type": "execute_result"
    }
   ],
   "execution_count": 22
  },
  {
   "cell_type": "markdown",
   "metadata": {},
   "source": [
    "* animation function. This is called sequentially"
   ]
  },
  {
   "cell_type": "code",
   "metadata": {
    "collapsed": true,
    "ExecuteTime": {
     "end_time": "2024-10-23T12:58:38.015444Z",
     "start_time": "2024-10-23T12:58:38.013371Z"
    }
   },
   "source": [
    "def animate(i):\n",
    "    x = data_traj[:,0,i]\n",
    "    y = data_traj[:,1,i]\n",
    "    dot.set_data(x, y)\n",
    "    return (dot,)\n"
   ],
   "outputs": [],
   "execution_count": 23
  },
  {
   "cell_type": "markdown",
   "metadata": {},
   "source": [
    "* call the animator. blit=True means only re-draw the parts that have changed."
   ]
  },
  {
   "cell_type": "code",
   "metadata": {
    "collapsed": false,
    "ExecuteTime": {
     "end_time": "2024-10-23T12:58:38.049084Z",
     "start_time": "2024-10-23T12:58:38.027568Z"
    }
   },
   "source": [
    "anim = animation.FuncAnimation(fig, animate, init_func=init,\n",
    "                               frames=steps, interval=60, blit=True)"
   ],
   "outputs": [],
   "execution_count": 24
  },
  {
   "cell_type": "code",
   "metadata": {
    "collapsed": false,
    "ExecuteTime": {
     "end_time": "2024-10-23T12:58:40.513527Z",
     "start_time": "2024-10-23T12:58:38.058035Z"
    }
   },
   "source": [
    "HTML(anim.to_html5_video())\n",
    "anim.save('animation.mp4', writer='ffmpeg', fps=30)\n"
   ],
   "outputs": [],
   "execution_count": 25
  },
  {
   "cell_type": "markdown",
   "metadata": {
    "collapsed": true
   },
   "source": [
    "**Histogramming:**"
   ]
  },
  {
   "cell_type": "code",
   "metadata": {
    "collapsed": false,
    "ExecuteTime": {
     "end_time": "2024-10-23T12:58:41.018825Z",
     "start_time": "2024-10-23T12:58:40.524107Z"
    }
   },
   "source": [
    "plt.hist(data_traj[0],range=(0,box[0]),bins=10)\n",
    "plt.xlabel('position x')\n",
    "plt.ylabel('occupancy')\n",
    "plt.show()"
   ],
   "outputs": [
    {
     "data": {
      "text/plain": [
       "<Figure size 432x288 with 1 Axes>"
      ],
      "image/png": "[encoded data removed]"
     },
     "metadata": {
      "needs_background": "light"
     },
     "output_type": "display_data"
    }
   ],
   "execution_count": 26
  },
  {
   "cell_type": "code",
   "metadata": {
    "collapsed": false,
    "ExecuteTime": {
     "end_time": "2024-10-23T12:58:41.488596Z",
     "start_time": "2024-10-23T12:58:41.032881Z"
    }
   },
   "source": [
    "plt.hist(data_traj[1],range=(0,box[1]),bins=10)\n",
    "plt.xlabel('position y')\n",
    "plt.ylabel('occupancy')\n",
    "plt.show()"
   ],
   "outputs": [
    {
     "data": {
      "text/plain": [
       "<Figure size 432x288 with 1 Axes>"
      ],
      "image/png": "[encoded data removed]"
     },
     "metadata": {
      "needs_background": "light"
     },
     "output_type": "display_data"
    }
   ],
   "execution_count": 27
  },
  {
   "cell_type": "code",
   "metadata": {
    "collapsed": false,
    "scrolled": true,
    "ExecuteTime": {
     "end_time": "2024-10-23T12:58:41.620154Z",
     "start_time": "2024-10-23T12:58:41.501512Z"
    }
   },
   "source": [
    "plt.hist2d(data_traj[0], data_traj[1], range=[[0,box[0]],[0,box[1]]], bins=10)\n",
    "plt.xlabel('position x')\n",
    "plt.ylabel('position y')\n",
    "plt.colorbar().set_label('occupancy')\n",
    "plt.show()"
   ],
   "outputs": [
    {
     "ename": "ValueError",
     "evalue": "too many values to unpack (expected 2)",
     "output_type": "error",
     "traceback": [
      "\u001B[0;31m---------------------------------------------------------------------------\u001B[0m",
      "\u001B[0;31mAttributeError\u001B[0m                            Traceback (most recent call last)",
      "\u001B[0;32m~/opt/anaconda3/lib/python3.8/site-packages/numpy/lib/histograms.py\u001B[0m in \u001B[0;36mhistogramdd\u001B[0;34m(sample, bins, range, normed, weights, density)\u001B[0m\n\u001B[1;32m   1014\u001B[0m         \u001B[0;31m# Sample is an ND-array.\u001B[0m\u001B[0;34m\u001B[0m\u001B[0;34m\u001B[0m\u001B[0;34m\u001B[0m\u001B[0m\n\u001B[0;32m-> 1015\u001B[0;31m         \u001B[0mN\u001B[0m\u001B[0;34m,\u001B[0m \u001B[0mD\u001B[0m \u001B[0;34m=\u001B[0m \u001B[0msample\u001B[0m\u001B[0;34m.\u001B[0m\u001B[0mshape\u001B[0m\u001B[0;34m\u001B[0m\u001B[0;34m\u001B[0m\u001B[0m\n\u001B[0m\u001B[1;32m   1016\u001B[0m     \u001B[0;32mexcept\u001B[0m \u001B[0;34m(\u001B[0m\u001B[0mAttributeError\u001B[0m\u001B[0;34m,\u001B[0m \u001B[0mValueError\u001B[0m\u001B[0;34m)\u001B[0m\u001B[0;34m:\u001B[0m\u001B[0;34m\u001B[0m\u001B[0;34m\u001B[0m\u001B[0m\n",
      "\u001B[0;31mAttributeError\u001B[0m: 'list' object has no attribute 'shape'",
      "\nDuring handling of the above exception, another exception occurred:\n",
      "\u001B[0;31mValueError\u001B[0m                                Traceback (most recent call last)",
      "\u001B[0;32m<ipython-input-28-e907161d4a6e>\u001B[0m in \u001B[0;36m<module>\u001B[0;34m\u001B[0m\n\u001B[0;32m----> 1\u001B[0;31m \u001B[0mplt\u001B[0m\u001B[0;34m.\u001B[0m\u001B[0mhist2d\u001B[0m\u001B[0;34m(\u001B[0m\u001B[0mdata_traj\u001B[0m\u001B[0;34m[\u001B[0m\u001B[0;36m0\u001B[0m\u001B[0;34m]\u001B[0m\u001B[0;34m,\u001B[0m \u001B[0mdata_traj\u001B[0m\u001B[0;34m[\u001B[0m\u001B[0;36m1\u001B[0m\u001B[0;34m]\u001B[0m\u001B[0;34m,\u001B[0m \u001B[0mrange\u001B[0m\u001B[0;34m=\u001B[0m\u001B[0;34m[\u001B[0m\u001B[0;34m[\u001B[0m\u001B[0;36m0\u001B[0m\u001B[0;34m,\u001B[0m\u001B[0mbox\u001B[0m\u001B[0;34m[\u001B[0m\u001B[0;36m0\u001B[0m\u001B[0;34m]\u001B[0m\u001B[0;34m]\u001B[0m\u001B[0;34m,\u001B[0m\u001B[0;34m[\u001B[0m\u001B[0;36m0\u001B[0m\u001B[0;34m,\u001B[0m\u001B[0mbox\u001B[0m\u001B[0;34m[\u001B[0m\u001B[0;36m1\u001B[0m\u001B[0;34m]\u001B[0m\u001B[0;34m]\u001B[0m\u001B[0;34m]\u001B[0m\u001B[0;34m,\u001B[0m \u001B[0mbins\u001B[0m\u001B[0;34m=\u001B[0m\u001B[0;36m10\u001B[0m\u001B[0;34m)\u001B[0m\u001B[0;34m\u001B[0m\u001B[0;34m\u001B[0m\u001B[0m\n\u001B[0m\u001B[1;32m      2\u001B[0m \u001B[0mplt\u001B[0m\u001B[0;34m.\u001B[0m\u001B[0mxlabel\u001B[0m\u001B[0;34m(\u001B[0m\u001B[0;34m'position x'\u001B[0m\u001B[0;34m)\u001B[0m\u001B[0;34m\u001B[0m\u001B[0;34m\u001B[0m\u001B[0m\n\u001B[1;32m      3\u001B[0m \u001B[0mplt\u001B[0m\u001B[0;34m.\u001B[0m\u001B[0mylabel\u001B[0m\u001B[0;34m(\u001B[0m\u001B[0;34m'position y'\u001B[0m\u001B[0;34m)\u001B[0m\u001B[0;34m\u001B[0m\u001B[0;34m\u001B[0m\u001B[0m\n\u001B[1;32m      4\u001B[0m \u001B[0mplt\u001B[0m\u001B[0;34m.\u001B[0m\u001B[0mcolorbar\u001B[0m\u001B[0;34m(\u001B[0m\u001B[0;34m)\u001B[0m\u001B[0;34m.\u001B[0m\u001B[0mset_label\u001B[0m\u001B[0;34m(\u001B[0m\u001B[0;34m'occupancy'\u001B[0m\u001B[0;34m)\u001B[0m\u001B[0;34m\u001B[0m\u001B[0;34m\u001B[0m\u001B[0m\n\u001B[1;32m      5\u001B[0m \u001B[0mplt\u001B[0m\u001B[0;34m.\u001B[0m\u001B[0mshow\u001B[0m\u001B[0;34m(\u001B[0m\u001B[0;34m)\u001B[0m\u001B[0;34m\u001B[0m\u001B[0;34m\u001B[0m\u001B[0m\n",
      "\u001B[0;32m~/opt/anaconda3/lib/python3.8/site-packages/matplotlib/pyplot.py\u001B[0m in \u001B[0;36mhist2d\u001B[0;34m(x, y, bins, range, density, weights, cmin, cmax, data, **kwargs)\u001B[0m\n\u001B[1;32m   2696\u001B[0m         \u001B[0mx\u001B[0m\u001B[0;34m,\u001B[0m \u001B[0my\u001B[0m\u001B[0;34m,\u001B[0m \u001B[0mbins\u001B[0m\u001B[0;34m=\u001B[0m\u001B[0;36m10\u001B[0m\u001B[0;34m,\u001B[0m \u001B[0mrange\u001B[0m\u001B[0;34m=\u001B[0m\u001B[0;32mNone\u001B[0m\u001B[0;34m,\u001B[0m \u001B[0mdensity\u001B[0m\u001B[0;34m=\u001B[0m\u001B[0;32mFalse\u001B[0m\u001B[0;34m,\u001B[0m \u001B[0mweights\u001B[0m\u001B[0;34m=\u001B[0m\u001B[0;32mNone\u001B[0m\u001B[0;34m,\u001B[0m\u001B[0;34m\u001B[0m\u001B[0;34m\u001B[0m\u001B[0m\n\u001B[1;32m   2697\u001B[0m         cmin=None, cmax=None, *, data=None, **kwargs):\n\u001B[0;32m-> 2698\u001B[0;31m     __ret = gca().hist2d(\n\u001B[0m\u001B[1;32m   2699\u001B[0m         \u001B[0mx\u001B[0m\u001B[0;34m,\u001B[0m \u001B[0my\u001B[0m\u001B[0;34m,\u001B[0m \u001B[0mbins\u001B[0m\u001B[0;34m=\u001B[0m\u001B[0mbins\u001B[0m\u001B[0;34m,\u001B[0m \u001B[0mrange\u001B[0m\u001B[0;34m=\u001B[0m\u001B[0mrange\u001B[0m\u001B[0;34m,\u001B[0m \u001B[0mdensity\u001B[0m\u001B[0;34m=\u001B[0m\u001B[0mdensity\u001B[0m\u001B[0;34m,\u001B[0m\u001B[0;34m\u001B[0m\u001B[0;34m\u001B[0m\u001B[0m\n\u001B[1;32m   2700\u001B[0m         \u001B[0mweights\u001B[0m\u001B[0;34m=\u001B[0m\u001B[0mweights\u001B[0m\u001B[0;34m,\u001B[0m \u001B[0mcmin\u001B[0m\u001B[0;34m=\u001B[0m\u001B[0mcmin\u001B[0m\u001B[0;34m,\u001B[0m \u001B[0mcmax\u001B[0m\u001B[0;34m=\u001B[0m\u001B[0mcmax\u001B[0m\u001B[0;34m,\u001B[0m\u001B[0;34m\u001B[0m\u001B[0;34m\u001B[0m\u001B[0m\n",
      "\u001B[0;32m~/opt/anaconda3/lib/python3.8/site-packages/matplotlib/__init__.py\u001B[0m in \u001B[0;36minner\u001B[0;34m(ax, data, *args, **kwargs)\u001B[0m\n\u001B[1;32m   1436\u001B[0m     \u001B[0;32mdef\u001B[0m \u001B[0minner\u001B[0m\u001B[0;34m(\u001B[0m\u001B[0max\u001B[0m\u001B[0;34m,\u001B[0m \u001B[0;34m*\u001B[0m\u001B[0margs\u001B[0m\u001B[0;34m,\u001B[0m \u001B[0mdata\u001B[0m\u001B[0;34m=\u001B[0m\u001B[0;32mNone\u001B[0m\u001B[0;34m,\u001B[0m \u001B[0;34m**\u001B[0m\u001B[0mkwargs\u001B[0m\u001B[0;34m)\u001B[0m\u001B[0;34m:\u001B[0m\u001B[0;34m\u001B[0m\u001B[0;34m\u001B[0m\u001B[0m\n\u001B[1;32m   1437\u001B[0m         \u001B[0;32mif\u001B[0m \u001B[0mdata\u001B[0m \u001B[0;32mis\u001B[0m \u001B[0;32mNone\u001B[0m\u001B[0;34m:\u001B[0m\u001B[0;34m\u001B[0m\u001B[0;34m\u001B[0m\u001B[0m\n\u001B[0;32m-> 1438\u001B[0;31m             \u001B[0;32mreturn\u001B[0m \u001B[0mfunc\u001B[0m\u001B[0;34m(\u001B[0m\u001B[0max\u001B[0m\u001B[0;34m,\u001B[0m \u001B[0;34m*\u001B[0m\u001B[0mmap\u001B[0m\u001B[0;34m(\u001B[0m\u001B[0msanitize_sequence\u001B[0m\u001B[0;34m,\u001B[0m \u001B[0margs\u001B[0m\u001B[0;34m)\u001B[0m\u001B[0;34m,\u001B[0m \u001B[0;34m**\u001B[0m\u001B[0mkwargs\u001B[0m\u001B[0;34m)\u001B[0m\u001B[0;34m\u001B[0m\u001B[0;34m\u001B[0m\u001B[0m\n\u001B[0m\u001B[1;32m   1439\u001B[0m \u001B[0;34m\u001B[0m\u001B[0m\n\u001B[1;32m   1440\u001B[0m         \u001B[0mbound\u001B[0m \u001B[0;34m=\u001B[0m \u001B[0mnew_sig\u001B[0m\u001B[0;34m.\u001B[0m\u001B[0mbind\u001B[0m\u001B[0;34m(\u001B[0m\u001B[0max\u001B[0m\u001B[0;34m,\u001B[0m \u001B[0;34m*\u001B[0m\u001B[0margs\u001B[0m\u001B[0;34m,\u001B[0m \u001B[0;34m**\u001B[0m\u001B[0mkwargs\u001B[0m\u001B[0;34m)\u001B[0m\u001B[0;34m\u001B[0m\u001B[0;34m\u001B[0m\u001B[0m\n",
      "\u001B[0;32m~/opt/anaconda3/lib/python3.8/site-packages/matplotlib/axes/_axes.py\u001B[0m in \u001B[0;36mhist2d\u001B[0;34m(self, x, y, bins, range, density, weights, cmin, cmax, **kwargs)\u001B[0m\n\u001B[1;32m   6926\u001B[0m         \"\"\"\n\u001B[1;32m   6927\u001B[0m \u001B[0;34m\u001B[0m\u001B[0m\n\u001B[0;32m-> 6928\u001B[0;31m         h, xedges, yedges = np.histogram2d(x, y, bins=bins, range=range,\n\u001B[0m\u001B[1;32m   6929\u001B[0m                                            density=density, weights=weights)\n\u001B[1;32m   6930\u001B[0m \u001B[0;34m\u001B[0m\u001B[0m\n",
      "\u001B[0;32m<__array_function__ internals>\u001B[0m in \u001B[0;36mhistogram2d\u001B[0;34m(*args, **kwargs)\u001B[0m\n",
      "\u001B[0;32m~/opt/anaconda3/lib/python3.8/site-packages/numpy/lib/twodim_base.py\u001B[0m in \u001B[0;36mhistogram2d\u001B[0;34m(x, y, bins, range, normed, weights, density)\u001B[0m\n\u001B[1;32m    711\u001B[0m         \u001B[0mxedges\u001B[0m \u001B[0;34m=\u001B[0m \u001B[0myedges\u001B[0m \u001B[0;34m=\u001B[0m \u001B[0masarray\u001B[0m\u001B[0;34m(\u001B[0m\u001B[0mbins\u001B[0m\u001B[0;34m)\u001B[0m\u001B[0;34m\u001B[0m\u001B[0;34m\u001B[0m\u001B[0m\n\u001B[1;32m    712\u001B[0m         \u001B[0mbins\u001B[0m \u001B[0;34m=\u001B[0m \u001B[0;34m[\u001B[0m\u001B[0mxedges\u001B[0m\u001B[0;34m,\u001B[0m \u001B[0myedges\u001B[0m\u001B[0;34m]\u001B[0m\u001B[0;34m\u001B[0m\u001B[0;34m\u001B[0m\u001B[0m\n\u001B[0;32m--> 713\u001B[0;31m     \u001B[0mhist\u001B[0m\u001B[0;34m,\u001B[0m \u001B[0medges\u001B[0m \u001B[0;34m=\u001B[0m \u001B[0mhistogramdd\u001B[0m\u001B[0;34m(\u001B[0m\u001B[0;34m[\u001B[0m\u001B[0mx\u001B[0m\u001B[0;34m,\u001B[0m \u001B[0my\u001B[0m\u001B[0;34m]\u001B[0m\u001B[0;34m,\u001B[0m \u001B[0mbins\u001B[0m\u001B[0;34m,\u001B[0m \u001B[0mrange\u001B[0m\u001B[0;34m,\u001B[0m \u001B[0mnormed\u001B[0m\u001B[0;34m,\u001B[0m \u001B[0mweights\u001B[0m\u001B[0;34m,\u001B[0m \u001B[0mdensity\u001B[0m\u001B[0;34m)\u001B[0m\u001B[0;34m\u001B[0m\u001B[0;34m\u001B[0m\u001B[0m\n\u001B[0m\u001B[1;32m    714\u001B[0m     \u001B[0;32mreturn\u001B[0m \u001B[0mhist\u001B[0m\u001B[0;34m,\u001B[0m \u001B[0medges\u001B[0m\u001B[0;34m[\u001B[0m\u001B[0;36m0\u001B[0m\u001B[0;34m]\u001B[0m\u001B[0;34m,\u001B[0m \u001B[0medges\u001B[0m\u001B[0;34m[\u001B[0m\u001B[0;36m1\u001B[0m\u001B[0;34m]\u001B[0m\u001B[0;34m\u001B[0m\u001B[0;34m\u001B[0m\u001B[0m\n\u001B[1;32m    715\u001B[0m \u001B[0;34m\u001B[0m\u001B[0m\n",
      "\u001B[0;32m<__array_function__ internals>\u001B[0m in \u001B[0;36mhistogramdd\u001B[0;34m(*args, **kwargs)\u001B[0m\n",
      "\u001B[0;32m~/opt/anaconda3/lib/python3.8/site-packages/numpy/lib/histograms.py\u001B[0m in \u001B[0;36mhistogramdd\u001B[0;34m(sample, bins, range, normed, weights, density)\u001B[0m\n\u001B[1;32m   1017\u001B[0m         \u001B[0;31m# Sample is a sequence of 1D arrays.\u001B[0m\u001B[0;34m\u001B[0m\u001B[0;34m\u001B[0m\u001B[0;34m\u001B[0m\u001B[0m\n\u001B[1;32m   1018\u001B[0m         \u001B[0msample\u001B[0m \u001B[0;34m=\u001B[0m \u001B[0mnp\u001B[0m\u001B[0;34m.\u001B[0m\u001B[0matleast_2d\u001B[0m\u001B[0;34m(\u001B[0m\u001B[0msample\u001B[0m\u001B[0;34m)\u001B[0m\u001B[0;34m.\u001B[0m\u001B[0mT\u001B[0m\u001B[0;34m\u001B[0m\u001B[0;34m\u001B[0m\u001B[0m\n\u001B[0;32m-> 1019\u001B[0;31m         \u001B[0mN\u001B[0m\u001B[0;34m,\u001B[0m \u001B[0mD\u001B[0m \u001B[0;34m=\u001B[0m \u001B[0msample\u001B[0m\u001B[0;34m.\u001B[0m\u001B[0mshape\u001B[0m\u001B[0;34m\u001B[0m\u001B[0;34m\u001B[0m\u001B[0m\n\u001B[0m\u001B[1;32m   1020\u001B[0m \u001B[0;34m\u001B[0m\u001B[0m\n\u001B[1;32m   1021\u001B[0m     \u001B[0mnbin\u001B[0m \u001B[0;34m=\u001B[0m \u001B[0mnp\u001B[0m\u001B[0;34m.\u001B[0m\u001B[0mempty\u001B[0m\u001B[0;34m(\u001B[0m\u001B[0mD\u001B[0m\u001B[0;34m,\u001B[0m \u001B[0mint\u001B[0m\u001B[0;34m)\u001B[0m\u001B[0;34m\u001B[0m\u001B[0;34m\u001B[0m\u001B[0m\n",
      "\u001B[0;31mValueError\u001B[0m: too many values to unpack (expected 2)"
     ]
    },
    {
     "data": {
      "text/plain": [
       "<Figure size 432x288 with 1 Axes>"
      ],
      "image/png": "[encoded data removed]"
     },
     "metadata": {
      "needs_background": "light"
     },
     "output_type": "display_data"
    }
   ],
   "execution_count": 28
  },
  {
   "cell_type": "markdown",
   "metadata": {},
   "source": [
    "**Interpretation:**\n",
    "* in the reduced data projection, the occupancy of each bin seems even and well-distributed\n",
    "* in the full dimensional projection, it can be seen easily that the box is **not** fully sampled, large undersampled patches present\n",
    "* *data dimensionality reduction always brings the danger of wrong projection!*"
   ]
  },
  {
   "cell_type": "markdown",
   "metadata": {},
   "source": [
    "**Solution for improvements:**\n",
    "* enhance sampling by\n",
    "    * prolong the simulation\n",
    "    * increase the time step\n",
    "* *Caveat: all solutions come with problems like increased computational cost or sampling errors!*"
   ]
  },
  {
   "cell_type": "code",
   "execution_count": null,
   "metadata": {
    "collapsed": true
   },
   "outputs": [],
   "source": []
  }
 ],
 "metadata": {
  "kernelspec": {
   "display_name": "Python 3",
   "language": "python",
   "name": "python3"
  },
  "language_info": {
   "codemirror_mode": {
    "name": "ipython",
    "version": 3
   },
   "file_extension": ".py",
   "mimetype": "text/x-python",
   "name": "python",
   "nbconvert_exporter": "python",
   "pygments_lexer": "ipython3",
   "version": "3.11.9"
  }
 },
 "nbformat": 4,
 "nbformat_minor": 2
}
