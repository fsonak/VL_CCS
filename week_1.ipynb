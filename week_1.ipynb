{
 "cells": [
  {
   "cell_type": "markdown",
   "metadata": {},
   "source": [
    "**Week 1: Velocity Distributions**\n",
    "\n",
    "Jannek Schaffert, Frédéric Sonak\n",
    "\n",
    "**Background:**\n",
    "Regardless of initial conditions, velocity distributions in multi-particle systems with collisions between particles tend to converge to a Maxwell-Boltzmann distribution. To observe this effect, we will create our own simulation of a multi-particle system consisting of hard spheres within a 2D box. ChatGPT was used to assist with the markdown.\n",
    "\n",
    "**Task I - Implementation**\n",
    "In this first section, we will outline how we developed an algorithm to simulate hard spheres within a box. Key features of our algorithm include:\n",
    "- Elastic collisions between hard spheres\n",
    "- Multi-particle interactions\n",
    "- Periodic boundary conditions for the box\n",
    "\n",
    "All code will be provided in easy-to-use functions that will later be called in Task II.\n",
    "\n",
    "\n"
   ]
  },
  {
   "cell_type": "markdown",
   "metadata": {},
   "source": [
    "Importing all external libraries used in this code"
   ]
  },
  {
   "cell_type": "code",
   "execution_count": 1,
   "metadata": {
    "ExecuteTime": {
     "end_time": "2024-10-25T07:41:02.755072Z",
     "start_time": "2024-10-25T07:41:01.369978Z"
    }
   },
   "outputs": [],
   "source": [
    "import matplotlib.pyplot as plt\n",
    "from matplotlib import animation, rc\n",
    "from IPython.display import HTML\n",
    "\n",
    "import copy\n",
    "import numpy as np\n",
    "import scipy as scy"
   ]
  },
  {
   "cell_type": "markdown",
   "metadata": {},
   "source": [
    "Creating a particle class:"
   ]
  },
  {
   "cell_type": "code",
   "execution_count": 2,
   "metadata": {
    "ExecuteTime": {
     "end_time": "2024-10-25T07:41:02.768349Z",
     "start_time": "2024-10-25T07:41:02.765804Z"
    }
   },
   "outputs": [],
   "source": [
    "class Particle:\n",
    "    def __init__(self, r, x, y, vx, vy):\n",
    "        self.r = r\n",
    "        self.x = x\n",
    "        self.y = y\n",
    "        self.vx = vx\n",
    "        self.vy = vy\n",
    "        \n",
    "    def __repr__(self):\n",
    "        return str(\"This is a particle at %0.2f, %0.2f with v=%0.2f,%0.2f\" % (self.x,self.y,self.vx,self.vy))"
   ]
  },
  {
   "cell_type": "markdown",
   "metadata": {},
   "source": [
    "Defining the parameters used in the simulation later on\n"
   ]
  },
  {
   "cell_type": "code",
   "execution_count": null,
   "metadata": {
    "ExecuteTime": {
     "end_time": "2024-10-25T07:41:02.965284Z",
     "start_time": "2024-10-25T07:41:02.963300Z"
    }
   },
   "outputs": [],
   "source": [
    "# defining the box\n",
    "box_size_x = 20\n",
    "box_size_y = 20\n",
    "\n",
    "box = [box_size_x,box_size_y]"
   ]
  },
  {
   "cell_type": "code",
   "execution_count": null,
   "metadata": {
    "ExecuteTime": {
     "end_time": "2024-10-25T07:41:02.976878Z",
     "start_time": "2024-10-25T07:41:02.974879Z"
    }
   },
   "outputs": [],
   "source": [
    "# defining the number of particles and their corresponding radius\n",
    "number_of_particles = 50\n",
    "radius = 0.5"
   ]
  },
  {
   "cell_type": "code",
   "execution_count": null,
   "metadata": {
    "ExecuteTime": {
     "end_time": "2024-10-25T07:41:02.986855Z",
     "start_time": "2024-10-25T07:41:02.984582Z"
    }
   },
   "outputs": [],
   "source": [
    "# Initialising the velocities\n",
    "baseline_velocity = 0.5 # same velocity magnitude for all particles \n",
    "\n",
    "# random direction of the velocity in 2D for each particle\n",
    "vel = np.ones(number_of_particles) * baseline_velocity\n",
    "angles = np.random.uniform(0,2 * np.pi, number_of_particles)"
   ]
  },
  {
   "cell_type": "code",
   "execution_count": null,
   "metadata": {
    "ExecuteTime": {
     "end_time": "2024-10-25T07:41:02.999527Z",
     "start_time": "2024-10-25T07:41:02.996930Z"
    }
   },
   "outputs": [],
   "source": [
    "# Initialising the positions\n",
    "# random positions for each particle\n",
    "x_rand = np.random.randint(1,box[0]-1,number_of_particles)\n",
    "y_rand = np.random.randint(1,box[1]-1,number_of_particles)\n"
   ]
  },
  {
   "cell_type": "code",
   "execution_count": null,
   "metadata": {
    "ExecuteTime": {
     "end_time": "2024-10-25T07:41:03.012241Z",
     "start_time": "2024-10-25T07:41:03.009809Z"
    }
   },
   "outputs": [],
   "source": [
    "# Setting up the particle:\n",
    "# Each particle gets assigned a position (x,y) and a velocity (v_x, v_y).\n",
    "particles = []\n",
    "for i in range(number_of_particles):\n",
    "    particles.append(Particle(radius,x_rand[i],y_rand[i],np.sin(angles[i]) * vel[i],np.cos(angles[i]) * vel[i]))"
   ]
  },
  {
   "cell_type": "code",
   "execution_count": null,
   "metadata": {
    "ExecuteTime": {
     "end_time": "2024-10-25T07:41:03.025634Z",
     "start_time": "2024-10-25T07:41:03.022492Z"
    }
   },
   "outputs": [],
   "source": [
    "# Defining number of simulation steps\n",
    "steps = 100"
   ]
  },
  {
   "cell_type": "markdown",
   "metadata": {},
   "source": [
    "Initialise trajectory:"
   ]
  },
  {
   "cell_type": "code",
   "execution_count": null,
   "metadata": {
    "ExecuteTime": {
     "end_time": "2024-10-25T07:41:03.042524Z",
     "start_time": "2024-10-25T07:41:03.038781Z"
    },
    "scrolled": true
   },
   "outputs": [],
   "source": [
    "data_traj = np.zeros((number_of_particles,4,steps))\n",
    "data_traj.shape"
   ]
  },
  {
   "cell_type": "markdown",
   "metadata": {},
   "source": [
    "Euler integrator scheme:\n",
    "Define time integrator for numerical, stepwise solution of equation of motion with a discrete time step $dt$:"
   ]
  },
  {
   "cell_type": "code",
   "execution_count": null,
   "metadata": {
    "ExecuteTime": {
     "end_time": "2024-10-25T07:41:03.067635Z",
     "start_time": "2024-10-25T07:41:03.064936Z"
    }
   },
   "outputs": [],
   "source": [
    "# define time step dt for simulation\n",
    "dt = 1\n",
    "\n",
    "def move(p,dt):\n",
    "    p.x = p.x + p.vx * dt\n",
    "    p.y = p.y + p.vy * dt\n",
    "    return p"
   ]
  },
  {
   "cell_type": "markdown",
   "metadata": {},
   "source": [
    "Define a move function to move particles for each time step."
   ]
  },
  {
   "cell_type": "code",
   "execution_count": null,
   "metadata": {
    "ExecuteTime": {
     "end_time": "2024-10-25T07:41:03.081459Z",
     "start_time": "2024-10-25T07:41:03.078865Z"
    }
   },
   "outputs": [],
   "source": [
    "def move_unbound(p,dt):\n",
    "    p.x = np.mod(p.x + p.vx * dt, box_size_x)\n",
    "    p.y = np.mod(p.y + p.vy * dt, box_size_y)\n",
    "    return p"
   ]
  },
  {
   "cell_type": "markdown",
   "metadata": {},
   "source": [
    "Define box reflection:"
   ]
  },
  {
   "cell_type": "code",
   "execution_count": null,
   "metadata": {
    "ExecuteTime": {
     "end_time": "2024-10-25T07:41:03.097172Z",
     "start_time": "2024-10-25T07:41:03.094304Z"
    }
   },
   "outputs": [],
   "source": [
    "def reflect(p):\n",
    "    if (p.x + p.r) >= box[0]:\n",
    "        p.vx = p.vx * (-1)\n",
    "    if (p.x) <= p.r:\n",
    "        p.vx = p.vx * (-1)\n",
    "    if (p.y + p.r) >= box[1]:\n",
    "        p.vy = p.vy * (-1)\n",
    "    if (p.y) <= p.r:\n",
    "        p.vy = p.vy * (-1)\n",
    "    return p"
   ]
  },
  {
   "cell_type": "markdown",
   "metadata": {},
   "source": [
    "Define a function that calculates new velocities for two particles (with the same mass) colliding with two different velocities in 2D. The formulas can be found here: \n",
    " https://hermann-baum.de/elastischer_stoss/, 24.10.2024.\n"
   ]
  },
  {
   "cell_type": "code",
   "execution_count": null,
   "metadata": {
    "ExecuteTime": {
     "end_time": "2024-10-25T07:41:03.112621Z",
     "start_time": "2024-10-25T07:41:03.106224Z"
    }
   },
   "outputs": [],
   "source": [
    "def collide_simple(particles):\n",
    "    for i in range(len(particles)): # looping through all particles\n",
    "        for j in range(len(particles)):\n",
    "            if i < j:\n",
    "                distance = np.sqrt(np.abs(particles[i].x-particles[j].x)**2+np.abs(particles[i].y-particles[j].y)**2)\n",
    "                if distance<(particles[i].r+particles[j].r):\n",
    "                    # calculate angle between x-axis and line between particles\n",
    "                    phi = np.arctan((particles[j].y - particles[i].y)/(particles[j].x - particles[i].x))\n",
    "                    # change the velocities\n",
    "                    particles[i].vx = ( particles[i].vx*np.sin(phi)-particles[i].vy*np.cos(phi))*np.sin(phi)+(particles[j].vx*np.cos(phi)+particles[j].vy*np.sin(phi))*np.cos(phi)\n",
    "                    particles[i].vy = (-particles[i].vx*np.sin(phi)+particles[i].vy*np.cos(phi))*np.cos(phi)+(particles[j].vx*np.cos(phi)+particles[j].vy*np.sin(phi))*np.sin(phi)\n",
    "                    particles[j].vx = ( particles[j].vx*np.sin(phi)-particles[j].vy*np.cos(phi))*np.sin(phi)+(particles[i].vx*np.cos(phi)+particles[i].vy*np.sin(phi))*np.cos(phi)\n",
    "                    particles[j].vy = (-particles[j].vx*np.sin(phi)+particles[j].vy*np.cos(phi))*np.cos(phi)+(particles[i].vx*np.cos(phi)+particles[i].vy*np.sin(phi))*np.sin(phi)\n",
    "                    #print(particles[i],particles[j],'collided with a distance of ', distance)\n"
   ]
  },
  {
   "cell_type": "markdown",
   "metadata": {},
   "source": [
    "The following algorithm operates by checking pairwise collisions between particles. When a collision is detected—defined by any overlap between two particles—the particles are moved back in time so that they are just touching. New velocities are then calculated by temporarily rotating the coordinate system to simplify calculations. Afterward, time is advanced forward again, using the updated velocities, so that each particle progresses equally within one calculation step.\n",
    "\n",
    "If a particle is near the box boundary (close to a zero position on either axis), the algorithm also checks for any particles located on the opposite side of the box to account for periodic boundary conditions.\n",
    "\n",
    "ChatGPT was used to assist in debugging this implementation.\n"
   ]
  },
  {
   "cell_type": "code",
   "execution_count": null,
   "metadata": {
    "ExecuteTime": {
     "end_time": "2024-10-25T07:41:03.133404Z",
     "start_time": "2024-10-25T07:41:03.121385Z"
    }
   },
   "outputs": [],
   "source": [
    "def calculate_distance(particle_1, particle_2):\n",
    "    distance = np.sqrt(np.abs(particle_1.x - particle_2.x)**2+np.abs(particle_1.y - particle_2.y)**2)\n",
    "    return distance\n",
    "\n",
    "\n",
    "def collision(particles,data_traj,step, dt,i,j):\n",
    "    distance_vector = np.array([particles[j].x-particles[i].x,particles[j].y-particles[i].y])# von i nach j\n",
    "    distance = np.sqrt(np.abs(distance_vector[0])**2+np.abs(distance_vector[1])**2)\n",
    "    R = particles[i].r+particles[j].r\n",
    "    if distance<R:\n",
    "        print(particles[i],particles[j],'collided with a distance of ', distance)\n",
    "        # angle between x-axis and line between particles\n",
    "        phi = np.arctan((particles[j].y - particles[i].y)/(particles[j].x - particles[i].x))\n",
    "        \n",
    "        # in time\n",
    "        # defining re-used variables\n",
    "        v_x = particles[i].vx-particles[j].vx\n",
    "        v_y = particles[i].vy-particles[j].vy\n",
    "\n",
    "        r_x = particles[j].x-particles[i].x\n",
    "        r_y = particles[j].y-particles[i].y\n",
    "\n",
    "        #calculating the time needed to travel back in two steps:\n",
    "        sqrt = 2*np.sqrt((r_x*v_x+r_y*v_y)**2-(v_x**2+v_y**2)*(r_x**2+r_y**2-R**2))\n",
    "        \n",
    "        delta_t = -1*(-2*(r_x*v_x+r_y*v_y) + sqrt)/(2*(v_x**2+v_y**2))\n",
    "        \n",
    "        #solving the quadratic equation results in two solutions (one positive and one negative), we want the negative solution, for backwards time-travel\n",
    "        if delta_t > 0:\n",
    "            delta_t = -1*(-2*(r_x*v_x+r_y*v_y) - sqrt)/(2*(v_x**2+v_y**2))\n",
    "\n",
    "        # rewind time to just outside of the collision\n",
    "        particles[i].x = particles[i].x + particles[i].vx*delta_t\n",
    "        particles[i].y = particles[i].y + particles[i].vy*delta_t\n",
    "        particles[j].x = particles[j].x + particles[j].vx*delta_t\n",
    "        particles[j].y = particles[j].y + particles[j].vy*delta_t\n",
    "\n",
    "        # change the velocities\n",
    "\n",
    "        # only calculate once, used multiple times\n",
    "        sin_phi = np.sin(phi)\n",
    "        cos_phi = np.cos(phi)\n",
    "\n",
    "        # Get the velocities of particles i and j as variables\n",
    "        v1x, v1y = particles[i].vx, particles[i].vy\n",
    "        v2x, v2y = particles[j].vx, particles[j].vy\n",
    "\n",
    "        # Calculate the updated velocities using the provided formulas: https://hermann-baum.de/elastischer_stoss/\n",
    "        # the tangental part stays the same, the normal part changes. This is done in transformed coordinates and then transformed directly back\n",
    "        new_v1x = (v1x * sin_phi - v1y * cos_phi) * sin_phi + (v2x * cos_phi + v2y * sin_phi) * cos_phi\n",
    "        new_v1y = (-v1x * sin_phi + v1y * cos_phi) * cos_phi + (v2x * cos_phi + v2y * sin_phi) * sin_phi\n",
    "        new_v2x = (v2x * sin_phi - v2y * cos_phi) * sin_phi + (v1x * cos_phi + v1y * sin_phi) * cos_phi\n",
    "        new_v2y = (-v2x * sin_phi + v2y * cos_phi) * cos_phi + (v1x * cos_phi + v1y * sin_phi) * sin_phi\n",
    "\n",
    "        # Update the particles' velocities\n",
    "        particles[i].vx, particles[i].vy = new_v1x, new_v1y\n",
    "        particles[j].vx, particles[j].vy = new_v2x, new_v2y\n",
    "\n",
    "        # finish this time_step, that was rewound previously and open the boundaries again with np.mod\n",
    "        particles[i].x = np.mod(particles[i].x - particles[i].vx*delta_t,box_size_x)\n",
    "        particles[i].y = np.mod(particles[i].y - particles[i].vy*delta_t,box_size_y)\n",
    "        particles[j].x = np.mod(particles[j].x - particles[j].vx*delta_t,box_size_x)\n",
    "        particles[j].y = np.mod(particles[j].y - particles[j].vy*delta_t,box_size_y)\n",
    "        # debugging\n",
    "        distance = np.sqrt(np.abs(particles[i].x-particles[j].x)**2+np.abs(particles[i].y-particles[j].y)**2)\n",
    "        #print(particles[i],particles[j],'collided with a distance of ', distance)\n",
    "\n",
    "def collide_border(particles,data_traj,step, dt,i,x):\n",
    "    # set particle to the opposite box\n",
    "    if x:\n",
    "        pos_x = particles[i].x+box_size_x\n",
    "    else:\n",
    "        pos_y = particles[i].y+box_size_y\n",
    "    # check for collisions\n",
    "    for j in range(len(particles)):\n",
    "        if i < j:\n",
    "            collision(particles,data_traj,step, dt, i, j)\n",
    "            \n",
    "\n",
    "def collide_boundary(particles,data_traj,step, dt):\n",
    "    #run through all pairwise possible interactions and check collisions\n",
    "    for i in range(len(particles)):\n",
    "        for j in range(len(particles)):\n",
    "            if i < j:\n",
    "                collision(particles,data_traj,step, dt, i, j)\n",
    "        # account for edge cases\n",
    "        if particles[i].x<particles[i].r:\n",
    "            collide_border(particles,data_traj,step, dt,i,True)\n",
    "        if particles[i].y<particles[i].r:\n",
    "            collide_border(particles,data_traj,step, dt,i,False)\n",
    "                    "
   ]
  },
  {
   "cell_type": "markdown",
   "metadata": {},
   "source": [
    "**Task II - Carrying out the simulation**\n",
    "In the following the above functions will be implemented to run a simulation.\n",
    "\n",
    "The actual integration happens here. Everything is saved to the predefined data_traj-array.\n"
   ]
  },
  {
   "cell_type": "code",
   "execution_count": null,
   "metadata": {
    "ExecuteTime": {
     "end_time": "2024-10-25T07:41:39.235789Z",
     "start_time": "2024-10-25T07:41:03.146227Z"
    }
   },
   "outputs": [],
   "source": [
    "\n",
    "for i in range(steps):\n",
    "    for j in range(number_of_particles):\n",
    "        move_unbound(particles[j],1)\n",
    "        collide_boundary(particles,data_traj,i,dt)    \n",
    "        for j in range(number_of_particles):\n",
    "            data_traj[j,:,i] = [particles[j].x, particles[j].y, particles[j].vx, particles[j].vy]"
   ]
  },
  {
   "cell_type": "markdown",
   "metadata": {},
   "source": [
    "The following code is just for visualisation purposes.\n",
    "\n",
    "Plotting trajectory with Matplotlib:"
   ]
  },
  {
   "cell_type": "code",
   "execution_count": null,
   "metadata": {
    "ExecuteTime": {
     "end_time": "2024-10-25T07:41:39.421031Z",
     "start_time": "2024-10-25T07:41:39.246780Z"
    },
    "scrolled": true
   },
   "outputs": [],
   "source": [
    "for data_traj_j in data_traj:\n",
    "    plt.plot(data_traj_j[0],data_traj_j[1],'-')\n",
    "plt.xlabel('position x')\n",
    "plt.ylabel('position y')\n",
    "\n",
    "plt.grid()\n",
    "plt.show()"
   ]
  },
  {
   "cell_type": "markdown",
   "metadata": {},
   "source": [
    "**Animate trajectory:**"
   ]
  },
  {
   "cell_type": "markdown",
   "metadata": {},
   "source": [
    "* Set up the figure, the axis, and the plot element we want to animate"
   ]
  },
  {
   "cell_type": "code",
   "execution_count": null,
   "metadata": {
    "ExecuteTime": {
     "end_time": "2024-10-25T07:41:39.508409Z",
     "start_time": "2024-10-25T07:41:39.436095Z"
    }
   },
   "outputs": [],
   "source": [
    "fig, ax = plt.subplots()\n",
    "\n",
    "ax.set_xlim((0, box[0]))\n",
    "ax.set_ylim((0, box[1]))\n",
    "\n",
    "plt.xlabel('position x')\n",
    "plt.ylabel('position y')\n",
    "\n",
    "# make the points in the plot the correct size according to the radius of the particles\n",
    "# use ax.transData.transform to convert radius size from particle to markerSize from pyplot\n",
    "desired_size_in_data_units = radius\n",
    "data_to_points = ax.transData.transform((desired_size_in_data_units, 0)) - ax.transData.transform((0, 0))\n",
    "marker_size_in_points = data_to_points[0]\n",
    "\n",
    "\n",
    "dot, = ax.plot([], [], 'bo', ms=marker_size_in_points)\n",
    "\n",
    "\n",
    "#ax.plot(5,5, 'bo', ms=marker_size_in_points)\n",
    "# dont show the plot \n",
    "#plt.close()"
   ]
  },
  {
   "cell_type": "code",
   "execution_count": null,
   "metadata": {
    "ExecuteTime": {
     "end_time": "2024-10-25T07:41:39.533840Z",
     "start_time": "2024-10-25T07:41:39.530295Z"
    }
   },
   "outputs": [],
   "source": [
    "# * initialization function: plot the background of each frame\n",
    "def init():\n",
    "    dot.set_data([], [])\n",
    "    return (dot,)"
   ]
  },
  {
   "cell_type": "code",
   "execution_count": null,
   "metadata": {
    "ExecuteTime": {
     "end_time": "2024-10-25T07:41:39.542364Z",
     "start_time": "2024-10-25T07:41:39.540271Z"
    }
   },
   "outputs": [],
   "source": [
    "# animation function. This is called sequentially\n",
    "def animate(i):\n",
    "    x = data_traj[:,0,i]\n",
    "    y = data_traj[:,1,i]\n",
    "    dot.set_data(x, y)\n",
    "    return (dot,)\n"
   ]
  },
  {
   "cell_type": "markdown",
   "metadata": {},
   "source": [
    "* call the animator. blit=True means only re-draw the parts that have changed."
   ]
  },
  {
   "cell_type": "code",
   "execution_count": null,
   "metadata": {
    "ExecuteTime": {
     "end_time": "2024-10-25T07:41:39.578606Z",
     "start_time": "2024-10-25T07:41:39.555723Z"
    }
   },
   "outputs": [],
   "source": [
    "anim = animation.FuncAnimation(fig, animate, init_func=init,\n",
    "                               frames=steps, interval=60, blit=True)"
   ]
  },
  {
   "cell_type": "code",
   "execution_count": null,
   "metadata": {
    "ExecuteTime": {
     "end_time": "2024-10-25T07:41:43.908634Z",
     "start_time": "2024-10-25T07:41:39.590794Z"
    }
   },
   "outputs": [],
   "source": [
    "HTML(anim.to_html5_video())\n",
    "\n",
    "# uncomment if video should not be saved\n",
    "anim.save('animation.mp4', writer='ffmpeg', fps=30)\n"
   ]
  },
  {
   "cell_type": "markdown",
   "metadata": {
    "collapsed": true
   },
   "source": [
    "***Task III - analysis of the velocity distributions:***\n",
    "\n",
    "Finally the results from the above simulation can be analysed."
   ]
  },
  {
   "cell_type": "markdown",
   "metadata": {},
   "source": [
    "Analysis of the velocity distribution in x direction\n",
    "In order to plot a histogram the data saved in the data_traj has to be transformed into a list."
   ]
  },
  {
   "cell_type": "code",
   "execution_count": null,
   "metadata": {
    "ExecuteTime": {
     "end_time": "2024-10-25T07:41:44.016911Z",
     "start_time": "2024-10-25T07:41:43.921762Z"
    }
   },
   "outputs": [],
   "source": [
    "# format of data_traj:\n",
    "\n",
    "list_for_histogramm = []\n",
    "for i in range(steps):\n",
    "    for j in range(number_of_particles):\n",
    "        list_for_histogramm.append((data_traj)[j, 0, i])\n",
    "\n",
    "plt.hist(list_for_histogramm,range=(0,box[0]),bins=10)\n",
    "plt.xlabel('position x')\n",
    "plt.ylabel('occupancy')\n",
    "plt.show()"
   ]
  },
  {
   "cell_type": "code",
   "execution_count": null,
   "metadata": {
    "ExecuteTime": {
     "end_time": "2024-10-25T07:41:44.131455Z",
     "start_time": "2024-10-25T07:41:44.035300Z"
    }
   },
   "outputs": [],
   "source": [
    "# histogram of the y positions\n",
    "\n",
    "list_for_histogramm = []\n",
    "for i in range(steps):\n",
    "    for j in range(number_of_particles):\n",
    "        list_for_histogramm.append((data_traj)[j, 1, i])\n",
    "\n",
    "plt.hist(list_for_histogramm,range=(0,box[0]),bins=10)\n",
    "plt.xlabel('position y')\n",
    "plt.ylabel('occupancy')\n",
    "plt.show()"
   ]
  },
  {
   "cell_type": "code",
   "execution_count": null,
   "metadata": {
    "ExecuteTime": {
     "end_time": "2024-10-25T07:41:44.264534Z",
     "start_time": "2024-10-25T07:41:44.154282Z"
    },
    "scrolled": true
   },
   "outputs": [],
   "source": [
    "# 2d plot of the position distribution\n",
    "\n",
    "a = []\n",
    "for i in range(steps):\n",
    "    for j in range(number_of_particles):\n",
    "        a.append((data_traj)[j, 0, i])\n",
    "b = []\n",
    "for i in range(steps):\n",
    "    for j in range(number_of_particles):\n",
    "        b.append((data_traj)[j, 1, i])\n",
    "    \n",
    "\n",
    "plt.hist2d(a, b, range=[[0,box[0]],[0,box[1]]], bins=10)\n",
    "plt.xlabel('position x')\n",
    "plt.ylabel('position y')\n",
    "plt.colorbar().set_label('occupancy')\n",
    "plt.show()"
   ]
  },
  {
   "cell_type": "markdown",
   "metadata": {},
   "source": [
    "In the above plots it can be observed that whilst the simple histograms of x and y distribution show an evenly spread distribution, in 2D the box is not homogeniously sampled. Certain spots show a significantly higher occupancy than others. This is clearly a limitation."
   ]
  },
  {
   "cell_type": "code",
   "execution_count": null,
   "metadata": {
    "ExecuteTime": {
     "end_time": "2024-10-25T07:41:44.416888Z",
     "start_time": "2024-10-25T07:41:44.314763Z"
    }
   },
   "outputs": [],
   "source": [
    "# comparison of different iteration parts\n",
    "\n",
    "# first 10%\n",
    "first_10_percent = []\n",
    "for i in range(np.int(0.1 *steps)):\n",
    "    for j in range(number_of_particles):\n",
    "        first_10_percent.append(data_traj[j,2,i])\n",
    "\n",
    "# last 10%\n",
    "last_10_percent = []\n",
    "i_0 = np.int(0.9 * steps)-1\n",
    "for i in range(np.int(0.1 * steps)):\n",
    "    i = i+i_0\n",
    "    \n",
    "    for j in range(number_of_particles):\n",
    "        last_10_percent.append(data_traj[j,2,i])\n",
    "    i = i+1\n",
    "\n",
    "plt.hist(first_10_percent,bins=10, label = 'first 10% iterations')\n",
    "plt.hist(last_10_percent,bins=10, label = 'last 10% iterations', alpha=0.5)\n",
    "plt.xlabel('velocity x')\n",
    "plt.ylabel('occupancy')\n",
    "plt.legend()\n",
    "plt.show()\n"
   ]
  },
  {
   "cell_type": "markdown",
   "metadata": {},
   "source": [
    "Analysis of the velocity distribution in the x direction"
   ]
  },
  {
   "cell_type": "code",
   "execution_count": null,
   "metadata": {
    "ExecuteTime": {
     "end_time": "2024-10-25T07:41:44.568401Z",
     "start_time": "2024-10-25T07:41:44.442625Z"
    }
   },
   "outputs": [],
   "source": [
    "# histogram of the x velocity\n",
    "\n",
    "list_for_histogram_x_velocities = []\n",
    "for i in range(steps):\n",
    "    for j in range(number_of_particles):\n",
    "        list_for_histogram_x_velocities.append((data_traj)[j, 2, i])\n",
    "    \n",
    "plt.hist(list_for_histogram_x_velocities,bins=50)\n",
    "plt.xlabel('velocity x')\n",
    "plt.ylabel('occupancy')\n",
    "plt.show()"
   ]
  },
  {
   "cell_type": "code",
   "execution_count": null,
   "metadata": {
    "ExecuteTime": {
     "end_time": "2024-10-25T07:41:44.682021Z",
     "start_time": "2024-10-25T07:41:44.575657Z"
    }
   },
   "outputs": [],
   "source": [
    "# histogram of the y velocity\n",
    "\n",
    "a = []\n",
    "for i in range(steps):\n",
    "    for j in range(number_of_particles):\n",
    "        a.append((data_traj)[j, 3, i])\n",
    "    \n",
    "plt.hist(a,bins=50)\n",
    "plt.xlabel('velocity y')\n",
    "plt.ylabel('occupancy')\n",
    "plt.show()"
   ]
  },
  {
   "cell_type": "code",
   "execution_count": null,
   "metadata": {
    "ExecuteTime": {
     "end_time": "2024-10-25T07:41:44.697404Z",
     "start_time": "2024-10-25T07:41:44.695175Z"
    }
   },
   "outputs": [],
   "source": [
    "# Maxwell Boltzmann Distribution\n",
    "def mwb_dist(vs, const):\n",
    "    # const = kT / m\n",
    "    return 4 * np.pi * (2 * np.pi * const)**(-3/2) * vs**2 * np.exp(-0.5 * vs**2 / const)"
   ]
  },
  {
   "cell_type": "code",
   "execution_count": null,
   "metadata": {
    "ExecuteTime": {
     "end_time": "2024-10-25T07:51:45.935334Z",
     "start_time": "2024-10-25T07:51:45.759940Z"
    }
   },
   "outputs": [],
   "source": [
    "all_velocities = []\n",
    "for i in range(steps):\n",
    "    for j in range(number_of_particles):\n",
    "        if i < data_traj.shape[0] and j < data_traj.shape[2]:\n",
    "            velocity = np.sqrt((data_traj[i, 2, j])**2 + (data_traj[i, 3, j])**2)\n",
    "            all_velocities.append(velocity)\n",
    "\n",
    "\n",
    "plt.hist(all_velocities,bins=100)\n",
    "plt.xlabel('velocity |v|')\n",
    "plt.ylabel('occupancy')\n",
    "plt.show()\n",
    "\n"
   ]
  },
  {
   "cell_type": "markdown",
   "metadata": {},
   "source": [
    "**Interpretation:**\n",
    "* in the reduced data projection, the occupancy of each bin seems even and well-distributed\n",
    "* in the full dimensional projection, it can be seen easily that the box is **not** fully sampled, large undersampled patches present\n",
    "* *data dimensionality reduction always brings the danger of wrong projection!*"
   ]
  },
  {
   "cell_type": "markdown",
   "metadata": {},
   "source": [
    "**Solution for improvements:**\n",
    "* enhance sampling by\n",
    "    * prolong the simulation\n",
    "    * increase the time step\n",
    "* *Caveat: all solutions come with problems like increased computational cost or sampling errors!*"
   ]
  },
  {
   "cell_type": "code",
   "execution_count": null,
   "metadata": {
    "ExecuteTime": {
     "end_time": "2024-10-25T07:39:44.857376Z",
     "start_time": "2024-10-25T07:39:44.855938Z"
    }
   },
   "outputs": [],
   "source": []
  }
 ],
 "metadata": {
  "kernelspec": {
   "display_name": "Python 3",
   "language": "python",
   "name": "python3"
  },
  "language_info": {
   "codemirror_mode": {
    "name": "ipython",
    "version": 3
   },
   "file_extension": ".py",
   "mimetype": "text/x-python",
   "name": "python",
   "nbconvert_exporter": "python",
   "pygments_lexer": "ipython3",
   "version": "3.8.5"
  }
 },
 "nbformat": 4,
 "nbformat_minor": 2
}
