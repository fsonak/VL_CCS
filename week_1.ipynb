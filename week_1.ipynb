{
 "cells": [
  {
   "cell_type": "markdown",
   "metadata": {},
   "source": [
    "**Molecular Dynamics simulation routine:**"
   ]
  },
  {
   "cell_type": "markdown",
   "metadata": {},
   "source": [
    "this is some text that explains stuff you do."
   ]
  },
  {
   "cell_type": "markdown",
   "metadata": {},
   "source": [
    "* Import external libraries:"
   ]
  },
  {
   "cell_type": "code",
   "metadata": {
    "collapsed": true,
    "ExecuteTime": {
     "end_time": "2024-10-23T09:02:21.246220Z",
     "start_time": "2024-10-23T09:02:19.826510Z"
    }
   },
   "source": [
    "import matplotlib.pyplot as plt\n",
    "from matplotlib import animation, rc\n",
    "from IPython.display import HTML\n",
    "\n",
    "import copy\n",
    "import numpy as np\n",
    "import scipy as scy"
   ],
   "outputs": [],
   "execution_count": 1
  },
  {
   "cell_type": "markdown",
   "metadata": {},
   "source": [
    "* Creating a particle class:"
   ]
  },
  {
   "cell_type": "code",
   "metadata": {
    "collapsed": true,
    "ExecuteTime": {
     "end_time": "2024-10-23T09:02:21.251851Z",
     "start_time": "2024-10-23T09:02:21.249301Z"
    }
   },
   "source": [
    "class Particle:\n",
    "    def __init__(self, r, x, y, vx, vy):\n",
    "        self.r = r\n",
    "        self.x = x\n",
    "        self.y = y\n",
    "        self.vx = vx\n",
    "        self.vy = vy\n",
    "        \n",
    "    def __repr__(self):\n",
    "        return str(\"This is a particle at %0.2f, %0.2f with v=%0.2f,%0.2f\" % (self.x,self.y,self.vx,self.vy))"
   ],
   "outputs": [],
   "execution_count": 2
  },
  {
   "cell_type": "markdown",
   "metadata": {},
   "source": [
    "* Defining the box:"
   ]
  },
  {
   "cell_type": "code",
   "metadata": {
    "collapsed": true,
    "ExecuteTime": {
     "end_time": "2024-10-23T09:02:21.436801Z",
     "start_time": "2024-10-23T09:02:21.434603Z"
    }
   },
   "source": [
    "box_size_x = 20\n",
    "box_size_y = 20\n",
    "\n",
    "box = [box_size_x,box_size_y]"
   ],
   "outputs": [],
   "execution_count": 3
  },
  {
   "cell_type": "code",
   "metadata": {
    "ExecuteTime": {
     "end_time": "2024-10-23T09:02:21.450225Z",
     "start_time": "2024-10-23T09:02:21.448608Z"
    }
   },
   "source": "number_of_particles = 2",
   "outputs": [],
   "execution_count": 4
  },
  {
   "cell_type": "markdown",
   "metadata": {},
   "source": [
    "* Initialize velocities:"
   ]
  },
  {
   "cell_type": "code",
   "metadata": {
    "collapsed": false,
    "ExecuteTime": {
     "end_time": "2024-10-23T09:02:21.463882Z",
     "start_time": "2024-10-23T09:02:21.460659Z"
    }
   },
   "source": [
    "baseline_velocity = 0.5\n",
    "\n",
    "vel = np.ones(number_of_particles) * baseline_velocity\n",
    "angles = np.random.uniform(0,2 * np.pi, number_of_particles)\n"
   ],
   "outputs": [],
   "execution_count": 5
  },
  {
   "cell_type": "markdown",
   "metadata": {},
   "source": [
    "* Initialize position:"
   ]
  },
  {
   "cell_type": "code",
   "metadata": {
    "collapsed": false,
    "ExecuteTime": {
     "end_time": "2024-10-23T09:02:21.478309Z",
     "start_time": "2024-10-23T09:02:21.475144Z"
    }
   },
   "source": [
    "# random positions\n",
    "\n",
    "x_rand = np.random.randint(1,box[0]-1,number_of_particles)\n",
    "y_rand = np.random.randint(1,box[1]-1,number_of_particles)\n"
   ],
   "outputs": [],
   "execution_count": 6
  },
  {
   "cell_type": "markdown",
   "metadata": {
    "collapsed": true
   },
   "source": [
    "* Setting up the particle:"
   ]
  },
  {
   "cell_type": "code",
   "metadata": {
    "ExecuteTime": {
     "end_time": "2024-10-23T09:02:21.496200Z",
     "start_time": "2024-10-23T09:02:21.493288Z"
    }
   },
   "source": [
    "particles = []\n",
    "for i in range(number_of_particles):\n",
    "    particles.append(Particle(0.5,x_rand[i],y_rand[i],np.sin(angles[i]) * vel[i],np.cos(angles[i]) * vel[i]))\n"
   ],
   "outputs": [],
   "execution_count": 7
  },
  {
   "cell_type": "markdown",
   "metadata": {},
   "source": [
    "* Defining simulation step numbers"
   ]
  },
  {
   "cell_type": "code",
   "metadata": {
    "collapsed": true,
    "ExecuteTime": {
     "end_time": "2024-10-23T09:02:21.511122Z",
     "start_time": "2024-10-23T09:02:21.509510Z"
    }
   },
   "source": [
    "steps = 50"
   ],
   "outputs": [],
   "execution_count": 8
  },
  {
   "cell_type": "markdown",
   "metadata": {},
   "source": [
    "* initialize trajectory:"
   ]
  },
  {
   "cell_type": "code",
   "metadata": {
    "collapsed": false,
    "scrolled": true,
    "ExecuteTime": {
     "end_time": "2024-10-23T09:02:21.542787Z",
     "start_time": "2024-10-23T09:02:21.539375Z"
    }
   },
   "source": [
    "data_traj = np.zeros((number_of_particles,4,steps))\n",
    "data_traj.shape"
   ],
   "outputs": [
    {
     "data": {
      "text/plain": [
       "(2, 4, 50)"
      ]
     },
     "execution_count": 9,
     "metadata": {},
     "output_type": "execute_result"
    }
   ],
   "execution_count": 9
  },
  {
   "cell_type": "markdown",
   "metadata": {},
   "source": [
    "* define time integrator for numerical, stepwise solution of equation of motion with a discrete time step $dt$:"
   ]
  },
  {
   "cell_type": "code",
   "metadata": {
    "collapsed": false,
    "ExecuteTime": {
     "end_time": "2024-10-23T09:02:21.570153Z",
     "start_time": "2024-10-23T09:02:21.568178Z"
    }
   },
   "source": [
    "def move(p,dt):\n",
    "    p.x = p.x + p.vx * dt\n",
    "    p.y = p.y + p.vy * dt\n",
    "    return p"
   ],
   "outputs": [],
   "execution_count": 10
  },
  {
   "cell_type": "code",
   "metadata": {
    "ExecuteTime": {
     "end_time": "2024-10-23T09:02:21.593574Z",
     "start_time": "2024-10-23T09:02:21.590834Z"
    }
   },
   "source": [
    "def move_unbound(p,dt):\n",
    "    p.x = np.mod(p.x + p.vx * dt, box_size_x)\n",
    "    p.y = np.mod(p.y + p.vy * dt, box_size_y)\n",
    "    return p"
   ],
   "outputs": [],
   "execution_count": 11
  },
  {
   "cell_type": "markdown",
   "metadata": {},
   "source": [
    "* define box reflection:"
   ]
  },
  {
   "cell_type": "code",
   "metadata": {
    "collapsed": true,
    "ExecuteTime": {
     "end_time": "2024-10-23T09:02:21.607438Z",
     "start_time": "2024-10-23T09:02:21.604705Z"
    }
   },
   "source": [
    "def reflect(p):\n",
    "    if (p.x + p.r) >= box[0]:\n",
    "        p.vx = p.vx * (-1)\n",
    "    if (p.x) <= p.r:\n",
    "        p.vx = p.vx * (-1)\n",
    "    if (p.y + p.r) >= box[1]:\n",
    "        p.vy = p.vy * (-1)\n",
    "    if (p.y) <= p.r:\n",
    "        p.vy = p.vy * (-1)\n",
    "    return p"
   ],
   "outputs": [],
   "execution_count": 12
  },
  {
   "cell_type": "code",
   "metadata": {
    "ExecuteTime": {
     "end_time": "2024-10-23T09:02:21.626391Z",
     "start_time": "2024-10-23T09:02:21.620759Z"
    }
   },
   "source": [
    "# https://hermann-baum.de/elastischer_stoss/\n",
    "def collide_simple(particles):\n",
    "    for i in range(len(particles)):\n",
    "        for j in range(len(particles)):\n",
    "            if i < j:\n",
    "                distance = np.sqrt(np.abs(particles[i].x-particles[j].x)**2+np.abs(particles[i].y-particles[j].y)**2)\n",
    "                if distance<(particles[i].r+particles[j].r):\n",
    "                    # angle between x-axis and line between particles\n",
    "                    phi = np.arctan((particles[j].y - particles[i].y)/(particles[j].x - particles[i].x))\n",
    "                    # change the velocities\n",
    "                    particles[i].vx = ( particles[i].vx*np.sin(phi)-particles[i].vy*np.cos(phi))*np.sin(phi)+(particles[j].vx*np.cos(phi)+particles[j].vy*np.sin(phi))*np.cos(phi)\n",
    "                    particles[i].vy = (-particles[i].vx*np.sin(phi)+particles[i].vy*np.cos(phi))*np.cos(phi)+(particles[j].vx*np.cos(phi)+particles[j].vy*np.sin(phi))*np.sin(phi)\n",
    "                    particles[j].vx = ( particles[j].vx*np.sin(phi)-particles[j].vy*np.cos(phi))*np.sin(phi)+(particles[i].vx*np.cos(phi)+particles[i].vy*np.sin(phi))*np.cos(phi)\n",
    "                    particles[j].vy = (-particles[j].vx*np.sin(phi)+particles[j].vy*np.cos(phi))*np.cos(phi)+(particles[i].vx*np.cos(phi)+particles[i].vy*np.sin(phi))*np.sin(phi)\n",
    "                    #print(particles[i],particles[j],'collided with a distance of ', distance)\n"
   ],
   "outputs": [],
   "execution_count": 13
  },
  {
   "metadata": {
    "ExecuteTime": {
     "end_time": "2024-10-23T09:03:03.165781Z",
     "start_time": "2024-10-23T09:03:03.150435Z"
    }
   },
   "cell_type": "code",
   "source": [
    "# check if particles are in border area\n",
    "\n",
    "def border_control(particles, radius, box):\n",
    "    for i in range(len(particles)):\n",
    "        for j in range(len(particles)):\n",
    "            if i.x < radius or i.x > (box - radius):\n",
    "                i.x = np.mod(i.x, box - radius)\n",
    "\n"
   ],
   "outputs": [],
   "execution_count": 29
  },
  {
   "cell_type": "code",
   "metadata": {
    "ExecuteTime": {
     "end_time": "2024-10-23T09:02:21.668763Z",
     "start_time": "2024-10-23T09:02:21.659022Z"
    }
   },
   "source": [
    "# https://hermann-baum.de/elastischer_stoss/\n",
    "def calculate_distance(particle_1, particle_2):\n",
    "    distance = np.sqrt(np.abs(particle_1.x - particle_2.x)**2+np.abs(particle_1.y - particle_2.y)**2)\n",
    "    return distance\n",
    "\n",
    "\n",
    "def collide_boundary(particles,step):\n",
    "    for i in range(len(particles)):\n",
    "        for j in range(len(particles)):\n",
    "            if i < j:\n",
    "                distance = calculate_distance(particles[i],particles[j])\n",
    "                #print(i,j)\n",
    "                \n",
    "                #distance = np.sqrt(np.abs(particles[i].x-particles[j].x)**2+np.abs(particles[i].y-particles[j].y)**2)\n",
    "                \n",
    "                if distance < (particles[i].r + particles[j].r):\n",
    "                    print(step)\n",
    "                    print(particles[i],particles[j],'collided with a distance of ', distance)\n",
    "                    # angle between x-axis and line between particles\n",
    "                    phi = np.arctan((particles[j].y - particles[i].y)/(particles[j].x - particles[i].x))\n",
    "\n",
    "                    # move the particles out\n",
    "                    distance_x = np.sign(particles[j].x-particles[i].x) * ((particles[i].r+particles[j].r)-distance) * np.cos(phi)\n",
    "                    distance_y = np.sign(particles[j].y-particles[i].y) * ((particles[i].r+particles[j].r)-distance) * np.sin(phi)\n",
    "                    print((particles[i].r+particles[j].r)-distance,phi,np.cos(phi),np.sin(phi))\n",
    "                    print(distance_x,distance_y)\n",
    "                    particles[i].x  = particles[i].x - (distance_x/2)\n",
    "                    particles[i].y  = particles[i].y - (distance_y/2)\n",
    "                    particles[j].x  = particles[j].x + (distance_x/2)\n",
    "                    particles[j].y  = particles[j].y + (distance_y/2)\n",
    "\n",
    "                    # change the velocities\n",
    "                    particles[i].vx = ( particles[i].vx*np.sin(phi)-particles[i].vy*np.cos(phi))*np.sin(phi) + (particles[j].vx*np.cos(phi)+particles[j].vy*np.sin(phi))*np.cos(phi)\n",
    "                    particles[i].vy = (-particles[i].vx*np.sin(phi)+particles[i].vy*np.cos(phi))*np.cos(phi) + (particles[j].vx*np.cos(phi)+particles[j].vy*np.sin(phi))*np.sin(phi)\n",
    "                    particles[j].vx = ( particles[j].vx*np.sin(phi)-particles[j].vy*np.cos(phi))*np.sin(phi) + (particles[i].vx*np.cos(phi)+particles[i].vy*np.sin(phi))*np.cos(phi)\n",
    "                    particles[j].vy = (-particles[j].vx*np.sin(phi)+particles[j].vy*np.cos(phi))*np.cos(phi) + (particles[i].vx*np.cos(phi)+particles[i].vy*np.sin(phi))*np.sin(phi)\n",
    "                    distance = np.sqrt(np.abs(particles[i].x-particles[j].x)**2+np.abs(particles[i].y-particles[j].y)**2)\n",
    "                    print(particles[i],particles[j],'collided with a distance of ', distance)\n",
    "                    "
   ],
   "outputs": [],
   "execution_count": 15
  },
  {
   "cell_type": "code",
   "metadata": {
    "ExecuteTime": {
     "end_time": "2024-10-23T09:02:21.681512Z",
     "start_time": "2024-10-23T09:02:21.679206Z"
    }
   },
   "source": [
    "particles[0].x = 5\n",
    "particles[0].y = 10\n",
    "particles[0].vx = 0.4\n",
    "particles[0].vy = 0\n",
    "\n",
    "particles[1].x = 15\n",
    "particles[1].y = 10\n",
    "particles[1].vx = -0.4\n",
    "particles[1].vy = 0\n",
    "\n",
    "# particles[2].x = 10\n",
    "# particles[2].y = 14.5\n",
    "# particles[2].vx = 0\n",
    "# particles[2].vy = -0.4\n",
    "\n"
   ],
   "outputs": [],
   "execution_count": 16
  },
  {
   "cell_type": "markdown",
   "metadata": {},
   "source": [
    "* carry out simulation:"
   ]
  },
  {
   "cell_type": "code",
   "metadata": {
    "collapsed": false,
    "ExecuteTime": {
     "end_time": "2024-10-23T09:02:21.704809Z",
     "start_time": "2024-10-23T09:02:21.699096Z"
    }
   },
   "source": [
    "for i in range(steps):\n",
    "    for j in range(number_of_particles):\n",
    "        #move(p1,1)\n",
    "        #reflect(p1)\n",
    "        move_unbound(particles[j],1)\n",
    "    collide_boundary(particles,i)\n",
    "    for j in range(number_of_particles):\n",
    "        data_traj[j,:,i] = [particles[j].x, particles[j].y, particles[j].vx, particles[j].vy]\n",
    "        "
   ],
   "outputs": [
    {
     "name": "stdout",
     "output_type": "stream",
     "text": [
      "11\n",
      "This is a particle at 9.80, 10.00 with v=0.40,0.00 This is a particle at 10.20, 10.00 with v=-0.40,0.00 collided with a distance of  0.3999999999999915\n",
      "0.6000000000000085 0.0 1.0 0.0\n",
      "0.6000000000000085 0.0\n",
      "This is a particle at 9.50, 10.00 with v=-0.40,0.00 This is a particle at 10.50, 10.00 with v=-0.40,0.00 collided with a distance of  1.0\n",
      "25\n",
      "This is a particle at 3.90, 10.00 with v=-0.40,0.00 This is a particle at 4.90, 10.00 with v=-0.40,0.00 collided with a distance of  0.9999999999999996\n",
      "4.440892098500626e-16 0.0 1.0 0.0\n",
      "4.440892098500626e-16 0.0\n",
      "This is a particle at 3.90, 10.00 with v=-0.40,0.00 This is a particle at 4.90, 10.00 with v=-0.40,0.00 collided with a distance of  1.0\n",
      "26\n",
      "This is a particle at 3.50, 10.00 with v=-0.40,0.00 This is a particle at 4.50, 10.00 with v=-0.40,0.00 collided with a distance of  0.9999999999999996\n",
      "4.440892098500626e-16 0.0 1.0 0.0\n",
      "4.440892098500626e-16 0.0\n",
      "This is a particle at 3.50, 10.00 with v=-0.40,0.00 This is a particle at 4.50, 10.00 with v=-0.40,0.00 collided with a distance of  1.0\n",
      "27\n",
      "This is a particle at 3.10, 10.00 with v=-0.40,0.00 This is a particle at 4.10, 10.00 with v=-0.40,0.00 collided with a distance of  0.9999999999999996\n",
      "4.440892098500626e-16 0.0 1.0 0.0\n",
      "4.440892098500626e-16 0.0\n",
      "This is a particle at 3.10, 10.00 with v=-0.40,0.00 This is a particle at 4.10, 10.00 with v=-0.40,0.00 collided with a distance of  1.0\n",
      "38\n",
      "This is a particle at 18.70, 10.00 with v=-0.40,0.00 This is a particle at 19.70, 10.00 with v=-0.40,0.00 collided with a distance of  0.9999999999999964\n",
      "3.552713678800501e-15 0.0 1.0 0.0\n",
      "3.552713678800501e-15 0.0\n",
      "This is a particle at 18.70, 10.00 with v=-0.40,0.00 This is a particle at 19.70, 10.00 with v=-0.40,0.00 collided with a distance of  1.0\n"
     ]
    }
   ],
   "execution_count": 17
  },
  {
   "cell_type": "code",
   "metadata": {
    "ExecuteTime": {
     "end_time": "2024-10-23T09:02:21.843224Z",
     "start_time": "2024-10-23T09:02:21.840903Z"
    }
   },
   "source": [
    "#data_traj"
   ],
   "outputs": [],
   "execution_count": 18
  },
  {
   "cell_type": "markdown",
   "metadata": {},
   "source": [
    "* Plotting trajectory with Matplotlib:"
   ]
  },
  {
   "cell_type": "code",
   "metadata": {
    "collapsed": false,
    "scrolled": true,
    "ExecuteTime": {
     "end_time": "2024-10-23T09:02:21.969182Z",
     "start_time": "2024-10-23T09:02:21.878613Z"
    }
   },
   "source": [
    "for data_traj_j in data_traj:\n",
    "    plt.plot(data_traj_j[0],data_traj_j[1],'-')\n",
    "plt.xlabel('position x')\n",
    "plt.ylabel('position y')\n",
    "\n",
    "plt.grid()\n",
    "plt.show()"
   ],
   "outputs": [
    {
     "data": {
      "text/plain": [
       "<Figure size 432x288 with 1 Axes>"
      ],
      "image/png": "[encoded data removed]"
     },
     "metadata": {
      "needs_background": "light"
     },
     "output_type": "display_data"
    }
   ],
   "execution_count": 19
  },
  {
   "cell_type": "markdown",
   "metadata": {},
   "source": [
    "**Animate trajectory:**"
   ]
  },
  {
   "cell_type": "markdown",
   "metadata": {},
   "source": [
    "* Set up the figure, the axis, and the plot element we want to animate"
   ]
  },
  {
   "cell_type": "code",
   "metadata": {
    "collapsed": false,
    "ExecuteTime": {
     "end_time": "2024-10-23T09:02:22.002424Z",
     "start_time": "2024-10-23T09:02:21.988446Z"
    }
   },
   "source": [
    "fig, ax = plt.subplots()\n",
    "\n",
    "ax.set_xlim((0, box[0]))\n",
    "ax.set_ylim((0, box[1]))\n",
    "\n",
    "plt.xlabel('position x')\n",
    "plt.ylabel('position y')\n",
    "\n",
    "dot, = ax.plot([], [], 'bo', ms=5.0)\n",
    "\n",
    "# dont show the plot \n",
    "plt.close()"
   ],
   "outputs": [],
   "execution_count": 20
  },
  {
   "cell_type": "markdown",
   "metadata": {},
   "source": [
    "* initialization function: plot the background of each frame"
   ]
  },
  {
   "cell_type": "code",
   "metadata": {
    "collapsed": true,
    "ExecuteTime": {
     "end_time": "2024-10-23T09:02:22.027418Z",
     "start_time": "2024-10-23T09:02:22.025659Z"
    }
   },
   "source": [
    "def init():\n",
    "    dot.set_data([], [])\n",
    "    return (dot,)"
   ],
   "outputs": [],
   "execution_count": 21
  },
  {
   "cell_type": "code",
   "metadata": {
    "ExecuteTime": {
     "end_time": "2024-10-23T09:02:22.041652Z",
     "start_time": "2024-10-23T09:02:22.038834Z"
    }
   },
   "source": [
    "data_traj[:,0,1]"
   ],
   "outputs": [
    {
     "data": {
      "text/plain": [
       "array([ 5.8, 14.2])"
      ]
     },
     "execution_count": 22,
     "metadata": {},
     "output_type": "execute_result"
    }
   ],
   "execution_count": 22
  },
  {
   "cell_type": "markdown",
   "metadata": {},
   "source": [
    "* animation function. This is called sequentially"
   ]
  },
  {
   "cell_type": "code",
   "metadata": {
    "collapsed": true,
    "ExecuteTime": {
     "end_time": "2024-10-23T09:02:22.067095Z",
     "start_time": "2024-10-23T09:02:22.064330Z"
    }
   },
   "source": [
    "def animate(i):\n",
    "    x = data_traj[:,0,i]\n",
    "    y = data_traj[:,1,i]\n",
    "    dot.set_data(x, y)\n",
    "    return (dot,)"
   ],
   "outputs": [],
   "execution_count": 23
  },
  {
   "cell_type": "markdown",
   "metadata": {},
   "source": [
    "* call the animator. blit=True means only re-draw the parts that have changed."
   ]
  },
  {
   "cell_type": "code",
   "metadata": {
    "collapsed": false,
    "ExecuteTime": {
     "end_time": "2024-10-23T09:02:22.113298Z",
     "start_time": "2024-10-23T09:02:22.079186Z"
    }
   },
   "source": [
    "anim = animation.FuncAnimation(fig, animate, init_func=init,\n",
    "                               frames=steps, interval=60, blit=True)"
   ],
   "outputs": [],
   "execution_count": 24
  },
  {
   "cell_type": "code",
   "metadata": {
    "collapsed": false,
    "ExecuteTime": {
     "end_time": "2024-10-23T09:02:24.508044Z",
     "start_time": "2024-10-23T09:02:22.124201Z"
    }
   },
   "source": [
    "HTML(anim.to_html5_video())\n",
    "anim.save('animation.mp4', writer='ffmpeg', fps=30)\n"
   ],
   "outputs": [],
   "execution_count": 25
  },
  {
   "cell_type": "markdown",
   "metadata": {
    "collapsed": true
   },
   "source": [
    "**Histogramming:**"
   ]
  },
  {
   "cell_type": "code",
   "metadata": {
    "collapsed": false,
    "ExecuteTime": {
     "end_time": "2024-10-23T09:02:25.019979Z",
     "start_time": "2024-10-23T09:02:24.518493Z"
    }
   },
   "source": [
    "plt.hist(data_traj[0],range=(0,box[0]),bins=10)\n",
    "plt.xlabel('position x')\n",
    "plt.ylabel('occupancy')\n",
    "plt.show()"
   ],
   "outputs": [
    {
     "data": {
      "text/plain": [
       "<Figure size 432x288 with 1 Axes>"
      ],
      "image/png": "[encoded data removed]"
     },
     "metadata": {
      "needs_background": "light"
     },
     "output_type": "display_data"
    }
   ],
   "execution_count": 26
  },
  {
   "cell_type": "code",
   "metadata": {
    "collapsed": false,
    "ExecuteTime": {
     "end_time": "2024-10-23T09:02:25.529009Z",
     "start_time": "2024-10-23T09:02:25.050792Z"
    }
   },
   "source": [
    "plt.hist(data_traj[1],range=(0,box[1]),bins=10)\n",
    "plt.xlabel('position y')\n",
    "plt.ylabel('occupancy')\n",
    "plt.show()"
   ],
   "outputs": [
    {
     "data": {
      "text/plain": [
       "<Figure size 432x288 with 1 Axes>"
      ],
      "image/png": "[encoded data removed]"
     },
     "metadata": {
      "needs_background": "light"
     },
     "output_type": "display_data"
    }
   ],
   "execution_count": 27
  },
  {
   "cell_type": "code",
   "metadata": {
    "collapsed": false,
    "scrolled": true,
    "ExecuteTime": {
     "end_time": "2024-10-23T09:02:25.688593Z",
     "start_time": "2024-10-23T09:02:25.547590Z"
    }
   },
   "source": [
    "plt.hist2d(data_traj[0], data_traj[1], range=[[0,box[0]],[0,box[1]]], bins=10)\n",
    "plt.xlabel('position x')\n",
    "plt.ylabel('position y')\n",
    "plt.colorbar().set_label('occupancy')\n",
    "plt.show()"
   ],
   "outputs": [
    {
     "ename": "ValueError",
     "evalue": "too many values to unpack (expected 2)",
     "output_type": "error",
     "traceback": [
      "\u001B[0;31m---------------------------------------------------------------------------\u001B[0m",
      "\u001B[0;31mAttributeError\u001B[0m                            Traceback (most recent call last)",
      "\u001B[0;32m~/opt/anaconda3/lib/python3.8/site-packages/numpy/lib/histograms.py\u001B[0m in \u001B[0;36mhistogramdd\u001B[0;34m(sample, bins, range, normed, weights, density)\u001B[0m\n\u001B[1;32m   1014\u001B[0m         \u001B[0;31m# Sample is an ND-array.\u001B[0m\u001B[0;34m\u001B[0m\u001B[0;34m\u001B[0m\u001B[0;34m\u001B[0m\u001B[0m\n\u001B[0;32m-> 1015\u001B[0;31m         \u001B[0mN\u001B[0m\u001B[0;34m,\u001B[0m \u001B[0mD\u001B[0m \u001B[0;34m=\u001B[0m \u001B[0msample\u001B[0m\u001B[0;34m.\u001B[0m\u001B[0mshape\u001B[0m\u001B[0;34m\u001B[0m\u001B[0;34m\u001B[0m\u001B[0m\n\u001B[0m\u001B[1;32m   1016\u001B[0m     \u001B[0;32mexcept\u001B[0m \u001B[0;34m(\u001B[0m\u001B[0mAttributeError\u001B[0m\u001B[0;34m,\u001B[0m \u001B[0mValueError\u001B[0m\u001B[0;34m)\u001B[0m\u001B[0;34m:\u001B[0m\u001B[0;34m\u001B[0m\u001B[0;34m\u001B[0m\u001B[0m\n",
      "\u001B[0;31mAttributeError\u001B[0m: 'list' object has no attribute 'shape'",
      "\nDuring handling of the above exception, another exception occurred:\n",
      "\u001B[0;31mValueError\u001B[0m                                Traceback (most recent call last)",
      "\u001B[0;32m<ipython-input-28-e907161d4a6e>\u001B[0m in \u001B[0;36m<module>\u001B[0;34m\u001B[0m\n\u001B[0;32m----> 1\u001B[0;31m \u001B[0mplt\u001B[0m\u001B[0;34m.\u001B[0m\u001B[0mhist2d\u001B[0m\u001B[0;34m(\u001B[0m\u001B[0mdata_traj\u001B[0m\u001B[0;34m[\u001B[0m\u001B[0;36m0\u001B[0m\u001B[0;34m]\u001B[0m\u001B[0;34m,\u001B[0m \u001B[0mdata_traj\u001B[0m\u001B[0;34m[\u001B[0m\u001B[0;36m1\u001B[0m\u001B[0;34m]\u001B[0m\u001B[0;34m,\u001B[0m \u001B[0mrange\u001B[0m\u001B[0;34m=\u001B[0m\u001B[0;34m[\u001B[0m\u001B[0;34m[\u001B[0m\u001B[0;36m0\u001B[0m\u001B[0;34m,\u001B[0m\u001B[0mbox\u001B[0m\u001B[0;34m[\u001B[0m\u001B[0;36m0\u001B[0m\u001B[0;34m]\u001B[0m\u001B[0;34m]\u001B[0m\u001B[0;34m,\u001B[0m\u001B[0;34m[\u001B[0m\u001B[0;36m0\u001B[0m\u001B[0;34m,\u001B[0m\u001B[0mbox\u001B[0m\u001B[0;34m[\u001B[0m\u001B[0;36m1\u001B[0m\u001B[0;34m]\u001B[0m\u001B[0;34m]\u001B[0m\u001B[0;34m]\u001B[0m\u001B[0;34m,\u001B[0m \u001B[0mbins\u001B[0m\u001B[0;34m=\u001B[0m\u001B[0;36m10\u001B[0m\u001B[0;34m)\u001B[0m\u001B[0;34m\u001B[0m\u001B[0;34m\u001B[0m\u001B[0m\n\u001B[0m\u001B[1;32m      2\u001B[0m \u001B[0mplt\u001B[0m\u001B[0;34m.\u001B[0m\u001B[0mxlabel\u001B[0m\u001B[0;34m(\u001B[0m\u001B[0;34m'position x'\u001B[0m\u001B[0;34m)\u001B[0m\u001B[0;34m\u001B[0m\u001B[0;34m\u001B[0m\u001B[0m\n\u001B[1;32m      3\u001B[0m \u001B[0mplt\u001B[0m\u001B[0;34m.\u001B[0m\u001B[0mylabel\u001B[0m\u001B[0;34m(\u001B[0m\u001B[0;34m'position y'\u001B[0m\u001B[0;34m)\u001B[0m\u001B[0;34m\u001B[0m\u001B[0;34m\u001B[0m\u001B[0m\n\u001B[1;32m      4\u001B[0m \u001B[0mplt\u001B[0m\u001B[0;34m.\u001B[0m\u001B[0mcolorbar\u001B[0m\u001B[0;34m(\u001B[0m\u001B[0;34m)\u001B[0m\u001B[0;34m.\u001B[0m\u001B[0mset_label\u001B[0m\u001B[0;34m(\u001B[0m\u001B[0;34m'occupancy'\u001B[0m\u001B[0;34m)\u001B[0m\u001B[0;34m\u001B[0m\u001B[0;34m\u001B[0m\u001B[0m\n\u001B[1;32m      5\u001B[0m \u001B[0mplt\u001B[0m\u001B[0;34m.\u001B[0m\u001B[0mshow\u001B[0m\u001B[0;34m(\u001B[0m\u001B[0;34m)\u001B[0m\u001B[0;34m\u001B[0m\u001B[0;34m\u001B[0m\u001B[0m\n",
      "\u001B[0;32m~/opt/anaconda3/lib/python3.8/site-packages/matplotlib/pyplot.py\u001B[0m in \u001B[0;36mhist2d\u001B[0;34m(x, y, bins, range, density, weights, cmin, cmax, data, **kwargs)\u001B[0m\n\u001B[1;32m   2696\u001B[0m         \u001B[0mx\u001B[0m\u001B[0;34m,\u001B[0m \u001B[0my\u001B[0m\u001B[0;34m,\u001B[0m \u001B[0mbins\u001B[0m\u001B[0;34m=\u001B[0m\u001B[0;36m10\u001B[0m\u001B[0;34m,\u001B[0m \u001B[0mrange\u001B[0m\u001B[0;34m=\u001B[0m\u001B[0;32mNone\u001B[0m\u001B[0;34m,\u001B[0m \u001B[0mdensity\u001B[0m\u001B[0;34m=\u001B[0m\u001B[0;32mFalse\u001B[0m\u001B[0;34m,\u001B[0m \u001B[0mweights\u001B[0m\u001B[0;34m=\u001B[0m\u001B[0;32mNone\u001B[0m\u001B[0;34m,\u001B[0m\u001B[0;34m\u001B[0m\u001B[0;34m\u001B[0m\u001B[0m\n\u001B[1;32m   2697\u001B[0m         cmin=None, cmax=None, *, data=None, **kwargs):\n\u001B[0;32m-> 2698\u001B[0;31m     __ret = gca().hist2d(\n\u001B[0m\u001B[1;32m   2699\u001B[0m         \u001B[0mx\u001B[0m\u001B[0;34m,\u001B[0m \u001B[0my\u001B[0m\u001B[0;34m,\u001B[0m \u001B[0mbins\u001B[0m\u001B[0;34m=\u001B[0m\u001B[0mbins\u001B[0m\u001B[0;34m,\u001B[0m \u001B[0mrange\u001B[0m\u001B[0;34m=\u001B[0m\u001B[0mrange\u001B[0m\u001B[0;34m,\u001B[0m \u001B[0mdensity\u001B[0m\u001B[0;34m=\u001B[0m\u001B[0mdensity\u001B[0m\u001B[0;34m,\u001B[0m\u001B[0;34m\u001B[0m\u001B[0;34m\u001B[0m\u001B[0m\n\u001B[1;32m   2700\u001B[0m         \u001B[0mweights\u001B[0m\u001B[0;34m=\u001B[0m\u001B[0mweights\u001B[0m\u001B[0;34m,\u001B[0m \u001B[0mcmin\u001B[0m\u001B[0;34m=\u001B[0m\u001B[0mcmin\u001B[0m\u001B[0;34m,\u001B[0m \u001B[0mcmax\u001B[0m\u001B[0;34m=\u001B[0m\u001B[0mcmax\u001B[0m\u001B[0;34m,\u001B[0m\u001B[0;34m\u001B[0m\u001B[0;34m\u001B[0m\u001B[0m\n",
      "\u001B[0;32m~/opt/anaconda3/lib/python3.8/site-packages/matplotlib/__init__.py\u001B[0m in \u001B[0;36minner\u001B[0;34m(ax, data, *args, **kwargs)\u001B[0m\n\u001B[1;32m   1436\u001B[0m     \u001B[0;32mdef\u001B[0m \u001B[0minner\u001B[0m\u001B[0;34m(\u001B[0m\u001B[0max\u001B[0m\u001B[0;34m,\u001B[0m \u001B[0;34m*\u001B[0m\u001B[0margs\u001B[0m\u001B[0;34m,\u001B[0m \u001B[0mdata\u001B[0m\u001B[0;34m=\u001B[0m\u001B[0;32mNone\u001B[0m\u001B[0;34m,\u001B[0m \u001B[0;34m**\u001B[0m\u001B[0mkwargs\u001B[0m\u001B[0;34m)\u001B[0m\u001B[0;34m:\u001B[0m\u001B[0;34m\u001B[0m\u001B[0;34m\u001B[0m\u001B[0m\n\u001B[1;32m   1437\u001B[0m         \u001B[0;32mif\u001B[0m \u001B[0mdata\u001B[0m \u001B[0;32mis\u001B[0m \u001B[0;32mNone\u001B[0m\u001B[0;34m:\u001B[0m\u001B[0;34m\u001B[0m\u001B[0;34m\u001B[0m\u001B[0m\n\u001B[0;32m-> 1438\u001B[0;31m             \u001B[0;32mreturn\u001B[0m \u001B[0mfunc\u001B[0m\u001B[0;34m(\u001B[0m\u001B[0max\u001B[0m\u001B[0;34m,\u001B[0m \u001B[0;34m*\u001B[0m\u001B[0mmap\u001B[0m\u001B[0;34m(\u001B[0m\u001B[0msanitize_sequence\u001B[0m\u001B[0;34m,\u001B[0m \u001B[0margs\u001B[0m\u001B[0;34m)\u001B[0m\u001B[0;34m,\u001B[0m \u001B[0;34m**\u001B[0m\u001B[0mkwargs\u001B[0m\u001B[0;34m)\u001B[0m\u001B[0;34m\u001B[0m\u001B[0;34m\u001B[0m\u001B[0m\n\u001B[0m\u001B[1;32m   1439\u001B[0m \u001B[0;34m\u001B[0m\u001B[0m\n\u001B[1;32m   1440\u001B[0m         \u001B[0mbound\u001B[0m \u001B[0;34m=\u001B[0m \u001B[0mnew_sig\u001B[0m\u001B[0;34m.\u001B[0m\u001B[0mbind\u001B[0m\u001B[0;34m(\u001B[0m\u001B[0max\u001B[0m\u001B[0;34m,\u001B[0m \u001B[0;34m*\u001B[0m\u001B[0margs\u001B[0m\u001B[0;34m,\u001B[0m \u001B[0;34m**\u001B[0m\u001B[0mkwargs\u001B[0m\u001B[0;34m)\u001B[0m\u001B[0;34m\u001B[0m\u001B[0;34m\u001B[0m\u001B[0m\n",
      "\u001B[0;32m~/opt/anaconda3/lib/python3.8/site-packages/matplotlib/axes/_axes.py\u001B[0m in \u001B[0;36mhist2d\u001B[0;34m(self, x, y, bins, range, density, weights, cmin, cmax, **kwargs)\u001B[0m\n\u001B[1;32m   6926\u001B[0m         \"\"\"\n\u001B[1;32m   6927\u001B[0m \u001B[0;34m\u001B[0m\u001B[0m\n\u001B[0;32m-> 6928\u001B[0;31m         h, xedges, yedges = np.histogram2d(x, y, bins=bins, range=range,\n\u001B[0m\u001B[1;32m   6929\u001B[0m                                            density=density, weights=weights)\n\u001B[1;32m   6930\u001B[0m \u001B[0;34m\u001B[0m\u001B[0m\n",
      "\u001B[0;32m<__array_function__ internals>\u001B[0m in \u001B[0;36mhistogram2d\u001B[0;34m(*args, **kwargs)\u001B[0m\n",
      "\u001B[0;32m~/opt/anaconda3/lib/python3.8/site-packages/numpy/lib/twodim_base.py\u001B[0m in \u001B[0;36mhistogram2d\u001B[0;34m(x, y, bins, range, normed, weights, density)\u001B[0m\n\u001B[1;32m    711\u001B[0m         \u001B[0mxedges\u001B[0m \u001B[0;34m=\u001B[0m \u001B[0myedges\u001B[0m \u001B[0;34m=\u001B[0m \u001B[0masarray\u001B[0m\u001B[0;34m(\u001B[0m\u001B[0mbins\u001B[0m\u001B[0;34m)\u001B[0m\u001B[0;34m\u001B[0m\u001B[0;34m\u001B[0m\u001B[0m\n\u001B[1;32m    712\u001B[0m         \u001B[0mbins\u001B[0m \u001B[0;34m=\u001B[0m \u001B[0;34m[\u001B[0m\u001B[0mxedges\u001B[0m\u001B[0;34m,\u001B[0m \u001B[0myedges\u001B[0m\u001B[0;34m]\u001B[0m\u001B[0;34m\u001B[0m\u001B[0;34m\u001B[0m\u001B[0m\n\u001B[0;32m--> 713\u001B[0;31m     \u001B[0mhist\u001B[0m\u001B[0;34m,\u001B[0m \u001B[0medges\u001B[0m \u001B[0;34m=\u001B[0m \u001B[0mhistogramdd\u001B[0m\u001B[0;34m(\u001B[0m\u001B[0;34m[\u001B[0m\u001B[0mx\u001B[0m\u001B[0;34m,\u001B[0m \u001B[0my\u001B[0m\u001B[0;34m]\u001B[0m\u001B[0;34m,\u001B[0m \u001B[0mbins\u001B[0m\u001B[0;34m,\u001B[0m \u001B[0mrange\u001B[0m\u001B[0;34m,\u001B[0m \u001B[0mnormed\u001B[0m\u001B[0;34m,\u001B[0m \u001B[0mweights\u001B[0m\u001B[0;34m,\u001B[0m \u001B[0mdensity\u001B[0m\u001B[0;34m)\u001B[0m\u001B[0;34m\u001B[0m\u001B[0;34m\u001B[0m\u001B[0m\n\u001B[0m\u001B[1;32m    714\u001B[0m     \u001B[0;32mreturn\u001B[0m \u001B[0mhist\u001B[0m\u001B[0;34m,\u001B[0m \u001B[0medges\u001B[0m\u001B[0;34m[\u001B[0m\u001B[0;36m0\u001B[0m\u001B[0;34m]\u001B[0m\u001B[0;34m,\u001B[0m \u001B[0medges\u001B[0m\u001B[0;34m[\u001B[0m\u001B[0;36m1\u001B[0m\u001B[0;34m]\u001B[0m\u001B[0;34m\u001B[0m\u001B[0;34m\u001B[0m\u001B[0m\n\u001B[1;32m    715\u001B[0m \u001B[0;34m\u001B[0m\u001B[0m\n",
      "\u001B[0;32m<__array_function__ internals>\u001B[0m in \u001B[0;36mhistogramdd\u001B[0;34m(*args, **kwargs)\u001B[0m\n",
      "\u001B[0;32m~/opt/anaconda3/lib/python3.8/site-packages/numpy/lib/histograms.py\u001B[0m in \u001B[0;36mhistogramdd\u001B[0;34m(sample, bins, range, normed, weights, density)\u001B[0m\n\u001B[1;32m   1017\u001B[0m         \u001B[0;31m# Sample is a sequence of 1D arrays.\u001B[0m\u001B[0;34m\u001B[0m\u001B[0;34m\u001B[0m\u001B[0;34m\u001B[0m\u001B[0m\n\u001B[1;32m   1018\u001B[0m         \u001B[0msample\u001B[0m \u001B[0;34m=\u001B[0m \u001B[0mnp\u001B[0m\u001B[0;34m.\u001B[0m\u001B[0matleast_2d\u001B[0m\u001B[0;34m(\u001B[0m\u001B[0msample\u001B[0m\u001B[0;34m)\u001B[0m\u001B[0;34m.\u001B[0m\u001B[0mT\u001B[0m\u001B[0;34m\u001B[0m\u001B[0;34m\u001B[0m\u001B[0m\n\u001B[0;32m-> 1019\u001B[0;31m         \u001B[0mN\u001B[0m\u001B[0;34m,\u001B[0m \u001B[0mD\u001B[0m \u001B[0;34m=\u001B[0m \u001B[0msample\u001B[0m\u001B[0;34m.\u001B[0m\u001B[0mshape\u001B[0m\u001B[0;34m\u001B[0m\u001B[0;34m\u001B[0m\u001B[0m\n\u001B[0m\u001B[1;32m   1020\u001B[0m \u001B[0;34m\u001B[0m\u001B[0m\n\u001B[1;32m   1021\u001B[0m     \u001B[0mnbin\u001B[0m \u001B[0;34m=\u001B[0m \u001B[0mnp\u001B[0m\u001B[0;34m.\u001B[0m\u001B[0mempty\u001B[0m\u001B[0;34m(\u001B[0m\u001B[0mD\u001B[0m\u001B[0;34m,\u001B[0m \u001B[0mint\u001B[0m\u001B[0;34m)\u001B[0m\u001B[0;34m\u001B[0m\u001B[0;34m\u001B[0m\u001B[0m\n",
      "\u001B[0;31mValueError\u001B[0m: too many values to unpack (expected 2)"
     ]
    },
    {
     "data": {
      "text/plain": [
       "<Figure size 432x288 with 1 Axes>"
      ],
      "image/png": "[encoded data removed]"
     },
     "metadata": {
      "needs_background": "light"
     },
     "output_type": "display_data"
    }
   ],
   "execution_count": 28
  },
  {
   "cell_type": "markdown",
   "metadata": {},
   "source": [
    "**Interpretation:**\n",
    "* in the reduced data projection, the occupancy of each bin seems even and well-distributed\n",
    "* in the full dimensional projection, it can be seen easily that the box is **not** fully sampled, large undersampled patches present\n",
    "* *data dimensionality reduction always brings the danger of wrong projection!*"
   ]
  },
  {
   "cell_type": "markdown",
   "metadata": {},
   "source": [
    "**Solution for improvements:**\n",
    "* enhance sampling by\n",
    "    * prolong the simulation\n",
    "    * increase the time step\n",
    "* *Caveat: all solutions come with problems like increased computational cost or sampling errors!*"
   ]
  },
  {
   "cell_type": "code",
   "execution_count": null,
   "metadata": {
    "collapsed": true
   },
   "outputs": [],
   "source": []
  }
 ],
 "metadata": {
  "kernelspec": {
   "display_name": "Python 3",
   "language": "python",
   "name": "python3"
  },
  "language_info": {
   "codemirror_mode": {
    "name": "ipython",
    "version": 3
   },
   "file_extension": ".py",
   "mimetype": "text/x-python",
   "name": "python",
   "nbconvert_exporter": "python",
   "pygments_lexer": "ipython3",
   "version": "3.11.9"
  }
 },
 "nbformat": 4,
 "nbformat_minor": 2
}
