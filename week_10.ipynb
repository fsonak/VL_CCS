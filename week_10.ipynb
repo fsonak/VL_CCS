{
 "cells": [
  {
   "metadata": {},
   "cell_type": "markdown",
   "source": [
    "**Week 10: Markovian Langevin Dynamics and Diffusion**\n",
    "\n",
    "Jannek Schaffert, Frédéric Sonak\n",
    "\n",
    "This markdown was created with the assistance of ChatGPT, focusing on grammar, spelling, and readability.\n",
    "\n",
    "**Background**\n",
    "\n",
    "In this excercise a Langevian Integrator (LE) with Markovian dynamics is implemented.\n",
    "\n"
   ]
  },
  {
   "metadata": {},
   "cell_type": "markdown",
   "source": "Importing all libraries used in this code.\n"
  },
  {
   "metadata": {
    "ExecuteTime": {
     "end_time": "2025-01-14T22:38:09.106564Z",
     "start_time": "2025-01-14T22:38:09.102838Z"
    }
   },
   "cell_type": "code",
   "source": [
    "import matplotlib.pyplot as plt\n",
    "from matplotlib import animation, rc\n",
    "from IPython.display import HTML\n",
    "\n",
    "from numba import njit\n",
    "\n",
    "import copy\n",
    "import numpy as np\n",
    "import scipy as scy\n",
    "from tqdm import tqdm\n",
    "import time\n",
    "# Import tqdm\n"
   ],
   "outputs": [],
   "execution_count": 4
  },
  {
   "metadata": {},
   "cell_type": "markdown",
   "source": [
    "**Task 1: Implementation**\n",
    "\n",
    "equation:\n",
    "$\n",
    "\\vec{v}_{k+1} = \\vec{v}_k - \\frac{1}{m} \\left( \\Gamma \\vec{v}_k \\Delta t - \\sqrt{2 \\Gamma k_B T \\Delta t} \\cdot \\vec{R}_k \\right);\n",
    "$\n",
    "\n",
    "with\n",
    "\n",
    "$\n",
    "\\vec{x}_{k+1} = \\vec{x}_k + \\vec{v}_k \\Delta t\n",
    "$.\n",
    "\n",
    "With $k$ denoting the step number, $\\Delta t$ the time step length, $U$ the potential energy, $x$ the position, $v$ the velocity, and a friction constant $\\Gamma$.\n",
    "\n",
    "\n"
   ]
  },
  {
   "metadata": {
    "ExecuteTime": {
     "end_time": "2025-01-14T22:38:09.119438Z",
     "start_time": "2025-01-14T22:38:09.112673Z"
    }
   },
   "cell_type": "code",
   "source": [
    "\n",
    "def langevin_integrator(steps, dt, x0, v0, mass, gamma, temp, k_B=1.380649e-23, verbose=False):\n",
    "\n",
    "    # Start timer\n",
    "    start_time = time.time()\n",
    "\n",
    "    # Initialise position and velocity arrays\n",
    "    positions = np.zeros((steps, len(x0)))\n",
    "    velocities = np.zeros((steps, len(v0)))\n",
    "\n",
    "    # Set initial position and velocity\n",
    "    positions[0] = x0\n",
    "    velocities[0] = v0\n",
    "\n",
    "    # Loop over steps\n",
    "    for i in tqdm(range(steps - 1), desc=\"Running Langevin Integrator\", unit=\"steps\"):\n",
    "        # Generate Gaussian random number around zero with stdv 1\n",
    "        R = np.random.normal(0, 1, size=x0.shape)\n",
    "\n",
    "        # Current velocity and position\n",
    "        v = velocities[i]\n",
    "        x = positions[i]\n",
    "\n",
    "        # Update velocity and position\n",
    "        v_next = v - (gamma  * v * dt) / mass + (np.sqrt(2 * gamma * k_B * temp * dt) * R) / mass\n",
    "        x_next = x + v_next * dt\n",
    "\n",
    "        # Store the updated values\n",
    "        velocities[i + 1] = v_next\n",
    "        positions[i + 1] = x_next\n",
    "\n",
    "        # Verbose logging\n",
    "        if verbose and i % 100 == 0:\n",
    "            print(f\"Step {i}: Position = {x_next}, Velocity = {v_next}\")\n",
    "\n",
    "    # End timer and print elapsed time\n",
    "    end_time = time.time()\n",
    "    print(f\"Time elapsed: {end_time - start_time} seconds\")\n",
    "\n",
    "    return positions, velocities"
   ],
   "outputs": [],
   "execution_count": 5
  },
  {
   "metadata": {},
   "cell_type": "markdown",
   "source": [
    "**Task 2 - LE Simulation**\n",
    "\n",
    "A particle with a mass of $m = 18$g/ mol and a starting velocity corresponding to a temperature of $T = 293.15$K in a random direction is assigned to the particle.\n",
    "The potential energy is set a constant throughout the box. This changes our LE integrator. TO observe this, first we need to rewrite the Langevian equation with potential energy $U$:\n",
    "\n",
    "$\n",
    "\\vec{v}_{k+1} = \\vec{v}_k - \\frac{1}{m} \\left( \\frac{dU}{dx} \\Delta t + \\vec{v}_k \\Gamma \\Delta t - \\sqrt{2 \\Gamma k_B T \\Delta t} \\cdot \\vec{R}_k \\right)\n",
    "$\n",
    "\n",
    "Since the Potential is set to a constant the equation simplifies to\n",
    "\n",
    "$\n",
    "\\vec{v}_{k+1} = \\vec{v}_k - \\frac{1}{m} \\left( \\vec{v}_k \\Gamma \\Delta t - \\sqrt{2 \\Gamma k_B T \\Delta t} \\cdot \\vec{R}_k \\right)\n",
    "$\n",
    "\n",
    "and\n",
    "\n",
    "$\n",
    "\\vec{x}_{k+1} = \\vec{x}_k + \\vec{v}_k \\Delta t\n",
    "$\n",
    "\n",
    ".\n"
   ]
  },
  {
   "metadata": {
    "ExecuteTime": {
     "end_time": "2025-01-14T22:38:11.765915Z",
     "start_time": "2025-01-14T22:38:09.137535Z"
    }
   },
   "cell_type": "code",
   "source": [
    "# Example Parameters\n",
    "steps = 100000 # 1 Mio\n",
    "dt = 1.0e-6 # ns\n",
    "x0 = np.array([0.0, 0.0])  # Initial position (2D) in nm\n",
    "v0 = np.array([0.0, 0.0])  # Initial velocity (2D)\n",
    "mass = 0.018  # kg/mol\n",
    "gamma = 50  # Friction constant from sheet kg/(mol ns)\n",
    "temp = 293.15  # Kelvin\n",
    "\n",
    "# Run simulation\n",
    "positions, velocities = langevin_integrator(steps, dt, x0, v0, mass, gamma, temp, verbose=False)\n",
    "\n"
   ],
   "outputs": [
    {
     "name": "stderr",
     "output_type": "stream",
     "text": [
      "Running Langevin Integrator: 100%|██████████| 99999/99999 [00:02<00:00, 38141.67steps/s]"
     ]
    },
    {
     "name": "stdout",
     "output_type": "stream",
     "text": [
      "Time elapsed: 2.62471604347229 seconds\n"
     ]
    },
    {
     "name": "stderr",
     "output_type": "stream",
     "text": [
      "\n"
     ]
    }
   ],
   "execution_count": 6
  },
  {
   "metadata": {},
   "cell_type": "markdown",
   "source": "From the elapsed time we can see that this simulation is significantly faster than previous MD simulations."
  },
  {
   "metadata": {},
   "cell_type": "markdown",
   "source": "Plotting the position evolution from the simulation for visualisation."
  },
  {
   "metadata": {
    "ExecuteTime": {
     "end_time": "2025-01-14T22:38:12.090859Z",
     "start_time": "2025-01-14T22:38:11.772067Z"
    }
   },
   "cell_type": "code",
   "source": [
    "\n",
    "# z order makes sure the initial and final position dots are on top of the trajectory\n",
    "\n",
    "plt.plot(positions[:, 0], positions[:, 1], zorder=0)\n",
    "plt.scatter(positions[0,0], positions[0,1], label=\"initial position\", color=\"red\", zorder=1)\n",
    "plt.scatter(positions[-1,0], positions[-1,1], label=\"final position\", color=\"green\", zorder=1)\n",
    "plt.title(\"Particle Trajectory\")\n",
    "plt.xlabel(\"x\")\n",
    "plt.ylabel(\"y\")\n",
    "plt.grid()\n",
    "plt.legend()\n",
    "plt.show()\n",
    "\n"
   ],
   "outputs": [
    {
     "data": {
      "text/plain": [
       "<Figure size 432x288 with 1 Axes>"
      ],
      "image/png": "[encoded data removed]"
     },
     "metadata": {
      "needs_background": "light"
     },
     "output_type": "display_data"
    }
   ],
   "execution_count": 7
  },
  {
   "metadata": {},
   "cell_type": "markdown",
   "source": [
    "**Task 3 - Determination of diffusion coefficient**\n",
    "\n",
    "The 2D diffusion coefficient is calculated:\n",
    "\n",
    "$\n",
    "D(t) = \\Delta \\vec{x}(t)^2 / 4t\n",
    "$"
   ]
  },
  {
   "cell_type": "code",
   "metadata": {
    "ExecuteTime": {
     "end_time": "2025-01-14T22:39:48.606499Z",
     "start_time": "2025-01-14T22:39:48.600051Z"
    }
   },
   "source": [
    "def calculate_msd(positions, verbose=False):\n",
    "    displacement = positions - positions[0]\n",
    "    squared_displacement = displacement * displacement\n",
    "    # Sum over spatial dimensions (x, y)\n",
    "    msd = np.sum(squared_displacement, axis=1)\n",
    "    return msd, squared_displacement\n",
    "\n",
    "\n",
    "\n",
    "# def calculate_diffusion_coefficient(msd, dt, verbose=False):\n",
    "#     time = np.arange(len(msd)) * dt\n",
    "#     D = msd / (4 * time)\n",
    "#     D[0] = np.nan  # Avoid division by zero at t=0\n",
    "#     return D, time\n",
    "\n",
    "def calculate_diffusion_coefficient(msd, dt, verbose=False):\n",
    "    time = np.arange(1, len(msd)) * dt  # Start time from t=1\n",
    "    D = msd[1:] / (4 * time)  # Compute D(t) for t > 0\n",
    "    D = np.concatenate(([np.nan], D))  # Add NaN for t=0 to maintain shape\n",
    "    if verbose:\n",
    "        print(\"Diffusion Coefficient D:\", D)\n",
    "    return D, np.arange(len(msd)) * dt\n",
    "\n",
    "\n",
    "\n",
    "# TEST\n",
    "\n",
    "# positions = np.array([\n",
    "#     [1, 0],  # Initial position\n",
    "#     [1, 0],  # Position after step 1\n",
    "#     [2, 0],  # Position after step 2\n",
    "#     [3, 0],  # Position after step 3\n",
    "#     [4, 0],  # Position after step 4\n",
    "#     [5, 0]   # Position after step 5\n",
    "# ])\n",
    "#\n",
    "# msd = calculate_msd(positions)\n",
    "#\n",
    "# print(msd)\n",
    "#\n",
    "# dt = 1.0e-6  # Time step in seconds (e.g., 1 nanosecond)\n",
    "#\n",
    "# dc = calculate_diffusion_coefficient(msd, dt, verbose=False)\n",
    "#\n",
    "# print(dc)\n",
    "# print('done')"
   ],
   "outputs": [],
   "execution_count": 12
  },
  {
   "metadata": {
    "ExecuteTime": {
     "end_time": "2025-01-14T22:39:50.024533Z",
     "start_time": "2025-01-14T22:39:49.675758Z"
    }
   },
   "cell_type": "code",
   "source": [
    "\n",
    "\n",
    "\n",
    "\n",
    "msd, squared_displacement = calculate_msd(positions)\n",
    "D, time = calculate_diffusion_coefficient(msd, dt)\n",
    "\n",
    "plt.plot(time, squared_displacement, label=\"MSD\")\n",
    "plt.xlabel(\"Time (s)\")\n",
    "plt.ylabel(\"squared_displacement\")\n",
    "plt.title(\"squared_displacement vs. Time\")\n",
    "plt.grid()\n",
    "plt.legend()\n",
    "plt.show()"
   ],
   "outputs": [
    {
     "data": {
      "text/plain": [
       "<Figure size 432x288 with 1 Axes>"
      ],
      "image/png": "[encoded data removed]"
     },
     "metadata": {
      "needs_background": "light"
     },
     "output_type": "display_data"
    }
   ],
   "execution_count": 13
  },
  {
   "metadata": {},
   "cell_type": "code",
   "outputs": [],
   "execution_count": null,
   "source": ""
  }
 ],
 "metadata": {
  "kernelspec": {
   "display_name": ".venv",
   "language": "python",
   "name": "python3"
  },
  "language_info": {
   "codemirror_mode": {
    "name": "ipython",
    "version": 3
   },
   "file_extension": ".py",
   "mimetype": "text/x-python",
   "name": "python",
   "nbconvert_exporter": "python",
   "pygments_lexer": "ipython3",
   "version": "3.12.7"
  }
 },
 "nbformat": 4,
 "nbformat_minor": 2
}
