{
 "cells": [
  {
   "metadata": {},
   "cell_type": "markdown",
   "source": [
    "**Week 10: Markovian Langevin Dynamics and Diffusion**\n",
    "\n",
    "Jannek Schaffert, Frédéric Sonak\n",
    "\n",
    "This markdown was created with the assistance of ChatGPT, focusing on grammar, spelling, and readability.\n",
    "\n",
    "**Background**\n",
    "\n",
    "In this excercise a Langevian Integrator (LE) with Markovian dynamics is implemented.\n",
    "\n"
   ]
  },
  {
   "metadata": {},
   "cell_type": "markdown",
   "source": [
    "**Task 1: Implementation**\n",
    "\n",
    "equation:\n",
    "$\n",
    "\\vec{v}_{k+1} = \\vec{v}_k - \\frac{1}{m} \\left( \\Gamma \\vec{v}_k \\Delta t - \\sqrt{2 \\Gamma k_B T \\Delta t} \\cdot \\vec{R}_k \\right);\n",
    "$\n",
    "\n",
    "with\n",
    "\n",
    "$\n",
    "\\vec{x}_{k+1} = \\vec{x}_k + \\vec{v}_k \\Delta t\n",
    "$.\n",
    "\n",
    "With $k$ denoting the step number, $\\Delta t$ the time step length, $U$ the potential energy, $x$ the position, $v$ the velocity, and a friction constant $\\Gamma$.\n",
    "\n",
    "\n"
   ]
  },
  {
   "metadata": {},
   "cell_type": "markdown",
   "source": "Importing all libraries used in this code.\n"
  },
  {
   "cell_type": "code",
   "metadata": {
    "ExecuteTime": {
     "end_time": "2024-12-19T13:19:55.020358Z",
     "start_time": "2024-12-19T13:19:46.162461Z"
    }
   },
   "source": [
    "import matplotlib.pyplot as plt\n",
    "from matplotlib import animation, rc\n",
    "from IPython.display import HTML\n",
    "\n",
    "from numba import njit\n",
    "\n",
    "import copy\n",
    "import numpy as np\n",
    "import scipy as scy"
   ],
   "outputs": [],
   "execution_count": 1
  },
  {
   "metadata": {},
   "cell_type": "markdown",
   "source": [
    "**Task 2 - LE Simulation**\n",
    "\n",
    "A particle with a mass of $m = 18$g/ mol and a starting velocity corresponding to a temperature of $T = 293.15$K in a random direction is assigned to the particle.\n",
    "The potential energy is set a constant throughout the box. This changes our LE integrator. TO observe this, first we need to rewrite the Langevian equation with potential energy $U$:\n",
    "\n",
    "$\n",
    "\\vec{v}_{k+1} = \\vec{v}_k - \\frac{1}{m} \\left( \\frac{dU}{dx} \\Delta t + \\vec{v}_k \\Gamma \\Delta t - \\sqrt{2 \\Gamma k_B T \\Delta t} \\cdot \\vec{R}_k \\right)\n",
    "$\n",
    "\n",
    "Since the Potential is set to a constant the equation simplifies to\n",
    "\n",
    "$\n",
    "\\vec{v}_{k+1} = \\vec{v}_k - \\frac{1}{m} \\left( \\vec{v}_k \\Gamma \\Delta t - \\sqrt{2 \\Gamma k_B T \\Delta t} \\cdot \\vec{R}_k \\right)\n",
    "$\n",
    "\n",
    "and\n",
    "\n",
    "$\n",
    "\\vec{x}_{k+1} = \\vec{x}_k + \\vec{v}_k \\Delta t\n",
    "$\n",
    "\n",
    ".\n"
   ]
  },
  {
   "metadata": {
    "ExecuteTime": {
     "end_time": "2025-01-12T16:40:16.483709Z",
     "start_time": "2025-01-12T16:40:16.477643Z"
    }
   },
   "cell_type": "code",
   "source": [
    "def langevian_integrator(steps, x0, v0, mass, gamma, temp, k_B = 1.380649e-23, verbose = False):\n",
    "\n",
    "    array = np.random.normal(loc=0.0, scale=1.0, size = (steps, 2))\n",
    "\n",
    "    #initialise position and velocity arrays\n",
    "    positions = np.zeros((steps, len(x0)))  # Position array\n",
    "    velocities = np.zeros((steps, len(v0)))  # Velocity array\n",
    "\n",
    "    # add the zero poisitoin and velocuty\n",
    "    x[0] = x0\n",
    "    v[0] = v0\n",
    "\n",
    "    #loop over steps\n",
    "    for i in range(steps):\n",
    "\n",
    "        R = rng.normal(0, 1, size=x0.shape)  # Gaussian random noise\n",
    "        v = velocities[-1]\n",
    "        x = positions[-1]\n",
    "\n",
    "        # Update velocity and position\n",
    "        v_next = v - (gamma / mass) * v * dt + np.sqrt(2 * gamma * k_B * temp * dt) / mass * R\n",
    "        x_next = x + v_next * dt\n",
    "\n",
    "        velocities.append(v_next)\n",
    "        positions.append(x_next)\n",
    "\n",
    "        return np.array(positions), np.array(velocities)"
   ],
   "outputs": [],
   "execution_count": 1
  },
  {
   "metadata": {
    "ExecuteTime": {
     "end_time": "2025-01-12T16:42:08.503283Z",
     "start_time": "2025-01-12T16:42:08.423992Z"
    }
   },
   "cell_type": "code",
   "source": [
    "# Setting all parameters\n",
    "\n",
    "steps = 1000000\n",
    "gamma = 50\n",
    "dt = 1.0e-6 #ns\n",
    "mass = 0.018 # kg/mol\n",
    "R = 1.380649e-23  # Boltzmann constant (J/K)\n",
    "temp = 293.15\n",
    "\n",
    "#start position and velocity\n",
    "x_0 = np.array([0.0, 0.0])\n",
    "v_0 = np.array([0.0, 0.0])\n",
    "\n"
   ],
   "outputs": [
    {
     "ename": "NameError",
     "evalue": "name 'np' is not defined",
     "output_type": "error",
     "traceback": [
      "\u001B[0;31m---------------------------------------------------------------------------\u001B[0m",
      "\u001B[0;31mNameError\u001B[0m                                 Traceback (most recent call last)",
      "\u001B[0;32m<ipython-input-2-7fd2afba29ed>\u001B[0m in \u001B[0;36m<module>\u001B[0;34m\u001B[0m\n\u001B[1;32m      9\u001B[0m \u001B[0;34m\u001B[0m\u001B[0m\n\u001B[1;32m     10\u001B[0m \u001B[0;31m#start position and velocity\u001B[0m\u001B[0;34m\u001B[0m\u001B[0;34m\u001B[0m\u001B[0;34m\u001B[0m\u001B[0m\n\u001B[0;32m---> 11\u001B[0;31m \u001B[0mx_0\u001B[0m \u001B[0;34m=\u001B[0m \u001B[0mnp\u001B[0m\u001B[0;34m.\u001B[0m\u001B[0marray\u001B[0m\u001B[0;34m(\u001B[0m\u001B[0;34m[\u001B[0m\u001B[0;36m0.0\u001B[0m\u001B[0;34m,\u001B[0m \u001B[0;36m0.0\u001B[0m\u001B[0;34m]\u001B[0m\u001B[0;34m)\u001B[0m\u001B[0;34m\u001B[0m\u001B[0;34m\u001B[0m\u001B[0m\n\u001B[0m\u001B[1;32m     12\u001B[0m \u001B[0mv_0\u001B[0m \u001B[0;34m=\u001B[0m \u001B[0mnp\u001B[0m\u001B[0;34m.\u001B[0m\u001B[0marray\u001B[0m\u001B[0;34m(\u001B[0m\u001B[0;34m[\u001B[0m\u001B[0;36m0.0\u001B[0m\u001B[0;34m,\u001B[0m \u001B[0;36m0.0\u001B[0m\u001B[0;34m]\u001B[0m\u001B[0;34m)\u001B[0m\u001B[0;34m\u001B[0m\u001B[0;34m\u001B[0m\u001B[0m\n\u001B[1;32m     13\u001B[0m \u001B[0;34m\u001B[0m\u001B[0m\n",
      "\u001B[0;31mNameError\u001B[0m: name 'np' is not defined"
     ]
    }
   ],
   "execution_count": 2
  },
  {
   "cell_type": "code",
   "execution_count": null,
   "metadata": {},
   "outputs": [],
   "source": []
  }
 ],
 "metadata": {
  "kernelspec": {
   "display_name": ".venv",
   "language": "python",
   "name": "python3"
  },
  "language_info": {
   "codemirror_mode": {
    "name": "ipython",
    "version": 3
   },
   "file_extension": ".py",
   "mimetype": "text/x-python",
   "name": "python",
   "nbconvert_exporter": "python",
   "pygments_lexer": "ipython3",
   "version": "3.12.7"
  }
 },
 "nbformat": 4,
 "nbformat_minor": 2
}
