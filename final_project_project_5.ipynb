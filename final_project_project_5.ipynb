{
 "cells": [
  {
   "metadata": {},
   "cell_type": "markdown",
   "source": [
    "**Final Project: Overdamped and Markovian Langevin Equation**\n",
    "\n",
    "Frédéric Sonak, Classical Complex Systems WS24/25\n",
    "\n",
    "This markdown was created with the assistance of ChatGPT, focusing on grammar, spelling, and readability.\n",
    "\n",
    "**Background**\n",
    "\n",
    "In systems where the timescale along the system coordinate is significantly slower than all other motions in the simulation, the Langevin equation can be used to model the system. This project focuses on the motion of a one-dimensional particle, described by its position $x(t)$, in a double-well potential $U(x)$, where the potential defines the system’s landscape and naturally confines the particle to a finite region without requiring explicit boundary conditions.\n",
    "\n",
    "The double-well potential serves as a fundamental model in statistical mechanics and thermodynamics. It is widely used in the study of bistable systems, including chemical reaction rates in transition state theory, nucleation dynamics in phase transitions, and conformational changes in protein folding. In such systems, a particle transitions between two stable states separated by an energy barrier, making it an excellent model for studying stochastic transitions.\n",
    "\n",
    "Simulations like this are also widely used in modeling energy landscapes, such as in nucleation dynamics and protein folding studies. One-dimensional potentials provide a simple but effective way to explore these landscapes, helping to understand rare transitions and escape processes. Many computational methods rely on such potentials to study how systems move between stable states over time. This reminds me of my term paper on \"Determining Biological Process Rates via Metadynamics\", where a history-dependent bias is used to help explore parts of the energy landscape that classical methods struggle to reach. By gradually modifying the potential, metadynamics makes it possible to overcome energy barriers and map out transition rates more efficiently.\n",
    "\n",
    "This project is divided into three tasks:\n",
    " 1. Implement the Markovian Langevin Equation and analyze its trajectory, histogram, and transition rates for a given set of parameters. To achieve this, each position is assigned to either the left or right state, depending on its location within the potential. This classification allows for the calculation of transition probabilities between the two states, determining the likelihood of a particle moving from the right well to the left and vice versa.\n",
    "2. Implement the Overdamped Langevin Equation and repeat the analysis performed in Task 1. In the high-friction limit, inertial effects become negligible, simplifying the equation of motion. The trajectory, histogram, and transition rates are computed using the overdamped equation, and the results are compared to those obtained from the Markovian Langevin simulation. This comparison provides insight into how different regimes of friction influence the system’s dynamics and transition behavior.\n",
    "3. Compare the Markovian and Overdamped Langevin Equations by running simulations for different friction coefficients (\\Gamma). The goal is to determine at what level of damping the two approaches yield similar results. The transition rates obtained from both simulations are compared against theoretical predictions based on Kramers’ escape rate theory. This analysis helps identify the friction regime in which the overdamped approximation becomes valid.\n",
    "\n",
    "\n"
   ],
   "id": "104594b9eedc3b47"
  },
  {
   "metadata": {},
   "cell_type": "markdown",
   "source": "We begin by importing all libraries used in this code.",
   "id": "535c321bdb714b39"
  },
  {
   "metadata": {
    "ExecuteTime": {
     "end_time": "2025-02-12T18:22:07.913734Z",
     "start_time": "2025-02-12T18:22:07.906947Z"
    }
   },
   "cell_type": "code",
   "source": [
    "\n",
    "import matplotlib.pyplot as plt\n",
    "import numpy as np\n",
    "import time\n",
    "import time"
   ],
   "id": "daef8146363e6d48",
   "outputs": [],
   "execution_count": 11
  },
  {
   "metadata": {
    "ExecuteTime": {
     "end_time": "2025-02-12T18:22:07.924905Z",
     "start_time": "2025-02-12T18:22:07.922259Z"
    }
   },
   "cell_type": "code",
   "source": [
    "# This is just to count the time it took for the entire notebook to run through.\n",
    "# The result is printed at the end\n",
    "\n",
    "# Record the start time at the very beginning of the notebook\n",
    "start_time = time.time()"
   ],
   "id": "dd3e1219e5039233",
   "outputs": [],
   "execution_count": 12
  },
  {
   "metadata": {},
   "cell_type": "markdown",
   "source": [
    "**Task 1: Implement Markovian Langevin Equation**\n",
    "\n",
    "To describe the particle’s dynamics, we implement the Markovian Langevin equation. The evolution of the particle’s position follows:\n",
    "\n",
    "$\n",
    "x(t + \\Delta t) = x(t) + v(t) \\Delta t\n",
    "$\n",
    "\n",
    "where the velocity is given by:\n",
    "\n",
    "$\n",
    "v(t + \\Delta t) = v(t) - \\frac{1}{m} \\frac{dU (x(t))}{dx} \\Delta t - \\frac{1}{m} \\Gamma v(t) \\Delta t + \\frac{1}{m} \\sqrt{2k_B T \\Gamma \\Delta t R (t)}\n",
    "$\n",
    "\n",
    "where:\n",
    "- $m$ is the particle's mass,\n",
    "\n",
    "- $\\Gamma$ is the friction coefficient,\n",
    "\n",
    "- $k_B T$ represents the thermal energy at temperature T,\n",
    "\n",
    "- $R(t)$ is a Gaussian random variable with zero mean and unit variance, representing stochastic thermal fluctuations.\n",
    "\n",
    "Unlike the constant potential in the exercise sheet (Sheet 10), this simulation considers a double-well potential, given by:\n",
    "\n",
    "$\n",
    "U(x) = k_B T (0.28(0.25x^4 + 0.1x^3 - 3.24x^2) + 3.5)\n",
    "$.\n",
    "\n",
    "**Defining the Potential and Its Derivatives**\n",
    "\n",
    "Since the force acting on the particle is given by the gradient of the potential:\n",
    "\n",
    "$\n",
    "F(x) = -\\frac{dU}{dx}\n",
    "$\n",
    "\n",
    "we need to compute the deriviative of $U(x)$. These derivatives are defined explicitly in the code, as they are essential for later calculations.\n",
    "\n",
    "While derivatives can be calculated manually or using computational tools such as SymPy, Python’s symbolic mathematics library, SymPy does not differentiate standard Python functions directly because they are interpreted numerically rather than symbolically. To illustrate symbolic differentiation in Python, an example using SymPy is provided at the end of the notebook. However, for better readability and efficiency, we explicitly define the derivatives within the code."
   ],
   "id": "b99a38a11ac433fa"
  },
  {
   "metadata": {
    "ExecuteTime": {
     "end_time": "2025-02-12T18:22:07.943813Z",
     "start_time": "2025-02-12T18:22:07.940225Z"
    }
   },
   "cell_type": "code",
   "source": [
    "# define potential and deriviatives\n",
    "\n",
    "# Since k_B * T is fixed at 38 in later calculations, we define:\n",
    "# k_B_x_T = k_B * T to simplify the notation.\n",
    "\n",
    "def U(x, k_B_x_T):\n",
    "    return k_B_x_T * (0.28 * (0.25 * x**4 + 0.1 * x**3 - 3.24 * x**2) + 3.5)\n",
    "\n",
    "\n",
    "def dU_dx(x, k_B_x_T):\n",
    "    return  k_B_x_T * x * (0.28 * x**2 + 0.084 * x - 1.8144)\n",
    "\n",
    "# needed for task 3\n",
    "def ddU_ddx(x, k_B_x_T):\n",
    "    return k_B_x_T * (0.84 * x**2 + 0.168 * x - 1.8144)"
   ],
   "id": "b33356b13b13e980",
   "outputs": [],
   "execution_count": 13
  },
  {
   "metadata": {},
   "cell_type": "markdown",
   "source": "To better understand the system’s behavior, we plot the potential function. This visualisation helps illustrate the two stable states (wells) and the energy barrier between them.",
   "id": "5ee2538edcd2868d"
  },
  {
   "metadata": {
    "ExecuteTime": {
     "end_time": "2025-02-12T18:22:08.081485Z",
     "start_time": "2025-02-12T18:22:07.952706Z"
    }
   },
   "cell_type": "code",
   "source": [
    "# Define the x-axis range for visualization\n",
    "x = np.linspace(-5, 5, 500)  # Generate 500 points from x = -5 to x = 5\n",
    "\n",
    "# Compute the potential function U(x) using the given k_B * T value (38 ps^-1)\n",
    "k_B_x_T = 38\n",
    "U_values = U(x, k_B_x_T)\n",
    "\n",
    "# Create the plot\n",
    "plt.figure(figsize=(8, 5))\n",
    "plt.plot(x, U_values, label=r\"$U(x) = k_B T \\left( 0.28(0.25x^4 + 0.1x^3 - 3.24x^2) + 3.5 \\right)$\", color=\"orange\")\n",
    "\n",
    "# Add labels, title, and legend\n",
    "plt.xlabel(\"Position x\")\n",
    "plt.ylabel(\"Potential Energy U(x)\")\n",
    "plt.title(\"Visualization of the Double-Well Potential\")\n",
    "plt.legend()\n",
    "plt.grid(True)\n",
    "\n",
    "# Display the plot\n",
    "plt.show()"
   ],
   "id": "c5ab6ffee012d6ad",
   "outputs": [
    {
     "data": {
      "text/plain": [
       "<Figure size 576x360 with 1 Axes>"
      ],
      "image/png": "[encoded data removed]"
     },
     "metadata": {},
     "output_type": "display_data"
    }
   ],
   "execution_count": 14
  },
  {
   "metadata": {},
   "cell_type": "markdown",
   "source": "The plotted potential function reveals a double-well structure with two local minima: one at  x = -2.7  (left) and another at  x = 2.4  (right). The two wells are separated by a potential barrier located at  x = 0 , corresponding to the local maximum. Additionally, it can be observed that the left minimum is slightly lower in energy than the right minimum. This asymmetry will play a crucial role in the transition dynamics analysed later in the project.",
   "id": "4447c12aba40739a"
  },
  {
   "metadata": {},
   "cell_type": "markdown",
   "source": "With the potential and its derivatives defined, we can now implement the Langevin integrator to simulate the particle’s motion. The following implementation is based on a similar integrator from Sheet 10, adapted for the double-well potential used in this project.",
   "id": "c3e10295910236f9"
  },
  {
   "metadata": {
    "ExecuteTime": {
     "end_time": "2025-02-12T18:22:08.095639Z",
     "start_time": "2025-02-12T18:22:08.090034Z"
    }
   },
   "cell_type": "code",
   "source": [
    "\n",
    "def langevin_integrator(steps, dt, x0, v0, mass, gamma, k_B_x_T, verbose=False):\n",
    "\n",
    "    # Debugging output: Print simulation parameters\n",
    "    if verbose:\n",
    "        print(\"Running Langevin integrator with the following parameters:\")\n",
    "        print(f'Steps: {steps}, dt: {dt}, x0: {x0}, v0: {v0}, '\n",
    "              f'mass: {mass}, gamma: {gamma}, k_B_x_T: {k_B_x_T}')\n",
    "\n",
    "\n",
    "    # Initialize arrays for storing positions and velocities\n",
    "    positions = np.zeros((steps))\n",
    "    velocities = np.zeros((steps))\n",
    "\n",
    "    # Set initial position and velocity\n",
    "    positions[0] = x0\n",
    "    velocities[0] = v0\n",
    "\n",
    "    # calculate constants outside of loop to remove redundant calculations\n",
    "    # This was found to speed up the calculations by about 20 % for large loops\n",
    "    const_1 = gamma * dt / mass\n",
    "    const_2 = np.sqrt(2  * k_B_x_T * gamma *  dt) / mass\n",
    "\n",
    "    # Main integration loop\n",
    "    loop_range = range(steps - 1)\n",
    "    for i in loop_range:\n",
    "        # Generate Gaussian noise (mean = 0, variance = 1)\n",
    "        R = np.random.normal(0, 1)\n",
    "\n",
    "        # Current velocity and position\n",
    "        v = velocities[i]\n",
    "        x = positions[i]\n",
    "\n",
    "        # Update velocity using Langevin equation\n",
    "        v_next = v + (-dU_dx(x, k_B_x_T) / mass) * dt - const_1 * v + const_2 * R\n",
    "        # Update position\n",
    "        x_next = x + v_next * dt\n",
    "\n",
    "        # Store the updated values\n",
    "        velocities[i + 1] = v_next\n",
    "        positions[i + 1] = x_next\n",
    "\n",
    "        # Debugging output: Print intermediate values at every 10% of steps\n",
    "        # This check was included because, during the implementation,\n",
    "        # unstable simulations were observed where forces and positions increased uncontrollably, leading to numerical divergence.\n",
    "        if verbose:\n",
    "            if i % (steps // 10) == 0:  # Print 10 times throughout simulation\n",
    "                print(f\"Step {i}: x = {x_next:.5f}, \"\n",
    "                      f\"v = {v_next:.5f}, force = {-dU_dx(x, k_B_x_T):.2f} noise = {R:.5f}\")\n",
    "\n",
    "\n",
    "    return positions, velocities"
   ],
   "id": "e8ba947faabc70cd",
   "outputs": [],
   "execution_count": 15
  },
  {
   "metadata": {},
   "cell_type": "markdown",
   "source": "The implemented integrator can now be used to simulate the system using the parameters provided in the task sheet. During debugging, the number of simulation steps can be reduced by a factor of 100 to 1000 to accelerate computations and facilitate troubleshooting.",
   "id": "81386161c5d45708"
  },
  {
   "metadata": {
    "jupyter": {
     "is_executing": true
    },
    "ExecuteTime": {
     "start_time": "2025-02-12T18:22:08.113394Z"
    }
   },
   "cell_type": "code",
   "source": [
    "# Run simulation using parameters from the task sheet\n",
    "\n",
    "# Define simulation parameters\n",
    "gamma = 100        # Friction coefficient (no unit)\n",
    "k_B_x_T = 38       # Boltzmann constant times temperature (ps^¹)\n",
    "dt = 0.001         # Time step size (ps)\n",
    "steps = 50 * 10**6 # Number of time steps (can be reduced for debugging)\n",
    "mass = 1           # Particle mass (ps)\n",
    "x0 = 0             # Initial position (no unit)\n",
    "v0 = 0             # Initial velocity (ps^¹)\n",
    "\n",
    "# Run simulation\n",
    "positions_markovian, velocities_markovian = langevin_integrator(steps, dt, x0, v0, mass, gamma, k_B_x_T, verbose=True)"
   ],
   "id": "c69edc446056ae6b",
   "outputs": [
    {
     "name": "stdout",
     "output_type": "stream",
     "text": [
      "Running Langevin integrator with the following parameters:\n",
      "Steps: 50000000, dt: 0.001, x0: 0, v0: 0, mass: 1, gamma: 100, k_B_x_T: 38\n",
      "Step 0: x = -0.00396, v = -3.96063, force = 0.00 noise = -1.43667\n",
      "Step 5000000: x = 2.65940, v = 3.03009, force = -38.81 noise = 0.36962\n",
      "Step 10000000: x = -3.30583, v = -0.42284, force = 121.48 noise = 1.09776\n"
     ]
    }
   ],
   "execution_count": null
  },
  {
   "metadata": {},
   "cell_type": "markdown",
   "source": "A quick inspection of the debugging output confirms that the simulation remains numerically stable for the chosen parameters, with no signs of divergence or unphysical values. To further analyze the results, we visualize the trajectory by plotting the particle’s position over time.",
   "id": "a80d3c9143e39af8"
  },
  {
   "metadata": {},
   "cell_type": "code",
   "source": [
    "# Plot the trajectory of the particle over time\n",
    "plt.figure(figsize=(10, 5))\n",
    "\n",
    "plt.plot(np.arange(steps), positions_markovian, label=\"Position\")\n",
    "\n",
    "# Labels and Title\n",
    "plt.xlabel(\"Time Step\")\n",
    "plt.ylabel(\"Position\")\n",
    "plt.title(\"Langevin Dynamics Simulation\")\n",
    "plt.legend()\n",
    "plt.grid(True)\n",
    "plt.show()"
   ],
   "id": "26a23a005fefb961",
   "outputs": [],
   "execution_count": null
  },
  {
   "metadata": {},
   "cell_type": "markdown",
   "source": [
    "The trajectory plot clearly shows that the particle predominantly explores two stable states, corresponding to the local minima of the potential at approximately  x = -2.7  (left well) and  x = 2.4  (right well). Throughout the simulation, multiple transitions between these two states can be observed, reflecting the stochastic nature of the Langevin dynamics.\n",
    "\n",
    "To further quantify the system’s behavior, we analyze the distribution of positions by computing a histogram of the particle’s trajectory. This empirical distribution can then be compared to the theoretical Boltzmann distribution, which describes the expected probability distribution of states in thermal equilibrium."
   ],
   "id": "29902dbea839dc67"
  },
  {
   "metadata": {},
   "cell_type": "code",
   "source": [
    "# Plot histogram of the trajectory\n",
    "plt.figure(figsize=(8, 5))\n",
    "plt.hist(positions_markovian, bins=100, density=True, color=\"blue\", alpha=0.6, edgecolor=\"black\")\n",
    "\n",
    "# Mark core state boundaries\n",
    "plt.axvline(-1, color=\"red\", linestyle=\"--\", label=\"Left Core Boundary (-1)\")\n",
    "plt.axvline(1, color=\"green\", linestyle=\"--\", label=\"Right Core Boundary (1)\")\n",
    "\n",
    "# Define the Boltzmann distribution P(x) \\propto exp(-U(x) / k_B T)\n",
    "def boltzmann_distribution(x, k_B_x_T):\n",
    "    P_x = np.exp(-U(x, k_B_x_T) / k_B_x_T)\n",
    "    return P_x / np.trapz(P_x, x)  # Normalise by dividing through the integration of the Boltzmann distribution\n",
    "\n",
    "# Compute and plot theoretical Boltzmann distribution\n",
    "P_x = boltzmann_distribution(x, k_B_x_T)\n",
    "plt.plot(x, P_x, label=\"Boltzmann Distribution\", color=\"orange\")\n",
    "\n",
    "# Labels, Title, and Legend\n",
    "plt.xlabel(\"Position x\")\n",
    "plt.ylabel(\"Probability Density\")\n",
    "plt.title(\"Histogram of the Trajectory\")\n",
    "plt.legend()\n",
    "plt.grid(True)\n",
    "plt.show()"
   ],
   "id": "6faccb80240d7e2a",
   "outputs": [],
   "execution_count": null
  },
  {
   "metadata": {},
   "cell_type": "markdown",
   "source": [
    "he histogram provides a clear visualization of the system’s behavior. The two distinct peaks correspond to the local minima of the double-well potential, confirming that the particle spends most of its time in these stable states. Additionally, the probability density smoothly approaches zero for extreme values of  x , indicating that the integrator is numerically stable and does not produce unphysical position values.\n",
    "\n",
    "Furthermore, we observe that the empirical distribution closely follows the theoretical Boltzmann distribution, confirming that the simulated trajectory correctly samples the equilibrium distribution expected for a system in thermal equilibrium. This agreement suggests that the Langevin dynamics simulation accurately captures the stochastic behavior dictated by the potential landscape."
   ],
   "id": "853defc410b4ba70"
  },
  {
   "metadata": {},
   "cell_type": "markdown",
   "source": [
    "**Assigning Core States (Left/Right)**\n",
    "Next, we assign each particle position to one of two core states: left or right.\n",
    "To ensure consistency, the initial state at $( x = 0 )$ is assigned to \"left\" by default.\n",
    "\n",
    "The assignment rules are as follows:\n",
    "- If the particle's position satisfies $( x < -1 )$, it is classified as left (0).\n",
    "- If the particle's position satisfies $( x > 1 )$, it is classified as right (1).\n",
    "- For intermediate positions between the two boundaries $(-1 \\leq x \\leq 1)$, the last visited state is retained.\n",
    "\n",
    "This hysteresis-based assignment prevents rapid fluctuations at the potential barrier and ensures a physically meaningful classification of transitions between the two states.\n"
   ],
   "id": "a0ea349227d636d2"
  },
  {
   "metadata": {},
   "cell_type": "code",
   "source": [
    "# defining the assign state function\n",
    "def assign_core_states(positions):\n",
    "\n",
    "    # Initialize the state array (0 = left, 1 = right)\n",
    "    states = np.zeros(len(positions), dtype=int)\n",
    "\n",
    "    # Assume the simulation starts in the left state (x(0) = 0)\n",
    "    current_state = 0\n",
    "\n",
    "    # Iterate through the trajectory and assign states\n",
    "    for i in range(len(positions)):\n",
    "        x = positions[i]\n",
    "        if x < -1:\n",
    "            current_state = 0  # Left\n",
    "        elif x > 1:\n",
    "            current_state = 1  # Right\n",
    "        # If -1 <= x <= 1, keep the last assigned state\n",
    "\n",
    "        states[i] = current_state  # Store the state\n",
    "\n",
    "    return states"
   ],
   "id": "47e73d35c5398dba",
   "outputs": [],
   "execution_count": null
  },
  {
   "metadata": {},
   "cell_type": "code",
   "source": [
    "# running the assign state function for the Markovian simulation\n",
    "states_markovian = assign_core_states(positions_markovian)"
   ],
   "id": "a221e08a0015dfe",
   "outputs": [],
   "execution_count": null
  },
  {
   "metadata": {},
   "cell_type": "markdown",
   "source": "To verify the correctness of the state assignment, a quick statistical check is performed. This involves counting the occurrences of left (0) and right (1) states to ensure they sum up to the total number of steps. If the sum is correct, we can confirm that no double assignment or misclassification occurred in the state labeling.",
   "id": "1d3f0bb41c031445"
  },
  {
   "metadata": {},
   "cell_type": "code",
   "source": [
    "def quick_statistics_check(states, verbose=True):\n",
    "    # Count occurrences of left (0) and right (1) states\n",
    "    left_count = np.sum(states == 0)\n",
    "    right_count = np.sum(states == 1)\n",
    "\n",
    "    # Total simulations\n",
    "    total_simulations = len(states)\n",
    "\n",
    "    # Check if the sum is correct\n",
    "    sum_check = left_count + right_count == total_simulations\n",
    "\n",
    "    # Print results\n",
    "    if verbose:\n",
    "        print(f\"Left states (0): {left_count} = {left_count/total_simulations*100}%\")\n",
    "        print(f\"Right states (1): {right_count} = {right_count/total_simulations*100}%\")\n",
    "        print(f\"Total states: {total_simulations}\")\n",
    "        print(f\"Check if both add up correctly: {'Yes' if sum_check else 'No'}\")\n",
    "\n",
    "    return left_count, right_count\n",
    "\n"
   ],
   "id": "e6a8512fadcf84f6",
   "outputs": [],
   "execution_count": null
  },
  {
   "metadata": {},
   "cell_type": "code",
   "source": [
    "# running the statistics check for the Markovian Simulation\n",
    "count_left_right_markovian, count_right_left_markovian  = quick_statistics_check(states_markovian)"
   ],
   "id": "9750da390f3228d0",
   "outputs": [],
   "execution_count": null
  },
  {
   "metadata": {},
   "cell_type": "markdown",
   "source": "At first glance, the results appear consistent. Since the left minimum of the potential is lower in energy than the right minimum, the particle is expected to spend more time in the left state. The statistical check confirms this behavior, with a higher occurrence of the left state. Additionally, the total number of assigned states matches the total number of simulation steps, indicating that no double counting or misclassification has occurred.",
   "id": "d6a58099319f858f"
  },
  {
   "metadata": {},
   "cell_type": "markdown",
   "source": [
    "**Counting Transitions and Computing Transition Rates**\n",
    "\n",
    "Next, we count the state transitions between the two wells:\n",
    "\n",
    "- $( N_{\\text{left} \\rightarrow \\text{right}} )$: The number of times the particle transitions from the left well to the right well.\n",
    "- $( N_{\\text{right} \\rightarrow \\text{left}} )$: The number of times the particle transitions from the right well to the left well.\n",
    "\n",
    "The transition rate $( k_{\\text{left} \\rightarrow \\text{right}} )$ is defined as:\n",
    "\n",
    "$\n",
    "k_{\\text{left} \\rightarrow \\text{right}} = \\frac{N_{\\text{left} \\rightarrow \\text{right}}}{N_{\\text{left}} \\cdot \\Delta t}\n",
    "$\n",
    "\n",
    "Similarly, the reverse transition rate $( k_{\\text{right} \\rightarrow \\text{left}} )$ is given by:\n",
    "\n",
    "$\n",
    "k_{\\text{right} \\rightarrow \\text{left}} = \\frac{N_{\\text{right} \\rightarrow \\text{left}}}{N_{\\text{right}} \\cdot \\Delta t}\n",
    "$\n",
    "\n",
    "These rates describe how frequently the particle escapes from one potential well to the other within a given time step $( \\Delta t )$, providing key insights into the system's stochastic dynamics."
   ],
   "id": "b47334aa246d9571"
  },
  {
   "metadata": {},
   "cell_type": "code",
   "source": [
    "def compute_transition_rates(states, left_count, right_count, verbose=True):\n",
    "    # Count transitions from left (0) to right (1) and vice versa\n",
    "    N_left_to_right = np.sum((states[:-1] == 0) & (states[1:] == 1))\n",
    "    N_right_to_left = np.sum((states[:-1] == 1) & (states[1:] == 0))\n",
    "\n",
    "    # Compute transition rates\n",
    "    k_left_to_right = N_left_to_right / (left_count * dt)\n",
    "    k_right_to_left = N_right_to_left / (right_count * dt)\n",
    "\n",
    "    # Print results\n",
    "    if verbose:\n",
    "        print(f\"Transition rate k(left -> right): {k_left_to_right:.5f} per ps\")\n",
    "        print(f\"Transition rate k(right -> left): {k_right_to_left:.5f} per ps\")\n",
    "\n",
    "    return k_left_to_right, k_right_to_left\n"
   ],
   "id": "9271f44f7191dd6a",
   "outputs": [],
   "execution_count": null
  },
  {
   "metadata": {},
   "cell_type": "code",
   "source": [
    "# computing transition rates for the markovian simulation\n",
    "k_left_to_right_langevin,k_right_to_left_langevin = compute_transition_rates(states_markovian, count_left_right_markovian, count_right_left_markovian, verbose=True)"
   ],
   "id": "c49a2457560d3211",
   "outputs": [],
   "execution_count": null
  },
  {
   "metadata": {},
   "cell_type": "markdown",
   "source": "To conclude Task 1, we visualize a segment of the trajectory  x(t)  that captures a transition between the two states. This provides a clear representation of how the particle moves between the left and right potential wells over time.",
   "id": "b29eb9a4813aa067"
  },
  {
   "metadata": {},
   "cell_type": "code",
   "source": [
    "# TODO before printing get a good region for this plot\n",
    "\n",
    "# Define a trajectory interval that captures a visible transition between states\n",
    "start_index = 200000\n",
    "end_index = 400000\n",
    "\n",
    "# Generate corresponding time array\n",
    "time_array = np.arange(start_index, end_index) * dt\n",
    "\n",
    "# Plot the trajectory for the selected interval\n",
    "plt.figure(figsize=(10, 5))\n",
    "plt.plot(time_array, positions_markovian[start_index:end_index], label=\"x(t)\", color=\"blue\")\n",
    "\n",
    "# Mark core state boundaries\n",
    "plt.axhline(-1, color=\"red\", linestyle=\"--\", label=\"Left Core Boundary (-1)\")\n",
    "plt.axhline(1, color=\"green\", linestyle=\"--\", label=\"Right Core Boundary (1)\")\n",
    "\n",
    "\n",
    "plt.xlabel(\"Time (ps)\")\n",
    "plt.ylabel(\"Position x(t)\")\n",
    "plt.title(\"Exemplary Trajectory of a Particle\")\n",
    "plt.legend()\n",
    "plt.grid(True)\n",
    "plt.show()"
   ],
   "id": "1be4fd136a4eb59",
   "outputs": [],
   "execution_count": null
  },
  {
   "metadata": {},
   "cell_type": "code",
   "source": "",
   "id": "7188d75abe413781",
   "outputs": [],
   "execution_count": null
  },
  {
   "metadata": {},
   "cell_type": "markdown",
   "source": [
    "**Task 2: Implement overdamped Langevin equation**\n",
    "\n",
    "In the high-friction limit, the system experiences strong damping, and the acceleration term becomes negligible:\n",
    "\n",
    "$\n",
    "\\frac{dv}{dt} \\approx 0\n",
    "$\n",
    "\n",
    "This simplifies the Langevin equation for position updates to:\n",
    "\n",
    "$\n",
    "x(t + \\Delta t) = x(t) - \\frac{1}{m} \\frac{1}{\\Gamma} \\frac{dU(x(t))}{dx} \\Delta t\n",
    "+ \\frac{1}{m} \\sqrt{\\frac{2k_B T \\Delta t}{\\Gamma}} R(t)\n",
    "$\n",
    "\n",
    "In this regime, velocity no longer plays a role because the motion is entirely governed by a balance between the deterministic force from the potential and random thermal fluctuations. Any acceleration is instantaneously damped by friction, meaning that the system reaches a quasi-equilibrium where the particle continuously adjusts to the local energy landscape.\n",
    "\n",
    "To study the impact of this approximation, we rerun the simulation under the same conditions as in Task 1 and compare the results. First, we implement the overdamped Langevin integrator."
   ],
   "id": "7a3af346fac13328"
  },
  {
   "metadata": {},
   "cell_type": "code",
   "source": [
    "#TODO Do i need to remove mass? It doesnt make a numerical differnce as the variable is one, but in theory the overdamped langevin equation inertia is neglegible so mass should vanish, right?\n",
    "\n",
    "\n",
    "def overdamped_langevin_integrator(steps, dt, x0, mass, gamma, k_B_x_T, verbose=False):\n",
    "    if verbose:\n",
    "        print(f' Running overdamped langevin integration with the following parameters:')\n",
    "        print(f' steps: {steps}')\n",
    "        print(f' dt: {dt}')\n",
    "        print(f' x0: {x0}')\n",
    "        print(f' mass: {mass}')\n",
    "        print(f' gamma: {gamma}')\n",
    "        print(f' k_B_x_T: {k_B_x_T}')\n",
    "\n",
    "    # Initialize position array\n",
    "    positions = np.zeros(steps)\n",
    "\n",
    "    # Set initial position\n",
    "    positions[0] = x0\n",
    "\n",
    "    # Precompute noise scaling factor\n",
    "    sqrt_2kBT_dt_gamma = np.sqrt(2 * k_B_x_T * dt / gamma)\n",
    "\n",
    "    # Integration loop\n",
    "    loop_range = range(steps - 1)\n",
    "    for i in loop_range:\n",
    "        # Generate Gaussian noise (mean 0, variance 1)\n",
    "        noise = np.random.normal(0, 1)\n",
    "\n",
    "        # current position\n",
    "        x = positions[i]\n",
    "\n",
    "        # Compute force (minus is included here!)\n",
    "        force = -dU_dx(positions[i], k_B_x_T)\n",
    "\n",
    "        # Overdamped Langevin update\n",
    "        x_next = x + (force / (gamma* mass)) * dt + (1/mass) * sqrt_2kBT_dt_gamma * noise\n",
    "\n",
    "        # Store the updated value\n",
    "        positions[i+1] = x_next\n",
    "\n",
    "        # Debugging to check stability\n",
    "        if verbose:\n",
    "            if i % (steps // 10) == 0:  # Print 10 times throughout simulation\n",
    "                print(f\"Step {i}: x = {positions[i + 1]:.5f}, force = {force:.2f}, noise = {noise:.5f}\")\n",
    "\n",
    "    return positions\n"
   ],
   "id": "8479c7002aa8aafa",
   "outputs": [],
   "execution_count": null
  },
  {
   "metadata": {},
   "cell_type": "code",
   "source": [
    "# Use the same simulation parameters as for the Markovian Langevin simulation\n",
    "\n",
    "# Run simulation\n",
    "positions_overdamped = overdamped_langevin_integrator(steps, dt, x0, mass, gamma, k_B_x_T, verbose=True)\n"
   ],
   "id": "1aa98aa403de206f",
   "outputs": [],
   "execution_count": null
  },
  {
   "metadata": {},
   "cell_type": "markdown",
   "source": "The simulation remains stable, with no signs of numerical instability or diverging values. As in the Markovian Langevin simulation, we now visualize the results to analyze the system’s behavior.",
   "id": "c208a2d36d7abcb2"
  },
  {
   "metadata": {},
   "cell_type": "code",
   "source": [
    "# Plot the results\n",
    "plt.figure(figsize=(8, 5))\n",
    "plt.plot(np.arange(steps), positions_overdamped, label=\"Position\", color=\"green\")\n",
    "plt.xlabel(\"Time Step\")\n",
    "plt.ylabel(\"Position\")\n",
    "plt.title(\"Overdamped Langevin Dynamics Simulation\")\n",
    "plt.legend()\n",
    "plt.grid(True)\n",
    "plt.show()"
   ],
   "id": "9a6c78780dfc03c9",
   "outputs": [],
   "execution_count": null
  },
  {
   "metadata": {},
   "cell_type": "markdown",
   "source": "As observed in Task 1, the system explores the two states corresponding to the potential’s minima. Once again, the majority of the time is spent in the left minimum, which is at a lower energy state. In the following histogram, the distribution of the Overdamped Langevin dynamics is compared to the Markovian Langevin dynamics as well as the theoretical Boltzmann distribution.",
   "id": "110a9c4ff8d8c26e"
  },
  {
   "metadata": {},
   "cell_type": "code",
   "source": [
    "# Plot histogram of the trajectory\n",
    "plt.figure(figsize=(8, 5))\n",
    "\n",
    "# Histogram of Overdamped Langevin\n",
    "plt.hist(positions_overdamped, bins=100, density=True, label=\"Overdamped Langevin\",\n",
    "         color=\"green\", alpha=0.3, edgecolor=\"black\")\n",
    "\n",
    "# Histogram of Markovian Langevin\n",
    "plt.hist(positions_markovian, bins=100, density=True, label=\"Markovian Langevin\",\n",
    "         color=\"blue\", alpha=0.6, edgecolor=\"black\")\n",
    "\n",
    "# Plot Boltzmann Distribution for reference\n",
    "plt.plot(x, P_x, label=\"Boltzmann Distribution\", color=\"orange\", linewidth=2)\n",
    "\n",
    "# Mark core state boundaries\n",
    "plt.axvline(-1, color=\"red\", linestyle=\"--\", label=\"Left Core Boundary (-1)\")\n",
    "plt.axvline(1, color=\"green\", linestyle=\"--\", label=\"Right Core Boundary (1)\")\n",
    "\n",
    "plt.xlabel(\"Position x\")\n",
    "plt.ylabel(\"Probability Density\")\n",
    "plt.title(\"Histogram of the Trajectory\")\n",
    "plt.legend()\n",
    "plt.grid(True)\n",
    "plt.show()"
   ],
   "id": "f0bff168e65e7b56",
   "outputs": [],
   "execution_count": null
  },
  {
   "metadata": {},
   "cell_type": "markdown",
   "source": [
    "Here both simulations show the same expected theoretical result. Another way to perhaps more closely compare the two distributuins is by moving from a histagram to kernel density estimate. This can be done with seaborne.\n",
    "\n",
    "Both simulations (Overdamped Langevin and Markovian Langevin) yield the same expected theoretical result as shown in the histogram. However, to facilitate a more detailed comparison of the two distributions, we can transition from a histogram to a Kernel Density Estimate (KDE). The KDE provides a smoothed estimate of the probability density function, which can offer a clearer view of the underlying distribution.\n",
    "\n",
    "The KDE can be easily plotted using Seaborn. By smoothing the distributions, we can perhaps more accurately compare the two Langevin dynamics models against the theoretical Boltzmann distribution."
   ],
   "id": "10552573b2ae3156"
  },
  {
   "metadata": {},
   "cell_type": "code",
   "source": [
    "# KDE PLOT to better see how similar the two simulations are. Carefull this takes quite long.\n",
    "\n",
    "import seaborn as sns\n",
    "\n",
    "plt.figure(figsize=(10, 6))\n",
    "\n",
    "sns.kdeplot(positions_overdamped, label=\"Overdamped Langevin\", color=\"green\", linewidth=2)\n",
    "sns.kdeplot(positions_markovian, label=\"Markovian Langevin\", color=\"blue\", linewidth=2)\n",
    "\n",
    "plt.xlabel(\"Position x\")\n",
    "plt.ylabel(\"Density\")\n",
    "plt.title(\"KDE Plot: Overdamped vs Markovian\")\n",
    "plt.legend()\n",
    "plt.grid(True, linestyle=\"--\", alpha=0.6)\n",
    "\n",
    "plt.show()"
   ],
   "id": "3a49d97f4c538a7a",
   "outputs": [],
   "execution_count": null
  },
  {
   "metadata": {},
   "cell_type": "markdown",
   "source": "From the KDE comparison,  it is evident that both the Overdamped Langevin and Markovian Langevin simulations yield very similar results. The distributions closely align with the theoretical Boltzmann distribution, indicating that both simulations are in strong agreement with the expected theoretical behavior. This suggests that the Langevin dynamics in both cases are consistent with the assumptions underlying the Boltzmann distribution, confirming the validity of the simulation models.",
   "id": "7af5239c8e720c54"
  },
  {
   "metadata": {},
   "cell_type": "markdown",
   "source": [
    "**State Assignment and Statistical Analysis**\n",
    "\n",
    "Similar to the Markovian Langevin simulation, states are now assigned to the system, and a brief statistical analysis is conducted. Following this, the transition rates between the identified states are calculated."
   ],
   "id": "275b94c45c165edd"
  },
  {
   "metadata": {},
   "cell_type": "code",
   "source": [
    "states_overdamped = assign_core_states(positions_overdamped)\n",
    "\n",
    "left_count_overdamped, right_count_overdamped = quick_statistics_check(states_overdamped, verbose=True)"
   ],
   "id": "59da7ed26844ddee",
   "outputs": [],
   "execution_count": null
  },
  {
   "metadata": {},
   "cell_type": "code",
   "source": [
    "# Transition Rates\n",
    "k_left_to_right_overdamped,k_right_to_left_overdamped = compute_transition_rates(states_overdamped, left_count_overdamped, right_count_overdamped, verbose=True)"
   ],
   "id": "a77b9c153a063ce7",
   "outputs": [],
   "execution_count": null
  },
  {
   "metadata": {},
   "cell_type": "markdown",
   "source": [
    "The transition rates between the Markovian Langevin and Overdamped Langevin simulations can now be compared.\n",
    "\n",
    "The bar plot below compares the transition rates for each direction under both simulations. The blue bars represent the rates from the Langevin simulation, while the orange bars represent the rates from the Overdamped Langevin simulation."
   ],
   "id": "ac84788eac1d2309"
  },
  {
   "metadata": {},
   "cell_type": "code",
   "source": [
    "\n",
    "# store variables from above as lists for simple visualisation\n",
    "types = [\"Left to Right\", \"Right to Left\"]\n",
    "langevin_rates = [k_left_to_right_langevin, k_right_to_left_langevin]\n",
    "overdamped_rates = [k_left_to_right_overdamped, k_right_to_left_overdamped]\n",
    "\n",
    "# Plot comparison\n",
    "x = np.arange(len(types))  # Bar positions\n",
    "width = 0.3  # Width of the bars\n",
    "\n",
    "plt.figure(figsize=(8, 5))\n",
    "plt.bar(x - width / 2, langevin_rates, width=width, label=\"Markovian\", color=\"blue\")\n",
    "plt.bar(x + width / 2, overdamped_rates, width=width, label=\"Overdamped\", color=\"green\")\n",
    "\n",
    "\n",
    "plt.xticks(x, types)\n",
    "plt.ylabel(\"Transition Rate (per ps)\")\n",
    "plt.title(\"Comparison of Transition Rates: Markovian vs Overdamped\")\n",
    "plt.legend()\n",
    "plt.grid(axis=\"y\", linestyle=\"--\", alpha=0.6)\n",
    "plt.show()"
   ],
   "id": "ee0a363200eb3208",
   "outputs": [],
   "execution_count": null
  },
  {
   "metadata": {},
   "cell_type": "markdown",
   "source": [
    "It can be observed that the Right to Left transition rate is substantially higher than the transition from Left to Right in both simulations. This behavior is consistent with the asymmetry in the double-well potential, where it is energetically easier for a particle to leave the right state than it is for it to escape from the left state.\n",
    "\n",
    "For both transitions, the Overdamped Langevin simulation shows slightly higher transition rates compared to the Markovian Langevin simulation. This could be attributed to the nature of the overdamped approximation, where forces are felt instantaneously due to the high friction (or damping), resulting in faster equilibration between states. In the Markovian Langevin simulation, on the other hand, both friction and inertia are considered, which means the particle’s velocity plays a role in determining its transition dynamics. The inclusion of inertia may slow down transitions.\n"
   ],
   "id": "cf68737db62b3966"
  },
  {
   "metadata": {},
   "cell_type": "markdown",
   "source": "And finally for task 2 an exemplary trajectory of a particle is presented and compared with an exemplary trajectory for the markovian simulation.",
   "id": "9e78816ae873629f"
  },
  {
   "metadata": {},
   "cell_type": "code",
   "source": [
    "# Define example trajectory interval\n",
    "start_index = 2000\n",
    "end_index = 4000\n",
    "\n",
    "# Generate time array\n",
    "time_array = np.arange(start_index, end_index) * dt\n",
    "\n",
    "# Plot the trajectory\n",
    "plt.figure(figsize=(10, 5))\n",
    "\n",
    "# Overdamped\n",
    "plt.plot(time_array, positions_overdamped[start_index:end_index], label=\"x(t) overdamped\", color=\"green\")\n",
    "\n",
    "# Markovian\n",
    "plt.plot(time_array, positions_markovian[start_index:end_index], label=\"x(t) markovian\", color=\"blue\")\n",
    "\n",
    "# Mark core state boundaries\n",
    "plt.axhline(-1, color=\"red\", linestyle=\"--\", label=\"Left Core Boundary (-1)\")\n",
    "plt.axhline(1, color=\"green\", linestyle=\"--\", label=\"Right Core Boundary (1)\")\n",
    "\n",
    "plt.xlabel(\"Time (ps)\")\n",
    "plt.ylabel(\"Position x(t)\")\n",
    "plt.title(\"Exemplary Trajectory of a Particle (Overdamped Langevin)\")\n",
    "plt.legend()\n",
    "plt.grid(True)\n",
    "plt.show()"
   ],
   "id": "6fcf4b5f06bd7128",
   "outputs": [],
   "execution_count": null
  },
  {
   "metadata": {},
   "cell_type": "markdown",
   "source": "his illustration clearly shows the rapid, erratic fluctuations of the overdamped system, where the lack of significant inertia means the particle does not “speed up” or “slow down” but changes position instantaneously. In contrast, the Markovian trajectory presents a smoother, more realistic motion, where inertia allows for gradual oscillations and more natural dynamics.",
   "id": "5f3f49f1ccc35252"
  },
  {
   "metadata": {},
   "cell_type": "code",
   "source": "",
   "id": "f613db91b8338af7",
   "outputs": [],
   "execution_count": null
  },
  {
   "metadata": {},
   "cell_type": "markdown",
   "source": [
    "**Task 3: Comparison of Langevin Equations**\n",
    "\n",
    "In the last step both Langevin equations will be run for different friction coefficients $\\Gamma$ ranging from 75 down to 10.\n",
    "\n",
    "The calculated transition rates $k_{i \\rightarrow j}$ will be compared with the theoretical formula\n",
    "\n",
    "$\n",
    "k_{i \\to j}(\\Gamma) \\approx \\frac{\\omega_i \\omega_{\\text{max}}}{2 \\pi \\Gamma} e^{-\\frac{U(x_{\\text{max}}) - U(x_i)}{k_B T}}\n",
    "$\n",
    "\n",
    "where $\\omega_i^2 = \\frac{d^2 U (x_i)}{dx^2}$ and $\\omega_\\mathrm{max}^2 = - \\frac{d^2 U (x_\\mathrm{max}) - U (x_i)}{dx^2}$.\n"
   ],
   "id": "30df81ce4896253c"
  },
  {
   "metadata": {},
   "cell_type": "code",
   "source": [
    "# Run Langevin for range of friction coefficients\n",
    "\n",
    "# Define range of gamma values to test\n",
    "gamma_values = np.array([ 100, 75, 55, 40, 30, 15, 10])  # Different damping values\n",
    "\n",
    "# Store transition rates\n",
    "k_left_to_right_markovian = []\n",
    "k_right_to_left_markovian = []\n",
    "k_left_to_right_overdamped = []\n",
    "k_right_to_left_overdamped = []\n",
    "\n",
    "# loop through gamma values\n",
    "for gamma in gamma_values:\n",
    "    print(f\"\\n**** Running simulations for gamma = {gamma}\")\n",
    "\n",
    "    # Run Task 1 (Markovian Langevin)\n",
    "    print(f'Running Markovian Langevin Simulation')\n",
    "\n",
    "    positions_markovian, velocities_markovian = langevin_integrator(steps, dt, x0, v0, mass, gamma, k_B_x_T, verbose=False)\n",
    "    states_markovian = assign_core_states(positions_markovian)\n",
    "    left_count_m, right_count_m = quick_statistics_check(states_markovian, verbose=False)\n",
    "    k_m_left, k_m_right = compute_transition_rates(states_markovian, left_count_m, right_count_m, verbose=False)\n",
    "\n",
    "    print(f'transition rates: {k_m_left, k_m_right}')\n",
    "\n",
    "    k_left_to_right_markovian.append(k_m_left)\n",
    "    k_right_to_left_markovian.append(k_m_right)\n",
    "\n",
    "\n",
    "    # Run Task 2 (Overdamped Langevin)\n",
    "    print(f'Running Overdamped Langevin Simulation')\n",
    "    positions_overdamped = overdamped_langevin_integrator(steps, dt, x0, mass, gamma, k_B_x_T, verbose=False)\n",
    "    states_overdamped = assign_core_states(positions_overdamped)\n",
    "    left_count_o, right_count_o = quick_statistics_check(states_overdamped, verbose=False)\n",
    "    k_o_left, k_o_right = compute_transition_rates(states_overdamped, left_count_o, right_count_o, verbose=False)\n",
    "\n",
    "    print(f'transition rates: {k_o_left, k_o_right}')\n",
    "\n",
    "    k_left_to_right_overdamped.append(k_o_left)\n",
    "    k_right_to_left_overdamped.append(k_o_right)"
   ],
   "id": "869aef495e420477",
   "outputs": [],
   "execution_count": null
  },
  {
   "metadata": {},
   "cell_type": "markdown",
   "source": [
    "The results from the two simulations must be compared to the theoretical values. These values are calculated using the formulas outlined earlier. For this comparison, we will calculate the theoretical transition rates for each friction coefficient \\Gamma.\n",
    "\n",
    "There are two states: left and right, each associated with the position of its potential minimum. The left state is assigned x = -2.7 (calculated manually, as shown above), and the right state is assigned x = 2.4. The following code calculates the theoretical transition rates based on the given formulas."
   ],
   "id": "b49ebd098a8c5838"
  },
  {
   "metadata": {},
   "cell_type": "code",
   "source": [
    "\n",
    "# Implementing the functions from the sheet\n",
    "def theoretical_transition_rate(gamma, omega_i, omega_max, U_max, U_i, k_B_x_T):\n",
    "    return (omega_i * omega_max) / (2 * np.pi * gamma) * np.exp(-(U_max - U_i) / k_B_x_T)\n",
    "\n",
    "def omega_i(x_i, k_B_x_T):\n",
    "    omega_i_squared = ddU_ddx(x_i, k_B_x_T)\n",
    "    return np.sqrt(omega_i_squared)\n",
    "\n",
    "def omega_max(x_max, k_B_x_T):\n",
    "    omega_max_squared = -ddU_ddx(x_max, k_B_x_T)\n",
    "    return np.sqrt(omega_max_squared)\n",
    "\n",
    "# Define parameters (calculated manually)\n",
    "x_left = -2.7\n",
    "x_right = 2.4\n",
    "x_max = 0  # Barrier location\n",
    "\n",
    "# Compute potential values\n",
    "U_max = U(x_max, k_B_x_T)\n",
    "U_left = U(x_left, k_B_x_T)\n",
    "U_right = U(x_right, k_B_x_T)\n",
    "\n",
    "\n",
    "# Compute transition rates\n",
    "k_left_to_right_theoretical = []\n",
    "k_right_to_left_theoretical = []\n",
    "\n",
    "# loop through gamma values\n",
    "for gamma in gamma_values:\n",
    "    k_lr = theoretical_transition_rate(gamma, omega_i(x_left, k_B_x_T), omega_max(x_max, k_B_x_T), U_max, U_left, k_B_x_T)\n",
    "    k_rl = theoretical_transition_rate(gamma, omega_i(x_right, k_B_x_T), omega_max(x_max, k_B_x_T), U_max, U_right, k_B_x_T)\n",
    "\n",
    "    k_left_to_right_theoretical.append(k_lr)\n",
    "    k_right_to_left_theoretical.append(k_rl)\n",
    "\n",
    "    print(f\"Gamma = {gamma}: k_left_to_right = {k_lr:.5f}, k_right_to_left = {k_rl:.5f}\")\n",
    "\n"
   ],
   "id": "71f757c1bbb9f79a",
   "outputs": [],
   "execution_count": null
  },
  {
   "metadata": {},
   "cell_type": "markdown",
   "source": "Finally, all transition rates are compared.",
   "id": "1a6b357be91dcd9e"
  },
  {
   "metadata": {},
   "cell_type": "code",
   "source": [
    "# plot transition right to left\n",
    "plt.figure(figsize=(10, 6))\n",
    "\n",
    "plt.plot(gamma_values, k_right_to_left_theoretical, 'v--', label=\"theoretical\", color=\"orange\")\n",
    "plt.plot(gamma_values, k_right_to_left_markovian, '^--', label=\"Markovian\", color=\"blue\")\n",
    "plt.plot(gamma_values, k_right_to_left_overdamped,'^--', label=\"Overdamped\", color=\"green\")\n",
    "\n",
    "plt.xlabel(r'Friction coefficient $\\Gamma$ for the Transition Right to Left')\n",
    "plt.ylabel(r'Transition rate $k$ (per ps)')\n",
    "plt.title('Comparison of Transition Rates')\n",
    "plt.legend()\n",
    "# plt.xscale('log')  # Log scale for better visualization\n",
    "# plt.yscale('log')  # Log scale for better comparison\n",
    "\n",
    "plt.grid()\n",
    "plt.show()\n",
    "\n",
    "\n",
    "# Plot transition left to right\n",
    "plt.figure(figsize=(10, 6))\n",
    "\n",
    "plt.plot(gamma_values, k_left_to_right_theoretical, 'v--', label=\"theoretical\", color=\"orange\")\n",
    "plt.plot(gamma_values, k_left_to_right_markovian, '^--', label=\"Markovian\", color=\"blue\")\n",
    "plt.plot(gamma_values, k_left_to_right_overdamped,'^--', label=\"Overdamped\", color=\"green\")\n",
    "\n",
    "plt.xlabel(r'Friction coefficient $\\Gamma$ for the Transition Left to Right')\n",
    "plt.ylabel(r'Transition rate $k$ (per ps)')\n",
    "plt.title('Comparison of Transition Rates')\n",
    "plt.legend()\n",
    "# plt.xscale('log')  # Log scale for better visualization\n",
    "# plt.yscale('log')  # Log scale for better comparison\n",
    "\n",
    "plt.grid()\n",
    "plt.show()"
   ],
   "id": "7e2f729673843e23",
   "outputs": [],
   "execution_count": null
  },
  {
   "metadata": {},
   "cell_type": "markdown",
   "source": [
    "In both cases (left to right and right to left) the Markovian Simulation diverges further away from the theoretical calculations for small friction coefficients. here, the overdamped Langevin appears to give better results.\n",
    "\n",
    "For large friction coefficients the right to left transition indicates a trend where the markovian simulation might be closer to the theoretical calculations. The right to left transition does not show a clear trend.\n",
    "\n",
    "To further investigate this one could explore even larger friction coefficients although, due to the arbitrary units I am not sure how realistic simulations would then be.\n",
    "\n",
    "\n",
    "\n",
    "\n",
    "In theory one would expect the overdamped simulation to work good for systems with large friction constants. In these systems inertia has little effect on the dynamics. Examples would be motions of particles in viscous liquids.\n",
    "\n",
    "On the other hand the markovian Langevin simulations might be more suitable for simulations with more moderate Friction coefficients."
   ],
   "id": "625b3a5d184db3de"
  },
  {
   "metadata": {},
   "cell_type": "code",
   "source": "",
   "id": "2d826e106251e6f6",
   "outputs": [],
   "execution_count": null
  },
  {
   "metadata": {},
   "cell_type": "markdown",
   "source": [
    "**Appendix**\n",
    "\n",
    "**Example of how to use SYMPY in Python**"
   ],
   "id": "6212bb28111453a4"
  },
  {
   "metadata": {},
   "cell_type": "code",
   "source": [
    "# example of how to use sumpy to determine minimas, maximas, differentiation etc.\n",
    "\n",
    "import sympy as sp\n",
    "\n",
    "# Define the variable\n",
    "x = sp.Symbol('x', real=True)\n",
    "\n",
    "# Define the function\n",
    "f = 38 * (0.28 * (0.25 * x**4 + 0.1 * x**3 - 3.24 * x**2) + 3.5)\n",
    "\n",
    "# Compute the first derivative\n",
    "f_prime = sp.diff(f, x)\n",
    "\n",
    "# Solve for critical points (where f' = 0)\n",
    "critical_points = sp.solve(f_prime, x)\n",
    "\n",
    "# Compute the second derivative\n",
    "f_double_prime = sp.diff(f_prime, x)\n",
    "\n",
    "# Determine which critical points correspond to local maxima\n",
    "local_maxima = [point.evalf() for point in critical_points if f_double_prime.subs(x, point) < 0]\n",
    "\n",
    "# Display the local maxima\n",
    "print(f\" local maximum at x = {local_maxima}\")"
   ],
   "id": "eea6f81b354838ab",
   "outputs": [],
   "execution_count": null
  },
  {
   "metadata": {},
   "cell_type": "code",
   "source": "",
   "id": "cfc0647ef905c7fd",
   "outputs": [],
   "execution_count": null
  },
  {
   "metadata": {},
   "cell_type": "code",
   "outputs": [],
   "execution_count": null,
   "source": [
    "# Record the end time at the very end of the notebook\n",
    "end_time = time.time()\n",
    "\n",
    "# Calculate the elapsed time\n",
    "elapsed_time = end_time - start_time\n",
    "print(f\"Total execution time for the entire notebook: {elapsed_time:.2f} seconds\")"
   ],
   "id": "c2e6f6ffe703fbbd"
  }
 ],
 "metadata": {
  "kernelspec": {
   "display_name": "Python 3",
   "language": "python",
   "name": "python3"
  },
  "language_info": {
   "codemirror_mode": {
    "name": "ipython",
    "version": 2
   },
   "file_extension": ".py",
   "mimetype": "text/x-python",
   "name": "python",
   "nbconvert_exporter": "python",
   "pygments_lexer": "ipython2",
   "version": "2.7.6"
  }
 },
 "nbformat": 4,
 "nbformat_minor": 5
}
